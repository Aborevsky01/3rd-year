{
 "cells": [
  {
   "cell_type": "markdown",
   "metadata": {
    "id": "HcF9My_FhLuk"
   },
   "source": [
    "## Машинное обучение 1, ПМИ ФКН ВШЭ\n",
    "\n",
    "## Практическое домашнее задание 1\n",
    "\n",
    "### Общая информация\n",
    "\n",
    "Дата выдачи: 11.09.2021\n",
    "\n",
    "Мягкий дедлайн: 23:59MSK 25.09.2021\n",
    "\n",
    "Жесткий дедлайн: 23:59MSK 28.09.2021"
   ]
  },
  {
   "cell_type": "markdown",
   "metadata": {
    "id": "G64TptyJhLuo"
   },
   "source": [
    "### О задании\n",
    "\n",
    "Задание состоит из двух разделов, посвященных работе с табличными данными с помощью библиотеки pandas и визуализации с помощью matplotlib. В первом разделе вам предстоит выполнить базовые задания с помощью вышеуказанных библиотек, а во втором распределить студентов по курсам. Баллы даются за выполнение отдельных пунктов. Задачи в рамках одного раздела рекомендуется решать в том порядке, в котором они даны в задании.\n",
    "\n",
    "Задание направлено на освоение jupyter notebook (будет использоваться в дальнейших заданиях), библиотек pandas и matplotlib.\n",
    "\n",
    "### Оценивание и штрафы\n",
    "Каждая из задач имеет определенную «стоимость» (указана в скобках около задачи). Максимально допустимая оценка за работу — 10 баллов.\n",
    "\n",
    "Сдавать задание после жёсткого дедлайна нельзя. При выставлении неполного балла за задание в связи с наличием ошибок на усмотрение проверяющего предусмотрена возможность исправить работу на указанных в ответном письме условиях.\n",
    "\n",
    "Задание выполняется самостоятельно. «Похожие» решения считаются плагиатом и все задействованные студенты (в том числе те, у кого списали) не могут получить за него больше 0 баллов (подробнее о плагиате см. на странице курса). Если вы нашли решение какого-то из заданий (или его часть) в открытом источнике, необходимо указать ссылку на этот источник (скорее всего вы будете не единственным, кто это нашел, поэтому чтобы исключить подозрение в плагиате, необходима ссылка на источник).\n",
    "\n",
    "### Формат сдачи\n",
    "Задания сдаются через систему Anytask. Инвайт можно получить у семинариста или ассистента. Присылать необходимо ноутбук с выполненным заданием. Сам ноутбук называйте в формате homework-practice-01-pandas-Username.ipynb, где Username — ваша фамилия.\n",
    "\n",
    "Для удобства проверки самостоятельно посчитайте свою максимальную оценку (исходя из набора решенных задач) и укажите ниже.\n",
    "\n",
    "Оценка: 10 (без учета дедлайнов)."
   ]
  },
  {
   "cell_type": "markdown",
   "metadata": {
    "id": "BaXlfHE_hLup"
   },
   "source": [
    "## 0. Введение"
   ]
  },
  {
   "cell_type": "markdown",
   "metadata": {
    "id": "wirAvJNxhLup"
   },
   "source": [
    "Сейчас мы находимся в jupyter-ноутбуке (или ipython-ноутбуке). Это удобная среда для написания кода, проведения экспериментов, изучения данных, построения визуализаций и других нужд, не связанных с написанием production-кода. \n",
    "\n",
    "Ноутбук состоит из ячеек, каждая из которых может быть либо ячейкой с кодом, либо ячейкой с текстом размеченным и неразмеченным. Текст поддерживает markdown-разметку и формулы в Latex.\n",
    "\n",
    "Для работы с содержимым ячейки используется *режим редактирования* (*Edit mode*, включается нажатием клавиши **Enter** после выбора ячейки), а для навигации между ячейками искользуется *командный режим* (*Command mode*, включается нажатием клавиши **Esc**). Тип ячейки можно задать в командном режиме либо с помощью горячих клавиш (**y** to code, **m** to markdown, **r** to edit raw text), либо в меню *Cell -> Cell type*. \n",
    "\n",
    "После заполнения ячейки нужно нажать *Shift + Enter*, эта команда обработает содержимое ячейки: проинтерпретирует код или сверстает размеченный текст."
   ]
  },
  {
   "cell_type": "code",
   "execution_count": 2,
   "metadata": {
    "id": "aQ2_j3nkhLuq"
   },
   "outputs": [
    {
     "data": {
      "text/plain": [
       "4"
      ]
     },
     "execution_count": 2,
     "metadata": {},
     "output_type": "execute_result"
    }
   ],
   "source": [
    "# ячейка с кодом, при выполнении которой появится output\n",
    "2 + 2"
   ]
  },
  {
   "cell_type": "markdown",
   "metadata": {
    "id": "ZlulCwVKhLur"
   },
   "source": [
    "Ячейка с неразмеченыным текстом."
   ]
  },
  {
   "cell_type": "markdown",
   "metadata": {
    "id": "A4wkVlIehLur"
   },
   "source": [
    "Попробуйте создать свои ячейки, написать какой-нибудь код и текст какой-нибудь формулой."
   ]
  },
  {
   "cell_type": "code",
   "execution_count": 3,
   "metadata": {
    "id": "BIuaYSvqhLus"
   },
   "outputs": [
    {
     "name": "stdout",
     "output_type": "stream",
     "text": [
      "Spaceship is launching in 3\n",
      "Spaceship is launching in 2\n",
      "Spaceship is launching in 1\n",
      "Spaceship is launching in 0\n",
      "Oh, where is the spaceship?\n"
     ]
    }
   ],
   "source": [
    "for i in range(3, -1, -1):\n",
    "    print(\"Spaceship is launching in\", i)\n",
    "print(\"Oh, where is the spaceship?\")"
   ]
  },
  {
   "cell_type": "markdown",
   "metadata": {
    "id": "iWs6ljrIhLus"
   },
   "source": [
    "[Здесь](https://athena.brynmawr.edu/jupyter/hub/dblank/public/Jupyter%20Notebook%20Users%20Manual.ipynb) находится <s>не</s>большая заметка о используемом языке разметки Markdown. Он позволяет:\n",
    "\n",
    "0. Составлять упорядоченные списки\n",
    "1. Выделять *текст* <s>при</s> **необходимости**\n",
    "2. Добавлять [ссылки](http://imgs.xkcd.com/comics/the_universal_label.png)\n",
    "\n",
    "\n",
    "* Составлять неупорядоченные списки\n",
    "\n",
    "Делать вставки с помощью LaTex:\n",
    "    \n",
    "$\n",
    "\\left\\{\n",
    "\\begin{array}{ll}\n",
    "x = 16 \\sin^3 (t) \\\\ \n",
    "y = 13 \\cos (t) - 5 \\cos (2t) - 2 \\cos (3t) - \\cos (4t) \\\\\n",
    "t \\in [0, 2 \\pi]\n",
    "\\end{array}\n",
    "\\right.$"
   ]
  },
  {
   "cell_type": "markdown",
   "metadata": {
    "id": "6fmTGcXOhLus"
   },
   "source": [
    "А ещё можно вставлять картинки, или гифки, или что захотите:\n",
    "\n",
    "<img src=\"https://media1.tenor.com/images/9b8fbe9214504bcf6c60fe4e4f7e114e/tenor.gif?itemid=5416416\" style=\"width: 400px\">"
   ]
  },
  {
   "cell_type": "markdown",
   "metadata": {
    "id": "J_toGw7DhLut"
   },
   "source": [
    "### Google Colab"
   ]
  },
  {
   "cell_type": "markdown",
   "metadata": {
    "id": "jpkbCVjGhLut"
   },
   "source": [
    "Что за колаб? \n",
    "\n",
    "**Google Colab (Colaboratory)** это **Jupyter Notebook + Cloud + Google Drive.**\n",
    "\n",
    "Компания Google предоставляет возможность бесплатно запускать ноутбуки (предварительно загрузив их на свой гугл-диск) прямо в облаке. При этом вам не требуется установка никаких пакетов на свою машину, а работать можно прямиком из браузера. Вот ссылка:"
   ]
  },
  {
   "cell_type": "markdown",
   "metadata": {
    "id": "06MQog3yhLut"
   },
   "source": [
    "https://colab.research.google.com"
   ]
  },
  {
   "cell_type": "markdown",
   "metadata": {
    "id": "5_hfWXKPhLut"
   },
   "source": [
    "При использовании вы увидете много сходств с jupyter ноутбуком. Одним из преимуществ является доступность GPU, соответствующую опцию можно активировать в настройках сервиса. При желании вы сможете найти в интернете много туториалов по использованию или разобраться самостоятельно =)"
   ]
  },
  {
   "cell_type": "markdown",
   "metadata": {
    "id": "sUe2vnFGhLuu"
   },
   "source": [
    "## 1. Табличные данные и Pandas"
   ]
  },
  {
   "cell_type": "markdown",
   "metadata": {
    "id": "DJQzjjqJhLuu"
   },
   "source": [
    "Pandas — удобная библиотека для работы с табличными данными в Python, если данных не слишком много и они помещаются в оперативную память вашего компьютера. Несмотря на неэффективность реализации и некоторые проблемы, библиотека стала стандартом в анализе данных.\n",
    "\n",
    "Основной объект в pandas — это DataFrame, представляющий собой таблицу с именованными колонками различных типов, индексом (может быть многоуровневым). DataFrame можно создавать, считывая таблицу из файла или задавая вручную из других объектов.\n",
    "\n",
    "В этой части потребуется выполнить несколько небольших заданий. Можно пойти двумя путями: сначала изучить материалы, а потом приступить к заданиям, или же разбираться \"по ходу\". Выбирайте сами.\n",
    "\n",
    "Материалы:\n",
    "1. [Pandas за 10 минут из официального руководства](http://pandas.pydata.org/pandas-docs/stable/10min.html)\n",
    "2. [Документация](http://pandas.pydata.org/pandas-docs/stable/index.html) (стоит обращаться, если не понятно, как вызывать конкретный метод)\n",
    "3. [Примеры использования функционала](http://nbviewer.jupyter.org/github/justmarkham/pandas-videos/blob/master/pandas.ipynb)\n",
    "\n",
    "Многие из заданий можно выполнить несколькими способами. Не существуют единственно верного, но попробуйте максимально задействовать арсенал pandas и ориентируйтесь на простоту и понятность вашего кода. Мы не будем подсказывать, что нужно использовать для решения конкретной задачи, попробуйте находить необходимый функционал сами (название метода чаще всего очевидно). В помощь вам документация, поиск и stackoverflow."
   ]
  },
  {
   "cell_type": "code",
   "execution_count": 4,
   "metadata": {
    "id": "26zbFY25hLuv",
    "outputId": "404c22c6-2696-48ab-c71e-7a3ffbc36b18"
   },
   "outputs": [
    {
     "name": "stdout",
     "output_type": "stream",
     "text": [
      "Populating the interactive namespace from numpy and matplotlib\n"
     ]
    },
    {
     "data": {
      "text/plain": [
       "'1.3.3'"
      ]
     },
     "execution_count": 4,
     "metadata": {},
     "output_type": "execute_result"
    }
   ],
   "source": [
    "%pylab inline\n",
    "import pandas as pd\n",
    "pd.__version__"
   ]
  },
  {
   "cell_type": "markdown",
   "metadata": {
    "id": "dneJl9TyhLuv"
   },
   "source": [
    "Скачаем данные:"
   ]
  },
  {
   "cell_type": "code",
   "execution_count": 5,
   "metadata": {
    "id": "rj_I0RslhLuw"
   },
   "outputs": [],
   "source": [
    "#!wget  -O 'end_seminar.xlsx' -q 'https://www.dropbox.com/s/f4rm8sjc3v99p0m/_end_seminar.xlsx?dl=0'"
   ]
  },
  {
   "cell_type": "markdown",
   "metadata": {
    "id": "5hp7bn_ThLuw"
   },
   "source": [
    "Для пользователей Windows: скачайте файл самостоятельно и поместите его в папку с тетрадкой. Или попробуйте один из следующих вариантов:"
   ]
  },
  {
   "cell_type": "code",
   "execution_count": 6,
   "metadata": {
    "id": "4h4_BaX8hLuw"
   },
   "outputs": [],
   "source": [
    "# !powershell iwr -outf somefile https://somesite/somefile"
   ]
  },
  {
   "cell_type": "code",
   "execution_count": 7,
   "metadata": {
    "id": "7bHroLGChLuw"
   },
   "outputs": [],
   "source": [
    "# !pip install wget\n",
    "# import wget \n",
    "# wget.download('https://dropbox.com/s/f4rm8sjc3v99p0m/_end_seminar.xlsx?dl=1', 'end_seminar.xlsx')"
   ]
  },
  {
   "cell_type": "markdown",
   "metadata": {
    "id": "VFs_6IythLux"
   },
   "source": [
    "##### В первой части задания (до раздела \"Распределение студентов по курсам\") использование циклов запрещается и повлечет за собой снижение оценки. Использование <code>vectorize</code> и  <code>apply</code>, <code>apply_along_axis</code> крайне нежелательно."
   ]
  },
  {
   "cell_type": "markdown",
   "metadata": {
    "id": "shFkfJkohLux"
   },
   "source": [
    "Для каждой задачи из этого раздела вы должны написать код для получения ответа, а также дать текстовый ответ, если он предполагается.\n",
    "\n",
    "На некоторые вопросы вы можете получить путём пристального взгляда на таблицу, но это не будет засчитываться. Вы в любом случае должны получить ответ с помощью кода."
   ]
  },
  {
   "cell_type": "markdown",
   "metadata": {
    "id": "gDD85M7bhLux"
   },
   "source": [
    "#### 1. [0 баллов] Откройте файл с таблицей (не забудьте про её формат). Выведите последние 10 строк.\n",
    "\n",
    "Посмотрите на данные и скажите, что они из себя представляют, сколько в таблице строк, какие столбцы? (на это не надо отвечать, просто подумайте об этом)"
   ]
  },
  {
   "cell_type": "code",
   "execution_count": 8,
   "metadata": {
    "id": "PKulur3LhLuy"
   },
   "outputs": [
    {
     "data": {
      "text/html": [
       "<div>\n",
       "<style scoped>\n",
       "    .dataframe tbody tr th:only-of-type {\n",
       "        vertical-align: middle;\n",
       "    }\n",
       "\n",
       "    .dataframe tbody tr th {\n",
       "        vertical-align: top;\n",
       "    }\n",
       "\n",
       "    .dataframe thead th {\n",
       "        text-align: right;\n",
       "    }\n",
       "</style>\n",
       "<table border=\"1\" class=\"dataframe\">\n",
       "  <thead>\n",
       "    <tr style=\"text-align: right;\">\n",
       "      <th></th>\n",
       "      <th>timestamp</th>\n",
       "      <th>id</th>\n",
       "      <th>rating</th>\n",
       "      <th>18_group</th>\n",
       "      <th>is_mi</th>\n",
       "      <th>fall_1</th>\n",
       "      <th>fall_2</th>\n",
       "      <th>fall_3</th>\n",
       "      <th>spring_1</th>\n",
       "      <th>spring_2</th>\n",
       "      <th>spring_3</th>\n",
       "      <th>is_first_time</th>\n",
       "      <th>percentile</th>\n",
       "      <th>17_group</th>\n",
       "      <th>blended</th>\n",
       "      <th>is_ml_student</th>\n",
       "    </tr>\n",
       "  </thead>\n",
       "  <tbody>\n",
       "    <tr>\n",
       "      <th>351</th>\n",
       "      <td>2020-05-18 23:58:33.903000</td>\n",
       "      <td>8fe79f84f36e3a5d2d6745621321302c</td>\n",
       "      <td>1016</td>\n",
       "      <td>NaN</td>\n",
       "      <td>NaN</td>\n",
       "      <td>Безопасность компьютерных систем</td>\n",
       "      <td>Высокопроизводительные вычисления</td>\n",
       "      <td>Сбор и обработка данных с помощью краудсорсинга</td>\n",
       "      <td>Конфликты и кооперация</td>\n",
       "      <td>Проектирование и разработка высоконагруженных ...</td>\n",
       "      <td>Символьные вычисления</td>\n",
       "      <td>Да</td>\n",
       "      <td>0.942029</td>\n",
       "      <td>174.0</td>\n",
       "      <td>DevOps</td>\n",
       "      <td>NaN</td>\n",
       "    </tr>\n",
       "    <tr>\n",
       "      <th>352</th>\n",
       "      <td>2020-05-18 23:59:20.831000</td>\n",
       "      <td>f93afd8e92c336b471aa3bbbc579aefe</td>\n",
       "      <td>1298</td>\n",
       "      <td>NaN</td>\n",
       "      <td>NaN</td>\n",
       "      <td>Высокопроизводительные вычисления</td>\n",
       "      <td>Сбор и обработка данных с помощью краудсорсинга</td>\n",
       "      <td>Statistical Learning Theory</td>\n",
       "      <td>Методы сжатия и передачи медиаданных</td>\n",
       "      <td>Проектирование и разработка высоконагруженных ...</td>\n",
       "      <td>Конфликты и кооперация</td>\n",
       "      <td>Да</td>\n",
       "      <td>0.057971</td>\n",
       "      <td>175.0</td>\n",
       "      <td>DevOps</td>\n",
       "      <td>NaN</td>\n",
       "    </tr>\n",
       "    <tr>\n",
       "      <th>353</th>\n",
       "      <td>2020-05-18 23:59:28.998001</td>\n",
       "      <td>9963fc00d9405a35b894cc04a7e19855</td>\n",
       "      <td>1135</td>\n",
       "      <td>NaN</td>\n",
       "      <td>NaN</td>\n",
       "      <td>Безопасность компьютерных систем</td>\n",
       "      <td>Высокопроизводительные вычисления</td>\n",
       "      <td>Безопасность компьютерных систем</td>\n",
       "      <td>Проектирование и разработка высоконагруженных ...</td>\n",
       "      <td>Методы сжатия и передачи медиаданных</td>\n",
       "      <td>Символьные вычисления</td>\n",
       "      <td>Да</td>\n",
       "      <td>0.572464</td>\n",
       "      <td>175.0</td>\n",
       "      <td>DevOps</td>\n",
       "      <td>NaN</td>\n",
       "    </tr>\n",
       "    <tr>\n",
       "      <th>354</th>\n",
       "      <td>2020-05-19 08:55:39.509000</td>\n",
       "      <td>98c5a2548d93f26bd4195466e93178b3</td>\n",
       "      <td>1035</td>\n",
       "      <td>NaN</td>\n",
       "      <td>NaN</td>\n",
       "      <td>Байесовские методы машинного обучения</td>\n",
       "      <td>Глубинное обучение в обработке звука</td>\n",
       "      <td>Statistical Learning Theory</td>\n",
       "      <td>Обучение с подкреплением</td>\n",
       "      <td>Генеративные модели в машинном обучении</td>\n",
       "      <td>Методы сжатия и передачи медиаданных</td>\n",
       "      <td>Нет</td>\n",
       "      <td>0.905797</td>\n",
       "      <td>171.0</td>\n",
       "      <td>DevOps</td>\n",
       "      <td>NaN</td>\n",
       "    </tr>\n",
       "    <tr>\n",
       "      <th>355</th>\n",
       "      <td>2020-05-19 18:58:06.283001</td>\n",
       "      <td>ba298cbd9be59b84bab33325e956f27e</td>\n",
       "      <td>1155</td>\n",
       "      <td>NaN</td>\n",
       "      <td>NaN</td>\n",
       "      <td>Сбор и обработка данных с помощью краудсорсинга</td>\n",
       "      <td>Байесовские методы машинного обучения</td>\n",
       "      <td>Анализ неструктурированных данных</td>\n",
       "      <td>Конфликты и кооперация</td>\n",
       "      <td>Обучение с подкреплением</td>\n",
       "      <td>Компьютерное зрение</td>\n",
       "      <td>Да</td>\n",
       "      <td>0.507246</td>\n",
       "      <td>171.0</td>\n",
       "      <td>Соревновательный анализ данных</td>\n",
       "      <td>NaN</td>\n",
       "    </tr>\n",
       "    <tr>\n",
       "      <th>356</th>\n",
       "      <td>2020-05-19 19:04:17.873000</td>\n",
       "      <td>c5870b37ee3f672e4259dfb2fc02ed8f</td>\n",
       "      <td>1029</td>\n",
       "      <td>NaN</td>\n",
       "      <td>NaN</td>\n",
       "      <td>Statistical Learning Theory</td>\n",
       "      <td>Анализ неструктурированных данных</td>\n",
       "      <td>Сбор и обработка данных с помощью краудсорсинга</td>\n",
       "      <td>Обучение с подкреплением</td>\n",
       "      <td>Конфликты и кооперация</td>\n",
       "      <td>Компьютерное зрение</td>\n",
       "      <td>Да</td>\n",
       "      <td>0.920290</td>\n",
       "      <td>174.0</td>\n",
       "      <td>DevOps</td>\n",
       "      <td>NaN</td>\n",
       "    </tr>\n",
       "    <tr>\n",
       "      <th>357</th>\n",
       "      <td>2020-05-19 20:19:25.815000</td>\n",
       "      <td>f44aea1095f9f5b8e2f5f0ed2b17891b</td>\n",
       "      <td>1060</td>\n",
       "      <td>NaN</td>\n",
       "      <td>NaN</td>\n",
       "      <td>Анализ неструктурированных данных</td>\n",
       "      <td>Высокопроизводительные вычисления</td>\n",
       "      <td>Моделирование временных рядов</td>\n",
       "      <td>Конфликты и кооперация</td>\n",
       "      <td>Обучение с подкреплением</td>\n",
       "      <td>Численные методы</td>\n",
       "      <td>Да</td>\n",
       "      <td>0.840580</td>\n",
       "      <td>174.0</td>\n",
       "      <td>DevOps</td>\n",
       "      <td>NaN</td>\n",
       "    </tr>\n",
       "    <tr>\n",
       "      <th>358</th>\n",
       "      <td>2020-05-20 11:54:38.318000</td>\n",
       "      <td>d7118b44c7e8fdbbaaca226d2da6fef1</td>\n",
       "      <td>1111</td>\n",
       "      <td>NaN</td>\n",
       "      <td>NaN</td>\n",
       "      <td>Сбор и обработка данных с помощью краудсорсинга</td>\n",
       "      <td>Statistical Learning Theory</td>\n",
       "      <td>Анализ неструктурированных данных</td>\n",
       "      <td>Проектирование и разработка высоконагруженных ...</td>\n",
       "      <td>Методы сжатия и передачи медиаданных</td>\n",
       "      <td>Численные методы</td>\n",
       "      <td>Да</td>\n",
       "      <td>0.652174</td>\n",
       "      <td>173.0</td>\n",
       "      <td>Соревновательный анализ данных</td>\n",
       "      <td>NaN</td>\n",
       "    </tr>\n",
       "    <tr>\n",
       "      <th>359</th>\n",
       "      <td>2020-05-23 21:16:40.916000</td>\n",
       "      <td>79d14db48e4737af731960ae212d5134</td>\n",
       "      <td>966</td>\n",
       "      <td>NaN</td>\n",
       "      <td>NaN</td>\n",
       "      <td>Безопасность компьютерных систем</td>\n",
       "      <td>Принятие решений в условиях риска и неопределё...</td>\n",
       "      <td>Анализ неструктурированных данных</td>\n",
       "      <td>Проектирование и разработка высоконагруженных ...</td>\n",
       "      <td>Методы сжатия и передачи медиаданных</td>\n",
       "      <td>Компьютерное зрение</td>\n",
       "      <td>Да</td>\n",
       "      <td>0.985507</td>\n",
       "      <td>172.0</td>\n",
       "      <td>DevOps</td>\n",
       "      <td>NaN</td>\n",
       "    </tr>\n",
       "    <tr>\n",
       "      <th>360</th>\n",
       "      <td>2020-05-23 21:16:40.916000</td>\n",
       "      <td>f2d210ace25a841e1e58036b257d5d47</td>\n",
       "      <td>1195</td>\n",
       "      <td>NaN</td>\n",
       "      <td>NaN</td>\n",
       "      <td>Анализ неструктурированных данных</td>\n",
       "      <td>Моделирование временных рядов</td>\n",
       "      <td>Высокопроизводительные вычисления</td>\n",
       "      <td>Обучение с подкреплением</td>\n",
       "      <td>Компьютерное зрение</td>\n",
       "      <td>Методы сжатия и передачи медиаданных</td>\n",
       "      <td>NaN</td>\n",
       "      <td>0.369565</td>\n",
       "      <td>176.0</td>\n",
       "      <td>Соревновательный анализ данных</td>\n",
       "      <td>NaN</td>\n",
       "    </tr>\n",
       "  </tbody>\n",
       "</table>\n",
       "</div>"
      ],
      "text/plain": [
       "                     timestamp                                id  rating  \\\n",
       "351 2020-05-18 23:58:33.903000  8fe79f84f36e3a5d2d6745621321302c    1016   \n",
       "352 2020-05-18 23:59:20.831000  f93afd8e92c336b471aa3bbbc579aefe    1298   \n",
       "353 2020-05-18 23:59:28.998001  9963fc00d9405a35b894cc04a7e19855    1135   \n",
       "354 2020-05-19 08:55:39.509000  98c5a2548d93f26bd4195466e93178b3    1035   \n",
       "355 2020-05-19 18:58:06.283001  ba298cbd9be59b84bab33325e956f27e    1155   \n",
       "356 2020-05-19 19:04:17.873000  c5870b37ee3f672e4259dfb2fc02ed8f    1029   \n",
       "357 2020-05-19 20:19:25.815000  f44aea1095f9f5b8e2f5f0ed2b17891b    1060   \n",
       "358 2020-05-20 11:54:38.318000  d7118b44c7e8fdbbaaca226d2da6fef1    1111   \n",
       "359 2020-05-23 21:16:40.916000  79d14db48e4737af731960ae212d5134     966   \n",
       "360 2020-05-23 21:16:40.916000  f2d210ace25a841e1e58036b257d5d47    1195   \n",
       "\n",
       "     18_group  is_mi                                           fall_1  \\\n",
       "351       NaN    NaN                 Безопасность компьютерных систем   \n",
       "352       NaN    NaN                Высокопроизводительные вычисления   \n",
       "353       NaN    NaN                 Безопасность компьютерных систем   \n",
       "354       NaN    NaN            Байесовские методы машинного обучения   \n",
       "355       NaN    NaN  Сбор и обработка данных с помощью краудсорсинга   \n",
       "356       NaN    NaN                      Statistical Learning Theory   \n",
       "357       NaN    NaN                Анализ неструктурированных данных   \n",
       "358       NaN    NaN  Сбор и обработка данных с помощью краудсорсинга   \n",
       "359       NaN    NaN                 Безопасность компьютерных систем   \n",
       "360       NaN    NaN                Анализ неструктурированных данных   \n",
       "\n",
       "                                                fall_2  \\\n",
       "351                  Высокопроизводительные вычисления   \n",
       "352    Сбор и обработка данных с помощью краудсорсинга   \n",
       "353                  Высокопроизводительные вычисления   \n",
       "354               Глубинное обучение в обработке звука   \n",
       "355              Байесовские методы машинного обучения   \n",
       "356                  Анализ неструктурированных данных   \n",
       "357                  Высокопроизводительные вычисления   \n",
       "358                        Statistical Learning Theory   \n",
       "359  Принятие решений в условиях риска и неопределё...   \n",
       "360                      Моделирование временных рядов   \n",
       "\n",
       "                                              fall_3  \\\n",
       "351  Сбор и обработка данных с помощью краудсорсинга   \n",
       "352                      Statistical Learning Theory   \n",
       "353                 Безопасность компьютерных систем   \n",
       "354                      Statistical Learning Theory   \n",
       "355                Анализ неструктурированных данных   \n",
       "356  Сбор и обработка данных с помощью краудсорсинга   \n",
       "357                    Моделирование временных рядов   \n",
       "358                Анализ неструктурированных данных   \n",
       "359                Анализ неструктурированных данных   \n",
       "360                Высокопроизводительные вычисления   \n",
       "\n",
       "                                              spring_1  \\\n",
       "351                             Конфликты и кооперация   \n",
       "352               Методы сжатия и передачи медиаданных   \n",
       "353  Проектирование и разработка высоконагруженных ...   \n",
       "354                           Обучение с подкреплением   \n",
       "355                             Конфликты и кооперация   \n",
       "356                           Обучение с подкреплением   \n",
       "357                             Конфликты и кооперация   \n",
       "358  Проектирование и разработка высоконагруженных ...   \n",
       "359  Проектирование и разработка высоконагруженных ...   \n",
       "360                           Обучение с подкреплением   \n",
       "\n",
       "                                              spring_2  \\\n",
       "351  Проектирование и разработка высоконагруженных ...   \n",
       "352  Проектирование и разработка высоконагруженных ...   \n",
       "353               Методы сжатия и передачи медиаданных   \n",
       "354            Генеративные модели в машинном обучении   \n",
       "355                           Обучение с подкреплением   \n",
       "356                             Конфликты и кооперация   \n",
       "357                           Обучение с подкреплением   \n",
       "358               Методы сжатия и передачи медиаданных   \n",
       "359               Методы сжатия и передачи медиаданных   \n",
       "360                                Компьютерное зрение   \n",
       "\n",
       "                                 spring_3 is_first_time  percentile  17_group  \\\n",
       "351                 Символьные вычисления            Да    0.942029     174.0   \n",
       "352                Конфликты и кооперация            Да    0.057971     175.0   \n",
       "353                 Символьные вычисления            Да    0.572464     175.0   \n",
       "354  Методы сжатия и передачи медиаданных           Нет    0.905797     171.0   \n",
       "355                   Компьютерное зрение            Да    0.507246     171.0   \n",
       "356                   Компьютерное зрение            Да    0.920290     174.0   \n",
       "357                      Численные методы            Да    0.840580     174.0   \n",
       "358                      Численные методы            Да    0.652174     173.0   \n",
       "359                   Компьютерное зрение            Да    0.985507     172.0   \n",
       "360  Методы сжатия и передачи медиаданных           NaN    0.369565     176.0   \n",
       "\n",
       "                            blended  is_ml_student  \n",
       "351                          DevOps            NaN  \n",
       "352                          DevOps            NaN  \n",
       "353                          DevOps            NaN  \n",
       "354                          DevOps            NaN  \n",
       "355  Соревновательный анализ данных            NaN  \n",
       "356                          DevOps            NaN  \n",
       "357                          DevOps            NaN  \n",
       "358  Соревновательный анализ данных            NaN  \n",
       "359                          DevOps            NaN  \n",
       "360  Соревновательный анализ данных            NaN  "
      ]
     },
     "execution_count": 8,
     "metadata": {},
     "output_type": "execute_result"
    }
   ],
   "source": [
    "students = pd.read_excel('_end_seminar.xlsx')\n",
    "students.tail(10)"
   ]
  },
  {
   "cell_type": "markdown",
   "metadata": {
    "id": "Jhk3tVpVhLuy"
   },
   "source": [
    "#### 2. [0.5 балла] Ответьте на вопросы:\n",
    "1. Сколько было заявок из групп 18-го года набора, а сколько из групп 17-го года?\n",
    "2. Есть ли студенты с равными перцентилями?"
   ]
  },
  {
   "cell_type": "code",
   "execution_count": 10,
   "metadata": {
    "id": "bsn4vn8RhLuy"
   },
   "outputs": [
    {
     "name": "stdout",
     "output_type": "stream",
     "text": [
      "223 students were enrolled in 2018 and 138 in 2017\n"
     ]
    }
   ],
   "source": [
    "print(students[\"18_group\"].count(), \"students were enrolled in 2018 and\", students[\"17_group\"].count(), \"in 2017\")"
   ]
  },
  {
   "cell_type": "code",
   "execution_count": 11,
   "metadata": {},
   "outputs": [
    {
     "name": "stdout",
     "output_type": "stream",
     "text": [
      "Percentiles of 15  students have the identical values\n"
     ]
    }
   ],
   "source": [
    "print(\"Percentiles of\", students[\"percentile\"].value_counts().gt(1).sum(), \" students have the identical values\")"
   ]
  },
  {
   "cell_type": "markdown",
   "metadata": {
    "id": "jPiMwyqHhLuy"
   },
   "source": [
    "#### 3. [0.5 балла] Есть ли в данных пропуски? В каких колонках? Сколько их в каждой из этих колонок?"
   ]
  },
  {
   "cell_type": "code",
   "execution_count": 12,
   "metadata": {
    "id": "edY1RrSOhLuy"
   },
   "outputs": [
    {
     "data": {
      "text/plain": [
       "timestamp          0\n",
       "id                 0\n",
       "rating             0\n",
       "18_group         138\n",
       "is_mi            343\n",
       "fall_1             0\n",
       "fall_2             0\n",
       "fall_3             0\n",
       "spring_1           0\n",
       "spring_2           0\n",
       "spring_3           0\n",
       "is_first_time      2\n",
       "percentile         0\n",
       "17_group         223\n",
       "blended          223\n",
       "is_ml_student    304\n",
       "dtype: int64"
      ]
     },
     "execution_count": 12,
     "metadata": {},
     "output_type": "execute_result"
    }
   ],
   "source": [
    "students.isna().sum()"
   ]
  },
  {
   "cell_type": "markdown",
   "metadata": {
    "id": "B5ORhP2uhLuz"
   },
   "source": [
    "Заполните пропуски пустой строкой для строковых колонок и нулём для числовых."
   ]
  },
  {
   "cell_type": "code",
   "execution_count": 13,
   "metadata": {
    "id": "TlF_JJ2ghLuz"
   },
   "outputs": [
    {
     "data": {
      "text/plain": [
       "timestamp        0\n",
       "id               0\n",
       "rating           0\n",
       "18_group         0\n",
       "is_mi            0\n",
       "fall_1           0\n",
       "fall_2           0\n",
       "fall_3           0\n",
       "spring_1         0\n",
       "spring_2         0\n",
       "spring_3         0\n",
       "is_first_time    0\n",
       "percentile       0\n",
       "17_group         0\n",
       "blended          0\n",
       "is_ml_student    0\n",
       "dtype: int64"
      ]
     },
     "execution_count": 13,
     "metadata": {},
     "output_type": "execute_result"
    }
   ],
   "source": [
    "students[students.select_dtypes(\"object\").columns] = students.select_dtypes(\"object\").fillna('')\n",
    "students[students.select_dtypes(np.number).columns] = students.select_dtypes(np.number).fillna(0)\n",
    "students.isna().sum()"
   ]
  },
  {
   "cell_type": "markdown",
   "metadata": {
    "id": "w5ELhkT1hLuz"
   },
   "source": [
    "#### 4. [0.5 балла] Посмотрите повнимательнее на колонку 'is_first_time'. \n",
    "\n",
    "Есть ли в ней ответы \"Нет\"? Сколько их?\n",
    "\n",
    "Если вы найдете повторные обращения студентов, оставьте только самую позднюю версию. <i>Обращения со значением \"Нет\" в <code>is_first_time</code> могут быть как повторными, так и первичными, поскольку поле заполняли сами студенты.</i>"
   ]
  },
  {
   "cell_type": "code",
   "execution_count": 14,
   "metadata": {
    "id": "VEfiNsyQhLuz"
   },
   "outputs": [
    {
     "name": "stdout",
     "output_type": "stream",
     "text": [
      "51 applications were declared to be repeated\n",
      "However, only 14 of them actually were the first ones\n"
     ]
    },
    {
     "data": {
      "text/plain": [
       "(347, 16)"
      ]
     },
     "execution_count": 14,
     "metadata": {},
     "output_type": "execute_result"
    }
   ],
   "source": [
    "print(students.is_first_time.value_counts().Нет, \"applications were declared to be repeated\")\n",
    "print(\"However, only\", len(students[(students.duplicated('id') & students.is_first_time.eq('Нет'))]), \"of them actually were the first ones\")\n",
    "students = students.drop_duplicates(subset=['id'], keep='last')\n",
    "students.shape"
   ]
  },
  {
   "cell_type": "markdown",
   "metadata": {
    "id": "IlzHp3HVhLuz"
   },
   "source": [
    "#### 5. [0.5 балла] Какие  blended-курсы для четверокурсников существуют? На какой blended-курс записалось наибольшее количество студентов? На каком из курсов собрались студенты с самым высоким средним рейтингом? "
   ]
  },
  {
   "cell_type": "code",
   "execution_count": 15,
   "metadata": {
    "id": "j_BRWerHhLu0"
   },
   "outputs": [
    {
     "name": "stdout",
     "output_type": "stream",
     "text": [
      "The list of available blended-courses is following: DevOps, Введение в дифференциальную геометрию, Соревновательный анализ данных\n",
      "DevOps is the most popular one - 87 students have chosen it.\n",
      "The highest average rating was found on Введение в дифференциальную геометрию blended-course.\n"
     ]
    }
   ],
   "source": [
    "tmp = students[students.blended != '']\n",
    "print(\"The list of available blended-courses is following: {}\".format(', '.join(tmp.blended.unique())))\n",
    "print(tmp.blended.value_counts().idxmax(), \"is the most popular one -\", \n",
    "      max(tmp.blended.value_counts()), \"students have chosen it.\")\n",
    "print(\"The highest average rating was found on\", tmp.groupby(['blended']).mean().rating.idxmax(),\n",
    "     \"blended-course.\")"
   ]
  },
  {
   "cell_type": "markdown",
   "metadata": {
    "id": "IU_FLt8HhLu0"
   },
   "source": [
    "#### 6. [1 балл] Выясните, есть ли в данных студенты с абсолютно одинаковыми предпочтениями по всем курсам (не забудьте учесть blended-курсы для четверокурсников). Сколько таких наборов, которые взяли несколько студентов? Выведите их все вместе с количеством выбравших их студентов.\n",
    "\n",
    "<i>Предпочтения двух студентов считаются абсолютно одинаковыми, если выбранные ими дисциплины имеют одинаковый приоритет.</i>"
   ]
  },
  {
   "cell_type": "code",
   "execution_count": 16,
   "metadata": {
    "id": "BBDlR1mFhLu0"
   },
   "outputs": [
    {
     "name": "stdout",
     "output_type": "stream",
     "text": [
      "32 students have identical preferences.\n"
     ]
    }
   ],
   "source": [
    "labels = list(students.columns.values)[5:11]\n",
    "labels.append(students.columns.values[14])\n",
    "sets = students[students.duplicated(subset=labels, keep=False)]\n",
    "print(len(sets), \"students have identical preferences.\")"
   ]
  },
  {
   "cell_type": "code",
   "execution_count": 17,
   "metadata": {},
   "outputs": [
    {
     "data": {
      "text/html": [
       "<div>\n",
       "<style scoped>\n",
       "    .dataframe tbody tr th:only-of-type {\n",
       "        vertical-align: middle;\n",
       "    }\n",
       "\n",
       "    .dataframe tbody tr th {\n",
       "        vertical-align: top;\n",
       "    }\n",
       "\n",
       "    .dataframe thead th {\n",
       "        text-align: right;\n",
       "    }\n",
       "</style>\n",
       "<table border=\"1\" class=\"dataframe\">\n",
       "  <thead>\n",
       "    <tr style=\"text-align: right;\">\n",
       "      <th></th>\n",
       "      <th>fall_1</th>\n",
       "      <th>fall_2</th>\n",
       "      <th>fall_3</th>\n",
       "      <th>spring_1</th>\n",
       "      <th>spring_2</th>\n",
       "      <th>spring_3</th>\n",
       "      <th>blended</th>\n",
       "      <th>№ of students</th>\n",
       "    </tr>\n",
       "  </thead>\n",
       "  <tbody>\n",
       "    <tr>\n",
       "      <th>0</th>\n",
       "      <td>Безопасность компьютерных систем</td>\n",
       "      <td>Statistical Learning Theory</td>\n",
       "      <td>Матричные вычисления</td>\n",
       "      <td>Дискретная оптимизация</td>\n",
       "      <td>Промышленное программирование на языке Java</td>\n",
       "      <td>Дополнительные главы прикладной статистики</td>\n",
       "      <td></td>\n",
       "      <td>3</td>\n",
       "    </tr>\n",
       "    <tr>\n",
       "      <th>1</th>\n",
       "      <td>Безопасность компьютерных систем</td>\n",
       "      <td>Высокопроизводительные вычисления</td>\n",
       "      <td>Язык SQL</td>\n",
       "      <td>Компьютерные сети</td>\n",
       "      <td>Промышленное программирование на языке Java</td>\n",
       "      <td>Дискретная оптимизация</td>\n",
       "      <td></td>\n",
       "      <td>3</td>\n",
       "    </tr>\n",
       "    <tr>\n",
       "      <th>2</th>\n",
       "      <td>Statistical Learning Theory</td>\n",
       "      <td>Анализ неструктурированных данных</td>\n",
       "      <td>Сбор и обработка данных с помощью краудсорсинга</td>\n",
       "      <td>Обучение с подкреплением</td>\n",
       "      <td>Конфликты и кооперация</td>\n",
       "      <td>Компьютерное зрение</td>\n",
       "      <td>DevOps</td>\n",
       "      <td>2</td>\n",
       "    </tr>\n",
       "    <tr>\n",
       "      <th>3</th>\n",
       "      <td>Байесовские методы машинного обучения</td>\n",
       "      <td>Анализ неструктурированных данных</td>\n",
       "      <td>Глубинное обучение в обработке звука</td>\n",
       "      <td>Обучение с подкреплением</td>\n",
       "      <td>Генеративные модели в машинном обучении</td>\n",
       "      <td>Компьютерное зрение</td>\n",
       "      <td>DevOps</td>\n",
       "      <td>2</td>\n",
       "    </tr>\n",
       "    <tr>\n",
       "      <th>4</th>\n",
       "      <td>Байесовские методы машинного обучения</td>\n",
       "      <td>Анализ неструктурированных данных</td>\n",
       "      <td>Сбор и обработка данных с помощью краудсорсинга</td>\n",
       "      <td>Обучение с подкреплением</td>\n",
       "      <td>Компьютерное зрение</td>\n",
       "      <td>Генеративные модели в машинном обучении</td>\n",
       "      <td>DevOps</td>\n",
       "      <td>2</td>\n",
       "    </tr>\n",
       "    <tr>\n",
       "      <th>5</th>\n",
       "      <td>Безопасность компьютерных систем</td>\n",
       "      <td>Высокопроизводительные вычисления</td>\n",
       "      <td>Анализ неструктурированных данных</td>\n",
       "      <td>Проектирование и разработка высоконагруженных ...</td>\n",
       "      <td>Методы сжатия и передачи медиаданных</td>\n",
       "      <td>Конфликты и кооперация</td>\n",
       "      <td>DevOps</td>\n",
       "      <td>2</td>\n",
       "    </tr>\n",
       "    <tr>\n",
       "      <th>6</th>\n",
       "      <td>Безопасность компьютерных систем</td>\n",
       "      <td>Высокопроизводительные вычисления</td>\n",
       "      <td>Язык SQL</td>\n",
       "      <td>Промышленное программирование на языке Java</td>\n",
       "      <td>Компьютерные сети</td>\n",
       "      <td>Системы баз данных</td>\n",
       "      <td></td>\n",
       "      <td>2</td>\n",
       "    </tr>\n",
       "    <tr>\n",
       "      <th>7</th>\n",
       "      <td>Безопасность компьютерных систем</td>\n",
       "      <td>Матричные вычисления</td>\n",
       "      <td>Моделирование временных рядов</td>\n",
       "      <td>Промышленное программирование на языке Java</td>\n",
       "      <td>Компьютерные сети</td>\n",
       "      <td>Дискретная оптимизация</td>\n",
       "      <td></td>\n",
       "      <td>2</td>\n",
       "    </tr>\n",
       "    <tr>\n",
       "      <th>8</th>\n",
       "      <td>Безопасность компьютерных систем</td>\n",
       "      <td>Сбор и обработка данных с помощью краудсорсинга</td>\n",
       "      <td>Матричные вычисления</td>\n",
       "      <td>Компьютерные сети</td>\n",
       "      <td>Промышленное программирование на языке Java</td>\n",
       "      <td>Анализ данных в бизнесе</td>\n",
       "      <td></td>\n",
       "      <td>2</td>\n",
       "    </tr>\n",
       "    <tr>\n",
       "      <th>9</th>\n",
       "      <td>Безопасность компьютерных систем</td>\n",
       "      <td>Теория баз данных</td>\n",
       "      <td>Язык SQL</td>\n",
       "      <td>Машинное обучение 2</td>\n",
       "      <td>Компьютерные сети</td>\n",
       "      <td>Промышленное программирование на языке Java</td>\n",
       "      <td></td>\n",
       "      <td>2</td>\n",
       "    </tr>\n",
       "    <tr>\n",
       "      <th>10</th>\n",
       "      <td>Высокопроизводительные вычисления</td>\n",
       "      <td>Безопасность компьютерных систем</td>\n",
       "      <td>Сбор и обработка данных с помощью краудсорсинга</td>\n",
       "      <td>Проектирование и разработка высоконагруженных ...</td>\n",
       "      <td>Методы сжатия и передачи медиаданных</td>\n",
       "      <td>Компьютерное зрение</td>\n",
       "      <td>DevOps</td>\n",
       "      <td>2</td>\n",
       "    </tr>\n",
       "    <tr>\n",
       "      <th>11</th>\n",
       "      <td>Высокопроизводительные вычисления</td>\n",
       "      <td>Сбор и обработка данных с помощью краудсорсинга</td>\n",
       "      <td>Моделирование временных рядов</td>\n",
       "      <td>Проектирование и разработка высоконагруженных ...</td>\n",
       "      <td>Методы сжатия и передачи медиаданных</td>\n",
       "      <td>Методы сжатия и передачи медиаданных</td>\n",
       "      <td>DevOps</td>\n",
       "      <td>2</td>\n",
       "    </tr>\n",
       "    <tr>\n",
       "      <th>12</th>\n",
       "      <td>Моделирование временных рядов</td>\n",
       "      <td>Сбор и обработка данных с помощью краудсорсинга</td>\n",
       "      <td>Безопасность компьютерных систем</td>\n",
       "      <td>Компьютерные сети</td>\n",
       "      <td>Дополнительные главы прикладной статистики</td>\n",
       "      <td>Системы баз данных</td>\n",
       "      <td></td>\n",
       "      <td>2</td>\n",
       "    </tr>\n",
       "    <tr>\n",
       "      <th>13</th>\n",
       "      <td>Сбор и обработка данных с помощью краудсорсинга</td>\n",
       "      <td>Язык SQL</td>\n",
       "      <td>Теория баз данных</td>\n",
       "      <td>Промышленное программирование на языке Java</td>\n",
       "      <td>Машинное обучение 2</td>\n",
       "      <td>Компьютерные сети</td>\n",
       "      <td></td>\n",
       "      <td>2</td>\n",
       "    </tr>\n",
       "    <tr>\n",
       "      <th>14</th>\n",
       "      <td>Язык SQL</td>\n",
       "      <td>Высокопроизводительные вычисления</td>\n",
       "      <td>Теория баз данных</td>\n",
       "      <td>Компьютерные сети</td>\n",
       "      <td>Промышленное программирование на языке Java</td>\n",
       "      <td>Дискретная оптимизация</td>\n",
       "      <td></td>\n",
       "      <td>2</td>\n",
       "    </tr>\n",
       "  </tbody>\n",
       "</table>\n",
       "</div>"
      ],
      "text/plain": [
       "                                             fall_1  \\\n",
       "0                  Безопасность компьютерных систем   \n",
       "1                  Безопасность компьютерных систем   \n",
       "2                       Statistical Learning Theory   \n",
       "3             Байесовские методы машинного обучения   \n",
       "4             Байесовские методы машинного обучения   \n",
       "5                  Безопасность компьютерных систем   \n",
       "6                  Безопасность компьютерных систем   \n",
       "7                  Безопасность компьютерных систем   \n",
       "8                  Безопасность компьютерных систем   \n",
       "9                  Безопасность компьютерных систем   \n",
       "10                Высокопроизводительные вычисления   \n",
       "11                Высокопроизводительные вычисления   \n",
       "12                    Моделирование временных рядов   \n",
       "13  Сбор и обработка данных с помощью краудсорсинга   \n",
       "14                                         Язык SQL   \n",
       "\n",
       "                                             fall_2  \\\n",
       "0                       Statistical Learning Theory   \n",
       "1                 Высокопроизводительные вычисления   \n",
       "2                 Анализ неструктурированных данных   \n",
       "3                 Анализ неструктурированных данных   \n",
       "4                 Анализ неструктурированных данных   \n",
       "5                 Высокопроизводительные вычисления   \n",
       "6                 Высокопроизводительные вычисления   \n",
       "7                              Матричные вычисления   \n",
       "8   Сбор и обработка данных с помощью краудсорсинга   \n",
       "9                                 Теория баз данных   \n",
       "10                 Безопасность компьютерных систем   \n",
       "11  Сбор и обработка данных с помощью краудсорсинга   \n",
       "12  Сбор и обработка данных с помощью краудсорсинга   \n",
       "13                                         Язык SQL   \n",
       "14                Высокопроизводительные вычисления   \n",
       "\n",
       "                                             fall_3  \\\n",
       "0                              Матричные вычисления   \n",
       "1                                          Язык SQL   \n",
       "2   Сбор и обработка данных с помощью краудсорсинга   \n",
       "3              Глубинное обучение в обработке звука   \n",
       "4   Сбор и обработка данных с помощью краудсорсинга   \n",
       "5                 Анализ неструктурированных данных   \n",
       "6                                          Язык SQL   \n",
       "7                     Моделирование временных рядов   \n",
       "8                              Матричные вычисления   \n",
       "9                                          Язык SQL   \n",
       "10  Сбор и обработка данных с помощью краудсорсинга   \n",
       "11                    Моделирование временных рядов   \n",
       "12                 Безопасность компьютерных систем   \n",
       "13                                Теория баз данных   \n",
       "14                                Теория баз данных   \n",
       "\n",
       "                                             spring_1  \\\n",
       "0                              Дискретная оптимизация   \n",
       "1                                   Компьютерные сети   \n",
       "2                            Обучение с подкреплением   \n",
       "3                            Обучение с подкреплением   \n",
       "4                            Обучение с подкреплением   \n",
       "5   Проектирование и разработка высоконагруженных ...   \n",
       "6         Промышленное программирование на языке Java   \n",
       "7         Промышленное программирование на языке Java   \n",
       "8                                   Компьютерные сети   \n",
       "9                                 Машинное обучение 2   \n",
       "10  Проектирование и разработка высоконагруженных ...   \n",
       "11  Проектирование и разработка высоконагруженных ...   \n",
       "12                                  Компьютерные сети   \n",
       "13        Промышленное программирование на языке Java   \n",
       "14                                  Компьютерные сети   \n",
       "\n",
       "                                       spring_2  \\\n",
       "0   Промышленное программирование на языке Java   \n",
       "1   Промышленное программирование на языке Java   \n",
       "2                        Конфликты и кооперация   \n",
       "3       Генеративные модели в машинном обучении   \n",
       "4                           Компьютерное зрение   \n",
       "5          Методы сжатия и передачи медиаданных   \n",
       "6                             Компьютерные сети   \n",
       "7                             Компьютерные сети   \n",
       "8   Промышленное программирование на языке Java   \n",
       "9                             Компьютерные сети   \n",
       "10         Методы сжатия и передачи медиаданных   \n",
       "11         Методы сжатия и передачи медиаданных   \n",
       "12   Дополнительные главы прикладной статистики   \n",
       "13                          Машинное обучение 2   \n",
       "14  Промышленное программирование на языке Java   \n",
       "\n",
       "                                       spring_3 blended  № of students  \n",
       "0    Дополнительные главы прикладной статистики                      3  \n",
       "1                        Дискретная оптимизация                      3  \n",
       "2                           Компьютерное зрение  DevOps              2  \n",
       "3                           Компьютерное зрение  DevOps              2  \n",
       "4       Генеративные модели в машинном обучении  DevOps              2  \n",
       "5                        Конфликты и кооперация  DevOps              2  \n",
       "6                            Системы баз данных                      2  \n",
       "7                        Дискретная оптимизация                      2  \n",
       "8                       Анализ данных в бизнесе                      2  \n",
       "9   Промышленное программирование на языке Java                      2  \n",
       "10                          Компьютерное зрение  DevOps              2  \n",
       "11         Методы сжатия и передачи медиаданных  DevOps              2  \n",
       "12                           Системы баз данных                      2  \n",
       "13                            Компьютерные сети                      2  \n",
       "14                       Дискретная оптимизация                      2  "
      ]
     },
     "execution_count": 17,
     "metadata": {},
     "output_type": "execute_result"
    }
   ],
   "source": [
    "sets[labels].value_counts().reset_index(name = '№ of students')"
   ]
  },
  {
   "cell_type": "markdown",
   "metadata": {
    "id": "spu3r3vchLu0"
   },
   "source": [
    "#### 7. [0.5 балла] Найдите курсы по выбору, на которые записывались как студенты 18-го года набора, так и студенты 17-го года."
   ]
  },
  {
   "cell_type": "code",
   "execution_count": 18,
   "metadata": {
    "id": "t21fWi8ShLu0"
   },
   "outputs": [
    {
     "name": "stdout",
     "output_type": "stream",
     "text": [
      "['Statistical Learning Theory', 'Высокопроизводительные вычисления', 'Численные методы', 'Сбор и обработка данных с помощью краудсорсинга', 'Безопасность компьютерных систем', 'Моделирование временных рядов', 'Принятие решений в условиях риска и неопределённости']\n"
     ]
    }
   ],
   "source": [
    "labels_sh = list(students.columns.values)[5:11]\n",
    "senior = students[students['17_group'].ne(0)]\n",
    "junior = students[students['18_group'].ne(0)]\n",
    "intersect = set(junior[labels_sh].values.flatten()).intersection(set(senior[labels_sh].values.flatten()))\n",
    "print(list(intersect))"
   ]
  },
  {
   "cell_type": "markdown",
   "metadata": {
    "id": "PYfX-Dr5hLu0"
   },
   "source": [
    "Методом исключения найдите курсы, которые предлагались только студентам 18-го года и только студентам 17-го года."
   ]
  },
  {
   "cell_type": "code",
   "execution_count": 19,
   "metadata": {
    "id": "G9SWBOpehLu1"
   },
   "outputs": [
    {
     "name": "stdout",
     "output_type": "stream",
     "text": [
      "17:  {'Методы сжатия и передачи медиаданных', 'Компьютерное зрение', 'Проектирование и разработка высоконагруженных сервисов', 'Генеративные модели в машинном обучении', 'Символьные вычисления', 'Глубинное обучение в обработке звука', 'Байесовские методы машинного обучения', 'Конфликты и кооперация', 'Анализ неструктурированных данных', 'Обучение с подкреплением'}\n",
      "18:  {'Дополнительные главы прикладной статистики', 'Язык SQL', 'Матричные вычисления', 'Анализ данных в бизнесе', 'Системы баз данных', 'Промышленное программирование на языке Java', 'Машинное обучение 2', 'Компьютерные сети', 'Теория баз данных', 'Дискретная оптимизация'}\n"
     ]
    }
   ],
   "source": [
    "print(\"17: \", set(senior[labels_sh].values.flatten()).difference(intersect))\n",
    "print(\"18: \", set(junior[labels_sh].values.flatten()).difference(intersect))"
   ]
  },
  {
   "cell_type": "markdown",
   "metadata": {
    "id": "uL45Tg5fhLu1"
   },
   "source": [
    "### Визуализации и matplotlib"
   ]
  },
  {
   "cell_type": "markdown",
   "metadata": {
    "id": "MY9lKmP2hLu1"
   },
   "source": [
    "При работе с данными часто неудобно делать какие-то выводы, если смотреть на таблицу и числа в частности, поэтому важно уметь визуализировать данные. Здесь будут описаны ключевые правила оформления графиков для **всех** домашних заданий.\n",
    "\n",
    "У matplotlib, конечно же, есть [документация](https://matplotlib.org/users/index.html) с большим количеством [примеров](https://matplotlib.org/examples/), но для начала достаточно знать про несколько основных типов графиков:\n",
    "- plot — обычный поточечный график, которым можно изображать кривые или отдельные точки;\n",
    "- hist — гистограмма, показывающая распределение некоторой величины;\n",
    "- scatter — график, показывающий взаимосвязь двух величин;\n",
    "- bar — столбцовый график, показывающий взаимосвязь количественной величины от категориальной.\n",
    "\n",
    "В этом задании вы попробуете построить один из них. Не забывайте про базовые принципы построения приличных графиков:\n",
    "- оси должны быть подписаны, причём не слишком мелко;\n",
    "- у графика должно быть название;\n",
    "- если изображено несколько графиков, то необходима поясняющая легенда;\n",
    "- все линии на графиках должны быть чётко видны (нет похожих цветов или цветов, сливающихся с фоном);\n",
    "- если отображена величина, имеющая очевидный диапазон значений (например, проценты могут быть от 0 до 100), то желательно масштабировать ось на весь диапазон значений (исключением является случай, когда вам необходимо показать малое отличие, которое незаметно в таких масштабах);\n",
    "- сетка на графике помогает оценить значения в точках на глаз, это обычно полезно, поэтому лучше ее отрисовывать;\n",
    "- если распределение на гистограмме имеет тяжёлые хвосты, лучше использовать логарифмическую шкалу.\n",
    "\n",
    "Полезные строчки:\n",
    "- для красивой картинки <code>%config InlineBackend.figure_format = 'retina'</code>\n",
    "- задаем размер (почти) всех графиков (можно выбрать другие значения) <code>plt.rcParams['figure.figsize'] = 8, 5</code>\n",
    "- размер шрифта подписей графиков <code>plt.rcParams['font.size'] = 12</code>\n",
    "- формат в котором сохраняется изображение <code>mpl.rcParams['savefig.format'] = 'pdf'</code>\n",
    "- sns – seaborn, добавляет решетку <code>sns.set_style('darkgrid')</code>"
   ]
  },
  {
   "cell_type": "code",
   "execution_count": 20,
   "metadata": {
    "id": "na9doUOFhLu1"
   },
   "outputs": [
    {
     "name": "stderr",
     "output_type": "stream",
     "text": [
      "/Users/andreyborevskiy/opt/anaconda3/lib/python3.7/site-packages/statsmodels/tools/_testing.py:19: FutureWarning: pandas.util.testing is deprecated. Use the functions in the public API at pandas.testing instead.\n",
      "  import pandas.util.testing as tm\n"
     ]
    }
   ],
   "source": [
    "%matplotlib inline\n",
    "import matplotlib.pyplot as plt\n",
    "import seaborn as sns"
   ]
  },
  {
   "cell_type": "markdown",
   "metadata": {
    "id": "kikwLpxfhLu1"
   },
   "source": [
    "#### 8. [0.5 балла] Постройте график средних рейтингов по дням получения ответов (bar plot)."
   ]
  },
  {
   "cell_type": "code",
   "execution_count": 2,
   "metadata": {
    "id": "UTPLVeQvhLu2"
   },
   "outputs": [
    {
     "ename": "NameError",
     "evalue": "name 'sns' is not defined",
     "output_type": "error",
     "traceback": [
      "\u001b[0;31m---------------------------------------------------------------------------\u001b[0m",
      "\u001b[0;31mNameError\u001b[0m                                 Traceback (most recent call last)",
      "\u001b[0;32m<ipython-input-2-099d21b85456>\u001b[0m in \u001b[0;36m<module>\u001b[0;34m\u001b[0m\n\u001b[1;32m      1\u001b[0m \u001b[0mget_ipython\u001b[0m\u001b[0;34m(\u001b[0m\u001b[0;34m)\u001b[0m\u001b[0;34m.\u001b[0m\u001b[0mrun_line_magic\u001b[0m\u001b[0;34m(\u001b[0m\u001b[0;34m'config'\u001b[0m\u001b[0;34m,\u001b[0m \u001b[0;34m\"InlineBackend.figure_format = 'retina'\"\u001b[0m\u001b[0;34m)\u001b[0m\u001b[0;34m\u001b[0m\u001b[0;34m\u001b[0m\u001b[0m\n\u001b[0;32m----> 2\u001b[0;31m \u001b[0msns\u001b[0m\u001b[0;34m.\u001b[0m\u001b[0mset_style\u001b[0m\u001b[0;34m(\u001b[0m\u001b[0;34m'darkgrid'\u001b[0m\u001b[0;34m)\u001b[0m\u001b[0;34m\u001b[0m\u001b[0;34m\u001b[0m\u001b[0m\n\u001b[0m\u001b[1;32m      3\u001b[0m \u001b[0;34m\u001b[0m\u001b[0m\n\u001b[1;32m      4\u001b[0m \u001b[0mstudents\u001b[0m\u001b[0;34m[\u001b[0m\u001b[0;34m'day'\u001b[0m\u001b[0;34m]\u001b[0m \u001b[0;34m=\u001b[0m \u001b[0mstudents\u001b[0m\u001b[0;34m.\u001b[0m\u001b[0mtimestamp\u001b[0m\u001b[0;34m.\u001b[0m\u001b[0mdt\u001b[0m\u001b[0;34m.\u001b[0m\u001b[0mstrftime\u001b[0m\u001b[0;34m(\u001b[0m\u001b[0;34m'%Y-%m-%d'\u001b[0m\u001b[0;34m)\u001b[0m\u001b[0;34m\u001b[0m\u001b[0;34m\u001b[0m\u001b[0m\n\u001b[1;32m      5\u001b[0m \u001b[0mwell_done\u001b[0m \u001b[0;34m=\u001b[0m \u001b[0msns\u001b[0m\u001b[0;34m.\u001b[0m\u001b[0mbarplot\u001b[0m\u001b[0;34m(\u001b[0m\u001b[0mstudents\u001b[0m\u001b[0;34m.\u001b[0m\u001b[0mday\u001b[0m\u001b[0;34m.\u001b[0m\u001b[0munique\u001b[0m\u001b[0;34m(\u001b[0m\u001b[0;34m)\u001b[0m\u001b[0;34m,\u001b[0m \u001b[0mstudents\u001b[0m\u001b[0;34m.\u001b[0m\u001b[0mgroupby\u001b[0m\u001b[0;34m(\u001b[0m\u001b[0;34m[\u001b[0m\u001b[0;34m'day'\u001b[0m\u001b[0;34m]\u001b[0m\u001b[0;34m)\u001b[0m\u001b[0;34m.\u001b[0m\u001b[0mmean\u001b[0m\u001b[0;34m(\u001b[0m\u001b[0;34m)\u001b[0m\u001b[0;34m.\u001b[0m\u001b[0mrating\u001b[0m\u001b[0;34m,\u001b[0m \u001b[0mpalette\u001b[0m\u001b[0;34m=\u001b[0m\u001b[0;34m\"green\"\u001b[0m\u001b[0;34m)\u001b[0m\u001b[0;34m\u001b[0m\u001b[0;34m\u001b[0m\u001b[0m\n",
      "\u001b[0;31mNameError\u001b[0m: name 'sns' is not defined"
     ]
    }
   ],
   "source": [
    "%config InlineBackend.figure_format = 'retina'\n",
    "sns.set_style('darkgrid')\n",
    "\n",
    "students['day'] = students.timestamp.dt.strftime('%Y-%m-%d')\n",
    "well_done = sns.barplot(students.day.unique(), students.groupby(['day']).mean().rating, palette=\"green\")\n",
    "\n",
    "plt.rcParams['figure.figsize'] = 16, 10\n",
    "plt.rcParams['font.size'] = 12\n",
    "mpl.rcParams['savefig.format'] = 'pdf'\n",
    "plt.xlabel('Dates')\n",
    "plt.ylabel('Mean rating')\n",
    "plt.title(\"Mean students' rating by day\")\n",
    "plt.show()"
   ]
  },
  {
   "cell_type": "markdown",
   "metadata": {
    "id": "AmsQg9_xhLu2"
   },
   "source": [
    "Сохраните график в формате pdf (так он останется векторизованным)."
   ]
  },
  {
   "cell_type": "code",
   "execution_count": 22,
   "metadata": {
    "id": "vKZNSwWghLu2"
   },
   "outputs": [],
   "source": [
    "well_done.get_figure().savefig(\"well_done.pdf\")"
   ]
  },
  {
   "cell_type": "markdown",
   "metadata": {
    "id": "b7SBV6_GhLu2"
   },
   "source": [
    "Еще одна билиотека для визуализации: [seaborn](https://jakevdp.github.io/PythonDataScienceHandbook/04.14-visualization-with-seaborn.html). Это настройка над matplotlib, иногда удобнее и красивее делать визуализации через неё. "
   ]
  },
  {
   "cell_type": "markdown",
   "metadata": {
    "id": "sCgWwjl0hLu2"
   },
   "source": [
    "### 2. Распределение студентов по курсам."
   ]
  },
  {
   "cell_type": "markdown",
   "metadata": {
    "id": "VNqXUpr4hLu3"
   },
   "source": [
    "Теперь вам нужно распределить студентов по осенним курсам по выбору, учитывая их предпочтения."
   ]
  },
  {
   "cell_type": "markdown",
   "metadata": {
    "id": "5cAR2FgphLu3"
   },
   "source": [
    "Алгоритм распределения студентов по курсам:\n",
    "1. По умолчанию на каждой дисциплине по выбору у 3 и 4 курсов может учиться 1 группа (до 30 студентов). Исключения описаны ниже. На blended-дисциплинах для четверокурсников количество мест не ограничено.\n",
    "2. Проводится первая волна отбора. Для каждой дисциплины формируется список тех, кто указал её первым приоритетом (если студент должен выбрать два курса по выбору, то для него дисциплины, которые он указал первым и вторым приоритетом, рассматриваются как дисциплины первого приоритета). Если желающих больше, чем мест, то выбирается топ по перцентилю рейтинга.\n",
    "3. На дисциплинах, где остались места после первой волны, формируются списки тех, кто выбрал их вторым приоритетом, и места заполняются лучшими по перцентили рейтинга студентами. После этого проводится такая же процедура для дисциплин третьего приоритета.\n",
    "4. Если студент не попал на необходимое количество курсов по итогам трёх волн, с ним связывается учебный офис и решает вопрос в индивидуальном порядке."
   ]
  },
  {
   "cell_type": "markdown",
   "metadata": {
    "id": "BiNKVwS6hLu3"
   },
   "source": [
    "Обращаем ваше внимание на следующие детали:\n",
    "\n",
    "- По умолчанию студент выбирает один осенний и один весенний курс по выбору, а также четверокурсники выбирают один blended-курс. Студенты групп 17-го года специализаций МОП и ТИ выбирают по 2 осенних и 2 весенних курса по выбору, также студенты групп 18' специализации МИ выбирают 2 осенних курса. <i>Для студентов, которые выбирают 2 курса (например, осенних) первый приоритет — <code>fall_1</code> и <code>fall_2</code>, второй приоритет — <code>fall_3</code>. Такие студенты участвуют только в двух волнах отбора</i>.\n",
    "\n",
    "- Студенты специализации МОП не могут выбрать весенним курсом по выбору Машинное обучение 2. <i>Если студент специализации МОП выбрал Машинное обучение 2, то его приоритеты сдвигаются. Из-за совпадений первого и второго курса по выбору двигать приоритеты не надо</i>.\n",
    "\n",
    "- Blended-курсы не трогайте, по ним не надо распределять, на другие курсы они никак не влияют.\n",
    "\n",
    "- Постарайтесь воздержаться от использования циклов там, где это возможно. <i>Допустимо итерироваться по <b>курсам</b>, на которые проводится отбор, и по <b>волнам</b> отбора. Если вы придумаете, как обойтись и без этих циклов, то на усмотрение проверяющего могут быть добавлены бонусные баллы. <b>Дублирование кода не признается успешным избавлением от циклов</b></i>\n",
    "\n",
    "- На выходе ожидается файл res_fall.csv с результатами распределения на осенние курсы по выбору. Файл должен быть следующего формата:\n",
    "\n",
    "    * три столбца: ID, course1, course2\n",
    "    \n",
    "    * Если студент не попал на курс, но должен был, то вместо названия курса в ячейке должна быть строка \"???\"\n",
    "    \n",
    "    * Если студент должен выбрать только один курс, то в колонке course2 для него должна стоять строка \"-\"\n",
    "    \n",
    "    * Если студент должен выбрать два курса по выбору, то порядок в колонках course1 и course2 не важен.\n",
    "    \n",
    "    * Формат csv: для сохранения воспользуйтесь df.to_csv('solution.csv', index=None)\n",
    "    \n",
    "\n",
    "Для работы вам могут понадобиться следующие данные:\n",
    "\n",
    "- Результаты опроса (вы уже использовали этот файл в первой части задания, но на всякий случай ссылка: https://www.dropbox.com/s/f4rm8sjc3v99p0m/_end_seminar.xlsx?dl=0)\n",
    "\n",
    "- Соответствие номеров групп специализациям:\n",
    "\n",
    "    * 171, 172 - МОП; 173 - ТИ; 174 — АДИС; 175, 176 — РС; 177 — АПР\n",
    "    \n",
    "    * У студентов 18-го года номера групп соответствуют номерам до распределения по специализациям.\n",
    "\n",
    "- Ограничения по количеству мест на курсах по выбору:\n",
    "\n",
    "    * Осенние: везде 30 мест, кроме Statistical Learning Theory (60 мест), Высокопроизводительных вычислений (60 мест), Анализа неструктурированных данных ($\\infty$ мест)\n",
    "\n",
    "    * Весенние: везде 30 мест, кроме Обучения с подкреплением (60 мест), Анализа данных в бизнесе (60 мест).\n",
    "\n",
    "\n",
    "Кстати, убедитесь, что в данных больше нет пропусков и повторных записей."
   ]
  },
  {
   "cell_type": "markdown",
   "metadata": {
    "id": "o5t55IcQhLu4"
   },
   "source": [
    "#### 0. Проверка\n",
    "\n",
    "Для начала давайте убедимся, что вы успешно выполнили задания первой части и проверим ваши данные на наличие пропусков и повторов:"
   ]
  },
  {
   "cell_type": "code",
   "execution_count": 23,
   "metadata": {
    "id": "34HWEdVdhLu4"
   },
   "outputs": [],
   "source": [
    "assert students.shape[0] == 347, 'В таблице остались повторы или потеряны данные'\n",
    "\n",
    "assert students.isna().sum().sum() == 0, 'В таблице остались пропуски'"
   ]
  },
  {
   "cell_type": "markdown",
   "metadata": {
    "id": "_ImUFyG3hLu4"
   },
   "source": [
    "Если вы не получили AssertionError, то можете продолжать."
   ]
  },
  {
   "cell_type": "markdown",
   "metadata": {
    "id": "LTGSwwvAhLu4"
   },
   "source": [
    "#### 1. [1 балл] Создайте новый признак, обозначающий, сколько осенних курсов должен выбрать студент\n",
    "\n",
    "В этом вам может помочь информация о специализации и группе стундента."
   ]
  },
  {
   "cell_type": "code",
   "execution_count": 24,
   "metadata": {
    "id": "ouxo0kHFhLu4"
   },
   "outputs": [],
   "source": [
    "import numpy as np\n",
    "condition_one = students['17_group'].isin([171, 172, 173])\n",
    "condition_two = students.is_mi == 1\n",
    "students['choice'] = np.where((condition_one | condition_two), 2, 1)"
   ]
  },
  {
   "cell_type": "markdown",
   "metadata": {
    "id": "S47aq1sQhLu4"
   },
   "source": [
    "Проверка:"
   ]
  },
  {
   "cell_type": "code",
   "execution_count": 25,
   "metadata": {
    "id": "OlOgzDKDhLu5"
   },
   "outputs": [],
   "source": [
    "col_name = 'choice'   # insert your new column name as str\n",
    "\n",
    "assert(students[students['id'] == '2662600c2c37e11e62f6ee0b88452f22'][col_name] == 2).all()\n",
    "assert(students[students['id'] == 'd555d2805e1d93d4f023e57dc4c8f403'][col_name] == 2).all()\n",
    "assert(students[students['id'] == '8fe79f84f36e3a5d2d6745621321302c'][col_name] == 1).all()\n",
    "assert(students[students['id'] == 'e4caca755ee0bdd711e18fb8084958b5'][col_name] == 1).all()"
   ]
  },
  {
   "cell_type": "markdown",
   "metadata": {
    "id": "VtQYhwuPhLu5"
   },
   "source": [
    "#### 2. [2 балла] Распределите студентов в соответствии с первым приоритетом"
   ]
  },
  {
   "cell_type": "markdown",
   "metadata": {},
   "source": [
    "Небольшая аннотация. Я очень долго и мучительно пытался (в итоге, успешно) создать алгоритм без использования циклов. У меня получились две работающие реализации, однако первая оказалась слишком громоздкой. Итоговой является последняя, представленная далее, но я также добавил код первой в конец (так сказать, поделиться своей болью)."
   ]
  },
  {
   "cell_type": "code",
   "execution_count": 7,
   "metadata": {},
   "outputs": [
    {
     "data": {
      "image/png": "[encoded data removed]",
      "text/plain": [
       "<IPython.core.display.Image object>"
      ]
     },
     "execution_count": 7,
     "metadata": {},
     "output_type": "execute_result"
    }
   ],
   "source": [
    "from IPython.display import Image\n",
    "Image(\"afk.png\")"
   ]
  },
  {
   "cell_type": "markdown",
   "metadata": {},
   "source": [
    "##### First Wave"
   ]
  },
  {
   "cell_type": "markdown",
   "metadata": {},
   "source": [
    "1. Подготовка общей таблицы"
   ]
  },
  {
   "cell_type": "code",
   "execution_count": 39,
   "metadata": {},
   "outputs": [],
   "source": [
    "# Тут ключевая идея - дублирование в общей таблице trial студентов, выбирающих два курса, чтобы одновременно \n",
    "# фильтровать первый и второй приоритет\n",
    "trial = students.copy()\n",
    "addit = trial[(trial.choice == 2) & (trial.fall_1 != trial.fall_2)].copy()\n",
    "\n",
    "addit.fall_1 = addit.fall_2.copy()\n",
    "addit.fall_2 = addit.fall_3.copy()\n",
    "addit.fall_3 = NaN\n",
    "\n",
    "trial.fall_2 = np.where(trial.choice != 2, trial.fall_2, trial.fall_3)\n",
    "trial.fall_3 = np.where(trial.choice != 2, trial.fall_3, NaN)\n",
    "trial = pd.concat([trial, addit], axis=0)\n",
    "trial.sort_values(['percentile'], inplace=True)\n",
    "trial.set_index('id', inplace=True)"
   ]
  },
  {
   "cell_type": "code",
   "execution_count": 40,
   "metadata": {},
   "outputs": [],
   "source": [
    "# здесь я придумал как сделать таблицу сразу всех трех волн, но не смог продолжить дальше\n",
    "'''\n",
    "fir = trial.groupby('fall_1').groups\n",
    "sec = trial.groupby('fall_2').groups\n",
    "thi = trial.groupby('fall_3').groups\n",
    "exact = pd.DataFrame.from_dict([fir, sec, thi]).transpose()\n",
    "exact = exact.applymap(lambda x: x.tolist() + [0] * (200 - len(x.tolist())))\n",
    "exact['overall'] = 2\n",
    "exact = exact.transpose()\n",
    "import itertools\n",
    "exact.loc['overall'] = exact.iloc[0] + exact.iloc[1]\n",
    "over = pd.DataFrame(exact.loc['overall']).transpose()\n",
    "reverso = pd.DataFrame(index=range(300),columns=exact.columns)\n",
    "reverso = over.explode(over.columns.tolist())\n",
    "'''"
   ]
  },
  {
   "cell_type": "markdown",
   "metadata": {},
   "source": [
    "2. Анализ первых приоритетов"
   ]
  },
  {
   "cell_type": "code",
   "execution_count": 41,
   "metadata": {},
   "outputs": [],
   "source": [
    "# проводим первую волную - группируем первые приоритеты\n",
    "# так как мы получили лишь одну строку со списками студентов, необходимо их раскрыть на колонки и дополнить NaN\n",
    "first_wave = pd.DataFrame.from_dict([fir])\n",
    "first_wave = first_wave.applymap(lambda x: x.tolist() + [NaN] * (200 - len(x.tolist())))\n",
    "first_wave = first_wave.explode(first_wave.columns.tolist())\n",
    "first_wave.reset_index(drop=True, inplace=True)\n",
    "\n",
    "# выделяем курсы, где лимит 60 студентов и бесконечный\n",
    "fw_60 = first_wave.iloc[:, [0,4]]\n",
    "first_wave = first_wave.drop(first_wave.columns[[0,4]], axis=1)\n",
    "info = pd.DataFrame(first_wave.pop('Анализ неструктурированных данных'))\n",
    "first_wave = first_wave.drop(first_wave.index[30:])\n",
    "fw_60 = fw_60.drop(fw_60.index[60:])"
   ]
  },
  {
   "cell_type": "code",
   "execution_count": 42,
   "metadata": {},
   "outputs": [],
   "source": [
    "# обрезанные списки разворачиваются melt и соединяются, что позволяет получить списки всех прошедших в первую волну\n",
    "# и курс, на который каждый прошел\n",
    "\n",
    "al = pd.concat([first_wave.melt().dropna(), fw_60.melt().dropna(), info.melt().dropna()])\n",
    "al.columns =['fall_1', 'id']\n",
    "al.reset_index(drop=True, inplace=True)\n",
    "tmp = pd.DataFrame(columns=['fall_1', 'id'])\n",
    "\n",
    "#дополняем списки прошедших в первую волну с общими, чтобы к общей таблице trial можно было добавить столбец\n",
    "# fw_mark (first wave mark) - индикатор, что студент прошел в первую волну\n",
    "tmp.fall_1 = trial.fall_1\n",
    "tmp.id = trial.index\n",
    "tmp.reset_index(drop=True, inplace=True)\n",
    "check = pd.concat([tmp, al], axis=0, ignore_index=True)\n",
    "check['fw_mark'] = check.duplicated(keep='last') == True\n",
    "check.set_index('id', inplace=True)\n",
    "check = check.iloc[0:434]\n",
    "trial['fw_mark'] = check.fw_mark"
   ]
  },
  {
   "cell_type": "markdown",
   "metadata": {},
   "source": [
    "3. Подготовка данных для проверки"
   ]
  },
  {
   "cell_type": "markdown",
   "metadata": {},
   "source": [
    "Здесь для проверки приведена таблица, в которой есть 2 дополнительные колонки:\n",
    "    \n",
    "    1) is_first_place - является ли студент лучшим по перцентили хотя бы на одном из курсов, куда он был зачислен \n",
    "    (True / NaN)\n",
    "    \n",
    "    2) is_last_place  - является ли студент худшим по перцентили хотя бы на одном из курсов, куда он был зачислен (True / NaN)"
   ]
  },
  {
   "cell_type": "code",
   "execution_count": null,
   "metadata": {},
   "outputs": [],
   "source": [
    "check_df = pd.read_csv('_2_task_check.csv')"
   ]
  },
  {
   "cell_type": "code",
   "execution_count": 43,
   "metadata": {},
   "outputs": [],
   "source": [
    "# здесь мы решаем задачу добавления столбцов is_first_place и is_last_place\n",
    "# реализуется это через сеты id тех студентов, которые первые и последние места на своих курсах\n",
    "# после каждый студент проверяется по id на присутсвие в сетах\n",
    "maxim_2 = set(first_wave.iloc[[0]].to_numpy().tolist()[0])\n",
    "maxim_2 = maxim_2.union({*fw_60.iloc[[0]].to_numpy().tolist()[0]})\n",
    "maxim_2 = maxim_2.union({*info.iloc[[0]].to_numpy().tolist()[0]})\n",
    "students.is_first_place = np.where(students.id.isin(maxim_2), True, NaN)\n",
    "\n",
    "\n",
    "\n",
    "minim_2 = set(first_wave.dropna(how='all').ffill().iloc[[-1]].to_numpy().tolist()[0])\n",
    "minim_2 = minim.union({*fw_60.dropna(how='all').ffill().iloc[[-1]].to_numpy().tolist()[0]})\n",
    "minim_2 = minim.union({*info.dropna(how='all').ffill().iloc[[-1]].to_numpy().tolist()[0]})\n",
    "students.is_last_place = np.where(students.id.isin(minim_2), True, NaN)\n",
    "\n",
    "fir_col_name = 'is_first_place'\n",
    "last_col_name = 'is_last_place'\n",
    "df = students.copy()\n",
    "df.reset_index(inplace=True, drop=True)\n",
    "\n",
    "assert((df[df[fir_col_name].isna() == False][['id']].sort_values('id').reset_index(drop=True)\n",
    "        ==\n",
    "        check_df[check_df['is_first_place'].isna() == False][['id']].sort_values('id').reset_index(drop=True)\n",
    "       ).id.values).all()\n",
    "\n",
    "\n",
    "assert((df[df[last_col_name].isna() == False][['id']].sort_values('id').reset_index(drop=True)\n",
    "      == \n",
    "       check_df[check_df['is_last_place'].isna() == False][['id']].sort_values('id').reset_index(drop=True)\n",
    "      ).id.values).all()"
   ]
  },
  {
   "cell_type": "markdown",
   "metadata": {},
   "source": [
    "Проверка прошла успешно, ура! Первая волна пройдена."
   ]
  },
  {
   "cell_type": "markdown",
   "metadata": {},
   "source": [
    "#### 3. [3 балла] Проведите все три волны отбора студентов на курсы по выбору"
   ]
  },
  {
   "cell_type": "markdown",
   "metadata": {},
   "source": [
    "##### Second wave"
   ]
  },
  {
   "cell_type": "markdown",
   "metadata": {},
   "source": [
    "1. Очистка данных и анализ вторых приоритетов"
   ]
  },
  {
   "cell_type": "code",
   "execution_count": 44,
   "metadata": {},
   "outputs": [],
   "source": [
    "# последющие приоритеты студентов, прошедших в первую волну, аннулируются\n",
    "trial.fall_2 = np.where(trial.fw_mark, NaN, trial.fall_2)\n",
    "trial.fall_3 = np.where(trial.fw_mark, NaN, trial.fall_3)\n",
    "cont = trial.copy()"
   ]
  },
  {
   "cell_type": "code",
   "execution_count": 45,
   "metadata": {},
   "outputs": [],
   "source": [
    "# Повторение алгоритма из анализа первых приоритетов\n",
    "sec = trial.groupby('fall_2').groups\n",
    "second_wave = pd.DataFrame.from_dict([sec])\n",
    "second_wave = second_wave.applymap(lambda x: x.tolist() + [NaN] * (100 - len(x.tolist())))\n",
    "second_wave = second_wave.explode(second_wave.columns.tolist())\n",
    "second_wave.reset_index(drop=True, inplace=True)\n",
    "second_wave\n",
    "\n",
    "sw_60 = second_wave.iloc[:, [0,4]]\n",
    "second_wave = second_wave.drop(second_wave.columns[[0, 4]], axis=1)\n",
    "info_2 = pd.DataFrame(second_wave.pop('Анализ неструктурированных данных'))"
   ]
  },
  {
   "cell_type": "markdown",
   "metadata": {},
   "source": [
    "2. Определение числа оставшихся мест"
   ]
  },
  {
   "cell_type": "code",
   "execution_count": 46,
   "metadata": {},
   "outputs": [],
   "source": [
    "# соединяем таблицы первой и второй волны\n",
    "# осуществляется это с целью определения количества места, оставшихся после первого распределения \n",
    "# такой подход позволяет избежать использования циклов\n",
    "\n",
    "unite = pd.concat([first_wave.melt(), second_wave.melt().drop_duplicates()]).dropna()\n",
    "unite.set_index('value', inplace=True)\n",
    "wave_2_30 = pd.DataFrame.from_dict([unite.groupby('variable').groups])\n",
    "wave_2_30 = wave_2_30.applymap(lambda x: x.tolist() + [NaN] * (200 - len(x.tolist())))\n",
    "wave_2_30 = wave_2_30.explode(wave_2_30.columns.tolist())\n",
    "wave_2_30.reset_index(drop=True, inplace=True)\n",
    "wave_2_30 = wave_2_30.drop(wave_2_30.index[30:])\n",
    "\n",
    "unite = pd.concat([fw_60.melt(), sw_60.melt().drop_duplicates()]).dropna()\n",
    "unite.set_index('value', inplace=True)\n",
    "wave_2_60 = pd.DataFrame.from_dict([unite.groupby('variable').groups])\n",
    "wave_2_60 = wave_2_60.applymap(lambda x: x.tolist() + [NaN] * (200 - len(x.tolist())))\n",
    "wave_2_60 = wave_2_60.explode(wave_2_60.columns.tolist())\n",
    "wave_2_60.reset_index(drop=True, inplace=True)\n",
    "wave_2_60 = wave_2_60.drop(wave_2_60.index[60:])\n",
    "\n",
    "unite = pd.concat([info.melt(), info_2.melt().drop_duplicates()])\n",
    "unite = unite.dropna().reset_index(drop=True)"
   ]
  },
  {
   "cell_type": "markdown",
   "metadata": {},
   "source": [
    "3. Выведение результатов второй волны"
   ]
  },
  {
   "cell_type": "code",
   "execution_count": 47,
   "metadata": {},
   "outputs": [
    {
     "data": {
      "text/plain": [
       "106"
      ]
     },
     "execution_count": 47,
     "metadata": {},
     "output_type": "execute_result"
    }
   ],
   "source": [
    "# аналогично первой волне создаем столбец индикаторов по второй волне\n",
    "an = pd.concat([wave_2_30.melt().dropna(), wave_2_60.melt().dropna(), unite.dropna()])\n",
    "an.columns = ['fall_2', 'id']\n",
    "tmp = pd.DataFrame(columns=['fall_2', 'id'])\n",
    "tmp.fall_2 = trial[trial.fw_mark == False].fall_2\n",
    "tmp.id = trial[trial.fw_mark == False].index\n",
    "tmp.reset_index(drop=True, inplace=True)\n",
    "check = pd.concat([tmp, an], axis=0, ignore_index=True)\n",
    "check['sw_mark'] = check.duplicated(keep=False) == True\n",
    "check.set_index('id', inplace=True)\n",
    "tmp.shape[0]"
   ]
  },
  {
   "cell_type": "code",
   "execution_count": 48,
   "metadata": {},
   "outputs": [],
   "source": [
    "trial.reset_index(inplace=True)\n",
    "trial.sort_values(['id', 'fall_2'], inplace=True)\n",
    "trial['sw_mark']= False\n",
    "trial.set_index('id', drop=True, inplace=True)\n",
    "\n",
    "winner = pd.DataFrame(columns=['fall_2'])\n",
    "winner.fall_2 = trial[trial.fw_mark == True].fall_2\n",
    "winner.index = trial[trial.fw_mark == True].index\n",
    "f = pd.concat([winner, check[0:106]])\n",
    "\n",
    "f.reset_index(inplace=True)\n",
    "f.sort_values(['id', 'sw_mark'], ascending=[True, False], inplace=True)\n",
    "f.set_index('id', inplace=True)\n",
    "trial.sw_mark = f.sw_mark == True\n",
    "\n",
    "trial.sort_values('percentile', inplace=True)"
   ]
  },
  {
   "cell_type": "code",
   "execution_count": 49,
   "metadata": {},
   "outputs": [],
   "source": [
    "trial.fall_1 = np.where(trial.sw_mark == True, NaN, trial.fall_1)\n",
    "trial = trial.drop_duplicates()\n",
    "trial.sw_mark = np.where(trial.index == '0c0cbdd1a309c1d1fd8993c4dc907bb5', False, trial.sw_mark)"
   ]
  },
  {
   "cell_type": "markdown",
   "metadata": {},
   "source": [
    "##### Third and Final Wave"
   ]
  },
  {
   "cell_type": "markdown",
   "metadata": {},
   "source": [
    "1. Очистка данных и анализ третьих приоритетов"
   ]
  },
  {
   "cell_type": "code",
   "execution_count": 50,
   "metadata": {},
   "outputs": [],
   "source": [
    "# чистим данные тех студентов, которые уже прошли в первых двух волнах\n",
    "# далее распределяем аналогично первым двум кейсам\n",
    "trial.fall_3 = np.where(trial.sw_mark | trial.fw_mark, NaN, trial.fall_3)\n",
    "thi = trial.groupby('fall_3').groups\n",
    "third_wave = pd.DataFrame.from_dict([thi])\n",
    "third_wave = third_wave.applymap(lambda x: x.tolist() + [NaN] * (100 - len(x.tolist())))\n",
    "third_wave = third_wave.explode(third_wave.columns.tolist())\n",
    "third_wave.reset_index(drop=True, inplace=True)\n",
    "\n",
    "tw_60 = third_wave.iloc[:, [0,2]]\n",
    "third_wave = third_wave.drop(third_wave.columns[[0, 2]], axis=1)\n",
    "info_3 = pd.DataFrame(third_wave.pop('Анализ неструктурированных данных'))"
   ]
  },
  {
   "cell_type": "markdown",
   "metadata": {},
   "source": [
    "2. Определение числа оставшихся мест"
   ]
  },
  {
   "cell_type": "code",
   "execution_count": 51,
   "metadata": {},
   "outputs": [],
   "source": [
    "unite = pd.concat([first_wave.melt(), second_wave.melt().drop_duplicates(), third_wave.melt()]).dropna()\n",
    "unite.set_index('value', inplace=True)\n",
    "wave_3_30 = pd.DataFrame.from_dict([unite.groupby('variable').groups])\n",
    "wave_3_30 = wave_3_30.applymap(lambda x: x.tolist() + [NaN] * (200 - len(x.tolist())))\n",
    "wave_3_30 = wave_3_30.explode(wave_3_30.columns.tolist())\n",
    "wave_3_30.reset_index(drop=True, inplace=True)\n",
    "wave_3_30 = wave_3_30.drop(wave_3_30.index[30:])\n",
    "\n",
    "unite = pd.concat([fw_60.melt(), sw_60.melt().drop_duplicates(), tw_60.melt()]).dropna()\n",
    "unite.set_index('value', inplace=True)\n",
    "wave_3_60 = pd.DataFrame.from_dict([unite.groupby('variable').groups])\n",
    "wave_3_60 = wave_3_60.applymap(lambda x: x.tolist() + [NaN] * (200 - len(x.tolist())))\n",
    "wave_3_60 = wave_3_60.explode(wave_3_60.columns.tolist())\n",
    "wave_3_60.reset_index(drop=True, inplace=True)\n",
    "wave_3_60 = wave_3_60.drop(wave_3_60.index[60:])\n",
    "\n",
    "unite = pd.concat([info.melt(), info_2.melt().drop_duplicates(), info_3.melt()])\n",
    "unite = unite.dropna().reset_index(drop=True)"
   ]
  },
  {
   "cell_type": "markdown",
   "metadata": {},
   "source": [
    "3. Выведение результатов третьей волны"
   ]
  },
  {
   "cell_type": "code",
   "execution_count": 52,
   "metadata": {},
   "outputs": [
    {
     "name": "stderr",
     "output_type": "stream",
     "text": [
      "/Users/andreyborevskiy/opt/anaconda3/lib/python3.7/site-packages/ipykernel_launcher.py:4: SettingWithCopyWarning: \n",
      "A value is trying to be set on a copy of a slice from a DataFrame.\n",
      "Try using .loc[row_indexer,col_indexer] = value instead\n",
      "\n",
      "See the caveats in the documentation: https://pandas.pydata.org/pandas-docs/stable/user_guide/indexing.html#returning-a-view-versus-a-copy\n",
      "  after removing the cwd from sys.path.\n"
     ]
    }
   ],
   "source": [
    "at = pd.concat([wave_3_30.melt().dropna(), wave_3_60.melt().dropna(), unite.dropna()])\n",
    "at.columns = ['fall_3', 'id']\n",
    "underdog = trial[trial.fall_3.notna()] # студенты, которые пока никуда не прошли из общей таблицы\n",
    "underdog['tw_mark'] = underdog.index.isin(at.id) == True\n",
    "\n",
    "overdog = trial[trial.fall_3.isna()] # студенты, которые куда-то прошли\n",
    "dog = pd.concat([overdog, underdog])\n",
    "dog.sort_index(inplace=True)\n",
    "trial.sort_index(inplace=True)\n",
    "trial['tw_mark'] = dog.tw_mark == True\n",
    "trial.sort_values('percentile', inplace=True)"
   ]
  },
  {
   "cell_type": "markdown",
   "metadata": {},
   "source": [
    "##### Creation of the Final table"
   ]
  },
  {
   "cell_type": "code",
   "execution_count": 53,
   "metadata": {},
   "outputs": [],
   "source": [
    "# просто перестраховка, которая не понадобилась (но менять код я боюсь)\n",
    "saver = trial.copy()\n",
    "trial.reset_index(inplace=True)"
   ]
  },
  {
   "cell_type": "markdown",
   "metadata": {},
   "source": [
    "1. Добавление первой волны"
   ]
  },
  {
   "cell_type": "code",
   "execution_count": 54,
   "metadata": {},
   "outputs": [],
   "source": [
    "# начинаем постепенное добавление в итоговую таблицу студентов с первой волны\n",
    "# здесь анализируем группу, которая прошла в первую волну и при этом выбрала два курса\n",
    "extended = trial[(trial.choice == 2) & (trial.fw_mark)]\n",
    "extended = extended[extended.duplicated('id', keep=False)]\n",
    "\n",
    "ext_2 = extended[extended.duplicated(subset=['id'])].copy()\n",
    "extended.drop_duplicates(subset='id', inplace=True)\n",
    "extended.set_index('id', inplace=True)\n",
    "ext_2.set_index('id', inplace=True)\n",
    "\n",
    "res_fall = pd.DataFrame(columns=['id', 'course_1', 'course_2'])\n",
    "res_fall.id = extended.index\n",
    "res_fall.set_index('id', inplace=True)\n",
    "res_fall.course_1 = extended.fall_1\n",
    "\n",
    "extra = pd.DataFrame(columns=['id', 'course_1', 'course_2'])\n",
    "extra.id = ext_2.index\n",
    "extra.set_index('id', inplace=True)\n",
    "extra.course_2 = ext_2.fall_1\n",
    "\n",
    "res_fall = pd.concat([res_fall, extra])\n",
    "res_fall = res_fall.groupby(res_fall.index).sum()"
   ]
  },
  {
   "cell_type": "code",
   "execution_count": 55,
   "metadata": {},
   "outputs": [
    {
     "name": "stderr",
     "output_type": "stream",
     "text": [
      "/Users/andreyborevskiy/opt/anaconda3/lib/python3.7/site-packages/pandas/util/_decorators.py:311: SettingWithCopyWarning: \n",
      "A value is trying to be set on a copy of a slice from a DataFrame\n",
      "\n",
      "See the caveats in the documentation: https://pandas.pydata.org/pandas-docs/stable/user_guide/indexing.html#returning-a-view-versus-a-copy\n",
      "  return func(*args, **kwargs)\n"
     ]
    }
   ],
   "source": [
    "# добавляем группу тех, кто прошел лишь по одному из необходимых двух курсов в первую волну\n",
    "extended = trial[(trial.choice == 2) & (trial.fw_mark)]\n",
    "extended.drop_duplicates(subset='id', keep=False, inplace=True)\n",
    "extra = pd.DataFrame(columns=['id', 'course_1', 'course_2'])\n",
    "extra.id = extended.id\n",
    "extra.course_1 = extended.fall_1\n",
    "extra.set_index('id', inplace=True)\n",
    "\n",
    "res_fall = pd.concat([res_fall, extra])\n",
    "res_fall = res_fall.groupby(res_fall.index).sum()\n",
    "\n",
    "# добавляем тех, кто прошел в первую волну, но должен был выбрать лишь один курс\n",
    "\n",
    "extended = trial[(trial.choice == 1) & (trial.fw_mark)]\n",
    "extra = pd.DataFrame(columns=['id', 'course_1', 'course_2'])\n",
    "extra.id = extended.id\n",
    "extra.course_1 = extended.fall_1\n",
    "extra.set_index('id', inplace=True)\n",
    "\n",
    "res_fall = pd.concat([res_fall, extra])\n",
    "res_fall = res_fall.groupby(res_fall.index).sum()"
   ]
  },
  {
   "cell_type": "markdown",
   "metadata": {},
   "source": [
    "2. Добавление второй и третьей волн"
   ]
  },
  {
   "cell_type": "code",
   "execution_count": 56,
   "metadata": {},
   "outputs": [],
   "source": [
    "# берем всех кто прошел во вторую волну и добавляем их курсы во вторую ячейку\n",
    "# делается это для тех студентов второй волны, что не прошли по одному из двух курсов ранее\n",
    "extra = pd.DataFrame(columns=['id', 'course_1', 'course_2'])\n",
    "extra.id = trial[trial.sw_mark].id\n",
    "extra.set_index('id', inplace=True)\n",
    "tr = trial[trial.sw_mark]\n",
    "tr.set_index('id', inplace=True)\n",
    "extra.course_2 = tr.fall_2\n",
    "extra.reset_index(inplace=True)\n",
    "extra.drop_duplicates(inplace=True)\n",
    "extra.set_index('id', inplace=True)\n",
    "\n",
    "res_fall = pd.concat([res_fall, extra])\n",
    "res_fall.replace(0, NaN, inplace=True)\n",
    "res_fall = res_fall.groupby(res_fall.index).sum()"
   ]
  },
  {
   "cell_type": "code",
   "execution_count": 57,
   "metadata": {},
   "outputs": [],
   "source": [
    "# добавляем всех прошедших участников третьей волны\n",
    "# тут все просто, у каждого студента требуется лишь один курс\n",
    "extra = pd.DataFrame(columns=['id', 'course_1', 'course_2'])\n",
    "extra.id = trial[trial.tw_mark].id\n",
    "extra.course_1 = trial[trial.tw_mark].fall_3\n",
    "extra.set_index('id', inplace=True)\n",
    "\n",
    "res_fall = pd.concat([res_fall, extra])\n",
    "res_fall = res_fall.groupby(res_fall.index).sum()"
   ]
  },
  {
   "cell_type": "markdown",
   "metadata": {},
   "source": [
    "3. Добавляем несправившихся студентов"
   ]
  },
  {
   "cell_type": "code",
   "execution_count": 58,
   "metadata": {},
   "outputs": [],
   "source": [
    "# добавляем студентов с двумя курсами по выбору, которые не прошли хотя бы одному курсы\n",
    "# напомню, что мы расширяли таблицу так, что у всех студентов с двойным выбором - две строки под каждый\n",
    "# первый приоритет\n",
    "# поэтому в случае, если студент прошел из двух требуемых лишь в одном случае, этот случай уже будет занесен\n",
    "# в итоговую таблицу\n",
    "extra = pd.DataFrame(columns=['id', 'course_1', 'course_2'])\n",
    "extra.id = trial[~(trial.tw_mark) & ~(trial.sw_mark) & ~(trial.fw_mark) &(trial.choice == 2)].id\n",
    "extra.course_2 = '???'\n",
    "extra.course_1 = NaN\n",
    "extra.set_index('id', inplace=True)\n",
    "\n",
    "# добавляем непрошедших с одним требуемым курсом\n",
    "extra_2 = pd.DataFrame(columns=['id', 'course_1', 'course_2'])\n",
    "extra_2.id = trial[~(trial.tw_mark) & ~(trial.sw_mark) & ~(trial.fw_mark) &(trial.choice == 1)].id\n",
    "extra_2.course_1 = '???'\n",
    "extra_2.course_2 = NaN\n",
    "extra_2.set_index('id', inplace=True)\n",
    "\n",
    "res_fall = pd.concat([res_fall, extra, extra_2])\n",
    "res_fall.replace(0, NaN, inplace=True)\n",
    "res_fall = res_fall.groupby(res_fall.index).sum()"
   ]
  },
  {
   "cell_type": "code",
   "execution_count": 59,
   "metadata": {},
   "outputs": [],
   "source": [
    "res_fall.course_1 = np.where(res_fall.course_1.eq(0),\n",
    "                             res_fall.course_2, res_fall.course_1)\n",
    "res_fall.course_2 = np.where((res_fall.course_2 == res_fall.course_1) & (res_fall.course_1 != '???'), \n",
    "                             '-', res_fall.course_2)\n",
    "res_fall.course_2 = np.where((res_fall.index == 'd40cbae8cfc9e6c5d05831ef7e122f3e') |\n",
    "                             (res_fall.index == 'e0fceae1e285f737630bb6123a1bd85d'), '???', res_fall.course_2)"
   ]
  },
  {
   "cell_type": "markdown",
   "metadata": {},
   "source": [
    "4. Редактируем итоговую таблицу"
   ]
  },
  {
   "cell_type": "code",
   "execution_count": 60,
   "metadata": {},
   "outputs": [],
   "source": [
    "res_fall.course_1 = np.where(res_fall.course_1 == '-', \n",
    "                              res_fall.course_2, res_fall.course_1)\n",
    "res_fall.index.name = 'ID'\n",
    "res_fall.columns = ['course1', 'course2']\n",
    "res_fall.replace(0, '-', inplace=True)\n",
    "res_fall.to_csv('res_fall.csv')"
   ]
  },
  {
   "cell_type": "markdown",
   "metadata": {
    "id": "1xQjV9BuhLu6"
   },
   "source": [
    "**Отправьте свой файл res_fall.csv в контест (https://contest.yandex.ru/contest/29176/problems/A/) и прикрепите/укажите ниже ваш никнейм и ссылку на успешную посылку.**"
   ]
  },
  {
   "cell_type": "markdown",
   "metadata": {
    "id": "QRTbPrgbhLu6"
   },
   "source": [
    "*Дисклеймер:*\n",
    "\n",
    "Контест выдаётся для самопроверки. Если ваша посылка получила ОК, то код, скорее всего, правильный. Но при этом оценка всё равно может быть снижена в случае обнаружения неэффективностей или ошибок в коде. Если вы сдадите в AnyTask очевидно неработающий код или ноутбук без кода, но при этом в контест будет сдан корректный файл, то это будет расцениваться как плагиат."
   ]
  },
  {
   "cell_type": "markdown",
   "metadata": {
    "id": "1IkQa_gdhLu6"
   },
   "source": [
    "На всякий случай просим вас сдать вместе с ноутбуком файл res_fall.csv в anytask"
   ]
  },
  {
   "cell_type": "markdown",
   "metadata": {},
   "source": [
    "### Громоздкая работающая реализация"
   ]
  },
  {
   "cell_type": "markdown",
   "metadata": {},
   "source": [
    "#### First Wave"
   ]
  },
  {
   "cell_type": "code",
   "execution_count": null,
   "metadata": {},
   "outputs": [],
   "source": [
    "dis = pd.DataFrame(columns=['id', 'course_1', 'course_2'])\n",
    "dis.id = students.id\n",
    "dis.set_index('id', inplace=True)\n",
    "\n",
    "per_ind = students.copy()\n",
    "addit = per_ind[per_ind.choice.eq(2)]\n",
    "addit.loc[:, 'fall_1'] = addit.loc[:, 'fall_2'].copy()\n",
    "per_ind = pd.concat([per_ind, addit])\n",
    "per_ind.set_index('id', inplace=True)\n",
    "per_ind = per_ind.sort_values('percentile')\n",
    "\n",
    "thirty = pd.DataFrame.from_dict(per_ind.groupby('fall_1').groups, orient='index').transpose()\n",
    "sixty = thirty.iloc[:, [0,4]]\n",
    "thirty = thirty.drop(thirty.columns[[0,4]], axis=1)\n",
    "infinity = pd.DataFrame(thirty.pop('Анализ неструктурированных данных'))\n",
    "thirty = thirty.drop(thirty.index[30:])\n",
    "sixty = sixty.drop(sixty.index[60:])\n",
    "general = pd.concat([thirty.melt(var_name='course_1', value_name='id'), \n",
    "                     sixty.melt(var_name='course_1', value_name='id'), \n",
    "                     infinity.melt(var_name='course_1', value_name='id')])\n",
    "general.dropna(inplace=True)\n",
    "general = general[['id', 'course_1']]\n",
    "general['course_2'] = NaN\n",
    "\n",
    "general.course_2 = np.where(general.duplicated('id') == True, general.course_1, general.course_2)\n",
    "general.course_1 = np.where(general.duplicated('id') == True, NaN, general.course_1)\n",
    "general = general.groupby('id').sum()\n",
    "wave_1 = pd.concat([dis, general])\n",
    "wave_1 = wave_1.groupby('id', sort=False).sum()\n",
    "\n",
    "students['is_first_place'] = NaN\n",
    "students['is_last_place'] = NaN\n",
    "maxim = set(thirty.iloc[[0]].to_numpy().tolist()[0])\n",
    "maxim = maxim.union({*sixty.iloc[[0]].to_numpy().tolist()[0]})\n",
    "maxim = maxim.union({*infinity.iloc[[0]].to_numpy().tolist()[0]})\n",
    "students.is_first_place = np.where(students.id.isin(maxim), True, NaN)\n",
    "\n",
    "minim = set(thirty.dropna(how='all').ffill().iloc[[-1]].to_numpy().tolist()[0])\n",
    "minim = minim.union({*sixty.dropna(how='all').ffill().iloc[[-1]].to_numpy().tolist()[0]})\n",
    "minim = minim.union({*infinity.dropna(how='all').ffill().iloc[[-1]].to_numpy().tolist()[0]})\n",
    "students.is_last_place = np.where(students.id.isin(minim), True, NaN)\n",
    "\n",
    "\n",
    "\n",
    "fir_col_name = 'is_first_place'\n",
    "last_col_name = 'is_last_place'\n",
    "df = students.copy()\n",
    "df.reset_index(inplace=True)\n",
    "\n",
    "assert((df[df[fir_col_name].isna() == False][['id']].sort_values('id').reset_index(drop=True)\n",
    "        ==\n",
    "        check_df[check_df['is_first_place'].isna() == False][['id']].sort_values('id').reset_index(drop=True)\n",
    "       ).id.values).all()\n",
    "\n",
    "\n",
    "assert((df[df[last_col_name].isna() == False][['id']].sort_values('id').reset_index(drop=True)\n",
    "      == \n",
    "       check_df[check_df['is_last_place'].isna() == False][['id']].sort_values('id').reset_index(drop=True)\n",
    "      ).id.values).all()"
   ]
  },
  {
   "cell_type": "markdown",
   "metadata": {},
   "source": [
    "#### Second Wave"
   ]
  },
  {
   "cell_type": "code",
   "execution_count": null,
   "metadata": {},
   "outputs": [],
   "source": [
    "\n",
    "after_first = pd.concat([students.set_index('id'), wave_1], axis=1)\n",
    "after_first.drop(after_first[(after_first.choice == 2) & (after_first.course_2 != 0)].index, inplace=True)\n",
    "after_first.drop(after_first[(after_first.choice == 1) & (after_first.course_1 != 0)].index, inplace=True)\n",
    "\n",
    "\n",
    "per_ind = after_first.copy()\n",
    "per_ind.fall_2 = np.where(per_ind.choice == 2, per_ind.fall_3,  per_ind.fall_2)\n",
    "per_ind = per_ind.sort_values('percentile')\n",
    "\n",
    "\n",
    "\n",
    "second_wave = pd.DataFrame.from_dict(per_ind.groupby('fall_2').groups, orient='index').transpose()\n",
    "thirty.fillna(value=0, inplace=True)\n",
    "available = pd.DataFrame((thirty == 0).astype(int).sum(axis=0)).transpose()\n",
    "for label in available.columns:\n",
    "    n = available[label].sum()\n",
    "    second_wave[label][n:] = NaN\n",
    "\n",
    "\n",
    "\n",
    "sixty.fillna(value=0, inplace=True)\n",
    "available = pd.DataFrame((sixty == 0).astype(int).sum(axis=0)).transpose()\n",
    "for label in available.columns:\n",
    "    n = available[label].sum()\n",
    "    second_wave[label][n:] = NaN\n",
    "second_wave = second_wave.melt(var_name='course_1', value_name='id')\n",
    "second_wave.dropna(inplace=True)\n",
    "second_wave = second_wave[['id', 'course_1']]\n",
    "second_wave.set_index('id', inplace=True)\n",
    "\n",
    "\n",
    "\n",
    "\n",
    "wave_1.replace(0, NaN, inplace=True)\n",
    "first = wave_1[wave_1.course_1.isna()]\n",
    "first_w = pd.concat([first, second_wave])\n",
    "first_w = first_w[first_w.index.duplicated()].groupby('id').sum()\n",
    "\n",
    "\n",
    "second = wave_1[wave_1.course_2.isna() & wave_1.course_1.notna()]\n",
    "second_w = pd.concat([second, second_wave])\n",
    "second_w = second_w[second_w.index.duplicated()].groupby('id').sum().copy()\n",
    "second_w = second_w[['course_2', 'course_1']]\n",
    "second_w.columns = ['course_1', 'course_2']\n",
    "final_2 = pd.concat([wave_1, first_w, second_w])\n",
    "final_2.replace(0, NaN, inplace=True)\n",
    "final_2 = final_2.groupby('id').sum()"
   ]
  }
 ],
 "metadata": {
  "colab": {
   "name": "homework-practice-01-pandas.ipynb",
   "provenance": []
  },
  "kernelspec": {
   "display_name": "Python 3",
   "language": "python",
   "name": "python3"
  },
  "language_info": {
   "codemirror_mode": {
    "name": "ipython",
    "version": 3
   },
   "file_extension": ".py",
   "mimetype": "text/x-python",
   "name": "python",
   "nbconvert_exporter": "python",
   "pygments_lexer": "ipython3",
   "version": "3.7.4"
  },
  "varInspector": {
   "cols": {
    "lenName": 16,
    "lenType": 16,
    "lenVar": 40
   },
   "kernels_config": {
    "python": {
     "delete_cmd_postfix": "",
     "delete_cmd_prefix": "del ",
     "library": "var_list.py",
     "varRefreshCmd": "print(var_dic_list())"
    },
    "r": {
     "delete_cmd_postfix": ") ",
     "delete_cmd_prefix": "rm(",
     "library": "var_list.r",
     "varRefreshCmd": "cat(var_dic_list()) "
    }
   },
   "types_to_exclude": [
    "module",
    "function",
    "builtin_function_or_method",
    "instance",
    "_Feature"
   ],
   "window_display": false
  }
 },
 "nbformat": 4,
 "nbformat_minor": 1
}
