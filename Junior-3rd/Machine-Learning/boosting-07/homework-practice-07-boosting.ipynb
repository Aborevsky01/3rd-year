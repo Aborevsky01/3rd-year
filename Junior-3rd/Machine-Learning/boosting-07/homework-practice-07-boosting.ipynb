{
 "cells": [
  {
   "cell_type": "markdown",
   "metadata": {},
   "source": [
    "# Машинное обучение, ФКН ВШЭ\n",
    "\n",
    "# Практическое задание 7. Бустинговое\n",
    "\n",
    "## Общая информация\n",
    "\n",
    "Дата выдачи: 06.12.2021\n",
    "\n",
    "Мягкий дедлайн: 18.12.2021 23:59 MSK\n",
    "\n",
    "Жёсткий дедлайн: 19.12.2021 23:59 MSK\n",
    "\n",
    "## Оценивание и штрафы\n",
    "\n",
    "Каждая из задач имеет определенную «стоимость» (указана в скобках около задачи). Максимально допустимая оценка за работу — 10 баллов.\n",
    "\n",
    "Сдавать задание после указанного срока сдачи нельзя. При выставлении неполного балла за задание в связи с наличием ошибок на усмотрение проверяющего предусмотрена возможность исправить работу на указанных в ответном письме условиях.\n",
    "\n",
    "Задание выполняется самостоятельно. «Похожие» решения считаются плагиатом и все задействованные студенты (в том числе те, у кого списали) не могут получить за него больше 0 баллов (подробнее о плагиате см. на странице курса). Если вы нашли решение какого-то из заданий (или его часть) в открытом источнике, необходимо указать ссылку на этот источник в отдельном блоке в конце вашей работы (скорее всего вы будете не единственным, кто это нашел, поэтому чтобы исключить подозрение в плагиате, необходима ссылка на источник).\n",
    "\n",
    "Неэффективная реализация кода может негативно отразиться на оценке.\n",
    "\n",
    "## Формат сдачи\n",
    "Задания сдаются через систему anytask. Посылка должна содержать:\n",
    "* Ноутбук homework-practice-07-Username.ipynb\n",
    "\n",
    "Username — ваша фамилия на латинице"
   ]
  },
  {
   "cell_type": "markdown",
   "metadata": {},
   "source": [
    "## О задании\n",
    "\n",
    "В этом задании вам предстоит вручную запрограммировать один из самых мощных алгоритмов машинного обучения — бустинг."
   ]
  },
  {
   "cell_type": "code",
   "execution_count": 1,
   "metadata": {},
   "outputs": [],
   "source": [
    "from warnings import filterwarnings\n",
    "\n",
    "import matplotlib.pyplot as plt\n",
    "import numpy as np\n",
    "import seaborn as sns\n",
    "from scipy.sparse import load_npz\n",
    "from sklearn.model_selection import train_test_split, GridSearchCV\n",
    "import random\n",
    "\n",
    "from sklearn.metrics import roc_auc_score, make_scorer\n",
    "from sklearn.tree import DecisionTreeRegressor\n",
    "from sklearn.utils import resample\n",
    "\n",
    "\n",
    "sns.set(style='darkgrid')\n",
    "filterwarnings('ignore')"
   ]
  },
  {
   "cell_type": "code",
   "execution_count": 2,
   "metadata": {},
   "outputs": [],
   "source": [
    "x = load_npz('x.npz')\n",
    "y = np.load('y.npy')"
   ]
  },
  {
   "cell_type": "markdown",
   "metadata": {},
   "source": [
    "Разделим на обучающую, валидационную и тестовую выборки (`random_state` оставьте равным 1337 для воспроизводимости)."
   ]
  },
  {
   "cell_type": "code",
   "execution_count": 7,
   "metadata": {},
   "outputs": [
    {
     "data": {
      "text/plain": [
       "((18825, 169), (2354, 169), (2353, 169))"
      ]
     },
     "execution_count": 7,
     "metadata": {},
     "output_type": "execute_result"
    }
   ],
   "source": [
    "x_train, x_test, y_train, y_test = train_test_split(x, y, test_size=0.2, random_state=1337)\n",
    "\n",
    "x_test, x_valid, y_test, y_valid = train_test_split(x_test, y_test, test_size=0.5, random_state=1337)\n",
    "\n",
    "x_train.shape, x_valid.shape, x_test.shape"
   ]
  },
  {
   "cell_type": "markdown",
   "metadata": {},
   "source": [
    "## Задание 1. Реализация градиентного бустинга (4 балла)\n",
    "\n",
    "Вам нужно дописать код в файлике `boosting.py`. Для вас уже подготовлен шаблон класса `Boosting`, вы можете менять его по своему усмотрению.\n",
    "\n",
    "### Инструкции для функций:\n",
    "\n",
    "#### `__init__`\n",
    "\n",
    "В `__init__` приходит кучка параметров, распишем что есть что:\n",
    "\n",
    " - `base_model_class` - класс базовой модели нашего бустинга\n",
    " - `base_model_params` - словарь с гиперпараметрами для базовой модели\n",
    " - `n_estimators` - какое количество базовых моделей нужно обучить\n",
    " - `learning_rate` - темп обучения, должен быть из полуинтервала $(0, 1]$\n",
    " - `subsample` - доля объектов, на которой будет обучаться базовая модель (какую часть составляет бутстрапная выборка от исходной обучающей)\n",
    " - `early_stopping_rounds` - число итераций, после которых при отсутствии улучшения качества на валидационной выборке обучение останавливается\n",
    " - `plot` - строить ли после обучения всех базовых моделей график с качеством\n",
    "\n",
    "#### `fit`\n",
    "\n",
    "В `fit` приходит две выборки, обучающая и валидационная. На обучающей мы обучаем новые базовые модели, на валидационной считаем качество для ранней остановки (если это предусматривают параметры).\n",
    "\n",
    "Сначала нам нужно сделать какую-то нулевую модель, сделать предсказания для обучающей и валидационной выборок (в шаблоне это нулевая модель, соответственно предсказания это просто `np.zeros`). После этого нужно обучить `n_estimators` базовых моделей (как и на что обучаются базовые модели смотрите в лекциях и семинарах). После каждой обученной базовой модели мы должны обновить текущие предсказания, посчитать ошибку на обучающей и валидационной выборках (используем `loss_fn` для этого), проверить на раннюю остановку.\n",
    "\n",
    "После всего цикла обучения надо нарисовать график (если `plot`).\n",
    "\n",
    "\n",
    "#### `fit_new_base_model`\n",
    "\n",
    "В `fit_new_base_model` приходит обучающая выборка (целиком) и текущие предсказания для неё. Мы должны сгенерировать бутстрап выборку для обучения базовой модели и обучить базовую модель. После обучения модели запускаем поиск оптимальной гаммы, добавляем новую модель и гамму (не забываем про темп обучения) в соответствующие списки.\n",
    "\n",
    "#### `predict_proba`\n",
    "\n",
    "В `predict_proba` приходит выборка, нужно предсказать вероятности для неё. Суммируем предсказания базовых моделей на этой выборке (не забываем про гаммы) и накидываем сигмоиду."
   ]
  },
  {
   "cell_type": "code",
   "execution_count": 121,
   "metadata": {},
   "outputs": [],
   "source": []
  },
  {
   "cell_type": "code",
   "execution_count": 4,
   "metadata": {},
   "outputs": [],
   "source": [
    "%load_ext autoreload"
   ]
  },
  {
   "cell_type": "code",
   "execution_count": 5,
   "metadata": {},
   "outputs": [],
   "source": [
    "%autoreload 2\n",
    "\n",
    "from boosting import Boosting"
   ]
  },
  {
   "cell_type": "markdown",
   "metadata": {},
   "source": [
    "### Проверка кода\n",
    "\n",
    "У автора задания всё учится около одной секунды."
   ]
  },
  {
   "cell_type": "code",
   "execution_count": 61,
   "metadata": {},
   "outputs": [
    {
     "name": "stdout",
     "output_type": "stream",
     "text": [
      "CPU times: user 1.8 s, sys: 32.9 ms, total: 1.84 s\n",
      "Wall time: 1.92 s\n",
      "Train ROC-AUC 0.9897\n",
      "Valid ROC-AUC 0.9086\n",
      "Test ROC-AUC 0.9102\n"
     ]
    }
   ],
   "source": [
    "boosting = Boosting()\n",
    "\n",
    "%time boosting.fit(x_train, y_train, x_valid, y_valid)\n",
    "\n",
    "assert len(boosting.models) == boosting.n_estimators\n",
    "assert len(boosting.gammas) == boosting.n_estimators\n",
    "\n",
    "assert boosting.predict_proba(x_test).shape == (x_test.shape[0], 2)\n",
    "\n",
    "print(f'Train ROC-AUC {boosting.score(x_train, y_train):.4f}')\n",
    "print(f'Valid ROC-AUC {boosting.score(x_valid, y_valid):.4f}')\n",
    "print(f'Test ROC-AUC {boosting.score(x_test, y_test):.4f}')"
   ]
  },
  {
   "cell_type": "markdown",
   "metadata": {},
   "source": [
    "## Задание 2. Обучение градиентного бустинга (1 балл)\n",
    "\n",
    "Оцените качество на тестовой выборке вашей имплементации бустинга для различной максимальной глубины решающего дерева в качестве базовой модели. Здесь и далее мы будем использовать метрику ROC-AUC.\n",
    "\n",
    "Перебирайте максимальную глубину от 1 до 30 с шагом 2 (остальные параметры бустинга стоит оставить равными по умолчанию). Постройте график зависимости качества на обучающей и тестовой выборке в зависимости от глубины."
   ]
  },
  {
   "cell_type": "code",
   "execution_count": 62,
   "metadata": {},
   "outputs": [],
   "source": [
    "results = {'train': [], 'test': []}\n",
    "\n",
    "depths = range(1, 30, 2)\n",
    "\n",
    "for depth in depths:\n",
    "    boosting = Boosting(base_model_params = {'max_depth': depth})\n",
    "    boosting.fit(x_train, y_train, x_test, y_test)\n",
    "    results['train'].append(boosting.score(x_train, y_train))\n",
    "    results['test'].append(boosting.score(x_test, y_test))"
   ]
  },
  {
   "cell_type": "code",
   "execution_count": 133,
   "metadata": {},
   "outputs": [
    {
     "data": {
      "image/png": "[encoded data removed]",
      "text/plain": [
       "<Figure size 1296x576 with 1 Axes>"
      ]
     },
     "metadata": {},
     "output_type": "display_data"
    }
   ],
   "source": [
    "plt.style.use('Solarize_Light2')\n",
    "\n",
    "plt.figure(figsize=(18, 8))\n",
    "sns.lineplot(depths, results['train'], label='Train')\n",
    "sns.lineplot(depths, results['test'], label='Test')\n",
    "plt.title('График зависимости качества на обучающей и тестовой выборке в зависимости от глубины')\n",
    "plt.legend()\n",
    "plt.show()"
   ]
  },
  {
   "cell_type": "markdown",
   "metadata": {},
   "source": [
    "**Какая из моделей имеет лучшее качество? Как вы можете это объяснить?**\n",
    "\n",
    "1. Очевидным образом лучше обучающая модель. При этом схожесть поведения двух показателей оказывается достаточно изменчивой. Изначально демонстрируя резкий рост значения `ROC-AUC`, мы видим достижение тестовых значений максимума при `depth` лежащим в интервале от 7 до 9. После идет планоменое падение, определяющее весь тренд на бесконечности. В свою очередь, показатели бустинга на обучающей выборке беспрестанно растут.\n",
    "\n",
    "\n",
    "2. Связаны все вышеперечисленные события с тем, что чрезмерный рост глубины \"по дефолту\" приводит к переобучению решеющего дерева, способного в итоге индивидуально подходить к каждому значению. Variance растет, bias падает. В итоге мы очень сильно подбираемся к индивидуальной обработке значений лишь из обучающей выборки."
   ]
  },
  {
   "cell_type": "markdown",
   "metadata": {},
   "source": [
    "## Задание 3. Подбираем гиперпараметры и ищем лучшую модель (2 балла)\n",
    "\n",
    "Подберите по валидационной выборке основные гиперпараметры для вашей модели бустинга. Следует подобрать все основные параметры для самого градиентного бустинга и для самих базовых моделей."
   ]
  },
  {
   "cell_type": "code",
   "execution_count": 77,
   "metadata": {},
   "outputs": [
    {
     "data": {
      "application/vnd.jupyter.widget-view+json": {
       "model_id": "0baf5171837a441ab0d6f4fdb8a261ad",
       "version_major": 2,
       "version_minor": 0
      },
      "text/plain": [
       "HBox(children=(IntProgress(value=0, max=20), HTML(value='')))"
      ]
     },
     "metadata": {},
     "output_type": "display_data"
    },
    {
     "name": "stdout",
     "output_type": "stream",
     "text": [
      "\n"
     ]
    }
   ],
   "source": [
    "from tqdm import tqdm_notebook\n",
    "\n",
    "best_score = 0\n",
    "best_params = []\n",
    "for i in tqdm_notebook(range(20)):\n",
    "    cur_tree_params = {\n",
    "         'max_depth' : random.choice([7, 9, 12, 15]),\n",
    "         'min_samples_leaf' : random.choice([1, 2, 3])\n",
    "    }\n",
    "    cur_params = {  \n",
    "                'learning_rate' : random.choice([0.01, 0.05, 0.1]),\n",
    "                'n_estimators'    : random.choice([70, 90, 100]),\n",
    "                'early_stopping_rounds' : random.choice([30, 70, 100]),\n",
    "                'subsample' : random.choice([0.1, 0.3, 0.5])\n",
    "            }\n",
    "    boosting = Boosting(**cur_params, base_model_params=cur_tree_params)\n",
    "    boosting.fit(x_train, y_train, x_valid, y_valid)\n",
    "    attempt = boosting.history.iloc[-1, 1]\n",
    "    if attempt > best_score :\n",
    "        best_score = attempt\n",
    "        best_params = [cur_tree_params, cur_params]"
   ]
  },
  {
   "cell_type": "code",
   "execution_count": 208,
   "metadata": {},
   "outputs": [
    {
     "data": {
      "text/html": [
       "<div>\n",
       "<style scoped>\n",
       "    .dataframe tbody tr th:only-of-type {\n",
       "        vertical-align: middle;\n",
       "    }\n",
       "\n",
       "    .dataframe tbody tr th {\n",
       "        vertical-align: top;\n",
       "    }\n",
       "\n",
       "    .dataframe thead th {\n",
       "        text-align: right;\n",
       "    }\n",
       "</style>\n",
       "<table border=\"1\" class=\"dataframe\">\n",
       "  <thead>\n",
       "    <tr style=\"text-align: right;\">\n",
       "      <th></th>\n",
       "      <th>best value</th>\n",
       "    </tr>\n",
       "  </thead>\n",
       "  <tbody>\n",
       "    <tr>\n",
       "      <th>max_depth</th>\n",
       "      <td>7.0</td>\n",
       "    </tr>\n",
       "    <tr>\n",
       "      <th>min_samples_leaf</th>\n",
       "      <td>1.0</td>\n",
       "    </tr>\n",
       "    <tr>\n",
       "      <th>learning_rate</th>\n",
       "      <td>0.1</td>\n",
       "    </tr>\n",
       "    <tr>\n",
       "      <th>n_estimators</th>\n",
       "      <td>100.0</td>\n",
       "    </tr>\n",
       "    <tr>\n",
       "      <th>early_stopping_rounds</th>\n",
       "      <td>30.0</td>\n",
       "    </tr>\n",
       "    <tr>\n",
       "      <th>subsample</th>\n",
       "      <td>0.1</td>\n",
       "    </tr>\n",
       "  </tbody>\n",
       "</table>\n",
       "</div>"
      ],
      "text/plain": [
       "                       best value\n",
       "max_depth                     7.0\n",
       "min_samples_leaf              1.0\n",
       "learning_rate                 0.1\n",
       "n_estimators                100.0\n",
       "early_stopping_rounds        30.0\n",
       "subsample                     0.1"
      ]
     },
     "execution_count": 208,
     "metadata": {},
     "output_type": "execute_result"
    }
   ],
   "source": [
    "pd.DataFrame(pd.DataFrame(best_params).sum(axis=0), columns=['best value'])"
   ]
  },
  {
   "cell_type": "code",
   "execution_count": 192,
   "metadata": {},
   "outputs": [
    {
     "name": "stdout",
     "output_type": "stream",
     "text": [
      "Hand-crafted Selection of hyperparameters\n",
      "ROC-AUC score on test for the Best combination is, 0.9404661275684788\n"
     ]
    }
   ],
   "source": [
    "print('Hand-crafted Selection of hyperparameters')\n",
    "print('ROC-AUC score on test for the Best combination is,', best_score)"
   ]
  },
  {
   "cell_type": "markdown",
   "metadata": {},
   "source": [
    "## Задание 4. Пробуем разные библиотеки (2 балла)\n",
    "\n",
    "Выберите себе библиотеку с реализацией градиентного бустинга по вкусу из следующих трёх - [XGBoost](https://xgboost.readthedocs.io/en/stable/python/python_intro.html), [LightGBM](https://lightgbm.readthedocs.io/en/latest/Python-Intro.html), [CatBoost](https://catboost.ai/en/docs/concepts/python-quickstart). Подберите основные гиперпараметры, постарайтесь добиться наилучшего качества на тестовых данных. Сравните результаты своей реализации с результатами библиотечного бустинга."
   ]
  },
  {
   "cell_type": "code",
   "execution_count": 196,
   "metadata": {
    "scrolled": false
   },
   "outputs": [
    {
     "data": {
      "application/vnd.jupyter.widget-view+json": {
       "model_id": "ee5dc44b9de34a7ca1e058597ecb0a6b",
       "version_major": 2,
       "version_minor": 0
      },
      "text/plain": [
       "MetricVisualizer(layout=Layout(align_self='stretch', height='500px'))"
      ]
     },
     "metadata": {},
     "output_type": "display_data"
    },
    {
     "data": {
      "text/plain": [
       "{'min_data_in_leaf': 1,\n",
       " 'depth': 9,\n",
       " 'iterations': 80,\n",
       " 'learning_rate': 0.01,\n",
       " 'boosting_type': 'Plain'}"
      ]
     },
     "execution_count": 196,
     "metadata": {},
     "output_type": "execute_result"
    }
   ],
   "source": [
    "from catboost import Pool, CatBoostClassifier\n",
    "from sklearn.model_selection import PredefinedSplit\n",
    "\n",
    "\n",
    "spec = {\n",
    "    'loss_function' : 'Logloss',\n",
    "    'eval_metric' : 'AUC:hints=skip_train~false',\n",
    "    'logging_level' : 'Silent',\n",
    "    'metric_period' : 50\n",
    "}\n",
    "\n",
    "\n",
    "model = CatBoostClassifier(**spec)\n",
    "parameters = {  'depth' : [5, 7,  9],\n",
    "                'learning_rate' : [0.001, 0.005, 0.01],\n",
    "                'n_estimators'     : np.arange(40, 90, 20),\n",
    "                'boosting_type' : [\"Ordered\", \"Plain\"],\n",
    "                'min_data_in_leaf' : [1, 2, 3]                          \n",
    "                 }\n",
    "\n",
    "grid_search_result = model.grid_search(parameters, X=x_train, y=y_train, plot=True, cv=2, verbose=False)\n",
    "grid_search_result['params']"
   ]
  },
  {
   "cell_type": "code",
   "execution_count": 197,
   "metadata": {
    "scrolled": true
   },
   "outputs": [
    {
     "data": {
      "text/plain": [
       "GridSearchCV(cv=2,\n",
       "             estimator=<catboost.core.CatBoostClassifier object at 0x7fc11c2f2dd0>,\n",
       "             param_grid={'boosting_type': ['Ordered', 'Plain'],\n",
       "                         'depth': [9, 10, 11], 'learning_rate': [0.005, 0.01],\n",
       "                         'min_data_in_leaf': [1],\n",
       "                         'n_estimators': array([50, 70])},\n",
       "             scoring=make_scorer(roc_auc_score))"
      ]
     },
     "execution_count": 197,
     "metadata": {},
     "output_type": "execute_result"
    }
   ],
   "source": [
    "parameters_two = {  'depth' : [9,10, 11],\n",
    "                'learning_rate' : [0.005, 0.01],\n",
    "                'n_estimators'     : np.arange(50, 90, 20),\n",
    "                'boosting_type' : [\"Ordered\", \"Plain\"],\n",
    "                'min_data_in_leaf' : [1]                          \n",
    "                 }\n",
    "\n",
    "model_two = CatBoostClassifier(logging_level='Silent')\n",
    "grid_cat = GridSearchCV(estimator=model_two, param_grid = parameters_two, \n",
    "                        cv = 2, scoring=make_scorer(roc_auc_score))\n",
    "grid_cat.fit(x_train, y_train)"
   ]
  },
  {
   "cell_type": "code",
   "execution_count": 206,
   "metadata": {},
   "outputs": [
    {
     "data": {
      "text/html": [
       "<div>\n",
       "<style scoped>\n",
       "    .dataframe tbody tr th:only-of-type {\n",
       "        vertical-align: middle;\n",
       "    }\n",
       "\n",
       "    .dataframe tbody tr th {\n",
       "        vertical-align: top;\n",
       "    }\n",
       "\n",
       "    .dataframe thead th {\n",
       "        text-align: right;\n",
       "    }\n",
       "</style>\n",
       "<table border=\"1\" class=\"dataframe\">\n",
       "  <thead>\n",
       "    <tr style=\"text-align: right;\">\n",
       "      <th></th>\n",
       "      <th>boosting_type</th>\n",
       "      <th>depth</th>\n",
       "      <th>learning_rate</th>\n",
       "      <th>min_data_in_leaf</th>\n",
       "      <th>n_estimators</th>\n",
       "    </tr>\n",
       "  </thead>\n",
       "  <tbody>\n",
       "    <tr>\n",
       "      <th>best values</th>\n",
       "      <td>Plain</td>\n",
       "      <td>11</td>\n",
       "      <td>0.01</td>\n",
       "      <td>1</td>\n",
       "      <td>70</td>\n",
       "    </tr>\n",
       "  </tbody>\n",
       "</table>\n",
       "</div>"
      ],
      "text/plain": [
       "            boosting_type  depth  learning_rate  min_data_in_leaf  \\\n",
       "best values         Plain     11           0.01                 1   \n",
       "\n",
       "             n_estimators  \n",
       "best values            70  "
      ]
     },
     "execution_count": 206,
     "metadata": {},
     "output_type": "execute_result"
    }
   ],
   "source": [
    "pd.DataFrame(grid_cat.best_params_, index=['best values'])"
   ]
  },
  {
   "cell_type": "code",
   "execution_count": null,
   "metadata": {},
   "outputs": [],
   "source": [
    "'''\n",
    "Best hyperparameters for CatBoost according to grid_search method\n",
    "\n",
    "{'min_data_in_leaf': 1,\n",
    " 'depth': 9,\n",
    " 'iterations': 80,\n",
    " 'learning_rate': 0.01,\n",
    " 'boosting_type': 'Plain'}\n",
    "'''\n",
    "\n",
    "'''\n",
    "Best hyperparameters for CatBoost according to GridSearchCV\n",
    "\n",
    "{'boosting_type': 'Plain',\n",
    " 'depth': 11,\n",
    " 'learning_rate': 0.01,\n",
    " 'min_data_in_leaf': 1,\n",
    " 'n_estimators': 70}\n",
    "'''"
   ]
  },
  {
   "cell_type": "markdown",
   "metadata": {},
   "source": [
    "Видим, что первый способ позволил нам получить более высокие результаты, чем собственная реализация. Показатели здесь превосходят наш лучший из предыдущего пункта на 2 пункта."
   ]
  },
  {
   "cell_type": "markdown",
   "metadata": {},
   "source": [
    "### Задание 5 (бонус). Пробуем ещё немножко библиотек (1 балл)\n",
    "\n",
    "Существуют библиотеки для подбора гиперпараметров, попробуйте использовать какую-нибудь из следующих двух - [Hyperopt](https://github.com/hyperopt/hyperopt), [Optuna](https://optuna.org/). Сравните полученное качество с вашим ручным перебором. Используйте эту библиотеку чтобы подобрать параметры и для своей реалзиации и для библиотечной."
   ]
  },
  {
   "cell_type": "code",
   "execution_count": 70,
   "metadata": {},
   "outputs": [],
   "source": [
    "import os\n",
    "import optuna\n",
    "from optuna.trial import TrialState\n",
    "import torch\n",
    "import torch.nn as nn\n",
    "import torch.nn.functional as F\n",
    "import torch.optim as optim\n",
    "import torch.utils.data\n",
    "from torchvision import datasets\n",
    "from torchvision import transforms"
   ]
  },
  {
   "cell_type": "code",
   "execution_count": 71,
   "metadata": {},
   "outputs": [],
   "source": [
    "def standard_catboost(trial):\n",
    "    param = {\n",
    "        \"colsample_bylevel\": trial.suggest_float(\"colsample_bylevel\", 0.01, 0.1),\n",
    "        \"depth\": trial.suggest_int(\"depth\", 9, 12),\n",
    "        'n_estimators'     : trial.suggest_int('n_estimators', 50, 90),\n",
    "        \"boosting_type\": trial.suggest_categorical(\"boosting_type\", [\"Ordered\", \"Plain\"]),\n",
    "        'learning_rate' :trial.suggest_loguniform('learning_rate', 0.005, 0.05),\n",
    "        \"bootstrap_type\": trial.suggest_categorical(\n",
    "            \"bootstrap_type\", [\"Bernoulli\", \"MVS\"]\n",
    "        ),\n",
    "    }\n",
    "\n",
    "    if param[\"bootstrap_type\"] == \"Bernoulli\":\n",
    "        param[\"subsample\"] = trial.suggest_float(\"subsample\", 0.1, 1)\n",
    "\n",
    "    gbm = CatBoostClassifier(**param)\n",
    "\n",
    "    gbm.fit(x_train, y_train, verbose=0, early_stopping_rounds=100)\n",
    "\n",
    "    preds = gbm.predict_proba(x_valid)[:, 1]\n",
    "    accuracy = roc_auc_score(y_valid == 1, preds)\n",
    "    return accuracy"
   ]
  },
  {
   "cell_type": "code",
   "execution_count": 72,
   "metadata": {},
   "outputs": [],
   "source": [
    "def my_boost(trial):\n",
    "    cur_tree_params = {\n",
    "         'max_depth' : trial.suggest_int('max_depth', 9, 15),\n",
    "         'min_samples_leaf' : trial.suggest_int('min_samples_leaf', 1, 2)\n",
    "    }\n",
    "    cur_params = {  \n",
    "                'learning_rate' : trial.suggest_float('learning_rate', 0.01, 0.1),\n",
    "                'n_estimators'    : trial.suggest_int('n_estimators', 50, 80),\n",
    "                'early_stopping_rounds' : trial.suggest_int('early_stopping_rounds', 10, 100),\n",
    "                'subsample' :trial.suggest_float('subsample', 0.1, 0.5)\n",
    "            }\n",
    "    boosting = Boosting(**cur_params, base_model_params=cur_tree_params)\n",
    "    boosting.fit(x_train, y_train, x_valid, y_valid)\n",
    "    accuracy = boosting.score(x_valid, y_valid)\n",
    "    return accuracy"
   ]
  },
  {
   "cell_type": "code",
   "execution_count": 75,
   "metadata": {
    "scrolled": true
   },
   "outputs": [
    {
     "name": "stderr",
     "output_type": "stream",
     "text": [
      "\u001b[32m[I 2021-12-18 21:27:23,767]\u001b[0m A new study created in memory with name: no-name-e2e707e9-99ce-4f20-aa78-795411009998\u001b[0m\n",
      "\u001b[32m[I 2021-12-18 21:27:24,998]\u001b[0m Trial 0 finished with value: 0.941434732322664 and parameters: {'colsample_bylevel': 0.08186017106129503, 'depth': 11, 'n_estimators': 51, 'boosting_type': 'Plain', 'learning_rate': 0.04992834621051676, 'bootstrap_type': 'Bernoulli', 'subsample': 0.5441805472585733}. Best is trial 0 with value: 0.941434732322664.\u001b[0m\n",
      "\u001b[32m[I 2021-12-18 21:27:29,444]\u001b[0m Trial 1 finished with value: 0.9340390937978167 and parameters: {'colsample_bylevel': 0.036684583795774446, 'depth': 10, 'n_estimators': 57, 'boosting_type': 'Ordered', 'learning_rate': 0.0440666682820508, 'bootstrap_type': 'Bernoulli', 'subsample': 0.7682380580959406}. Best is trial 0 with value: 0.941434732322664.\u001b[0m\n",
      "\u001b[32m[I 2021-12-18 21:27:30,553]\u001b[0m Trial 2 finished with value: 0.929477432347328 and parameters: {'colsample_bylevel': 0.030760804466207103, 'depth': 9, 'n_estimators': 83, 'boosting_type': 'Plain', 'learning_rate': 0.014408800236589742, 'bootstrap_type': 'MVS'}. Best is trial 0 with value: 0.941434732322664.\u001b[0m\n",
      "\u001b[32m[I 2021-12-18 21:27:33,559]\u001b[0m Trial 3 finished with value: 0.9351573593607447 and parameters: {'colsample_bylevel': 0.09886795982525798, 'depth': 12, 'n_estimators': 67, 'boosting_type': 'Plain', 'learning_rate': 0.01002119596144796, 'bootstrap_type': 'MVS'}. Best is trial 0 with value: 0.941434732322664.\u001b[0m\n",
      "\u001b[32m[I 2021-12-18 21:27:34,661]\u001b[0m Trial 4 finished with value: 0.9287774188579004 and parameters: {'colsample_bylevel': 0.07690280975632492, 'depth': 9, 'n_estimators': 90, 'boosting_type': 'Plain', 'learning_rate': 0.00627942667244088, 'bootstrap_type': 'Bernoulli', 'subsample': 0.7745369227513537}. Best is trial 0 with value: 0.941434732322664.\u001b[0m\n",
      "\u001b[32m[I 2021-12-18 21:27:37,680]\u001b[0m Trial 5 finished with value: 0.9386195127363343 and parameters: {'colsample_bylevel': 0.08741764957785984, 'depth': 11, 'n_estimators': 80, 'boosting_type': 'Plain', 'learning_rate': 0.020442759587308852, 'bootstrap_type': 'Bernoulli', 'subsample': 0.5204142633843732}. Best is trial 0 with value: 0.941434732322664.\u001b[0m\n",
      "\u001b[32m[I 2021-12-18 21:27:38,355]\u001b[0m Trial 6 finished with value: 0.9277110357086699 and parameters: {'colsample_bylevel': 0.03960876109321019, 'depth': 9, 'n_estimators': 72, 'boosting_type': 'Plain', 'learning_rate': 0.023214874118895248, 'bootstrap_type': 'Bernoulli', 'subsample': 0.4996847788834067}. Best is trial 0 with value: 0.941434732322664.\u001b[0m\n",
      "\u001b[32m[I 2021-12-18 21:27:45,310]\u001b[0m Trial 7 finished with value: 0.9293078167640858 and parameters: {'colsample_bylevel': 0.07576168790678946, 'depth': 11, 'n_estimators': 55, 'boosting_type': 'Ordered', 'learning_rate': 0.009781663517194268, 'bootstrap_type': 'MVS'}. Best is trial 0 with value: 0.941434732322664.\u001b[0m\n",
      "\u001b[32m[I 2021-12-18 21:27:46,863]\u001b[0m Trial 8 finished with value: 0.9355528629913166 and parameters: {'colsample_bylevel': 0.09431979672813776, 'depth': 11, 'n_estimators': 74, 'boosting_type': 'Plain', 'learning_rate': 0.012545722104945069, 'bootstrap_type': 'MVS'}. Best is trial 0 with value: 0.941434732322664.\u001b[0m\n",
      "\u001b[32m[I 2021-12-18 21:27:47,570]\u001b[0m Trial 9 finished with value: 0.9237033187982755 and parameters: {'colsample_bylevel': 0.06564292834952583, 'depth': 9, 'n_estimators': 79, 'boosting_type': 'Plain', 'learning_rate': 0.0053237846583688905, 'bootstrap_type': 'MVS'}. Best is trial 0 with value: 0.941434732322664.\u001b[0m\n",
      "\u001b[32m[I 2021-12-18 21:27:50,850]\u001b[0m Trial 10 finished with value: 0.9211451167074942 and parameters: {'colsample_bylevel': 0.013363105371749874, 'depth': 12, 'n_estimators': 50, 'boosting_type': 'Ordered', 'learning_rate': 0.04983504972665051, 'bootstrap_type': 'Bernoulli', 'subsample': 0.19162532328275123}. Best is trial 0 with value: 0.941434732322664.\u001b[0m\n",
      "\u001b[32m[I 2021-12-18 21:27:52,601]\u001b[0m Trial 11 finished with value: 0.9365382297560809 and parameters: {'colsample_bylevel': 0.08450577375988512, 'depth': 11, 'n_estimators': 65, 'boosting_type': 'Plain', 'learning_rate': 0.025931639973388487, 'bootstrap_type': 'Bernoulli', 'subsample': 0.44482077489254307}. Best is trial 0 with value: 0.941434732322664.\u001b[0m\n",
      "\u001b[32m[I 2021-12-18 21:27:54,037]\u001b[0m Trial 12 finished with value: 0.9364077255308569 and parameters: {'colsample_bylevel': 0.05491149586934236, 'depth': 10, 'n_estimators': 83, 'boosting_type': 'Plain', 'learning_rate': 0.02998569418644536, 'bootstrap_type': 'Bernoulli', 'subsample': 0.4065975076420252}. Best is trial 0 with value: 0.941434732322664.\u001b[0m\n",
      "\u001b[32m[I 2021-12-18 21:27:55,731]\u001b[0m Trial 13 finished with value: 0.9338148021324472 and parameters: {'colsample_bylevel': 0.06000945423867492, 'depth': 11, 'n_estimators': 62, 'boosting_type': 'Plain', 'learning_rate': 0.019232750265337214, 'bootstrap_type': 'Bernoulli', 'subsample': 0.6459758593124039}. Best is trial 0 with value: 0.941434732322664.\u001b[0m\n",
      "\u001b[32m[I 2021-12-18 21:28:14,614]\u001b[0m Trial 14 finished with value: 0.9415357034816294 and parameters: {'colsample_bylevel': 0.08554202282129462, 'depth': 12, 'n_estimators': 76, 'boosting_type': 'Ordered', 'learning_rate': 0.03443968764789607, 'bootstrap_type': 'Bernoulli', 'subsample': 0.28625076397920585}. Best is trial 14 with value: 0.9415357034816294.\u001b[0m\n",
      "\u001b[32m[I 2021-12-18 21:28:32,790]\u001b[0m Trial 15 finished with value: 0.9405423548070653 and parameters: {'colsample_bylevel': 0.07226280384380775, 'depth': 12, 'n_estimators': 75, 'boosting_type': 'Ordered', 'learning_rate': 0.033328948186395764, 'bootstrap_type': 'Bernoulli', 'subsample': 0.9885925665333538}. Best is trial 14 with value: 0.9415357034816294.\u001b[0m\n",
      "\u001b[32m[I 2021-12-18 21:28:44,516]\u001b[0m Trial 16 finished with value: 0.9352962445912583 and parameters: {'colsample_bylevel': 0.04735066890043724, 'depth': 12, 'n_estimators': 50, 'boosting_type': 'Ordered', 'learning_rate': 0.038676132240288395, 'bootstrap_type': 'Bernoulli', 'subsample': 0.2217310660473993}. Best is trial 14 with value: 0.9415357034816294.\u001b[0m\n",
      "\u001b[32m[I 2021-12-18 21:28:49,129]\u001b[0m Trial 17 finished with value: 0.9384906048930703 and parameters: {'colsample_bylevel': 0.08491333792802633, 'depth': 10, 'n_estimators': 61, 'boosting_type': 'Ordered', 'learning_rate': 0.03518473875529807, 'bootstrap_type': 'Bernoulli', 'subsample': 0.34449913858478565}. Best is trial 14 with value: 0.9415357034816294.\u001b[0m\n",
      "\u001b[32m[I 2021-12-18 21:29:09,726]\u001b[0m Trial 18 finished with value: 0.9412176243761141 and parameters: {'colsample_bylevel': 0.06746886128469338, 'depth': 12, 'n_estimators': 88, 'boosting_type': 'Ordered', 'learning_rate': 0.04712915237186411, 'bootstrap_type': 'Bernoulli', 'subsample': 0.10150708704776773}. Best is trial 14 with value: 0.9415357034816294.\u001b[0m\n",
      "\u001b[32m[I 2021-12-18 21:29:26,999]\u001b[0m Trial 19 finished with value: 0.9401113316778853 and parameters: {'colsample_bylevel': 0.09204848739729077, 'depth': 12, 'n_estimators': 67, 'boosting_type': 'Ordered', 'learning_rate': 0.028349890144536077, 'bootstrap_type': 'Bernoulli', 'subsample': 0.6414068918228909}. Best is trial 14 with value: 0.9415357034816294.\u001b[0m\n",
      "\u001b[32m[I 2021-12-18 21:29:36,170]\u001b[0m Trial 20 finished with value: 0.9400351044392988 and parameters: {'colsample_bylevel': 0.07964173614249093, 'depth': 11, 'n_estimators': 70, 'boosting_type': 'Ordered', 'learning_rate': 0.038184570970246384, 'bootstrap_type': 'Bernoulli', 'subsample': 0.2685928815750745}. Best is trial 14 with value: 0.9415357034816294.\u001b[0m\n",
      "\u001b[32m[I 2021-12-18 21:29:52,815]\u001b[0m Trial 21 finished with value: 0.9412695067898116 and parameters: {'colsample_bylevel': 0.06544040432756801, 'depth': 12, 'n_estimators': 90, 'boosting_type': 'Ordered', 'learning_rate': 0.0457391628672622, 'bootstrap_type': 'Bernoulli', 'subsample': 0.1444256700074643}. Best is trial 14 with value: 0.9415357034816294.\u001b[0m\n",
      "\u001b[32m[I 2021-12-18 21:30:13,352]\u001b[0m Trial 22 finished with value: 0.9409725797452654 and parameters: {'colsample_bylevel': 0.05907948744860325, 'depth': 12, 'n_estimators': 87, 'boosting_type': 'Ordered', 'learning_rate': 0.04762216120159777, 'bootstrap_type': 'Bernoulli', 'subsample': 0.10172881357337851}. Best is trial 14 with value: 0.9415357034816294.\u001b[0m\n"
     ]
    },
    {
     "name": "stderr",
     "output_type": "stream",
     "text": [
      "\u001b[32m[I 2021-12-18 21:30:34,200]\u001b[0m Trial 23 finished with value: 0.9410663671854109 and parameters: {'colsample_bylevel': 0.06964369821384082, 'depth': 12, 'n_estimators': 78, 'boosting_type': 'Ordered', 'learning_rate': 0.039695506228992206, 'bootstrap_type': 'Bernoulli', 'subsample': 0.32241245239340016}. Best is trial 14 with value: 0.9415357034816294.\u001b[0m\n",
      "\u001b[32m[I 2021-12-18 21:30:45,539]\u001b[0m Trial 24 finished with value: 0.9397565357872917 and parameters: {'colsample_bylevel': 0.09987409562608535, 'depth': 11, 'n_estimators': 84, 'boosting_type': 'Ordered', 'learning_rate': 0.029982431811295847, 'bootstrap_type': 'Bernoulli', 'subsample': 0.17910003685259343}. Best is trial 14 with value: 0.9415357034816294.\u001b[0m\n",
      "\u001b[32m[I 2021-12-18 21:30:58,279]\u001b[0m Trial 25 finished with value: 0.9393159343663522 and parameters: {'colsample_bylevel': 0.08087716383327144, 'depth': 12, 'n_estimators': 55, 'boosting_type': 'Ordered', 'learning_rate': 0.0340596921995016, 'bootstrap_type': 'Bernoulli', 'subsample': 0.34381228091923344}. Best is trial 14 with value: 0.9415357034816294.\u001b[0m\n",
      "\u001b[32m[I 2021-12-18 21:31:04,544]\u001b[0m Trial 26 finished with value: 0.9385492719300976 and parameters: {'colsample_bylevel': 0.09099995650712803, 'depth': 10, 'n_estimators': 77, 'boosting_type': 'Ordered', 'learning_rate': 0.02460986444025854, 'bootstrap_type': 'MVS'}. Best is trial 14 with value: 0.9415357034816294.\u001b[0m\n",
      "\u001b[32m[I 2021-12-18 21:31:13,553]\u001b[0m Trial 27 finished with value: 0.9391894210960279 and parameters: {'colsample_bylevel': 0.05338566096047075, 'depth': 11, 'n_estimators': 70, 'boosting_type': 'Ordered', 'learning_rate': 0.0429482272423818, 'bootstrap_type': 'Bernoulli', 'subsample': 0.5928500702831371}. Best is trial 14 with value: 0.9415357034816294.\u001b[0m\n",
      "\u001b[32m[I 2021-12-18 21:31:16,003]\u001b[0m Trial 28 finished with value: 0.9315746791471808 and parameters: {'colsample_bylevel': 0.06088179040657855, 'depth': 12, 'n_estimators': 59, 'boosting_type': 'Plain', 'learning_rate': 0.0173275119311511, 'bootstrap_type': 'Bernoulli', 'subsample': 0.7559187794295796}. Best is trial 14 with value: 0.9415357034816294.\u001b[0m\n",
      "\u001b[32m[I 2021-12-18 21:31:22,782]\u001b[0m Trial 29 finished with value: 0.9387496178660683 and parameters: {'colsample_bylevel': 0.0441549371090102, 'depth': 10, 'n_estimators': 86, 'boosting_type': 'Ordered', 'learning_rate': 0.04509840123713135, 'bootstrap_type': 'Bernoulli', 'subsample': 0.27238569733493073}. Best is trial 14 with value: 0.9415357034816294.\u001b[0m\n",
      "\u001b[32m[I 2021-12-18 21:31:22,788]\u001b[0m A new study created in memory with name: no-name-acee9f1c-c031-41ab-9c39-beeedafba75f\u001b[0m\n"
     ]
    },
    {
     "name": "stdout",
     "output_type": "stream",
     "text": [
      "Study statistics for: <function standard_catboost at 0x7fc1183fa5f0>\n",
      "  Number of finished trials:  30\n",
      "  Number of pruned trials:  0\n",
      "  Number of complete trials:  30\n",
      "Best trial:\n",
      "  Value:  0.9415357034816294\n",
      "  Params: \n",
      "    colsample_bylevel: 0.08554202282129462\n",
      "    depth: 12\n",
      "    n_estimators: 76\n",
      "    boosting_type: Ordered\n",
      "    learning_rate: 0.03443968764789607\n",
      "    bootstrap_type: Bernoulli\n",
      "    subsample: 0.28625076397920585\n"
     ]
    },
    {
     "name": "stderr",
     "output_type": "stream",
     "text": [
      "\u001b[32m[I 2021-12-18 21:31:40,929]\u001b[0m Trial 0 finished with value: 0.9378716077881091 and parameters: {'max_depth': 14, 'min_samples_leaf': 2, 'learning_rate': 0.05409634833584888, 'n_estimators': 68, 'early_stopping_rounds': 56, 'subsample': 0.3651706764212771}. Best is trial 0 with value: 0.9378716077881091.\u001b[0m\n",
      "\u001b[32m[I 2021-12-18 21:31:57,287]\u001b[0m Trial 1 finished with value: 0.9384662600681815 and parameters: {'max_depth': 15, 'min_samples_leaf': 2, 'learning_rate': 0.06222768124346504, 'n_estimators': 73, 'early_stopping_rounds': 26, 'subsample': 0.20574709769486407}. Best is trial 1 with value: 0.9384662600681815.\u001b[0m\n",
      "\u001b[32m[I 2021-12-18 21:32:16,185]\u001b[0m Trial 2 finished with value: 0.9380332414615516 and parameters: {'max_depth': 14, 'min_samples_leaf': 1, 'learning_rate': 0.08404334790958301, 'n_estimators': 80, 'early_stopping_rounds': 84, 'subsample': 0.21048038568443644}. Best is trial 1 with value: 0.9384662600681815.\u001b[0m\n",
      "\u001b[32m[I 2021-12-18 21:32:27,149]\u001b[0m Trial 3 finished with value: 0.9384415161478027 and parameters: {'max_depth': 11, 'min_samples_leaf': 1, 'learning_rate': 0.01148391351381262, 'n_estimators': 64, 'early_stopping_rounds': 21, 'subsample': 0.10093409965978242}. Best is trial 1 with value: 0.9384662600681815.\u001b[0m\n",
      "\u001b[32m[I 2021-12-18 21:32:38,180]\u001b[0m Trial 4 finished with value: 0.9388956868154016 and parameters: {'max_depth': 10, 'min_samples_leaf': 1, 'learning_rate': 0.05251016946068276, 'n_estimators': 65, 'early_stopping_rounds': 54, 'subsample': 0.14070217341005808}. Best is trial 4 with value: 0.9388956868154016.\u001b[0m\n",
      "\u001b[32m[I 2021-12-18 21:32:51,919]\u001b[0m Trial 5 finished with value: 0.9388142713354454 and parameters: {'max_depth': 11, 'min_samples_leaf': 2, 'learning_rate': 0.03563911426502442, 'n_estimators': 66, 'early_stopping_rounds': 25, 'subsample': 0.34939572354350956}. Best is trial 4 with value: 0.9388956868154016.\u001b[0m\n",
      "\u001b[32m[I 2021-12-18 21:33:09,394]\u001b[0m Trial 6 finished with value: 0.938239573829872 and parameters: {'max_depth': 11, 'min_samples_leaf': 1, 'learning_rate': 0.09728751653060716, 'n_estimators': 76, 'early_stopping_rounds': 93, 'subsample': 0.478626710439942}. Best is trial 4 with value: 0.9388956868154016.\u001b[0m\n",
      "\u001b[32m[I 2021-12-18 21:33:21,401]\u001b[0m Trial 7 finished with value: 0.9382204172463529 and parameters: {'max_depth': 14, 'min_samples_leaf': 2, 'learning_rate': 0.04360539217536639, 'n_estimators': 62, 'early_stopping_rounds': 21, 'subsample': 0.14296053105159398}. Best is trial 4 with value: 0.9388956868154016.\u001b[0m\n",
      "\u001b[32m[I 2021-12-18 21:33:39,585]\u001b[0m Trial 8 finished with value: 0.9369824230364301 and parameters: {'max_depth': 15, 'min_samples_leaf': 2, 'learning_rate': 0.03946288977045665, 'n_estimators': 76, 'early_stopping_rounds': 100, 'subsample': 0.27553674091718294}. Best is trial 4 with value: 0.9388956868154016.\u001b[0m\n",
      "\u001b[32m[I 2021-12-18 21:33:54,916]\u001b[0m Trial 9 finished with value: 0.9369644637393812 and parameters: {'max_depth': 15, 'min_samples_leaf': 2, 'learning_rate': 0.06766575305038389, 'n_estimators': 63, 'early_stopping_rounds': 28, 'subsample': 0.3633116282798857}. Best is trial 4 with value: 0.9388956868154016.\u001b[0m\n",
      "\u001b[32m[I 2021-12-18 21:34:02,773]\u001b[0m Trial 10 finished with value: 0.9373755320940621 and parameters: {'max_depth': 9, 'min_samples_leaf': 1, 'learning_rate': 0.017950118927082613, 'n_estimators': 53, 'early_stopping_rounds': 58, 'subsample': 0.20284847127517885}. Best is trial 4 with value: 0.9388956868154016.\u001b[0m\n",
      "\u001b[32m[I 2021-12-18 21:34:13,347]\u001b[0m Trial 11 finished with value: 0.9391786455177985 and parameters: {'max_depth': 9, 'min_samples_leaf': 1, 'learning_rate': 0.03129592947994451, 'n_estimators': 57, 'early_stopping_rounds': 42, 'subsample': 0.3485816089037316}. Best is trial 11 with value: 0.9391786455177985.\u001b[0m\n",
      "\u001b[32m[I 2021-12-18 21:34:24,247]\u001b[0m Trial 12 finished with value: 0.9374417819453988 and parameters: {'max_depth': 9, 'min_samples_leaf': 1, 'learning_rate': 0.02681887990730843, 'n_estimators': 55, 'early_stopping_rounds': 44, 'subsample': 0.49206052895074825}. Best is trial 11 with value: 0.9391786455177985.\u001b[0m\n",
      "\u001b[32m[I 2021-12-18 21:34:33,323]\u001b[0m Trial 13 finished with value: 0.9374868797357667 and parameters: {'max_depth': 10, 'min_samples_leaf': 1, 'learning_rate': 0.051573084756927776, 'n_estimators': 57, 'early_stopping_rounds': 71, 'subsample': 0.29042711138234}. Best is trial 11 with value: 0.9391786455177985.\u001b[0m\n",
      "\u001b[32m[I 2021-12-18 21:34:42,133]\u001b[0m Trial 14 finished with value: 0.9381014867903383 and parameters: {'max_depth': 10, 'min_samples_leaf': 1, 'learning_rate': 0.073049318965806, 'n_estimators': 50, 'early_stopping_rounds': 42, 'subsample': 0.440526585512791}. Best is trial 11 with value: 0.9391786455177985.\u001b[0m\n",
      "\u001b[32m[I 2021-12-18 21:34:55,116]\u001b[0m Trial 15 finished with value: 0.9362245407009554 and parameters: {'max_depth': 12, 'min_samples_leaf': 1, 'learning_rate': 0.02759773157230572, 'n_estimators': 59, 'early_stopping_rounds': 41, 'subsample': 0.4108190119650543}. Best is trial 11 with value: 0.9391786455177985.\u001b[0m\n",
      "\u001b[32m[I 2021-12-18 21:35:05,455]\u001b[0m Trial 16 finished with value: 0.9401715950968724 and parameters: {'max_depth': 9, 'min_samples_leaf': 1, 'learning_rate': 0.04820857286394962, 'n_estimators': 69, 'early_stopping_rounds': 66, 'subsample': 0.2496412337391515}. Best is trial 16 with value: 0.9401715950968724.\u001b[0m\n",
      "\u001b[32m[I 2021-12-18 21:35:16,682]\u001b[0m Trial 17 finished with value: 0.9376660736107686 and parameters: {'max_depth': 9, 'min_samples_leaf': 1, 'learning_rate': 0.0278726249866177, 'n_estimators': 70, 'early_stopping_rounds': 75, 'subsample': 0.25591364257495747}. Best is trial 16 with value: 0.9401715950968724.\u001b[0m\n",
      "\u001b[32m[I 2021-12-18 21:35:30,566]\u001b[0m Trial 18 finished with value: 0.9379262838702365 and parameters: {'max_depth': 12, 'min_samples_leaf': 1, 'learning_rate': 0.042577418137999895, 'n_estimators': 60, 'early_stopping_rounds': 68, 'subsample': 0.3243461914953587}. Best is trial 16 with value: 0.9401715950968724.\u001b[0m\n",
      "\u001b[32m[I 2021-12-18 21:35:45,696]\u001b[0m Trial 19 finished with value: 0.9385073669036496 and parameters: {'max_depth': 13, 'min_samples_leaf': 1, 'learning_rate': 0.017130487009868384, 'n_estimators': 70, 'early_stopping_rounds': 34, 'subsample': 0.24746930623918312}. Best is trial 16 with value: 0.9401715950968724.\u001b[0m\n",
      "\u001b[32m[I 2021-12-18 21:35:54,913]\u001b[0m Trial 20 finished with value: 0.9385740158504765 and parameters: {'max_depth': 10, 'min_samples_leaf': 1, 'learning_rate': 0.08094733223807374, 'n_estimators': 50, 'early_stopping_rounds': 10, 'subsample': 0.3949970434486941}. Best is trial 16 with value: 0.9401715950968724.\u001b[0m\n",
      "\u001b[32m[I 2021-12-18 21:36:05,469]\u001b[0m Trial 21 finished with value: 0.9375591160194536 and parameters: {'max_depth': 9, 'min_samples_leaf': 1, 'learning_rate': 0.049154003672808685, 'n_estimators': 67, 'early_stopping_rounds': 61, 'subsample': 0.16365335374568185}. Best is trial 16 with value: 0.9401715950968724.\u001b[0m\n",
      "\u001b[32m[I 2021-12-18 21:36:17,171]\u001b[0m Trial 22 finished with value: 0.9389782995818279 and parameters: {'max_depth': 10, 'min_samples_leaf': 1, 'learning_rate': 0.057681871643574745, 'n_estimators': 71, 'early_stopping_rounds': 52, 'subsample': 0.1000676074819803}. Best is trial 16 with value: 0.9401715950968724.\u001b[0m\n",
      "\u001b[32m[I 2021-12-18 21:36:30,364]\u001b[0m Trial 23 finished with value: 0.9388346252054344 and parameters: {'max_depth': 9, 'min_samples_leaf': 1, 'learning_rate': 0.06099059750858852, 'n_estimators': 72, 'early_stopping_rounds': 47, 'subsample': 0.31629357309992256}. Best is trial 16 with value: 0.9401715950968724.\u001b[0m\n",
      "\u001b[32m[I 2021-12-18 21:36:43,201]\u001b[0m Trial 24 finished with value: 0.9404090569134114 and parameters: {'max_depth': 10, 'min_samples_leaf': 1, 'learning_rate': 0.034137407391499085, 'n_estimators': 75, 'early_stopping_rounds': 65, 'subsample': 0.1149243288291223}. Best is trial 24 with value: 0.9404090569134114.\u001b[0m\n",
      "\u001b[32m[I 2021-12-18 21:36:57,870]\u001b[0m Trial 25 finished with value: 0.937936261257486 and parameters: {'max_depth': 9, 'min_samples_leaf': 1, 'learning_rate': 0.03298675496799378, 'n_estimators': 75, 'early_stopping_rounds': 79, 'subsample': 0.23156035845046458}. Best is trial 24 with value: 0.9404090569134114.\u001b[0m\n"
     ]
    },
    {
     "name": "stderr",
     "output_type": "stream",
     "text": [
      "\u001b[32m[I 2021-12-18 21:37:14,934]\u001b[0m Trial 26 finished with value: 0.9412806814635309 and parameters: {'max_depth': 11, 'min_samples_leaf': 1, 'learning_rate': 0.021320422768071896, 'n_estimators': 79, 'early_stopping_rounds': 65, 'subsample': 0.17773310027280295}. Best is trial 26 with value: 0.9412806814635309.\u001b[0m\n",
      "\u001b[32m[I 2021-12-18 21:37:33,889]\u001b[0m Trial 27 finished with value: 0.9386638123357223 and parameters: {'max_depth': 12, 'min_samples_leaf': 1, 'learning_rate': 0.022362101393891706, 'n_estimators': 79, 'early_stopping_rounds': 63, 'subsample': 0.16766072893572492}. Best is trial 26 with value: 0.9412806814635309.\u001b[0m\n",
      "\u001b[32m[I 2021-12-18 21:37:52,045]\u001b[0m Trial 28 finished with value: 0.9405575204356845 and parameters: {'max_depth': 11, 'min_samples_leaf': 1, 'learning_rate': 0.046210329634830766, 'n_estimators': 78, 'early_stopping_rounds': 86, 'subsample': 0.17090618912806466}. Best is trial 26 with value: 0.9412806814635309.\u001b[0m\n",
      "\u001b[32m[I 2021-12-18 21:38:08,500]\u001b[0m Trial 29 finished with value: 0.9383393477023673 and parameters: {'max_depth': 11, 'min_samples_leaf': 2, 'learning_rate': 0.013517201598157735, 'n_estimators': 78, 'early_stopping_rounds': 87, 'subsample': 0.12798248473654197}. Best is trial 26 with value: 0.9412806814635309.\u001b[0m\n"
     ]
    },
    {
     "name": "stdout",
     "output_type": "stream",
     "text": [
      "Study statistics for: <function my_boost at 0x7fc133303e60>\n",
      "  Number of finished trials:  30\n",
      "  Number of pruned trials:  0\n",
      "  Number of complete trials:  30\n",
      "Best trial:\n",
      "  Value:  0.9412806814635309\n",
      "  Params: \n",
      "    max_depth: 11\n",
      "    min_samples_leaf: 1\n",
      "    learning_rate: 0.021320422768071896\n",
      "    n_estimators: 79\n",
      "    early_stopping_rounds: 65\n",
      "    subsample: 0.17773310027280295\n"
     ]
    }
   ],
   "source": [
    "def optuns_run(objective):\n",
    "    study = optuna.create_study(direction=\"maximize\")\n",
    "    study.optimize(objective, n_trials=30, timeout=1000)\n",
    "\n",
    "    pruned_trials = study.get_trials(deepcopy=False, states=[TrialState.PRUNED])\n",
    "    complete_trials = study.get_trials(deepcopy=False, states=[TrialState.COMPLETE])\n",
    "\n",
    "    print(\"Study statistics for:\", objective)\n",
    "    print(\"  Number of finished trials: \", len(study.trials))\n",
    "    print(\"  Number of pruned trials: \", len(pruned_trials))\n",
    "    print(\"  Number of complete trials: \", len(complete_trials))\n",
    "\n",
    "    print(\"Best trial:\")\n",
    "    trial = study.best_trial\n",
    "\n",
    "    print(\"  Value: \", trial.value)\n",
    "\n",
    "    print(\"  Params: \")\n",
    "    for key, value in trial.params.items():\n",
    "        print(\"    {}: {}\".format(key, value))\n",
    "optuns_run(standard_catboost)\n",
    "optuns_run(my_boost)"
   ]
  },
  {
   "cell_type": "code",
   "execution_count": null,
   "metadata": {
    "scrolled": true
   },
   "outputs": [],
   "source": [
    "'''\n",
    "Results for CatBoosting acquired via Optuna \n",
    "\n",
    "Best trial:\n",
    "  Value:  0.9415357034816294\n",
    "  Params: \n",
    "    colsample_bylevel: 0.08554202282129462\n",
    "    depth: 12\n",
    "    n_estimators: 76\n",
    "    boosting_type: Ordered\n",
    "    learning_rate: 0.03443968764789607\n",
    "    bootstrap_type: Bernoulli\n",
    "    subsample: 0.28625076397920585\n",
    "'''\n",
    "\n",
    "'''\n",
    "Results for Boosting acquired via Optuna \n",
    "\n",
    "Best trial:\n",
    "  Value:  0.9412806814635309\n",
    "  Params: \n",
    "    max_depth: 11\n",
    "    min_samples_leaf: 1\n",
    "    learning_rate: 0.021320422768071896\n",
    "    n_estimators: 79\n",
    "    early_stopping_rounds: 65\n",
    "    subsample: 0.17773310027280295\n",
    "'''"
   ]
  },
  {
   "cell_type": "markdown",
   "metadata": {},
   "source": [
    "Видим, что для собственной реализации мы получили примерно такое же качество, тогда как для CatBoosting они снизились и стали более чем сопоставимы. Другой вопрос, что данные методы занимают гораздо больше времени, но и предлагают более комплексный анализ."
   ]
  },
  {
   "cell_type": "markdown",
   "metadata": {},
   "source": [
    "## Задание 6. Интерпретация бустингового (1 балл)\n",
    "\n",
    "Постройте калибровочную кривую для вашей лучшей модели бустинга (из тех, что используют вашу реализацию).\n",
    "Насколько хорошо бустинг оценивает вероятности? Постройте также калибровочную кривую для логистической регресии, сравните их между собой. Проанализируйте полученные результаты.\n",
    "\n",
    "Бустинг достаточно хорошо оценивает вероятности, что ясно видно на графике."
   ]
  },
  {
   "cell_type": "code",
   "execution_count": 154,
   "metadata": {},
   "outputs": [],
   "source": [
    "best_tree_my = {\n",
    "    'max_depth': 7,\n",
    "    'min_samples_leaf': 1\n",
    "}\n",
    "\n",
    "\n",
    "best_boost_my = {'learning_rate': 0.1,\n",
    "    'n_estimators': 100,\n",
    "    'early_stopping_rounds': 65,\n",
    "    'subsample': 0.17773310027280295}"
   ]
  },
  {
   "cell_type": "code",
   "execution_count": 111,
   "metadata": {},
   "outputs": [
    {
     "data": {
      "image/png": "[encoded data removed]",
      "text/plain": [
       "<Figure size 1296x576 with 1 Axes>"
      ]
     },
     "metadata": {},
     "output_type": "display_data"
    }
   ],
   "source": [
    "from sklearn.calibration import calibration_curve\n",
    "from sklearn.linear_model import LogisticRegression\n",
    "\n",
    "model_lr = LogisticRegression().fit(x_train, y_train)\n",
    "preds_lr = model_lr.predict_proba(x_test)[:, 1]\n",
    "lr_true_prob, lr_pred_prob = calibration_curve(y_test, preds_lr, n_bins=15)\n",
    "\n",
    "\n",
    "model_gb = Boosting(**best_boost_my, base_model_params=best_tree_my)\n",
    "model_gb.fit(x_train, y_train, x_valid, y_valid)\n",
    "preds_gb = model_gb.predict_proba(x_test)[:, 1]\n",
    "gb_true_prob, gb_pred_prob = calibration_curve(y_test, preds_gb, n_bins=15)\n",
    "\n",
    "plt.figure(figsize=(18, 8))\n",
    "plt.title('Calibration curves')\n",
    "sns.lineplot(lr_pred_prob, lr_true_prob,label='Linear Regression')\n",
    "sns.lineplot(gb_pred_prob, gb_true_prob, label='Boosting')\n",
    "plt.plot([0, 1], [0, 1],'r--', label='Perfect')\n",
    "plt.legend()\n",
    "plt.xlabel('Mean predicted probability')\n",
    "plt.ylabel('Positive share')\n",
    "plt.show()"
   ]
  },
  {
   "cell_type": "markdown",
   "metadata": {},
   "source": [
    "Теперь попробуем оценить важность признаков для бустинга.\n",
    "\n",
    "Поскольку наша базовая модель - это дерево из `sklearn`, мы можем вычислить важность признака отдельно для каждого дерева и усреднить (воспользуйтесь `feature_importances_` у `DecisionTreeRegressor`), после этого нормировать значения, чтобы они суммировались в единицу (обратите внимание, что они должны быть неотрицательными - иначе вы что-то сделали не так).\n",
    "\n",
    "Допишите в вашей реализации бустинга функцию `feature_importances_` чтобы она возвращала описанные выше важности признаков.\n",
    "\n",
    "Нарисуйте столбчатую диаграмму важности признаков. На соседнем графике нарисуйте важность признаков для логистической регрессии, для этого используйте модули весов. Сравните графики. Проанализируйте полученные результаты."
   ]
  },
  {
   "cell_type": "code",
   "execution_count": 152,
   "metadata": {},
   "outputs": [
    {
     "data": {
      "image/png": "[encoded data removed]",
      "text/plain": [
       "<Figure size 1728x864 with 3 Axes>"
      ]
     },
     "metadata": {},
     "output_type": "display_data"
    }
   ],
   "source": [
    "fig = plt.figure(1, figsize=(24,12))\n",
    "\n",
    "ax = fig.add_subplot(2, 1, 1)\n",
    "\n",
    "ax.bar(range(1, x_train.shape[1] + 1), model_gb.feature_importances_, color='gray', alpha=0.8)\n",
    "ax.set_xlabel('Features')\n",
    "ax.set_ylabel('Importance, log')\n",
    "ax.set_title('Столбчатая диаграмма важности признаков для бустинга')\n",
    "ax.set_yscale('log')\n",
    "\n",
    "ax = fig.add_subplot(2, 2, 3)\n",
    "\n",
    "ax.bar(range(1, x_train.shape[1] + 1), model_gb.feature_importances_, color='gray', alpha=0.8)\n",
    "ax.set_xlabel('Features')\n",
    "ax.set_ylabel('Importance')\n",
    "ax.set_title('Столбчатая диаграмма важности признаков для бустинга')\n",
    "\n",
    "ax = fig.add_subplot(2, 2, 4)\n",
    "ax.bar(range(1, x_train.shape[1] + 1), np.abs(model_lr.coef_.reshape(-1)), color='gray', alpha=0.8)\n",
    "ax.set_xlabel('Features')\n",
    "ax.set_ylabel('Importance')\n",
    "ax.set_title('Столбчатая диаграмма важности признаков для логистической регрессии')\n",
    "\n",
    "plt.show()"
   ]
  },
  {
   "cell_type": "markdown",
   "metadata": {},
   "source": [
    "Кстати, чаще всего излишние признаки могут вредить качеству бустинга. Попробуйте отфильтровать на основании диаграммы хвост наименее важных признаков и снова обучить модель (с теми же гиперпараметрами). Стало ли лучше?"
   ]
  },
  {
   "cell_type": "code",
   "execution_count": 182,
   "metadata": {},
   "outputs": [
    {
     "name": "stdout",
     "output_type": "stream",
     "text": [
      "0.9373530796396918\n"
     ]
    }
   ],
   "source": [
    "indices = list(filter(lambda i: model_gb.feature_importances_[i] > 0.0005, range(x_train.shape[1])))\n",
    "model_gb_f = Boosting(**best_boost_my, base_model_params=best_tree_my)\n",
    "model_gb_f.fit(x_train[:, indices], y_train, x_valid[:, indices], y_valid)\n",
    "print(model_gb_f.score(x_test[:, indices], y_test))"
   ]
  },
  {
   "cell_type": "markdown",
   "metadata": {},
   "source": [
    "## Задание 7 (бонус). Блендинговое (1 балл)\n",
    "\n",
    "Реализуйте блендинг над вашими лучшими моделями (ваша реализация с лучшими гиперпараметрами + все модели из библиотек с лучшими гиперпараметрами). Улучшилось ли качество?"
   ]
  },
  {
   "cell_type": "code",
   "execution_count": 172,
   "metadata": {},
   "outputs": [],
   "source": [
    "catboost_best = {'min_data_in_leaf': 1,\n",
    " 'depth': 12,\n",
    " 'iterations': 70,\n",
    " 'learning_rate': 0.01,\n",
    " 'boosting_type': 'Plain'}\n",
    "\n",
    "level_0_model = [['my_boosting', Boosting(**best_boost_my, base_model_params=best_tree_my)],\n",
    "                 ['cat_boosting', CatBoostClassifier(**catboost_best, logging_level='Silent')]]"
   ]
  },
  {
   "cell_type": "code",
   "execution_count": 173,
   "metadata": {},
   "outputs": [],
   "source": [
    "def fit_ensemble(models, X_train, X_val, y_train, y_val):\n",
    "    meta_X = list()\n",
    "    for name, model in models:\n",
    "        \n",
    "        if name == 'my_boosting':\n",
    "            model.fit(X_train, y_train, X_val, y_val)\n",
    "        else:\n",
    "            model.fit(X_train, y_train)\n",
    "\n",
    "        yhat = model.predict_proba(X_val)[:, 1]\n",
    "        yhat = yhat.reshape(len(yhat), 1)\n",
    "        meta_X.append(yhat)\n",
    "        \n",
    "    meta_X = np.hstack(meta_X)\n",
    "    blender = LogisticRegression()\n",
    "    blender.fit(meta_X, y_val)\n",
    "    return blender"
   ]
  },
  {
   "cell_type": "code",
   "execution_count": 183,
   "metadata": {},
   "outputs": [],
   "source": [
    "def predict_ensemble(models, blender, X_test):\n",
    "    meta_X = list()\n",
    "    for name, model in models:\n",
    "        yhat = model.predict_proba(X_test)[:, 1]\n",
    "        yhat = yhat.reshape(len(yhat), 1)\n",
    "        meta_X.append(yhat)\n",
    "    meta_X = np.hstack(meta_X)\n",
    "    return blender.predict(meta_X)"
   ]
  },
  {
   "cell_type": "code",
   "execution_count": null,
   "metadata": {},
   "outputs": [],
   "source": [
    "blender = fit_ensemble(level_0_model, x_train, x_valid, y_train, y_valid)\n",
    "yhat = predict_ensemble(level_0_model, blender, x_test)\n",
    "score = roc_auc_score(y_test, yhat)"
   ]
  },
  {
   "cell_type": "code",
   "execution_count": 194,
   "metadata": {},
   "outputs": [
    {
     "name": "stdout",
     "output_type": "stream",
     "text": [
      "Blended\n",
      "ROC-AUC score on test for the Best combination is, 0.851994416829496\n"
     ]
    }
   ],
   "source": [
    "print('Blended')\n",
    "print('ROC-AUC score on test for the Best combination is,',score)"
   ]
  },
  {
   "cell_type": "markdown",
   "metadata": {},
   "source": [
    "### References\n",
    "\n",
    "1. https://machinelearningmastery.com/blending-ensemble-machine-learning-with-python/\n",
    "\n",
    "2. https://github.com/optuna/optuna-examples/blob/main/catboost/catboost_simple.py\n",
    "\n",
    "3. https://www.projectpro.io/recipes/find-optimal-parameters-for-catboost-using-gridsearchcv-for-regression\n",
    "\n",
    "4. https://catboost.ai/en/docs/concepts/python-reference_catboostclassifier_grid_search"
   ]
  },
  {
   "cell_type": "markdown",
   "metadata": {},
   "source": [
    "## Социализационный бонус. Новогоднее 🎆 (0.5 балла)\n",
    "\n",
    "Сфотографируйтесь с наряженной новогодней или рождественской ёлкой! Приложите фотографию, опишите свои впечатления, чего вы ждете от нового 2022 года?"
   ]
  },
  {
   "cell_type": "code",
   "execution_count": null,
   "metadata": {},
   "outputs": [],
   "source": []
  }
 ],
 "metadata": {
  "kernelspec": {
   "display_name": "Python 3",
   "language": "python",
   "name": "python3"
  },
  "language_info": {
   "codemirror_mode": {
    "name": "ipython",
    "version": 3
   },
   "file_extension": ".py",
   "mimetype": "text/x-python",
   "name": "python",
   "nbconvert_exporter": "python",
   "pygments_lexer": "ipython3",
   "version": "3.7.4"
  },
  "nbTranslate": {
   "displayLangs": [
    "*"
   ],
   "hotkey": "alt-t",
   "langInMainMenu": true,
   "sourceLang": "en",
   "targetLang": "fr",
   "useGoogleTranslate": true
  },
  "toc": {
   "base_numbering": 1,
   "nav_menu": {
    "height": "210px",
    "width": "492px"
   },
   "number_sections": false,
   "sideBar": true,
   "skip_h1_title": false,
   "title_cell": "Table of Contents",
   "title_sidebar": "Contents",
   "toc_cell": false,
   "toc_position": {},
   "toc_section_display": true,
   "toc_window_display": true
  },
  "varInspector": {
   "cols": {
    "lenName": 16,
    "lenType": 16,
    "lenVar": 40
   },
   "kernels_config": {
    "python": {
     "delete_cmd_postfix": "",
     "delete_cmd_prefix": "del ",
     "library": "var_list.py",
     "varRefreshCmd": "print(var_dic_list())"
    },
    "r": {
     "delete_cmd_postfix": ") ",
     "delete_cmd_prefix": "rm(",
     "library": "var_list.r",
     "varRefreshCmd": "cat(var_dic_list()) "
    }
   },
   "types_to_exclude": [
    "module",
    "function",
    "builtin_function_or_method",
    "instance",
    "_Feature"
   ],
   "window_display": false
  }
 },
 "nbformat": 4,
 "nbformat_minor": 4
}
