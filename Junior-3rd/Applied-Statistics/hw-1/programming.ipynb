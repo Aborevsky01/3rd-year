{
 "cells": [
  {
   "cell_type": "markdown",
   "metadata": {},
   "source": [
    "# Прикладная статистика в машинном обучении 2021-2022"
   ]
  },
  {
   "cell_type": "markdown",
   "metadata": {},
   "source": [
    "## Домашнее задание #1\n",
    "\n",
    "## Часть 2"
   ]
  },
  {
   "cell_type": "markdown",
   "metadata": {},
   "source": [
    "### Дедлайн: 29 октября 2021 года, 23:59"
   ]
  },
  {
   "cell_type": "markdown",
   "metadata": {},
   "source": [
    "**Правила игры**\n",
    "\n",
    "1. Домашнее задание состоит из двух частей. Часть 1 содержит 13 обязательных и две бонусных задачи и предполагает решение «от руки». Часть 2 содержит 3 обязательных задачи и предполагает программное решение.\n",
    "\n",
    "\n",
    "2. Домашнее задание оценивается в $80$ баллов. При этом часть 1 оценивается в $65$ баллов, а часть 2 – в $15$ баллов. По умолчанию за каждый пункт каждой задачи можно получить $1$ балл. Однако за некоторые пункты некоторых задач можно получить другое количество баллов, которое явно указано в скобках рядом с меткой пункта.\n",
    "\n",
    "\n",
    "3. Каждый пункт оценивается с промежутком $0.5$. Например, если за пункт можно получить максимум $1$ балл, то за полностью корректное решение ставится $1$ балл, за решение с небольшими ошибками ставится $0.5$ балла, за решение с серьёзными ошибками или неправильное решение ставится $0$ баллов. Для пунктов, за которые можно получить максимум $2$ балла, в зависимости от решения можно получить $2$, $1.5$, $1$ и т.д. баллов. При этом пункты проверяются независимо друг от друга: если пункт $t+1$ зависит от численных результатов пункта $t$, и в пункте $t$ допускается ошибка, из-за которой в пункт $t+1$ приходят неверные входные данные, то при корректном решении пункт $t+1$ оценивается в максимальное количество баллов, которое можно за него получить.\n",
    "\n",
    "\n",
    "4. Бонусные задачи $X$ и $Y$ приведены в конце части 1 и обозначены значком $\\dagger$. Эти задачи необязательны к решению и учитываются сверх установленных $80$ баллов. Баллы за корректно решённые бонусные задачи прибавляются к набранным баллам, даже если в сумме получается больше $80$ баллов (оценка за домашнюю работу в этом случае будет больше 10, и так и будет внесена в таблицу с оценками).\n",
    "\n",
    "\n",
    "5. Весь код должен быть написан на Python, R, C или C++.\n",
    "\n",
    "\n",
    "6. Решения принимаются до **29 октября 2021 года, 23:59 МСК** включительно. Работы, отправленные после дедлайна, проверяются, но **не оцениваются**. Дата и время сдачи определяются по последнему запушенному в репозиторий коммиту (можно увидеть на GitHub, наведя мышкой на указатель срока (например, 3 days ago) справа от файлов).\n",
    "\n",
    "\n",
    "7. Все решения нужно загрузить в личный репозиторий на [GitHub Classroom](https://classroom.github.com/a/KZaAKjaA).\n",
    "\n",
    "\n",
    "8. Репозиторий должен содержать: PDF-файл с решениями задач части 1 и файл с кодом с решениями задач части 2. Решение задач части 1 можно набрать в любом электронном редакторе или написать от руки, а затем сделать качественный скан. Все решения должны быть расположены в правильном порядке в одном файле. Файлы должны быть названы по типу «name\\_surname\\_group\\_hw1\\_part1.pdf» и «name\\_surname\\_group\\_hw1\\_part2.ext», где вместо ext может быть .py, .ipynb, .R, .c, .cpp. Если решение части 2 разбивается на несколько файлов кода, то в репозиторий нужно загрузить все файлы, а в README.md подробно указать, что содержит каждый файл. \n",
    "\n",
    "\n",
    "9. Разрешается использовать без доказательства любые результаты, встречавшиеся на лекциях или семинарах по курсу, если получение этих результатов не является вопросом задания. Разрешается использовать любые свободные источники с указанием ссылки на них.\n",
    "\n",
    "\n",
    "10. Плагиат не допускается. При обнаружении случаев списывания, $0$ за работу выставляется всем участникам нарушения, даже если можно установить, кто у кого списал. "
   ]
  },
  {
   "cell_type": "markdown",
   "metadata": {},
   "source": [
    "---"
   ]
  },
  {
   "cell_type": "markdown",
   "metadata": {},
   "source": [
    "#### Задача 14. Divide et impera!\n",
    "\n",
    "Файле `14.csv` содержит данные, которые являются смесью гауссиан. \n",
    "\n",
    "**[a]** Постройте гистограмму выборки. Изучите гистограмму и сделайте предположения о количестве гауссиан, а также задайте разумный вектор начальных параметров $\\theta$.\n",
    "\n",
    "**[б]** **(3 балла)** Реализуйте EM-алгоритм для нахождения оценки $\\hat{\\theta}$. Итоговые формулы представьте только в виде кода (то есть не требуется отдельно прикладывать или техать вывод формул).\n",
    "\n",
    "**[в]** Постройте график $Q$ в зависимости от числа итераций.\n",
    "\n",
    "**[г]** Являются ли полученные оценки параметров адекватными (адекватность оцените визуально по гистограмме). Если нет, приведите возможную причину провала EM-алгоритма. "
   ]
  },
  {
   "cell_type": "code",
   "execution_count": 3,
   "metadata": {},
   "outputs": [
    {
     "data": {
      "text/html": [
       "<div>\n",
       "<style scoped>\n",
       "    .dataframe tbody tr th:only-of-type {\n",
       "        vertical-align: middle;\n",
       "    }\n",
       "\n",
       "    .dataframe tbody tr th {\n",
       "        vertical-align: top;\n",
       "    }\n",
       "\n",
       "    .dataframe thead th {\n",
       "        text-align: right;\n",
       "    }\n",
       "</style>\n",
       "<table border=\"1\" class=\"dataframe\">\n",
       "  <thead>\n",
       "    <tr style=\"text-align: right;\">\n",
       "      <th></th>\n",
       "      <th>Unnamed: 0</th>\n",
       "      <th>X</th>\n",
       "    </tr>\n",
       "  </thead>\n",
       "  <tbody>\n",
       "    <tr>\n",
       "      <th>0</th>\n",
       "      <td>0</td>\n",
       "      <td>25.000141</td>\n",
       "    </tr>\n",
       "    <tr>\n",
       "      <th>1</th>\n",
       "      <td>1</td>\n",
       "      <td>2.996731</td>\n",
       "    </tr>\n",
       "    <tr>\n",
       "      <th>2</th>\n",
       "      <td>2</td>\n",
       "      <td>-0.673019</td>\n",
       "    </tr>\n",
       "    <tr>\n",
       "      <th>3</th>\n",
       "      <td>3</td>\n",
       "      <td>2.998876</td>\n",
       "    </tr>\n",
       "    <tr>\n",
       "      <th>4</th>\n",
       "      <td>4</td>\n",
       "      <td>25.000178</td>\n",
       "    </tr>\n",
       "  </tbody>\n",
       "</table>\n",
       "</div>"
      ],
      "text/plain": [
       "   Unnamed: 0          X\n",
       "0           0  25.000141\n",
       "1           1   2.996731\n",
       "2           2  -0.673019\n",
       "3           3   2.998876\n",
       "4           4  25.000178"
      ]
     },
     "execution_count": 3,
     "metadata": {},
     "output_type": "execute_result"
    }
   ],
   "source": [
    "import numpy as np\n",
    "import matplotlib.pyplot as plt\n",
    "import pandas as pd\n",
    "\n",
    "\n",
    "df = pd.read_csv('/Users/andreyborevskiy/Yandex.Disk.localized/Документы/LaTeX/PSMO/14.csv')\n",
    "df.head()"
   ]
  },
  {
   "cell_type": "code",
   "execution_count": 4,
   "metadata": {},
   "outputs": [
    {
     "name": "stderr",
     "output_type": "stream",
     "text": [
      "/Users/andreyborevskiy/opt/anaconda3/lib/python3.7/site-packages/seaborn/distributions.py:2619: FutureWarning: `distplot` is a deprecated function and will be removed in a future version. Please adapt your code to use either `displot` (a figure-level function with similar flexibility) or `histplot` (an axes-level function for histograms).\n",
      "  warnings.warn(msg, FutureWarning)\n",
      "/Users/andreyborevskiy/opt/anaconda3/lib/python3.7/site-packages/matplotlib/cbook/__init__.py:1402: FutureWarning: Support for multi-dimensional indexing (e.g. `obj[:, None]`) is deprecated and will be removed in a future version.  Convert to a numpy array before indexing instead.\n",
      "  x[:, None]\n",
      "/Users/andreyborevskiy/opt/anaconda3/lib/python3.7/site-packages/matplotlib/axes/_base.py:276: FutureWarning: Support for multi-dimensional indexing (e.g. `obj[:, None]`) is deprecated and will be removed in a future version.  Convert to a numpy array before indexing instead.\n",
      "  x = x[:, np.newaxis]\n",
      "/Users/andreyborevskiy/opt/anaconda3/lib/python3.7/site-packages/matplotlib/axes/_base.py:278: FutureWarning: Support for multi-dimensional indexing (e.g. `obj[:, None]`) is deprecated and will be removed in a future version.  Convert to a numpy array before indexing instead.\n",
      "  y = y[:, np.newaxis]\n"
     ]
    },
    {
     "data": {
      "image/png": "[encoded data removed]",
      "text/plain": [
       "<Figure size 432x288 with 1 Axes>"
      ]
     },
     "metadata": {
      "needs_background": "light"
     },
     "output_type": "display_data"
    }
   ],
   "source": [
    "import seaborn as sns\n",
    "sns.distplot(df['X'])\n",
    "plt.show()"
   ]
  },
  {
   "cell_type": "code",
   "execution_count": 7,
   "metadata": {},
   "outputs": [],
   "source": [
    "# Реализация взята из сборника с теорией\n",
    "def f(x, mu, sigma2):\n",
    "    return 1 / np.sqrt(2 * np.pi * sigma2) * np.exp(-1/2 * 1/sigma2 * (x - mu)**2)\n",
    "\n",
    "def lnf(x, mu, sigma2):\n",
    "    return -1/2 * np.log(2 * np.pi * sigma2) - 1/2 * (x - mu) ** 2 / sigma2\n",
    "\n",
    "def Q_f(x, theta, p_z_1):\n",
    "    ell1 = lnf(x, theta[0], theta[1]) + np.log(theta[4])\n",
    "    ell2 = lnf(x, theta[2], theta[3]) + np.log(1 - theta[4])\n",
    "    return np.sum(p_z_1 * ell1 + (1 - p_z_1) * ell2)\n",
    "\n",
    "def EM(x, theta):\n",
    "    \n",
    "    Q_history = []\n",
    "    \n",
    "    for i in range(1000):\n",
    "        \n",
    "        # E-step\n",
    "        p_z_1 =  f(x, mu = theta[0], sigma2 = theta[1]) * theta[4] / (theta[4] * f(x, mu = theta[0], sigma2 = theta[1]) +  (1-theta[4]) * f(x, mu = theta[2], sigma2 = theta[3]))\n",
    "        \n",
    "        # M-step\n",
    "        mu_1 = np.sum(p_z_1 * x) / np.sum(p_z_1)\n",
    "        mu_2 = np.sum((1-p_z_1) * x) / np.sum(1-p_z_1)\n",
    "        sigma2_1 = np.sum((x - mu_1) ** 2 * p_z_1)/ np.sum(p_z_1)\n",
    "        sigma2_2 = np.sum((x - mu_2) ** 2 * (1-p_z_1))/ np.sum(1 - p_z_1)\n",
    "        p1 = np.sum(p_z_1) / len(x)\n",
    "        theta_new = np.array([mu_1, sigma2_1, mu_2, sigma2_2, p1])\n",
    "        \n",
    "        theta = theta_new\n",
    "        \n",
    "        Q_history.append(Q_f(x, theta, p_z_1))\n",
    "        \n",
    "        if len(Q_history) > 1:\n",
    "            if np.linalg.norm(Q_history[-1] - Q_history[-2]) < 1e-8:\n",
    "                break\n",
    "        \n",
    "    return theta, Q_history"
   ]
  },
  {
   "cell_type": "code",
   "execution_count": 8,
   "metadata": {},
   "outputs": [
    {
     "name": "stdout",
     "output_type": "stream",
     "text": [
      "[ 3.1502024   6.98435954 23.91046672  7.74621808  0.58092209]\n"
     ]
    }
   ],
   "source": [
    "theta = np.array([3.0, 4.0, 25.0, 4.0, 0.5])\n",
    "theta, Q = EM(df['X'], theta)\n",
    "print(theta)"
   ]
  },
  {
   "cell_type": "code",
   "execution_count": 9,
   "metadata": {},
   "outputs": [
    {
     "data": {
      "text/plain": [
       "[<matplotlib.lines.Line2D at 0x7f956f51c110>]"
      ]
     },
     "execution_count": 9,
     "metadata": {},
     "output_type": "execute_result"
    },
    {
     "data": {
      "image/png": "[encoded data removed]",
      "text/plain": [
       "<Figure size 432x288 with 1 Axes>"
      ]
     },
     "metadata": {
      "needs_background": "light"
     },
     "output_type": "display_data"
    }
   ],
   "source": [
    "plt.plot(Q)"
   ]
  },
  {
   "cell_type": "markdown",
   "metadata": {},
   "source": [
    "Значения вполне соответсвуют ожиданиям, считаем, что ЕМ-алгоритм отработал хорошо!"
   ]
  },
  {
   "cell_type": "markdown",
   "metadata": {},
   "source": [
    "#### Задача 15. Из контрольной прошлого года\n",
    "\n",
    "В контрольной работе прошлого года была такая задача:\n",
    "\n",
    "> У меня есть три монетки. Они выпадают орлом с вероятностями $p_1$, $p_2$ и $p_3 = 1$. Я провожу эксперимент из 100 раундов. В каждом раунде я равновероятно выбираю одну из монеток, подбрасываю её два раза и записываю число выпавших орлов. После окончания эксперимента у меня на бумажке остаётся 100 записанных чисел. Какая монетка подкидывалась в каждом раунде, я не помню.\n",
    "\n",
    "На контрольной требовалось описать EM-алгоритм для нахождения $\\hat{p}_1$ и $\\hat{p}_2$.\n",
    "\n",
    "**[а]** **(3 балла)** В файле `15.csv` приведена описанная выборка из 100 чисел. Реализуйте EM-алгоритм для нахождения $\\hat{p}_1$ и $\\hat{p}_2$.\n",
    "\n",
    "**[б]** Постройте график $Q$ в зависимости от числа итераций.\n",
    "\n",
    "**[в]** Изучите выборку и прокомментируйте адекватность полученных оценок."
   ]
  },
  {
   "cell_type": "code",
   "execution_count": 22,
   "metadata": {},
   "outputs": [
    {
     "data": {
      "text/html": [
       "<div>\n",
       "<style scoped>\n",
       "    .dataframe tbody tr th:only-of-type {\n",
       "        vertical-align: middle;\n",
       "    }\n",
       "\n",
       "    .dataframe tbody tr th {\n",
       "        vertical-align: top;\n",
       "    }\n",
       "\n",
       "    .dataframe thead th {\n",
       "        text-align: right;\n",
       "    }\n",
       "</style>\n",
       "<table border=\"1\" class=\"dataframe\">\n",
       "  <thead>\n",
       "    <tr style=\"text-align: right;\">\n",
       "      <th></th>\n",
       "      <th>Unnamed: 0</th>\n",
       "      <th>X</th>\n",
       "    </tr>\n",
       "  </thead>\n",
       "  <tbody>\n",
       "    <tr>\n",
       "      <th>85</th>\n",
       "      <td>85</td>\n",
       "      <td>0</td>\n",
       "    </tr>\n",
       "  </tbody>\n",
       "</table>\n",
       "</div>"
      ],
      "text/plain": [
       "    Unnamed: 0  X\n",
       "85          85  0"
      ]
     },
     "execution_count": 22,
     "metadata": {},
     "output_type": "execute_result"
    }
   ],
   "source": [
    "df = pd.read_csv('/Users/andreyborevskiy/Yandex.Disk.localized/Документы/LaTeX/PSMO/15.csv')\n",
    "df.sample()"
   ]
  },
  {
   "cell_type": "code",
   "execution_count": 23,
   "metadata": {},
   "outputs": [],
   "source": [
    "def fh(x, p):\n",
    "    if x == 0:\n",
    "        return (1 - p) ** 2\n",
    "    elif x == 1:\n",
    "        return 2 * p * (1 - p)\n",
    "    return p ** 2\n",
    "\n",
    "def f(x, p):\n",
    "    return pd.Series([fh(el, p) for el in x])\n",
    "\n",
    "def lnfh(x, p):\n",
    "    if x == 0:\n",
    "        return 2 * np.log(1 - p)\n",
    "    elif x == 1:\n",
    "        return np.log(2) + np.log(p) + np.log(1 - p)\n",
    "    return 2 * np.log(p)\n",
    "\n",
    "def lnf(x, p):\n",
    "    return pd.Series([lnfh(el, p) for el in x])\n",
    "\n",
    "def Q_f(x, theta, p_z_1, p_z_2):\n",
    "    ell1 = lnf(x, theta[0]) + np.log(theta[2])\n",
    "    ell2 = lnf(x, theta[1]) + np.log(theta[3])\n",
    "    return np.sum(p_z_1 * ell1 + p_z_2 * ell2 + (1 - p_z_1 - p_z_2) * np.log(1 - theta[2] - theta[3]))\n",
    "\n",
    "def EM(x, theta):\n",
    "    \n",
    "    Q_history = []\n",
    "    \n",
    "    for i in range(100000):\n",
    "        \n",
    "        # E-step\n",
    "        p_z_1 = f(x, p=theta[0]) * theta[2] / (theta[2] * f(x, p=theta[0]) + (theta[3]) * f(x, p=theta[1]) + \n",
    "                                               (1 - theta[2] - theta[3]) * f(x, p=1))\n",
    "        \n",
    "        p_z_2 = f(x, p=theta[1]) * theta[3] / (theta[2] * f(x, p=theta[0]) + (theta[3]) * f(x, p=theta[1]) + \n",
    "                                               (1 - theta[2] - theta[3]) * f(x, p=1))\n",
    "        \n",
    "        \n",
    "        # M-step\n",
    "        p1 = np.dot(x, p_z_1) / np.sum(p_z_1) / 2\n",
    "        p2 = np.dot(x, p_z_2) / np.sum(p_z_2) / 2\n",
    "        pz1 = 1/3 # np.mean(p_z_1)\n",
    "        pz2 = 1/3 # np.mean(p_z_2)\n",
    "        theta_new = np.array([p1, p2, pz1, pz2])\n",
    "#         print(f'Theta {theta_new}, Pz1 {p_z_1}')\n",
    "            \n",
    "        theta = theta_new\n",
    "        \n",
    "        Q_history.append(Q_f(x, theta, p_z_1, p_z_2))\n",
    "        \n",
    "        if len(Q_history) > 1:\n",
    "            if np.linalg.norm(Q_history[-1] - Q_history[-2]) < 1e-8:\n",
    "                break\n",
    "        \n",
    "    return theta, Q_history"
   ]
  },
  {
   "cell_type": "code",
   "execution_count": 24,
   "metadata": {},
   "outputs": [
    {
     "name": "stdout",
     "output_type": "stream",
     "text": [
      "[0.33202337 0.33202337 0.33333333 0.33333333]\n"
     ]
    }
   ],
   "source": [
    "# Если бы не знали, что монетка выбирается равновероятно\n",
    "theta = np.array([0.5, 0.5, 1/3, 1/3])\n",
    "theta, Q = EM(df['X'], theta)\n",
    "print(theta)"
   ]
  },
  {
   "cell_type": "code",
   "execution_count": 10,
   "metadata": {},
   "outputs": [
    {
     "name": "stdout",
     "output_type": "stream",
     "text": [
      "[0.3319954  0.33205133 0.33333333 0.33333333]\n"
     ]
    }
   ],
   "source": [
    "# Навесили условие равновероятного выбора монетки\n",
    "theta = np.array([0.1, 0.8, 1/3, 1/3])\n",
    "theta, Q = EM(df['X'], theta)\n",
    "print(theta)"
   ]
  },
  {
   "cell_type": "code",
   "execution_count": 7,
   "metadata": {},
   "outputs": [
    {
     "data": {
      "text/plain": [
       "[<matplotlib.lines.Line2D at 0x7ff3d4e53d30>]"
      ]
     },
     "execution_count": 7,
     "metadata": {},
     "output_type": "execute_result"
    },
    {
     "data": {
      "image/png": "[encoded data removed]",
      "text/plain": [
       "<Figure size 432x288 with 1 Axes>"
      ]
     },
     "metadata": {
      "needs_background": "light"
     },
     "output_type": "display_data"
    }
   ],
   "source": [
    "plt.plot(Q)"
   ]
  },
  {
   "cell_type": "markdown",
   "metadata": {},
   "source": [
    "#### Задача 16. Бутстраппируем!\n",
    "\n",
    "Исследователь Валентин каждый день ловит покемонов. По причинам, которые Валентин предпочитает не раскрывать, он совершает ровно 15 попыток поймать покемона за день. Каждая попытка может окончиться успехом с некоторой вероятностью. В файле `16.csv` представлены наблюдения о пойманных покемонах за 3 года. \n",
    "\n",
    "**[а]** Сделайте предположение о том, какое распределение имеет число пойманных за день покемонов. Это распределение должно иметь один неизвестный параметр.\n",
    "\n",
    "**[б]** Найдите точечную оценку неизвестного параметра методом максимального правдоподобия.\n",
    "\n",
    "**[в]** **(2 балла)** Постройте 95%-ый доверительный интервал для неизвестного параметра при помощи методов **Reverse bootstrap percentile**, **t-bootstrap** и **параметрического бутстрэпа**. "
   ]
  },
  {
   "cell_type": "code",
   "execution_count": 12,
   "metadata": {},
   "outputs": [
    {
     "name": "stderr",
     "output_type": "stream",
     "text": [
      "/Users/andreyborevskiy/opt/anaconda3/lib/python3.7/site-packages/seaborn/distributions.py:2619: FutureWarning: `distplot` is a deprecated function and will be removed in a future version. Please adapt your code to use either `displot` (a figure-level function with similar flexibility) or `histplot` (an axes-level function for histograms).\n",
      "  warnings.warn(msg, FutureWarning)\n",
      "/Users/andreyborevskiy/opt/anaconda3/lib/python3.7/site-packages/matplotlib/cbook/__init__.py:1402: FutureWarning: Support for multi-dimensional indexing (e.g. `obj[:, None]`) is deprecated and will be removed in a future version.  Convert to a numpy array before indexing instead.\n",
      "  x[:, None]\n",
      "/Users/andreyborevskiy/opt/anaconda3/lib/python3.7/site-packages/matplotlib/axes/_base.py:276: FutureWarning: Support for multi-dimensional indexing (e.g. `obj[:, None]`) is deprecated and will be removed in a future version.  Convert to a numpy array before indexing instead.\n",
      "  x = x[:, np.newaxis]\n",
      "/Users/andreyborevskiy/opt/anaconda3/lib/python3.7/site-packages/matplotlib/axes/_base.py:278: FutureWarning: Support for multi-dimensional indexing (e.g. `obj[:, None]`) is deprecated and will be removed in a future version.  Convert to a numpy array before indexing instead.\n",
      "  y = y[:, np.newaxis]\n"
     ]
    },
    {
     "data": {
      "image/png": "[encoded data removed]",
      "text/plain": [
       "<Figure size 432x288 with 1 Axes>"
      ]
     },
     "metadata": {
      "needs_background": "light"
     },
     "output_type": "display_data"
    }
   ],
   "source": [
    "df = pd.read_csv('/Users/andreyborevskiy/Yandex.Disk.localized/Документы/LaTeX/PSMO/16.csv')\n",
    "\n",
    "sns.distplot(df['X'])\n",
    "plt.show()"
   ]
  },
  {
   "cell_type": "markdown",
   "metadata": {},
   "source": [
    "Будем считать, что $X$ имеет биномиальное распределение с параметром $p$.\n",
    "\n",
    "$$ \\sum \\frac{x_i}{p_{MLE}} + \\frac{15 - x_i}{1 - p_{MLE}} = 0 \\Rightarrow p_{MLE} = \\frac{\\bar{X}}{15}$$\n",
    "\n",
    "$$ p = \\frac{\\mu}{n} = \\frac{\\mu}{15}$$"
   ]
  },
  {
   "cell_type": "code",
   "execution_count": 18,
   "metadata": {},
   "outputs": [
    {
     "name": "stdout",
     "output_type": "stream",
     "text": [
      "[ 0.6472450532724506 ; 0.6622831050228312 ]\n"
     ]
    }
   ],
   "source": [
    "# Reverse bootstrap percentile\n",
    "\n",
    "np.random.seed(42)\n",
    "n_samples = 1000\n",
    "bootstrap_samples = [np.random.choice(df['X'], len(df)) for _ in range(n_samples)]\n",
    "bootstrap_means = [x.mean() for x in bootstrap_samples]\n",
    "d_star = np.array(bootstrap_means) - df['X'].mean()\n",
    "d_star_quant = np.quantile(d_star, [0.025, 0.975])\n",
    "LB = df['X'].mean() - d_star_quant[1]\n",
    "UB = df['X'].mean() - d_star_quant[0]\n",
    "print('[', LB / 15, ';', UB / 15, ']')"
   ]
  },
  {
   "cell_type": "code",
   "execution_count": 15,
   "metadata": {},
   "outputs": [
    {
     "data": {
      "text/plain": [
       "array([ 0.00273973, -0.05296804,  0.0630137 , -0.03105023,  0.02648402,\n",
       "       -0.10593607, -0.09315068,  0.02283105,  0.06757991, -0.09771689,\n",
       "       -0.03926941,  0.01461187,  0.12237443,  0.06484018,  0.02100457,\n",
       "       -0.07671233, -0.04383562, -0.02009132,  0.02009132, -0.03744292,\n",
       "        0.03652968, -0.02283105,  0.01461187, -0.05205479, -0.04474886,\n",
       "        0.02557078, -0.10684932, -0.0803653 , -0.00547945,  0.01552511,\n",
       "        0.06484018,  0.00547945, -0.00456621,  0.01552511, -0.03378995,\n",
       "        0.07305936,  0.00365297,  0.16803653,  0.01461187, -0.04200913,\n",
       "        0.16986301,  0.00547945, -0.02009132, -0.02009132, -0.00365297,\n",
       "        0.07762557, -0.10776256,  0.03652968, -0.01461187,  0.11598174,\n",
       "       -0.00365297,  0.02191781, -0.00821918, -0.11232877,  0.00365297,\n",
       "       -0.00182648,  0.13881279, -0.02100457, -0.00365297, -0.01278539,\n",
       "        0.02739726, -0.14429224, -0.04109589, -0.03378995,  0.04840183,\n",
       "       -0.04474886,  0.06027397, -0.18356164,  0.05844749, -0.03926941,\n",
       "        0.06392694, -0.11050228, -0.10958904, -0.02283105,  0.05388128,\n",
       "       -0.06118721, -0.04657534,  0.04474886,  0.06849315,  0.04748858,\n",
       "        0.01917808,  0.01461187, -0.06575342, -0.0173516 ,  0.04292237,\n",
       "        0.02374429,  0.08127854,  0.04109589,  0.01552511,  0.        ,\n",
       "       -0.07488584, -0.056621  ,  0.07945205,  0.03561644, -0.09589041,\n",
       "       -0.01826484,  0.0456621 , -0.04200913, -0.05479452,  0.04840183,\n",
       "       -0.05114155,  0.        , -0.02648402,  0.01187215, -0.02374429,\n",
       "       -0.0283105 , -0.04748858,  0.00730594, -0.03561644, -0.01369863,\n",
       "        0.03378995,  0.03835616, -0.04200913,  0.03378995, -0.04474886,\n",
       "       -0.0109589 ,  0.05844749,  0.04474886, -0.0109589 , -0.03013699,\n",
       "       -0.04200913, -0.00547945, -0.03926941,  0.11598174, -0.09406393,\n",
       "        0.06392694, -0.03652968,  0.03926941, -0.15890411, -0.0173516 ,\n",
       "        0.03926941,  0.04292237, -0.03835616, -0.01278539, -0.03287671,\n",
       "       -0.0173516 , -0.01552511, -0.09863014,  0.03652968, -0.02191781,\n",
       "       -0.04474886, -0.02191781, -0.07762557, -0.01004566,  0.04748858,\n",
       "       -0.05753425,  0.01917808,  0.02465753,  0.06849315, -0.01461187,\n",
       "        0.        ,  0.00730594, -0.09771689, -0.02739726, -0.05388128,\n",
       "       -0.04474886, -0.09497717, -0.0913242 , -0.00182648,  0.02374429,\n",
       "       -0.00913242,  0.01004566, -0.06118721, -0.02100457,  0.02100457,\n",
       "       -0.06027397, -0.10319635, -0.03652968, -0.04200913, -0.02009132,\n",
       "        0.00182648, -0.01004566,  0.09406393,  0.00182648,  0.09680365,\n",
       "       -0.01004566,  0.00365297, -0.06118721, -0.08493151,  0.04931507,\n",
       "       -0.06210046, -0.00182648, -0.05296804,  0.02557078,  0.02557078,\n",
       "       -0.01461187,  0.01278539, -0.0630137 ,  0.06940639, -0.0456621 ,\n",
       "       -0.04657534,  0.00273973,  0.04748858, -0.08401826, -0.02100457,\n",
       "       -0.10045662, -0.07305936,  0.0739726 , -0.04109589, -0.06484018,\n",
       "        0.03561644,  0.06849315, -0.02648402, -0.01826484, -0.06575342,\n",
       "       -0.02374429,  0.03105023,  0.0173516 ,  0.05296804,  0.10228311,\n",
       "       -0.07762557,  0.00182648,  0.01643836,  0.04018265,  0.01278539,\n",
       "        0.01643836,  0.10136986,  0.10776256,  0.02374429,  0.00821918,\n",
       "        0.11232877, -0.00639269,  0.00365297, -0.03013699, -0.05479452,\n",
       "       -0.09223744,  0.06575342, -0.02648402,  0.05114155, -0.0347032 ,\n",
       "        0.01552511, -0.01278539, -0.00182648,  0.09863014,  0.05388128,\n",
       "        0.05479452, -0.05479452, -0.11506849, -0.09406393,  0.03652968,\n",
       "       -0.09771689, -0.04292237, -0.00821918, -0.01004566, -0.1543379 ,\n",
       "       -0.02739726,  0.05388128,  0.00639269,  0.06849315,  0.05936073,\n",
       "       -0.02100457, -0.06575342, -0.04840183, -0.06575342, -0.0347032 ,\n",
       "       -0.04840183, -0.09041096,  0.02009132,  0.07123288, -0.01643836,\n",
       "       -0.00091324,  0.01278539, -0.00730594, -0.09406393,  0.07214612,\n",
       "       -0.12420091, -0.01369863,  0.06027397, -0.08949772, -0.05114155,\n",
       "        0.03287671, -0.07305936, -0.01004566, -0.02739726,  0.01369863,\n",
       "        0.07579909,  0.0739726 ,  0.04292237, -0.0283105 , -0.0283105 ,\n",
       "       -0.08219178,  0.01187215, -0.0803653 , -0.03196347, -0.00091324,\n",
       "        0.02100457,  0.03105023,  0.09315068,  0.04200913, -0.05388128,\n",
       "       -0.05114155, -0.00913242,  0.10958904, -0.06210046, -0.08401826,\n",
       "        0.        ,  0.00913242, -0.02648402,  0.01278539,  0.00365297,\n",
       "       -0.15525114,  0.056621  ,  0.02374429,  0.04109589, -0.11050228,\n",
       "       -0.14155251,  0.06027397,  0.05205479,  0.06027397, -0.00365297,\n",
       "       -0.02009132, -0.04657534,  0.00091324,  0.02465753,  0.01552511,\n",
       "       -0.05570776,  0.05296804,  0.07671233, -0.09406393,  0.05844749,\n",
       "        0.13789954, -0.08949772, -0.00365297,  0.01461187,  0.0173516 ,\n",
       "        0.07305936, -0.03561644,  0.02283105,  0.13333333,  0.12054795,\n",
       "       -0.00091324, -0.04474886, -0.03013699,  0.00182648,  0.01004566,\n",
       "        0.01004566,  0.06666667,  0.03561644, -0.07853881, -0.10319635,\n",
       "       -0.11415525,  0.00547945, -0.06575342, -0.06757991, -0.14611872,\n",
       "       -0.01369863,  0.04474886,  0.09497717,  0.04840183,  0.        ,\n",
       "        0.05388128, -0.08127854, -0.05114155,  0.08219178,  0.0109589 ,\n",
       "        0.01826484,  0.00913242, -0.02100457,  0.04657534,  0.00273973,\n",
       "        0.04931507, -0.0456621 ,  0.09041096,  0.03287671, -0.01369863,\n",
       "        0.0173516 , -0.00273973,  0.00273973, -0.06757991, -0.01917808,\n",
       "        0.04840183,  0.00730594,  0.06027397, -0.08219178, -0.08127854,\n",
       "        0.07853881, -0.13059361,  0.07488584, -0.08219178,  0.05296804,\n",
       "       -0.03652968,  0.03378995, -0.00456621,  0.04474886, -0.01826484,\n",
       "       -0.10045662, -0.00547945,  0.0109589 , -0.056621  ,  0.10228311,\n",
       "       -0.00821918,  0.09771689,  0.01278539,  0.01552511,  0.13789954,\n",
       "       -0.07945205,  0.1196347 , -0.07579909,  0.06849315,  0.07762557,\n",
       "       -0.04840183, -0.00456621, -0.02009132,  0.02465753,  0.        ,\n",
       "        0.03196347, -0.00365297,  0.07305936,  0.05936073, -0.05844749,\n",
       "       -0.01552511, -0.06027397, -0.00182648, -0.04840183,  0.0347032 ,\n",
       "       -0.03013699,  0.06757991,  0.09406393, -0.04474886, -0.10410959,\n",
       "       -0.01917808, -0.01643836,  0.04292237,  0.056621  , -0.10776256,\n",
       "       -0.03744292,  0.03835616,  0.01461187, -0.06392694,  0.05296804,\n",
       "        0.09041096,  0.08310502, -0.04840183, -0.01369863, -0.0456621 ,\n",
       "       -0.01004566, -0.03013699, -0.05388128,  0.03926941, -0.0173516 ,\n",
       "        0.05388128, -0.04931507,  0.01643836, -0.0803653 ,  0.02191781,\n",
       "        0.08584475, -0.00547945, -0.02557078, -0.09041096,  0.13333333,\n",
       "        0.01004566, -0.02922374, -0.01826484, -0.00365297,  0.07671233,\n",
       "        0.06757991,  0.00273973,  0.04018265, -0.11141553, -0.00273973,\n",
       "        0.05022831, -0.09041096, -0.00456621,  0.02009132, -0.01369863,\n",
       "       -0.06757991, -0.07214612,  0.06757991,  0.07031963, -0.06118721,\n",
       "       -0.0347032 , -0.00365297,  0.06392694,  0.02283105, -0.06118721,\n",
       "        0.00821918,  0.0109589 , -0.11324201,  0.05479452, -0.00547945,\n",
       "       -0.01552511,  0.00365297, -0.00639269, -0.0109589 ,  0.01187215,\n",
       "        0.        , -0.0347032 , -0.03013699, -0.00273973,  0.08767123,\n",
       "        0.04748858,  0.04840183, -0.04474886,  0.06392694,  0.11050228,\n",
       "       -0.02283105,  0.04109589,  0.08127854,  0.00182648,  0.00730594,\n",
       "        0.12876712, -0.00456621, -0.00456621, -0.08127854, -0.04840183,\n",
       "       -0.04748858, -0.01917808, -0.02557078, -0.01552511,  0.0913242 ,\n",
       "       -0.04931507, -0.06210046, -0.02648402,  0.05296804,  0.02374429,\n",
       "        0.01278539, -0.1369863 , -0.01278539, -0.06666667, -0.01369863,\n",
       "        0.02465753,  0.00639269,  0.04748858, -0.01278539,  0.02557078,\n",
       "       -0.04931507, -0.07579909, -0.00913242, -0.09589041,  0.04474886,\n",
       "        0.01826484,  0.00730594,  0.09315068,  0.01369863,  0.07488584,\n",
       "        0.00639269,  0.00730594, -0.00365297, -0.01552511,  0.02100457,\n",
       "        0.00547945, -0.04383562,  0.07214612, -0.03287671, -0.00365297,\n",
       "       -0.06849315,  0.05114155,  0.11324201,  0.04383562,  0.04109589,\n",
       "        0.00730594,  0.00913242, -0.0283105 ,  0.056621  ,  0.04018265,\n",
       "       -0.05296804,  0.06849315, -0.02009132,  0.03287671,  0.04748858,\n",
       "        0.1196347 , -0.02191781, -0.08493151,  0.02283105, -0.08949772,\n",
       "        0.02557078, -0.04657534, -0.00091324,  0.03105023,  0.07214612,\n",
       "        0.03287671, -0.09315068, -0.08858447, -0.0913242 , -0.08127854,\n",
       "       -0.02100457,  0.05205479, -0.09406393, -0.06027397, -0.07579909,\n",
       "        0.04931507, -0.02374429, -0.01461187, -0.01552511, -0.03013699,\n",
       "        0.04383562,  0.00639269, -0.0913242 , -0.14520548,  0.02922374,\n",
       "        0.03835616, -0.11232877,  0.10045662,  0.06940639, -0.04657534,\n",
       "        0.00456621,  0.01369863,  0.10136986,  0.09223744, -0.07762557,\n",
       "       -0.00730594,  0.01004566, -0.07488584, -0.00365297, -0.0630137 ,\n",
       "       -0.04018265, -0.08310502,  0.03105023, -0.01552511,  0.01643836,\n",
       "       -0.11050228, -0.04018265, -0.00273973,  0.05479452,  0.08127854,\n",
       "        0.04383562, -0.05205479, -0.09041096,  0.03378995, -0.00456621,\n",
       "        0.01461187, -0.04931507,  0.01826484,  0.13789954, -0.01278539,\n",
       "        0.02283105,  0.01552511,  0.01552511, -0.04383562,  0.07305936,\n",
       "        0.03378995, -0.01187215,  0.01552511,  0.01461187, -0.03105023,\n",
       "       -0.07762557,  0.05479452, -0.05844749, -0.03835616, -0.04292237,\n",
       "        0.00730594, -0.0456621 ,  0.03105023, -0.07853881, -0.05296804,\n",
       "        0.11872146,  0.00730594,  0.10228311,  0.06849315,  0.06575342,\n",
       "        0.06484018,  0.02465753, -0.03561644,  0.01461187, -0.05114155,\n",
       "        0.04018265, -0.06118721,  0.06392694,  0.07762557, -0.04200913,\n",
       "       -0.11506849,  0.04018265,  0.03561644,  0.0456621 ,  0.15525114,\n",
       "        0.08127854,  0.09223744, -0.00456621,  0.06392694, -0.00730594,\n",
       "       -0.07031963,  0.07488584, -0.03835616,  0.02009132,  0.10228311,\n",
       "       -0.01461187,  0.08401826,  0.00456621, -0.1086758 , -0.15707763,\n",
       "        0.03378995, -0.01278539, -0.02191781,  0.09041096,  0.01826484,\n",
       "        0.10502283,  0.01826484, -0.04931507, -0.03378995,  0.00365297,\n",
       "        0.01643836,  0.00273973,  0.04018265,  0.02191781, -0.01826484,\n",
       "        0.01917808,  0.08127854,  0.03652968, -0.0109589 ,  0.06392694,\n",
       "        0.08767123, -0.11506849, -0.00456621,  0.12785388,  0.04931507,\n",
       "       -0.04840183,  0.03652968, -0.02922374, -0.03105023,  0.00639269,\n",
       "        0.08675799, -0.05479452,  0.00639269, -0.01004566, -0.00547945,\n",
       "        0.0456621 ,  0.0173516 , -0.0630137 , -0.1086758 , -0.06940639,\n",
       "        0.0739726 ,  0.04748858, -0.02191781,  0.05479452,  0.04657534,\n",
       "        0.01004566,  0.03105023, -0.12146119,  0.1260274 ,  0.03196347,\n",
       "        0.02191781, -0.01004566,  0.05936073, -0.02191781, -0.08675799,\n",
       "       -0.07305936,  0.05844749,  0.0173516 , -0.00913242,  0.21461187,\n",
       "       -0.04383562, -0.07488584,  0.04200913,  0.00456621, -0.02739726,\n",
       "        0.03378995, -0.03287671,  0.05570776, -0.10319635,  0.04840183,\n",
       "       -0.03926941, -0.04109589, -0.06666667, -0.10319635, -0.01826484,\n",
       "        0.05753425, -0.08675799, -0.02739726,  0.01369863,  0.02009132,\n",
       "        0.01004566,  0.02009132,  0.08949772,  0.00913242, -0.02100457,\n",
       "       -0.08493151, -0.01917808, -0.08127854, -0.01004566,  0.0347032 ,\n",
       "       -0.0173516 , -0.0456621 ,  0.05753425,  0.00365297, -0.01369863,\n",
       "        0.06575342, -0.02100457,  0.10502283, -0.07762557, -0.05753425,\n",
       "       -0.04109589,  0.04018265, -0.04931507, -0.06484018,  0.04200913,\n",
       "       -0.13059361, -0.01369863,  0.00273973, -0.0630137 , -0.10410959,\n",
       "        0.01552511, -0.03287671,  0.07214612,  0.04840183,  0.01643836,\n",
       "       -0.12876712, -0.00547945, -0.0630137 ,  0.0173516 ,  0.05570776,\n",
       "        0.01643836, -0.03652968,  0.02009132, -0.04018265,  0.02374429,\n",
       "        0.00639269, -0.00273973,  0.01552511, -0.04018265, -0.02009132,\n",
       "        0.00730594,  0.03013699,  0.05753425,  0.02465753, -0.0109589 ,\n",
       "       -0.0456621 , -0.04840183, -0.01552511, -0.02100457, -0.01461187,\n",
       "       -0.04931507,  0.02191781,  0.07671233, -0.03926941, -0.05205479,\n",
       "        0.01004566, -0.02009132, -0.02922374,  0.02191781, -0.03287671,\n",
       "        0.05479452,  0.05844749,  0.02922374,  0.01552511,  0.08127854,\n",
       "       -0.05205479, -0.03652968,  0.08675799,  0.08949772, -0.01917808,\n",
       "        0.03926941,  0.04200913, -0.04840183, -0.02374429,  0.08219178,\n",
       "       -0.08310502, -0.03561644,  0.03561644,  0.01004566,  0.04474886,\n",
       "       -0.00639269, -0.01187215,  0.01004566, -0.07671233,  0.02557078,\n",
       "       -0.04383562,  0.05936073,  0.02922374, -0.12785388, -0.01461187,\n",
       "        0.05022831, -0.03652968, -0.08127854, -0.01826484,  0.01552511,\n",
       "       -0.00273973,  0.06210046, -0.01369863,  0.02283105, -0.03561644,\n",
       "       -0.03561644,  0.05114155, -0.01552511, -0.10045662, -0.02009132,\n",
       "        0.02739726,  0.00182648,  0.01004566,  0.04383562, -0.02739726,\n",
       "        0.07305936,  0.00091324, -0.09041096,  0.14794521,  0.05114155,\n",
       "       -0.01917808,  0.06210046,  0.03287671, -0.03378995, -0.10684932,\n",
       "        0.01278539, -0.01187215,  0.04383562,  0.02283105, -0.03835616,\n",
       "        0.00273973, -0.04474886, -0.04840183, -0.05114155,  0.05844749,\n",
       "       -0.0109589 , -0.07762557, -0.00547945,  0.02191781,  0.03835616,\n",
       "        0.1196347 ,  0.07945205, -0.08310502,  0.04657534, -0.08310502,\n",
       "       -0.06575342,  0.01004566, -0.03378995, -0.02557078, -0.04474886,\n",
       "       -0.07305936,  0.09771689,  0.02283105, -0.09315068, -0.02191781,\n",
       "       -0.06940639, -0.10319635,  0.00273973, -0.05205479, -0.05388128,\n",
       "       -0.0283105 ,  0.03744292, -0.16164384,  0.04840183,  0.00547945,\n",
       "        0.09771689,  0.07945205,  0.11689498,  0.06392694, -0.04931507,\n",
       "        0.01552511,  0.00273973,  0.05022831,  0.00091324,  0.04657534,\n",
       "       -0.12146119, -0.03652968, -0.0283105 ,  0.04474886, -0.10045662,\n",
       "       -0.08767123,  0.05570776, -0.03105023,  0.07123288,  0.04474886,\n",
       "       -0.01278539, -0.04657534, -0.0739726 ,  0.01826484,  0.05114155,\n",
       "       -0.08767123,  0.11232877,  0.08310502,  0.01461187,  0.01552511,\n",
       "       -0.02374429, -0.03013699, -0.06392694,  0.02465753,  0.03013699,\n",
       "        0.01552511, -0.01278539, -0.00913242, -0.07671233,  0.00913242,\n",
       "        0.09863014,  0.02191781,  0.05936073,  0.01187215,  0.01278539,\n",
       "       -0.03013699, -0.05844749,  0.02009132,  0.00821918,  0.02557078,\n",
       "       -0.12694064,  0.00273973,  0.03744292, -0.02465753, -0.03835616,\n",
       "       -0.05388128,  0.06210046, -0.10410959,  0.01004566, -0.0630137 ,\n",
       "       -0.04200913,  0.00365297,  0.02922374, -0.12054795,  0.00182648,\n",
       "        0.09406393, -0.04292237, -0.01826484, -0.11324201, -0.02374429])"
      ]
     },
     "execution_count": 15,
     "metadata": {},
     "output_type": "execute_result"
    }
   ],
   "source": [
    "d_star"
   ]
  },
  {
   "cell_type": "code",
   "execution_count": 19,
   "metadata": {},
   "outputs": [
    {
     "name": "stdout",
     "output_type": "stream",
     "text": [
      "[ 0.5206930966940027 ; 0.7881780842455132 ]\n"
     ]
    }
   ],
   "source": [
    "# t-bootstrap\n",
    "\n",
    "from scipy.stats import sem\n",
    "bootstrap_ses = [sem(x) for x in bootstrap_samples]\n",
    "t_star = (np.array(bootstrap_means) - df['X'].mean()) / bootstrap_ses\n",
    "t_star_quant = np.quantile(t_star, [0.025, 0.975])\n",
    "LB = df['X'].mean() - t_star_quant[1]\n",
    "UB = df['X'].mean() - t_star_quant[0]\n",
    "print('[', LB / 15, ';', UB / 15, ']')"
   ]
  },
  {
   "cell_type": "code",
   "execution_count": 21,
   "metadata": {},
   "outputs": [
    {
     "name": "stdout",
     "output_type": "stream",
     "text": [
      "[ 0.654234398782344 ; 0.6552369355657027 ]\n"
     ]
    }
   ],
   "source": [
    "# Параметрический бутстрэп\n",
    "\n",
    "p_hat = df['X'].mean() / 15\n",
    "bootstrap_ps = [x.mean() / 15 for x in bootstrap_samples]\n",
    "p_star = np.array(bootstrap_ps) - p_hat\n",
    "p_star_quant = np.quantile(p_star, [0.025, 0.975])\n",
    "LB = df['X'].mean() - p_star_quant[1]\n",
    "UB = df['X'].mean() - p_star_quant[0]\n",
    "print('[', LB / 15, ';', UB / 15, ']')"
   ]
  },
  {
   "cell_type": "code",
   "execution_count": null,
   "metadata": {},
   "outputs": [],
   "source": []
  }
 ],
 "metadata": {
  "kernelspec": {
   "display_name": "Python 3",
   "language": "python",
   "name": "python3"
  },
  "language_info": {
   "codemirror_mode": {
    "name": "ipython",
    "version": 3
   },
   "file_extension": ".py",
   "mimetype": "text/x-python",
   "name": "python",
   "nbconvert_exporter": "python",
   "pygments_lexer": "ipython3",
   "version": "3.7.4"
  }
 },
 "nbformat": 4,
 "nbformat_minor": 5
}
