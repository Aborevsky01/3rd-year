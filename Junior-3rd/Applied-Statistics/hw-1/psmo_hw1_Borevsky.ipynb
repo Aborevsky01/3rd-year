{
 "cells": [
  {
   "cell_type": "markdown",
   "metadata": {},
   "source": [
    "# Прикладная статистика в машинном обучении 2021-2022"
   ]
  },
  {
   "cell_type": "markdown",
   "metadata": {},
   "source": [
    "## Домашнее задание #1\n",
    "\n",
    "## Часть 2"
   ]
  },
  {
   "cell_type": "markdown",
   "metadata": {},
   "source": [
    "### Дедлайн: 29 октября 2021 года, 23:59"
   ]
  },
  {
   "cell_type": "markdown",
   "metadata": {},
   "source": [
    "**Правила игры**\n",
    "\n",
    "1. Домашнее задание состоит из двух частей. Часть 1 содержит 13 обязательных и две бонусных задачи и предполагает решение «от руки». Часть 2 содержит 3 обязательных задачи и предполагает программное решение.\n",
    "\n",
    "\n",
    "2. Домашнее задание оценивается в $80$ баллов. При этом часть 1 оценивается в $65$ баллов, а часть 2 – в $15$ баллов. По умолчанию за каждый пункт каждой задачи можно получить $1$ балл. Однако за некоторые пункты некоторых задач можно получить другое количество баллов, которое явно указано в скобках рядом с меткой пункта.\n",
    "\n",
    "\n",
    "3. Каждый пункт оценивается с промежутком $0.5$. Например, если за пункт можно получить максимум $1$ балл, то за полностью корректное решение ставится $1$ балл, за решение с небольшими ошибками ставится $0.5$ балла, за решение с серьёзными ошибками или неправильное решение ставится $0$ баллов. Для пунктов, за которые можно получить максимум $2$ балла, в зависимости от решения можно получить $2$, $1.5$, $1$ и т.д. баллов. При этом пункты проверяются независимо друг от друга: если пункт $t+1$ зависит от численных результатов пункта $t$, и в пункте $t$ допускается ошибка, из-за которой в пункт $t+1$ приходят неверные входные данные, то при корректном решении пункт $t+1$ оценивается в максимальное количество баллов, которое можно за него получить.\n",
    "\n",
    "\n",
    "4. Бонусные задачи $X$ и $Y$ приведены в конце части 1 и обозначены значком $\\dagger$. Эти задачи необязательны к решению и учитываются сверх установленных $80$ баллов. Баллы за корректно решённые бонусные задачи прибавляются к набранным баллам, даже если в сумме получается больше $80$ баллов (оценка за домашнюю работу в этом случае будет больше 10, и так и будет внесена в таблицу с оценками).\n",
    "\n",
    "\n",
    "5. Весь код должен быть написан на Python, R, C или C++.\n",
    "\n",
    "\n",
    "6. Решения принимаются до **29 октября 2021 года, 23:59 МСК** включительно. Работы, отправленные после дедлайна, проверяются, но **не оцениваются**. Дата и время сдачи определяются по последнему запушенному в репозиторий коммиту (можно увидеть на GitHub, наведя мышкой на указатель срока (например, 3 days ago) справа от файлов).\n",
    "\n",
    "\n",
    "7. Все решения нужно загрузить в личный репозиторий на [GitHub Classroom](https://classroom.github.com/a/KZaAKjaA).\n",
    "\n",
    "\n",
    "8. Репозиторий должен содержать: PDF-файл с решениями задач части 1 и файл с кодом с решениями задач части 2. Решение задач части 1 можно набрать в любом электронном редакторе или написать от руки, а затем сделать качественный скан. Все решения должны быть расположены в правильном порядке в одном файле. Файлы должны быть названы по типу «name\\_surname\\_group\\_hw1\\_part1.pdf» и «name\\_surname\\_group\\_hw1\\_part2.ext», где вместо ext может быть .py, .ipynb, .R, .c, .cpp. Если решение части 2 разбивается на несколько файлов кода, то в репозиторий нужно загрузить все файлы, а в README.md подробно указать, что содержит каждый файл. \n",
    "\n",
    "\n",
    "9. Разрешается использовать без доказательства любые результаты, встречавшиеся на лекциях или семинарах по курсу, если получение этих результатов не является вопросом задания. Разрешается использовать любые свободные источники с указанием ссылки на них.\n",
    "\n",
    "\n",
    "10. Плагиат не допускается. При обнаружении случаев списывания, $0$ за работу выставляется всем участникам нарушения, даже если можно установить, кто у кого списал. "
   ]
  },
  {
   "cell_type": "markdown",
   "metadata": {},
   "source": [
    "---"
   ]
  },
  {
   "cell_type": "markdown",
   "metadata": {},
   "source": [
    "#### Задача 14. Divide et impera!\n",
    "\n",
    "Файле `14.csv` содержит данные, которые являются смесью гауссиан. \n",
    "\n",
    "**[a]** Постройте гистограмму выборки. Изучите гистограмму и сделайте предположения о количестве гауссиан, а также задайте разумный вектор начальных параметров $\\theta$.\n",
    "\n",
    "**[б]** **(3 балла)** Реализуйте EM-алгоритм для нахождения оценки $\\hat{\\theta}$. Итоговые формулы представьте только в виде кода (то есть не требуется отдельно прикладывать или техать вывод формул).\n",
    "\n",
    "**[в]** Постройте график $Q$ в зависимости от числа итераций.\n",
    "\n",
    "**[г]** Являются ли полученные оценки параметров адекватными (адекватность оцените визуально по гистограмме). Если нет, приведите возможную причину провала EM-алгоритма. "
   ]
  },
  {
   "cell_type": "code",
   "execution_count": 10,
   "metadata": {},
   "outputs": [],
   "source": [
    "import numpy as np\n",
    "import pandas as pd\n",
    "import matplotlib.pyplot as plt\n",
    "import seaborn as sns\n",
    "import numpy as np\n",
    "import warnings\n",
    "warnings.filterwarnings('ignore')"
   ]
  },
  {
   "cell_type": "code",
   "execution_count": 11,
   "metadata": {},
   "outputs": [
    {
     "data": {
      "image/png": "[encoded data removed]",
      "text/plain": [
       "<Figure size 842.4x595.44 with 1 Axes>"
      ]
     },
     "metadata": {
      "needs_background": "light"
     },
     "output_type": "display_data"
    }
   ],
   "source": [
    "df_1 = pd.read_csv('14.csv')\n",
    "plt.rcParams['figure.figsize'] = 11.7,8.27\n",
    "sns.histplot(df_1.X, kde=True)\n",
    "plt.show()"
   ]
  },
  {
   "cell_type": "code",
   "execution_count": 14,
   "metadata": {},
   "outputs": [],
   "source": [
    "ITER = 10 ** 4\n",
    "MIN = min(df_1.X)\n",
    "MAX = max(df_1.X)"
   ]
  },
  {
   "cell_type": "code",
   "execution_count": 157,
   "metadata": {},
   "outputs": [],
   "source": [
    "def density(x, mu, sigma_sq):\n",
    "    return 1 / np.sqrt(2 * np.pi * sigma_sq) * np.exp(-(x - mu) ** 2 / (2 * sigma_sq))\n",
    "\n",
    "def ell(x, mu, sigma_sq):\n",
    "    return -0.5 * np.log(2 * np.pi * sigma_sq) -(x - mu) ** 2 / (2 * sigma_sq)\n",
    "\n",
    "\n",
    "def update_Q(x, theta_old, prob, p_zfirst):\n",
    "    first = (ell(x, theta_old['mu_1'], theta_old['sigma_1']) + np.log(prob)) * p_zfirst\n",
    "    second = (1 - p_zfirst) * (ell(x, theta_old['mu_2'], theta_old['sigma_2'] + np.log(1-prob)))\n",
    "    return np.sum(first+second)\n",
    "\n",
    "\n",
    "\n",
    "\n",
    "def EM_algo(theta, x, prob):\n",
    "    iterations = []\n",
    "    for i in range(ITER):\n",
    "        p_1 = density(x, theta['mu_1'], theta['sigma_1'])\n",
    "        p_zfirst = p_1 * prob / (p_1 * prob + (1 - prob) * density(x, theta['mu_2'], theta['sigma_2']))\n",
    "            \n",
    "        theta['mu_1'] = np.sum(x * p_zfirst) / np.sum(p_zfirst)\n",
    "        theta['mu_2'] = np.sum(x * (1-p_zfirst)) / np.sum((1-p_zfirst))\n",
    "        theta['sigma_1'] = np.sum((x - theta['mu_1']) ** 2 * p_zfirst)/ np.sum(p_zfirst)\n",
    "        theta['sigma_2'] = np.sum((x - theta['mu_2']) ** 2 * (1-p_zfirst))/ np.sum(1-p_zfirst)\n",
    "        prob = np.sum(p_zfirst)/x.shape[0]\n",
    "        iterations.append(update_Q(x, theta, prob, p_zfirst))\n",
    "        \n",
    "        if len(iterations) >= 2:\n",
    "            if np.linalg.norm(iterations[-1] - iterations[-2]) < 10 ** -5:\n",
    "                break\n",
    "    return theta, iterations, prob"
   ]
  },
  {
   "cell_type": "code",
   "execution_count": 158,
   "metadata": {},
   "outputs": [],
   "source": [
    "theta_st = {'mu_1': MIN, 'mu_2': MAX, 'sigma_1': (MAX - MIN)/2, 'sigma_2': (MAX - MIN)/2}\n",
    "assess, Q_res, prob = EM_algo(theta_st, df_1.X, 0.5)"
   ]
  },
  {
   "cell_type": "code",
   "execution_count": 159,
   "metadata": {},
   "outputs": [
    {
     "data": {
      "text/plain": [
       "{'mu_1': 3.1502022223598454,\n",
       " 'mu_2': 23.910466472575326,\n",
       " 'sigma_1': 6.984357805487811,\n",
       " 'sigma_2': 7.7462205099652826}"
      ]
     },
     "execution_count": 159,
     "metadata": {},
     "output_type": "execute_result"
    }
   ],
   "source": [
    "assess"
   ]
  },
  {
   "cell_type": "code",
   "execution_count": 160,
   "metadata": {},
   "outputs": [
    {
     "data": {
      "text/plain": [
       "0.5809220832884961"
      ]
     },
     "execution_count": 160,
     "metadata": {},
     "output_type": "execute_result"
    }
   ],
   "source": [
    "prob"
   ]
  },
  {
   "cell_type": "markdown",
   "metadata": {},
   "source": [
    "К результатам претензий и подозрений нет. В то же время, возможно необходим более детальный анализ полученных данных. Однако среди плюсов - вне зависимости от начальных значений результат схож."
   ]
  },
  {
   "cell_type": "code",
   "execution_count": 83,
   "metadata": {},
   "outputs": [
    {
     "data": {
      "text/plain": [
       "[<matplotlib.lines.Line2D at 0x7fb2569b45d0>]"
      ]
     },
     "execution_count": 83,
     "metadata": {},
     "output_type": "execute_result"
    },
    {
     "data": {
      "image/png": "[encoded data removed]",
      "text/plain": [
       "<Figure size 842.4x595.44 with 1 Axes>"
      ]
     },
     "metadata": {
      "needs_background": "light"
     },
     "output_type": "display_data"
    }
   ],
   "source": [
    "plt.plot(Q_res)"
   ]
  },
  {
   "cell_type": "markdown",
   "metadata": {},
   "source": [
    "#### Задача 15. Из контрольной прошлого года\n",
    "\n",
    "В контрольной работе прошлого года была такая задача:\n",
    "\n",
    "> У меня есть три монетки. Они выпадают орлом с вероятностями $p_1$, $p_2$ и $p_3 = 1$. Я провожу эксперимент из 100 раундов. В каждом раунде я равновероятно выбираю одну из монеток, подбрасываю её два раза и записываю число выпавших орлов. После окончания эксперимента у меня на бумажке остаётся 100 записанных чисел. Какая монетка подкидывалась в каждом раунде, я не помню.\n",
    "\n",
    "На контрольной требовалось описать EM-алгоритм для нахождения $\\hat{p}_1$ и $\\hat{p}_2$.\n",
    "\n",
    "**[а]** **(3 балла)** В файле `15.csv` приведена описанная выборка из 100 чисел. Реализуйте EM-алгоритм для нахождения $\\hat{p}_1$ и $\\hat{p}_2$.\n",
    "\n",
    "**[б]** Постройте график $Q$ в зависимости от числа итераций.\n",
    "\n",
    "**[в]** Изучите выборку и прокомментируйте адекватность полученных оценок."
   ]
  },
  {
   "cell_type": "code",
   "execution_count": 142,
   "metadata": {},
   "outputs": [],
   "source": [
    "df_2 = pd.read_csv('15.csv')"
   ]
  },
  {
   "cell_type": "code",
   "execution_count": 143,
   "metadata": {},
   "outputs": [],
   "source": [
    "ITER = 10 ** 4\n",
    "PROB = 1/3"
   ]
  },
  {
   "cell_type": "code",
   "execution_count": 163,
   "metadata": {},
   "outputs": [],
   "source": [
    "def probabilities(count, p):\n",
    "    ans = {0: (1-p) ** 2, 1: 2*p*(1-p), 2: p ** 2}\n",
    "    return ans[count]\n",
    "\n",
    "def ell(count, p):\n",
    "    ans = {0: 2*np.log(1-p), 1: np.log(p * (1-p) * 2), 2: 2*np.log(p)}\n",
    "    return ans[count]\n",
    "\n",
    "\n",
    "def wrapper(func, count, p):\n",
    "    return pd.Series([func(i, p) for i in count])\n",
    "\n",
    "\n",
    "def update_Q(x, theta_old, p_zfirst, p_zsecond):\n",
    "    first = (wrapper(ell, x, theta_old['p_1']) + np.log(PROB)) * p_zfirst\n",
    "    second = p_zsecond * (wrapper(ell, x, theta_old['p_2']) + np.log(1-PROB))\n",
    "    return np.sum(first+second + \n",
    "                  np.sum((1-p_zfirst - p_zsecond) * (np.log(1 - theta_old['p_2'] - theta_old['p_1']))))\n",
    "\n",
    "\n",
    "\n",
    "def EM_algo_am(theta, x):\n",
    "    iterations = []\n",
    "    for i in range(ITER):\n",
    "        p_1 = wrapper(probabilities, x, theta['p_1'])\n",
    "        p_2 = wrapper(probabilities, x, theta['p_2'])\n",
    "        p_zfirst = p_1 * PROB / (p_1 * PROB + p_2 * PROB + (1-p_1-p_2) * wrapper(probabilities, x, 1))\n",
    "        p_zsecond = p_2 * PROB / (p_1 * PROB + p_2 * PROB + (1-p_1-p_2) * wrapper(probabilities, x, 1))\n",
    "            \n",
    "        theta['p_1'] = x.dot(p_zfirst) / np.sum(p_zfirst) / 2\n",
    "        theta['p_2'] = x.dot(p_zsecond) / np.sum(p_zfirst) / 2\n",
    "        iterations.append(update_Q(x, theta, p_zfirst, p_zsecond))\n",
    "        \n",
    "        if len(iterations) >= 2:\n",
    "            if np.linalg.norm(iterations[-1] - iterations[-2]) < 10 ** -5:\n",
    "                break\n",
    "    return theta, iterations"
   ]
  },
  {
   "cell_type": "code",
   "execution_count": 168,
   "metadata": {},
   "outputs": [
    {
     "data": {
      "text/plain": [
       "{'p_1': 0.28460927477958076, 'p_2': 0.28460927477958076}"
      ]
     },
     "execution_count": 168,
     "metadata": {},
     "output_type": "execute_result"
    }
   ],
   "source": [
    "theta_st = {'p_1': 0.5, 'p_2': 0.5}\n",
    "assess, Q_res = EM_algo_am(theta_st, df_2.X)\n",
    "assess"
   ]
  },
  {
   "cell_type": "markdown",
   "metadata": {},
   "source": [
    "Полученные оценки выглядят адекватно и указывают, особенно интересно, что вероятности сходи друг с другом вне зависимости от начальных значений."
   ]
  },
  {
   "cell_type": "code",
   "execution_count": 155,
   "metadata": {},
   "outputs": [
    {
     "data": {
      "text/plain": [
       "[<matplotlib.lines.Line2D at 0x7fb256f08410>]"
      ]
     },
     "execution_count": 155,
     "metadata": {},
     "output_type": "execute_result"
    },
    {
     "data": {
      "image/png": "[encoded data removed]",
      "text/plain": [
       "<Figure size 842.4x595.44 with 1 Axes>"
      ]
     },
     "metadata": {
      "needs_background": "light"
     },
     "output_type": "display_data"
    }
   ],
   "source": [
    "plt.plot(Q_res)"
   ]
  },
  {
   "cell_type": "markdown",
   "metadata": {},
   "source": [
    "#### Задача 16. Бутстраппируем!\n",
    "\n",
    "Исследователь Валентин каждый день ловит покемонов. По причинам, которые Валентин предпочитает не раскрывать, он совершает ровно 15 попыток поймать покемона за день. Каждая попытка может окончиться успехом с некоторой вероятностью. В файле `16.csv` представлены наблюдения о пойманных покемонах за 3 года. \n",
    "\n",
    "**[а]** Сделайте предположение о том, какое распределение имеет число пойманных за день покемонов. Это распределение должно иметь один неизвестный параметр.\n",
    "\n",
    "**[б]** Найдите точечную оценку неизвестного параметра методом максимального правдоподобия.\n",
    "\n",
    "**[в]** **(2 балла)** Постройте 95%-ый доверительный интервал для неизвестного параметра при помощи методов **Reverse bootstrap percentile**, **t-bootstrap** и **параметрического бутстрэпа**. "
   ]
  },
  {
   "cell_type": "code",
   "execution_count": 84,
   "metadata": {},
   "outputs": [
    {
     "data": {
      "image/png": "[encoded data removed]",
      "text/plain": [
       "<Figure size 842.4x595.44 with 1 Axes>"
      ]
     },
     "metadata": {
      "needs_background": "light"
     },
     "output_type": "display_data"
    }
   ],
   "source": [
    "df_3 = pd.read_csv('16.csv')\n",
    "plt.rcParams['figure.figsize'] = 11.7,8.27\n",
    "sns.histplot(df_3.X, kde=True)\n",
    "plt.show()"
   ]
  },
  {
   "cell_type": "markdown",
   "metadata": {},
   "source": [
    "Из представленного распределения можно сделатьв вывод, что перед одним из возможных распределение является биномиальное. Параметр - $$ p $$ вероятность успеха. Ёто очевидно: 15 попыток, как с монетками.\n",
    "Тогда\n",
    "\n",
    "\n",
    "$$\\sum \\frac{x_i}{p} + \\frac{15(=max)-x_i}{q} \\longrightarrow \\hat{p}_{ML} = \\frac{\\overline{X}}{15} $$"
   ]
  },
  {
   "cell_type": "code",
   "execution_count": 126,
   "metadata": {},
   "outputs": [],
   "source": [
    "SEED = 123\n",
    "SIZE = 10 ** 3\n",
    "MEAN = df_3.X.mean()\n",
    "MAX = max(df_3.X)\n",
    "INTERVAL = 0.05"
   ]
  },
  {
   "cell_type": "code",
   "execution_count": 135,
   "metadata": {},
   "outputs": [
    {
     "name": "stdout",
     "output_type": "stream",
     "text": [
      "[ 0.6477290715372909 ; 0.6622222222222224 ]\n"
     ]
    }
   ],
   "source": [
    "np.random.seed(SEED)\n",
    "bootstrap_means = []\n",
    "for i in range(SIZE):\n",
    "    bootstrap_samples = np.random.choice(df_3.X, size=df_3.shape[0])\n",
    "    bootstrap_means.append(bootstrap_samples.mean())\n",
    "d_star =  np.array(bootstrap_means) - MEAN\n",
    "d_star_quant = np.quantile(d_star, [INTERVAL / 2, 1 - INTERVAL / 2])\n",
    "LB = (MEAN - d_star_quant[1]) / MAX\n",
    "UB = (MEAN - d_star_quant[0]) / MAX\n",
    "print('[', LB, ';', UB, ']')"
   ]
  },
  {
   "cell_type": "code",
   "execution_count": 133,
   "metadata": {},
   "outputs": [
    {
     "name": "stdout",
     "output_type": "stream",
     "text": [
      "[ 0.5258945279364718 ; 0.7760603104149632 ]\n"
     ]
    }
   ],
   "source": [
    "import scipy.stats\n",
    "\n",
    "bootstrap_ses = []\n",
    "bootstrap_means = []\n",
    "for i in range(SIZE):\n",
    "    bootstrap_samples = np.random.choice(df_3.X, size=df_3.shape[0])\n",
    "    bootstrap_means.append(bootstrap_samples.mean())\n",
    "    bootstrap_ses.append(scipy.stats.sem(bootstrap_samples))\n",
    "t_star =  (np.array(bootstrap_means) - MEAN)/ bootstrap_ses\n",
    "t_star_quant = np.quantile(t_star, [INTERVAL / 2, 1 - INTERVAL / 2])\n",
    "LB = (MEAN - t_star_quant[1]) / MAX\n",
    "UB = (MEAN - t_star_quant[0]) / MAX\n",
    "print('[', LB, ';', UB, ']')"
   ]
  },
  {
   "cell_type": "code",
   "execution_count": 132,
   "metadata": {},
   "outputs": [
    {
     "name": "stdout",
     "output_type": "stream",
     "text": [
      "[ 0.6542382546930493 ; 0.6552166412988332 ]\n"
     ]
    }
   ],
   "source": [
    "lambda_star = []\n",
    "lambda_hat = MEAN / MAX\n",
    "for i in range(SIZE):\n",
    "    bootstrap_samples = np.random.choice(df_3.X, size=df_3.shape[0])\n",
    "    bootstrap_means = bootstrap_samples.mean()\n",
    "    lambda_star.append(bootstrap_means/MAX)\n",
    "d_star = np.array(lambda_star) - lambda_hat\n",
    "d_star_quant = np.quantile(d_star, [INTERVAL / 2, 1 - INTERVAL / 2])\n",
    "LB = (MEAN - d_star_quant[1]) / MAX\n",
    "UB = (MEAN - d_star_quant[0]) / MAX\n",
    "print('[', LB, ';', UB, ']')"
   ]
  }
 ],
 "metadata": {
  "kernelspec": {
   "display_name": "Python 3",
   "language": "python",
   "name": "python3"
  },
  "language_info": {
   "codemirror_mode": {
    "name": "ipython",
    "version": 3
   },
   "file_extension": ".py",
   "mimetype": "text/x-python",
   "name": "python",
   "nbconvert_exporter": "python",
   "pygments_lexer": "ipython3",
   "version": "3.7.4"
  }
 },
 "nbformat": 4,
 "nbformat_minor": 5
}
