{
 "cells": [
  {
   "cell_type": "code",
   "execution_count": null,
   "metadata": {
    "id": "rd2xJgL81KYr"
   },
   "outputs": [],
   "source": [
    "import numpy as np\n",
    "import torch\n",
    "import torchvision\n",
    "import tqdm\n",
    "from torch import nn\n",
    "from torch.nn import functional as F\n",
    "from sklearn.metrics import accuracy_score\n",
    "from torch.utils.data import Dataset, DataLoader\n",
    "from torchvision import transforms as T\n",
    "from tqdm import tqdm_notebook\n",
    "from sklearn.metrics import accuracy_score\n",
    "import random\n",
    "\n",
    "import warnings\n",
    "warnings.filterwarnings('ignore')"
   ]
  },
  {
   "cell_type": "code",
   "execution_count": null,
   "metadata": {
    "id": "AtMhc5mK1PSD"
   },
   "outputs": [],
   "source": [
    "!wget https://www.dropbox.com/s/33l8lp62rmvtx40/dataset.zip?dl=1 -O dataset.zip && unzip -q dataset.zip"
   ]
  },
  {
   "cell_type": "code",
   "execution_count": null,
   "metadata": {
    "id": "cyPWD1Y31PxV"
   },
   "outputs": [],
   "source": [
    "PRE_BATCH_SIZE = 8\n",
    "BATCH_SIZE = 256\n",
    "NUM_EPOCHS=27\n",
    "SEED = 42\n",
    "LR = 4e-4"
   ]
  },
  {
   "cell_type": "code",
   "execution_count": null,
   "metadata": {
    "id": "iOddyM7X1S1O"
   },
   "outputs": [],
   "source": [
    "def set_random_seed(seed):\n",
    "    torch.backends.cudnn.deterministic = True\n",
    "    torch.manual_seed(seed)\n",
    "    torch.cuda.manual_seed(seed)\n",
    "    np.random.seed(seed)\n",
    "    random.seed(seed)\n",
    "set_random_seed(SEED)"
   ]
  },
  {
   "cell_type": "code",
   "execution_count": null,
   "metadata": {
    "id": "xZ0QoQ521Ueq"
   },
   "outputs": [],
   "source": [
    "class MyDataset(torch.utils.data.Dataset):\n",
    "    def __init__(self, data_dir, transform):\n",
    "        super().__init__()\n",
    "        self.data_dir = data_dir\n",
    "        self.transform = torchvision.datasets.ImageFolder(data_dir, transform)\n",
    "        pass\n",
    "    \n",
    "    def __getitem__(self, idx):\n",
    "        return self.transform[idx]\n",
    "    \n",
    "    def __len__(self):\n",
    "        return len(self.transform)"
   ]
  },
  {
   "cell_type": "code",
   "execution_count": null,
   "metadata": {
    "id": "VxUi8tB81WNy"
   },
   "outputs": [],
   "source": [
    "dataset_train = MyDataset(\"./dataset/dataset/train\", transform = T.Compose([T.ToTensor()]))\n",
    "train_dataloader = DataLoader(dataset_train, batch_size=PRE_BATCH_SIZE, shuffle=True)\n",
    "\n",
    "cum_mean = 0\n",
    "cum_std = 0\n",
    "for images, _ in train_dataloader:\n",
    "    cum_mean += images.mean(dim=(0, 2, 3))\n",
    "    cum_std += images.std(dim=(0, 2, 3))"
   ]
  },
  {
   "cell_type": "code",
   "execution_count": null,
   "metadata": {
    "id": "d7Pf_0YY1X7G"
   },
   "outputs": [],
   "source": [
    "mean = cum_mean / len(train_dataloader)\n",
    "std = cum_std / len(train_dataloader)\n",
    "\n",
    "train_transform = T.Compose([\n",
    "        T.RandomApply([\n",
    "           T.RandomHorizontalFlip(0.15),\n",
    "            T.ColorJitter(brightness=.3, hue=.2),\n",
    "            T.TrivialAugmentWide(),\n",
    "            T.RandomSolarize(threshold=170.0),\n",
    "            T.RandomPerspective(distortion_scale=0.4, p=0.2),\n",
    "        ], p=0.6),\n",
    "        T.ToTensor(),\n",
    "        T.Normalize(mean, std)])\n",
    "\n",
    "val_transform = T.Compose([\n",
    "    T.ToTensor(),\n",
    "    T.Normalize(mean, std)\n",
    "\n",
    "])"
   ]
  },
  {
   "cell_type": "code",
   "execution_count": null,
   "metadata": {
    "id": "rnJBpBvp1ZoH"
   },
   "outputs": [],
   "source": [
    "dataset_train = MyDataset(\"./dataset/dataset/train\", transform=train_transform)\n",
    "dataset_val = MyDataset(\"./dataset/dataset/val\", transform=val_transform)\n",
    "\n",
    "train_dataloader = DataLoader(dataset_train, batch_size=BATCH_SIZE, shuffle=True)\n",
    "val_dataloader = DataLoader(dataset_val, batch_size=BATCH_SIZE, shuffle=True)"
   ]
  },
  {
   "cell_type": "code",
   "execution_count": null,
   "metadata": {
    "id": "uy12gSkH1bRW"
   },
   "outputs": [],
   "source": [
    "assert isinstance(dataset_train[0], tuple)\n",
    "assert len(dataset_train[0]) == 2\n",
    "assert isinstance(dataset_train[1][1], int)\n",
    "print(\"tests passed\")"
   ]
  },
  {
   "cell_type": "code",
   "execution_count": null,
   "metadata": {
    "id": "zrjlugCW1c4Y"
   },
   "outputs": [],
   "source": [
    "def train(model, train_dataloader, eval_dataloader, criterion, optimizer, device=\"cpu\", n_epochs=NUM_EPOCHS, schedulder=None):\n",
    "    for epoch in range(n_epochs):\n",
    "        train_one_epoch(model, train_dataloader, criterion, optimizer, device)\n",
    "        loss = evaluate(model, eval_dataloader, criterion, device)\n",
    "        print(\"\\tEPOCH №{}\".format(epoch), \"has finished\")\n",
    "        if schedulder is not None:\n",
    "            scheduler.step(loss)\n",
    "    \n",
    "    \n",
    "def train_one_epoch(model, train_dataloader, criterion, optimizer, device):\n",
    "    progress_bar = tqdm_notebook(train_dataloader)\n",
    "    model = model.to(device).train()\n",
    "    idx = 0\n",
    "    for (images, labels) in progress_bar:\n",
    "        preds = model(images.to(device))\n",
    "        loss = criterion(preds, labels.to(device))\n",
    "        loss.backward()\n",
    "        optimizer.step()\n",
    "        optimizer.zero_grad()\n",
    "        if idx % 10 == 0:\n",
    "            progress_bar.set_description(\"Loss = {:.4f}\".format(loss.item()))\n",
    "        idx += 1\n",
    "        \n",
    "def evaluate(model, eval_dataloader, criterion, device=\"cuda:0\"):\n",
    "    cumulative_loss = 0\n",
    "    acc = 0\n",
    "    model = model.eval()\n",
    "    with torch.no_grad():\n",
    "        for idx, (images, labels) in enumerate(eval_dataloader): \n",
    "          images, labels = images.to(device), labels.to(device)\n",
    "          preds = model(images)\n",
    "          loss = criterion(preds, labels)\n",
    "          cumulative_loss += loss.item()\n",
    "          acc += (preds.argmax(1) == labels).float().mean()\n",
    "    print(\"Loss = {:.4f}\".format(cumulative_loss / idx), \"accuracy = {:.4f}\".format(acc / idx))\n",
    "    return cumulative_loss"
   ]
  },
  {
   "cell_type": "code",
   "execution_count": null,
   "metadata": {
    "id": "Ufax5AI31e1Y"
   },
   "outputs": [],
   "source": [
    "class MyModel(nn.Module):\n",
    "    def __init__(self):\n",
    "        super(MyModel, self).__init__()\n",
    "        self.block1 = nn.Sequential(\n",
    "            nn.Conv2d(3, 16, (3, 3)),\n",
    "            nn.MaxPool2d((2, 2)),\n",
    "            nn.ReLU(),\n",
    "            nn.BatchNorm2d(16),\n",
    "        )\n",
    "        \n",
    "        self.block2 = nn.Sequential(\n",
    "            nn.Conv2d(16, 64, (3, 3)),\n",
    "            nn.MaxPool2d((2, 2)),\n",
    "            nn.ReLU(),\n",
    "            nn.BatchNorm2d(64),\n",
    "        )\n",
    "        \n",
    "        self.block3 = nn.Sequential(\n",
    "            nn.Conv2d(64, 256, (3, 3)),\n",
    "            nn.MaxPool2d((2, 2)),\n",
    "            nn.ReLU(),\n",
    "            nn.BatchNorm2d(256),\n",
    "        ) \n",
    "        \n",
    "        \n",
    "        self.block4 = nn.Sequential(\n",
    "             nn.Conv2d(256, 256, (3, 3)),\n",
    "             nn.MaxPool2d((2, 2)),\n",
    "             nn.ReLU(),\n",
    "             nn.BatchNorm2d(256),\n",
    "         )\n",
    "        \n",
    "        self.classifier = nn.Sequential(\n",
    "            nn.Flatten(),\n",
    "            nn.Linear(1024, 1024),\n",
    "            nn.Dropout(0.1),\n",
    "            nn.ReLU(),\n",
    "            nn.Linear(1024, 200),\n",
    "        )\n",
    "        \n",
    "    def forward(self, x):\n",
    "        x = self.block1(x)\n",
    "        x = self.block2(x)\n",
    "        x = self.block3(x)\n",
    "        x = self.block4(x)\n",
    "        return self.classifier(x)\n",
    "model = MyModel()"
   ]
  },
  {
   "cell_type": "code",
   "execution_count": null,
   "metadata": {
    "id": "xZDfvaMN1hSV"
   },
   "outputs": [],
   "source": [
    "model = MyModel()\n",
    "optimizer = torch.optim.Adam(model.parameters(), lr=LR)\n",
    "criterion = nn.CrossEntropyLoss()\n",
    "scheduler =  torch.optim.lr_scheduler.ReduceLROnPlateau(optimizer, patience=0)\n",
    "n_epochs = NUM_EPOCHS\n",
    "device = torch.device(\"cuda:0\") if torch.cuda.is_available() else torch.device(\"cpu\")"
   ]
  },
  {
   "cell_type": "code",
   "execution_count": null,
   "metadata": {
    "id": "7HD-ayfa1lsA"
   },
   "outputs": [],
   "source": [
    "train(model, train_dataloader, val_dataloader, criterion, optimizer, device='cuda', schedulder = scheduler)"
   ]
  },
  {
   "cell_type": "code",
   "execution_count": null,
   "metadata": {
    "id": "VlidCowP2dpR"
   },
   "outputs": [],
   "source": []
  },
  {
   "cell_type": "code",
   "execution_count": null,
   "metadata": {
    "id": "ufamadjV4BDr"
   },
   "outputs": [],
   "source": [
    "from itertools import chain\n",
    "\n",
    "def predict(model,  val_dataloader, criterion, device):\n",
    "    cumulative_loss = 0\n",
    "    acc = 0\n",
    "    model = model.eval()\n",
    "    resolver = {'all':[], 'pred':[], 'true': []}\n",
    "    with torch.no_grad():\n",
    "        for idx, (images, labels) in enumerate(val_dataloader): \n",
    "            images, labels = images.to(device), labels.to(device)\n",
    "            preds = model(images)\n",
    "            loss = criterion(preds, labels)\n",
    "            \n",
    "            resolver['all'].append(loss.item())\n",
    "            resolver['true'].append(list(labels.cpu().detach().numpy()))\n",
    "            resolver['pred'].append(list(preds.argmax(1).cpu().detach().numpy()))\n",
    "    return list(resolver['all']), list(chain(*resolver['pred'])), list(chain(*resolver['true']))"
   ]
  },
  {
   "cell_type": "code",
   "execution_count": null,
   "metadata": {
    "id": "xVqeobAb4B1B"
   },
   "outputs": [],
   "source": [
    "all_losses, predicted_labels, true_labels = predict(model, val_dataloader, criterion, device)\n",
    "assert len(predicted_labels) == len(dataset_val)\n",
    "accuracy = accuracy_score(predicted_labels, true_labels)\n",
    "print(\"tests passed\")"
   ]
  },
  {
   "cell_type": "code",
   "execution_count": null,
   "metadata": {
    "id": "V2j26lJQ4D7i"
   },
   "outputs": [],
   "source": [
    "print(f'Оценка за это задание составит {np.clip(10 * accuracy / 0.44, 0, 10):.2f} баллов,'\\\n",
    "      f' если вы делали часть 1, и {np.clip(10 * (accuracy - 0.5) / 0.34, 0, 10):.2f} баллов,'\\\n",
    "      f' если вы делали часть 2.')"
   ]
  },
  {
   "cell_type": "code",
   "execution_count": null,
   "metadata": {
    "id": "8nSNfIRz4GJ_"
   },
   "outputs": [],
   "source": []
  }
 ],
 "metadata": {
  "accelerator": "GPU",
  "colab": {
   "name": "Untitled0.ipynb",
   "private_outputs": true,
   "provenance": []
  },
  "kernelspec": {
   "display_name": "Python 3",
   "language": "python",
   "name": "python3"
  },
  "language_info": {
   "codemirror_mode": {
    "name": "ipython",
    "version": 3
   },
   "file_extension": ".py",
   "mimetype": "text/x-python",
   "name": "python",
   "nbconvert_exporter": "python",
   "pygments_lexer": "ipython3",
   "version": "3.7.4"
  }
 },
 "nbformat": 4,
 "nbformat_minor": 1
}
