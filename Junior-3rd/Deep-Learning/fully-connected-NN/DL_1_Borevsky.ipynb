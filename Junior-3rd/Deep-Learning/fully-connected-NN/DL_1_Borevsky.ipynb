{
 "cells": [
  {
   "cell_type": "markdown",
   "metadata": {
    "id": "Q_upCOEI3Upu"
   },
   "source": [
    "# Введение в глубинное обучение, ФКН ВШЭ\n",
    "\n",
    "## Домашнее задание 1. Введение в PyTorch. Полносвязные нейронные сети.\n",
    "\n",
    "### Общая информация\n",
    "\n",
    "Дата выдачи: 05.10.2021\n",
    "\n",
    "Мягкий дедлайн: 23:59MSK 19.10.2021\n",
    "\n",
    "Жесткий дедлайн: 23:59MSK 23.10.2021\n",
    "\n",
    "Оценка после штрафа после мягкого дедлайна вычисляется по формуле $M_{penalty} = M_{full} \\cdot 0.85^{t/1440}$, где $M_{full}$ &mdash; полная оценка за работу без учета штрафа, а $t$ &mdash; время в минутах, прошедшее после мягкого дедлайна (округление до двух цифр после запятой). Таким образом, спустя первые сутки после мягкого дедлайна вы не можете получить оценку выше **8.5**, а если сдать перед самым жестким дедлайном, то ваш максимум &mdash; **5.22** балла.\n",
    "\n",
    "### Оценивание и штрафы\n",
    "Максимально допустимая оценка за работу — 10 баллов. Сдавать задание после указанного срока сдачи нельзя.\n",
    "\n",
    "Задание выполняется самостоятельно. «Похожие» решения считаются плагиатом и все задействованные студенты (в том числе те, у кого списали) не могут получить за него больше 0 баллов. Если вы нашли решение какого-то из заданий (или его часть) в открытом источнике, необходимо указать ссылку на этот источник в отдельном блоке в конце вашей работы (скорее всего вы будете не единственным, кто это нашел, поэтому чтобы исключить подозрение в плагиате, необходима ссылка на источник).\n",
    "\n",
    "Неэффективная реализация кода может негативно отразиться на оценке.\n",
    "Также оценка может быть снижена за плохо читаемый код и плохо оформленные графики. Все ответы должны сопровождаться кодом или комментариями о том, как они были получены.\n",
    "\n",
    "### О задании\n",
    "\n",
    "В этом задании вам предстоит предсказывать год выпуска песни по некоторым звуковым признакам: [данные](https://archive.ics.uci.edu/ml/datasets/yearpredictionmsd). В ячейках ниже находится код для загрузки данных. Обратите внимание, что обучающая и тестовая выборки располагаются в одном файле, поэтому НЕ меняйте ячейку, в которой производится деление данных."
   ]
  },
  {
   "cell_type": "code",
   "execution_count": 1,
   "metadata": {
    "id": "RI_eoe063VaP"
   },
   "outputs": [],
   "source": [
    "from IPython.display import display, clear_output\n",
    "\n",
    "import numpy as np\n",
    "import pandas as pd\n",
    "from tqdm.notebook import tqdm\n",
    "from sklearn.model_selection import train_test_split\n",
    "from sklearn.preprocessing import StandardScaler\n",
    "\n",
    "import torch\n",
    "from torch import nn\n",
    "from torch.nn import functional as F\n",
    "from torch.utils.data import Dataset, DataLoader\n",
    "\n",
    "\n",
    "import random\n",
    "import seaborn as sns\n",
    "import matplotlib.pyplot as plt\n",
    "from sklearn.preprocessing import StandardScaler"
   ]
  },
  {
   "cell_type": "code",
   "execution_count": 2,
   "metadata": {
    "id": "DSVJZzkJ7zZE"
   },
   "outputs": [
    {
     "data": {
      "text/html": [
       "<div>\n",
       "<style scoped>\n",
       "    .dataframe tbody tr th:only-of-type {\n",
       "        vertical-align: middle;\n",
       "    }\n",
       "\n",
       "    .dataframe tbody tr th {\n",
       "        vertical-align: top;\n",
       "    }\n",
       "\n",
       "    .dataframe thead th {\n",
       "        text-align: right;\n",
       "    }\n",
       "</style>\n",
       "<table border=\"1\" class=\"dataframe\">\n",
       "  <thead>\n",
       "    <tr style=\"text-align: right;\">\n",
       "      <th></th>\n",
       "      <th>0</th>\n",
       "      <th>1</th>\n",
       "      <th>2</th>\n",
       "      <th>3</th>\n",
       "      <th>4</th>\n",
       "      <th>5</th>\n",
       "      <th>6</th>\n",
       "      <th>7</th>\n",
       "      <th>8</th>\n",
       "      <th>9</th>\n",
       "      <th>...</th>\n",
       "      <th>81</th>\n",
       "      <th>82</th>\n",
       "      <th>83</th>\n",
       "      <th>84</th>\n",
       "      <th>85</th>\n",
       "      <th>86</th>\n",
       "      <th>87</th>\n",
       "      <th>88</th>\n",
       "      <th>89</th>\n",
       "      <th>90</th>\n",
       "    </tr>\n",
       "  </thead>\n",
       "  <tbody>\n",
       "    <tr>\n",
       "      <th>0</th>\n",
       "      <td>2001</td>\n",
       "      <td>49.94357</td>\n",
       "      <td>21.47114</td>\n",
       "      <td>73.07750</td>\n",
       "      <td>8.74861</td>\n",
       "      <td>-17.40628</td>\n",
       "      <td>-13.09905</td>\n",
       "      <td>-25.01202</td>\n",
       "      <td>-12.23257</td>\n",
       "      <td>7.83089</td>\n",
       "      <td>...</td>\n",
       "      <td>13.01620</td>\n",
       "      <td>-54.40548</td>\n",
       "      <td>58.99367</td>\n",
       "      <td>15.37344</td>\n",
       "      <td>1.11144</td>\n",
       "      <td>-23.08793</td>\n",
       "      <td>68.40795</td>\n",
       "      <td>-1.82223</td>\n",
       "      <td>-27.46348</td>\n",
       "      <td>2.26327</td>\n",
       "    </tr>\n",
       "    <tr>\n",
       "      <th>1</th>\n",
       "      <td>2001</td>\n",
       "      <td>48.73215</td>\n",
       "      <td>18.42930</td>\n",
       "      <td>70.32679</td>\n",
       "      <td>12.94636</td>\n",
       "      <td>-10.32437</td>\n",
       "      <td>-24.83777</td>\n",
       "      <td>8.76630</td>\n",
       "      <td>-0.92019</td>\n",
       "      <td>18.76548</td>\n",
       "      <td>...</td>\n",
       "      <td>5.66812</td>\n",
       "      <td>-19.68073</td>\n",
       "      <td>33.04964</td>\n",
       "      <td>42.87836</td>\n",
       "      <td>-9.90378</td>\n",
       "      <td>-32.22788</td>\n",
       "      <td>70.49388</td>\n",
       "      <td>12.04941</td>\n",
       "      <td>58.43453</td>\n",
       "      <td>26.92061</td>\n",
       "    </tr>\n",
       "    <tr>\n",
       "      <th>2</th>\n",
       "      <td>2001</td>\n",
       "      <td>50.95714</td>\n",
       "      <td>31.85602</td>\n",
       "      <td>55.81851</td>\n",
       "      <td>13.41693</td>\n",
       "      <td>-6.57898</td>\n",
       "      <td>-18.54940</td>\n",
       "      <td>-3.27872</td>\n",
       "      <td>-2.35035</td>\n",
       "      <td>16.07017</td>\n",
       "      <td>...</td>\n",
       "      <td>3.03800</td>\n",
       "      <td>26.05866</td>\n",
       "      <td>-50.92779</td>\n",
       "      <td>10.93792</td>\n",
       "      <td>-0.07568</td>\n",
       "      <td>43.20130</td>\n",
       "      <td>-115.00698</td>\n",
       "      <td>-0.05859</td>\n",
       "      <td>39.67068</td>\n",
       "      <td>-0.66345</td>\n",
       "    </tr>\n",
       "    <tr>\n",
       "      <th>3</th>\n",
       "      <td>2001</td>\n",
       "      <td>48.24750</td>\n",
       "      <td>-1.89837</td>\n",
       "      <td>36.29772</td>\n",
       "      <td>2.58776</td>\n",
       "      <td>0.97170</td>\n",
       "      <td>-26.21683</td>\n",
       "      <td>5.05097</td>\n",
       "      <td>-10.34124</td>\n",
       "      <td>3.55005</td>\n",
       "      <td>...</td>\n",
       "      <td>34.57337</td>\n",
       "      <td>-171.70734</td>\n",
       "      <td>-16.96705</td>\n",
       "      <td>-46.67617</td>\n",
       "      <td>-12.51516</td>\n",
       "      <td>82.58061</td>\n",
       "      <td>-72.08993</td>\n",
       "      <td>9.90558</td>\n",
       "      <td>199.62971</td>\n",
       "      <td>18.85382</td>\n",
       "    </tr>\n",
       "    <tr>\n",
       "      <th>4</th>\n",
       "      <td>2001</td>\n",
       "      <td>50.97020</td>\n",
       "      <td>42.20998</td>\n",
       "      <td>67.09964</td>\n",
       "      <td>8.46791</td>\n",
       "      <td>-15.85279</td>\n",
       "      <td>-16.81409</td>\n",
       "      <td>-12.48207</td>\n",
       "      <td>-9.37636</td>\n",
       "      <td>12.63699</td>\n",
       "      <td>...</td>\n",
       "      <td>9.92661</td>\n",
       "      <td>-55.95724</td>\n",
       "      <td>64.92712</td>\n",
       "      <td>-17.72522</td>\n",
       "      <td>-1.49237</td>\n",
       "      <td>-7.50035</td>\n",
       "      <td>51.76631</td>\n",
       "      <td>7.88713</td>\n",
       "      <td>55.66926</td>\n",
       "      <td>28.74903</td>\n",
       "    </tr>\n",
       "  </tbody>\n",
       "</table>\n",
       "<p>5 rows × 91 columns</p>\n",
       "</div>"
      ],
      "text/plain": [
       "     0         1         2         3         4         5         6         7   \\\n",
       "0  2001  49.94357  21.47114  73.07750   8.74861 -17.40628 -13.09905 -25.01202   \n",
       "1  2001  48.73215  18.42930  70.32679  12.94636 -10.32437 -24.83777   8.76630   \n",
       "2  2001  50.95714  31.85602  55.81851  13.41693  -6.57898 -18.54940  -3.27872   \n",
       "3  2001  48.24750  -1.89837  36.29772   2.58776   0.97170 -26.21683   5.05097   \n",
       "4  2001  50.97020  42.20998  67.09964   8.46791 -15.85279 -16.81409 -12.48207   \n",
       "\n",
       "         8         9   ...        81         82        83        84        85  \\\n",
       "0 -12.23257   7.83089  ...  13.01620  -54.40548  58.99367  15.37344   1.11144   \n",
       "1  -0.92019  18.76548  ...   5.66812  -19.68073  33.04964  42.87836  -9.90378   \n",
       "2  -2.35035  16.07017  ...   3.03800   26.05866 -50.92779  10.93792  -0.07568   \n",
       "3 -10.34124   3.55005  ...  34.57337 -171.70734 -16.96705 -46.67617 -12.51516   \n",
       "4  -9.37636  12.63699  ...   9.92661  -55.95724  64.92712 -17.72522  -1.49237   \n",
       "\n",
       "         86         87        88         89        90  \n",
       "0 -23.08793   68.40795  -1.82223  -27.46348   2.26327  \n",
       "1 -32.22788   70.49388  12.04941   58.43453  26.92061  \n",
       "2  43.20130 -115.00698  -0.05859   39.67068  -0.66345  \n",
       "3  82.58061  -72.08993   9.90558  199.62971  18.85382  \n",
       "4  -7.50035   51.76631   7.88713   55.66926  28.74903  \n",
       "\n",
       "[5 rows x 91 columns]"
      ]
     },
     "execution_count": 2,
     "metadata": {},
     "output_type": "execute_result"
    }
   ],
   "source": [
    "df = pd.read_csv('year_pred.txt.zip', header=None)\n",
    "df.head()"
   ]
  },
  {
   "cell_type": "code",
   "execution_count": 80,
   "metadata": {
    "id": "n4wnRJT1778j"
   },
   "outputs": [],
   "source": [
    "X = df.iloc[:, 1:].values\n",
    "y = df.iloc[:, 0].values\n",
    "\n",
    "train_size = 463715\n",
    "X_train = X[:train_size, :]\n",
    "y_train = y[:train_size]\n",
    "X_test = X[train_size:, :]\n",
    "y_test = y[train_size:]"
   ]
  },
  {
   "cell_type": "markdown",
   "metadata": {
    "id": "_386JE_o5gOd"
   },
   "source": [
    "## Задание 0. (0 баллов, но при невыполнении максимум за все задание &mdash; 0 баллов)\n",
    "\n",
    "Мы будем использовать RMSE как метрику качества. Для самого первого бейзлайна обучите `Ridge` регрессию из `sklearn`. Кроме того, посчитайте качество при наилучшем константном прогнозе."
   ]
  },
  {
   "cell_type": "code",
   "execution_count": 4,
   "metadata": {
    "id": "otwuisa56MLr"
   },
   "outputs": [
    {
     "name": "stdout",
     "output_type": "stream",
     "text": [
      "Test RMSE = 9.5102\n"
     ]
    }
   ],
   "source": [
    "from sklearn.linear_model import Ridge\n",
    "from sklearn.metrics import mean_squared_error\n",
    "\n",
    "\n",
    "model = Ridge()\n",
    "model.fit(X_train, y_train)\n",
    "y_pred = model.predict(X_test)\n",
    "print(\"Test RMSE = %.4f\" % mean_squared_error(y_test, y_pred, squared=False))"
   ]
  },
  {
   "cell_type": "code",
   "execution_count": 114,
   "metadata": {},
   "outputs": [
    {
     "name": "stdout",
     "output_type": "stream",
     "text": [
      "Train: 10.939755150678016\n",
      "Test: 10.85246390513634\n"
     ]
    }
   ],
   "source": [
    "print(\"Train:\", mean_squared_error(y_train, [y_train.mean()] * y_train.shape[0], squared=False))\n",
    "print(\"Test:\", mean_squared_error(y_test, [y_train.mean()] * y_test.shape[0], squared=False))"
   ]
  },
  {
   "cell_type": "markdown",
   "metadata": {
    "id": "_6ilBKYt6OdD"
   },
   "source": [
    "## Задание 1. (максимум 10 баллов)\n",
    "\n",
    "Реализуйте обучение и тестирование нейронной сети для предоставленного вам набора данных. Соотношение между полученным значением метрики на тестовой выборке и баллами за задание следующее:\n",
    "\n",
    "- $\\text{RMSE} \\le 9.00 $ &mdash; 4 балла\n",
    "- $\\text{RMSE} \\le 8.90 $ &mdash; 6 баллов\n",
    "- $\\text{RMSE} \\le 8.80 $ &mdash; 8 баллов\n",
    "- $\\text{RMSE} \\le 8.75 $ &mdash; 10 баллов\n",
    "\n",
    "Есть несколько правил, которых вам нужно придерживаться:\n",
    "\n",
    "- Весь пайплайн обучения должен быть написан на PyTorch. При этом вы можете пользоваться другими библиотеками (`numpy`, `sklearn` и пр.), но только для обработки данных. То есть как угодно трансформировать данные и считать метрики с помощью этих библиотек можно, а импортировать модели из `sklearn` и выбивать с их помощью требуемое качество &mdash; нельзя. Также нельзя пользоваться библиотеками, для которых сам PyTorch является зависимостью.\n",
    "\n",
    "- Мы никак не ограничиваем ваш выбор архитектуры модели, но скорее всего вам будет достаточно полносвязной нейронной сети.\n",
    "\n",
    "- Для обучения запрещается использовать какие-либо иные данные, кроме обучающей выборки.\n",
    "\n",
    "- Ансамблирование моделей запрещено.\n",
    "\n",
    "### Полезные советы:\n",
    "\n",
    "- Очень вряд ли, что у вас с первого раза получится выбить качество на 10 баллов, поэтому пробуйте разные архитектуры, оптимизаторы и значения гиперпараметров. В идеале при запуске каждого нового эксперимента вы должны менять что-то одно, чтобы точно знать, как этот фактор влияет на качество.\n",
    "\n",
    "- Тот факт, что мы занимаемся глубинным обучением, не означает, что стоит забывать про приемы, использующиеся в классическом машинном обучении. Так что обязательно проводите исследовательский анализ данных, отрисовывайте нужные графики и не забывайте про масштабирование и подбор гиперпараметров.\n",
    "\n",
    "- Вы наверняка столкнетесь с тем, что ваша нейронная сеть будет сильно переобучаться. Для нейросетей существуют специальные методы регуляризации, например, dropout ([статья](https://jmlr.org/papers/volume15/srivastava14a/srivastava14a.pdf)) и weight decay ([блогпост](https://towardsdatascience.com/weight-decay-l2-regularization-90a9e17713cd)). Они, разумеется, реализованы в PyTorch. Попробуйте поэкспериментировать с ними.\n",
    "\n",
    "- Если вы чего-то не знайте, не гнушайтесь гуглить. В интернете очень много полезной информации, туториалов и советов по глубинному обучению в целом и по PyTorch в частности. Но не забывайте, что за скатанный код без ссылки на источник придется ответить по всей строгости!\n",
    "\n",
    "- Если вы сразу реализуете обучение на GPU, то у вас будет больше времени на эксперименты, так как любые вычисления будут работать быстрее. Google Colab предоставляет несколько GPU-часов (обычно около 8-10) в сутки бесплатно.\n",
    "\n",
    "- Чтобы отладить код, можете обучаться на небольшой части данных или даже на одном батче. Если лосс на обучающей выборке не падает, то что-то точно идет не так!\n",
    "\n",
    "- Пользуйтесь утилитами, которые вам предоставляет PyTorch (например, Dataset и Dataloader). Их специально разработали для упрощения разработки пайплайна обучения.\n",
    "\n",
    "- Скорее всего вы захотите отслеживать прогресс обучения. Для создания прогресс-баров есть удобная библиотека `tqdm`.\n",
    "\n",
    "- Быть может, вы захотите, чтобы графики рисовались прямо во время обучения. Можете воспользоваться функцией [clear_output](http://ipython.org/ipython-doc/dev/api/generated/IPython.display.html#IPython.display.clear_output), чтобы удалять старый график и рисовать новый на его месте.\n",
    "\n",
    "**ОБЯЗАТЕЛЬНО** рисуйте графики зависимости лосса/метрики на обучающей и тестовой выборках в зависимости от времени обучения. Если обучение занимает относительно небольшое число эпох, то лучше рисовать зависимость от номера шага обучения, если же эпох больше, то рисуйте зависимость по эпохам. Если проверяющий не увидит такого графика для вашей лучшей модели, то он в праве снизить баллы за задание.\n",
    "\n",
    "**ВАЖНО!** Ваше решение должно быть воспроизводимым. Если это не так, то проверяющий имеет право снизить баллы за задание. Чтобы зафиксировать random seed, воспользуйтесь функцией из ячейки ниже.\n",
    "\n"
   ]
  },
  {
   "cell_type": "code",
   "execution_count": 6,
   "metadata": {
    "id": "VaMButDmEKKw"
   },
   "outputs": [],
   "source": [
    "def set_random_seed(seed):\n",
    "    torch.backends.cudnn.deterministic = True\n",
    "    torch.manual_seed(seed)\n",
    "    torch.cuda.manual_seed(seed)\n",
    "    np.random.seed(seed)\n",
    "    random.seed(seed)"
   ]
  },
  {
   "cell_type": "markdown",
   "metadata": {
    "id": "TZW0gMe3vT8u"
   },
   "source": [
    "Вы можете придерживаться любой адекватной струкуры кода, но мы советуем воспользоваться следующими сигнатурами функций. Лучше всего, если вы проверите ваши предсказания ассертом: так вы убережете себя от разных косяков, например, что вектор предсказаний состоит из всего одного числа. В любом случае, внимательно следите за тем, для каких тензоров вы считаете метрику RMSE. При случайном или намеренном введении в заблуждение проверяющие очень сильно разозлятся.\n",
    "\n",
    "### Часть первая. Optuna\n",
    "\n",
    "Практически весь код данной части был взять из гитхаба разработчиков библиотеки: https://github.com/optuna/optuna-examples/blob/main/pytorch/pytorch_simple.py\n",
    "\n",
    "Отличия заключаются в подстраивании кода под специфику конкретной задачи, в частности, уход от задачи классификации.\n",
    "\n",
    "**1. Подключение библиотек**"
   ]
  },
  {
   "cell_type": "code",
   "execution_count": 78,
   "metadata": {},
   "outputs": [],
   "source": [
    "import os\n",
    "import optuna\n",
    "from optuna.trial import TrialState\n",
    "import torch\n",
    "import torch.nn as nn\n",
    "import torch.nn.functional as F\n",
    "import torch.optim as optim\n",
    "import torch.utils.data\n",
    "from torchvision import datasets\n",
    "from torchvision import transforms"
   ]
  },
  {
   "cell_type": "markdown",
   "metadata": {},
   "source": [
    "**2. Иниицилизация констант**"
   ]
  },
  {
   "cell_type": "code",
   "execution_count": 79,
   "metadata": {},
   "outputs": [],
   "source": [
    "DEVICE = torch.device(\"cpu\")\n",
    "BATCH_SIZE = 128\n",
    "EPOCHS = 10\n",
    "N_TRAIN_EXAMPLES = BATCH_SIZE * 70\n",
    "N_VALID_EXAMPLES = BATCH_SIZE * 40\n",
    "EVAL_BATCH_SIZE = 128\n",
    "SEED = 42\n",
    "WEIGHT_DECAY = 1e-3\n",
    "GAMMA = 0.9995"
   ]
  },
  {
   "cell_type": "markdown",
   "metadata": {},
   "source": [
    "**3. Устройство данных**\n",
    "\n",
    "Класс MyDataset - с семинара 194 группы. Функция get_mnist() - микс из того же семинара и кода разработчиков optuna."
   ]
  },
  {
   "cell_type": "code",
   "execution_count": 7,
   "metadata": {},
   "outputs": [],
   "source": [
    "class MyDataset(Dataset):\n",
    "    def __init__(self, X, y):\n",
    "        super().__init__() \n",
    "        self.X = X\n",
    "        self.y = y\n",
    "        self.len = len(X)\n",
    "\n",
    "    def __len__(self): \n",
    "        return self.len\n",
    "\n",
    "    def __getitem__(self, index):\n",
    "        return self.X[index], self.y[index]"
   ]
  },
  {
   "cell_type": "code",
   "execution_count": 83,
   "metadata": {},
   "outputs": [],
   "source": [
    "def get_mnist():\n",
    "    \n",
    "    train_dl = DataLoader(\n",
    "    MyDataset(X_train, y_train),\n",
    "    batch_size = BATCH_SIZE,\n",
    "    shuffle = True\n",
    "    )\n",
    "\n",
    "    test_dl = DataLoader(\n",
    "    MyDataset(X_test, y_test),\n",
    "    batch_size = EVAL_BATCH_SIZE,\n",
    "    shuffle = False\n",
    "    )\n",
    "    \n",
    "    return train_dl, test_dl"
   ]
  },
  {
   "cell_type": "markdown",
   "metadata": {},
   "source": [
    "**4. Модель выбора**\n",
    "\n",
    "Функция add_random_seed является урезанной модификацией set_random_seed, используемая для выбора функции активации - active_choice - и работы функции objective. Сделана так, чтобы не конфликтовать со второй частью работы. "
   ]
  },
  {
   "cell_type": "code",
   "execution_count": 82,
   "metadata": {},
   "outputs": [],
   "source": [
    "def add_random_seed(seed):\n",
    "    torch.backends.cudnn.deterministic = True\n",
    "    torch.manual_seed(seed)\n",
    "    torch.cuda.manual_seed(seed)"
   ]
  },
  {
   "cell_type": "code",
   "execution_count": 83,
   "metadata": {},
   "outputs": [],
   "source": [
    "from random import randrange\n",
    "def active_choice(trial):\n",
    "    coin = random.randint(0, 2)\n",
    "    if coin == 2:\n",
    "        print('ReLU')\n",
    "        return nn.ReLU()\n",
    "    elif coin == 1:\n",
    "        print('ReLU6')\n",
    "        return nn.ReLU6()\n",
    "    print('Sigmoid')\n",
    "    return nn.Sigmoid()"
   ]
  },
  {
   "cell_type": "code",
   "execution_count": 84,
   "metadata": {},
   "outputs": [],
   "source": [
    "def define_model(trial):\n",
    "    n_layers = trial.suggest_int(\"n_layers\", 3, 3)\n",
    "    layers = []\n",
    "    in_features = 90\n",
    "    for i in range(n_layers):\n",
    "        out_features = trial.suggest_int(\"n_units_l{}\".format(i), 50, 180)\n",
    "        layers.append(nn.Linear(in_features, out_features))\n",
    "        layers.append(nn.BatchNorm1d(num_features=out_features))\n",
    "        layers.append(active_choice(trial))\n",
    "        in_features = out_features\n",
    "    layers.append(nn.Linear(in_features, 1))\n",
    "    return nn.Sequential(*layers)"
   ]
  },
  {
   "cell_type": "code",
   "execution_count": 85,
   "metadata": {},
   "outputs": [],
   "source": [
    "loss_fn = nn.MSELoss()"
   ]
  },
  {
   "cell_type": "markdown",
   "metadata": {},
   "source": [
    "**5. Подбор гиперпараметров**"
   ]
  },
  {
   "cell_type": "code",
   "execution_count": 86,
   "metadata": {},
   "outputs": [],
   "source": [
    "def objective(trial):\n",
    "    add_random_seed(SEED)\n",
    "    model = define_model(trial).to(DEVICE)\n",
    "    optimizer_name = trial.suggest_categorical(\"optimizer\", [\"AdamW\"])\n",
    "    lr = trial.suggest_float(\"lr\", 0.001, 0.004, log=True)\n",
    "    optimizer = getattr(optim, optimizer_name)(model.parameters(), weight_decay=WEIGHT_DECAY, lr=lr)\n",
    "    scheduler = torch.optim.lr_scheduler.ExponentialLR(optimizer, gamma=GAMMA)\n",
    "    train_loader, valid_loader = get_mnist() \n",
    "\n",
    "    for epoch in range(EPOCHS):\n",
    "        model.train()\n",
    "        for batch_idx, (data, target) in enumerate(train_loader):\n",
    "            if batch_idx * BATCH_SIZE >= N_TRAIN_EXAMPLES:\n",
    "                break\n",
    "            data, target = data.view(data.size(0), -1).to(DEVICE), target.to(DEVICE)\n",
    "            optimizer.zero_grad()\n",
    "            output = model(data.float())\n",
    "            loss = loss_fn(output.float(), target.float()) \n",
    "            loss.backward()\n",
    "            optimizer.step()\n",
    "            \n",
    "        model.eval()\n",
    "        correct = 0\n",
    "        with torch.no_grad():\n",
    "            for batch_idx, (data, target) in enumerate(valid_loader):\n",
    "                if batch_idx * BATCH_SIZE >= N_VALID_EXAMPLES:\n",
    "                    break\n",
    "                data, target = data.to(DEVICE), target.to(DEVICE)\n",
    "                output = model(data.float()).view(-1)\n",
    "                correct += (torch.square((output.float() - target.reshape(-1).float())).sum()).item()\n",
    "                \n",
    "        rmse_at_stage = np.sqrt(correct /  min(len(valid_loader.dataset), N_VALID_EXAMPLES))\n",
    "        trial.report(rmse_at_stage, epoch)\n",
    "        #if trial.should_prune():\n",
    "        #    raise optuna.exceptions.TrialPruned()\n",
    "\n",
    "    return rmse_at_stage"
   ]
  },
  {
   "cell_type": "markdown",
   "metadata": {},
   "source": [
    "**6. Результаты первой части**"
   ]
  },
  {
   "cell_type": "code",
   "execution_count": 87,
   "metadata": {
    "scrolled": true
   },
   "outputs": [
    {
     "name": "stderr",
     "output_type": "stream",
     "text": [
      "\u001b[32m[I 2021-10-28 21:44:12,918]\u001b[0m A new study created in memory with name: no-name-7adf7235-5625-4110-8ad9-a00daca044d1\u001b[0m\n",
      "/Users/andreyborevskiy/opt/anaconda3/lib/python3.7/site-packages/torch/nn/modules/loss.py:528: UserWarning: Using a target size (torch.Size([128])) that is different to the input size (torch.Size([128, 1])). This will likely lead to incorrect results due to broadcasting. Please ensure they have the same size.\n",
      "  return F.mse_loss(input, target, reduction=self.reduction)\n"
     ]
    },
    {
     "name": "stdout",
     "output_type": "stream",
     "text": [
      "ReLU\n",
      "Sigmoid\n",
      "ReLU\n"
     ]
    },
    {
     "name": "stderr",
     "output_type": "stream",
     "text": [
      "\u001b[32m[I 2021-10-28 21:44:17,843]\u001b[0m Trial 0 finished with value: 1466.401687592796 and parameters: {'n_layers': 3, 'n_units_l0': 94, 'n_units_l1': 91, 'n_units_l2': 58, 'optimizer': 'AdamW', 'lr': 0.0026225932243033505}. Best is trial 0 with value: 1466.401687592796.\u001b[0m\n",
      "/Users/andreyborevskiy/opt/anaconda3/lib/python3.7/site-packages/torch/nn/modules/loss.py:528: UserWarning: Using a target size (torch.Size([128])) that is different to the input size (torch.Size([128, 1])). This will likely lead to incorrect results due to broadcasting. Please ensure they have the same size.\n",
      "  return F.mse_loss(input, target, reduction=self.reduction)\n"
     ]
    },
    {
     "name": "stdout",
     "output_type": "stream",
     "text": [
      "Sigmoid\n",
      "ReLU6\n",
      "ReLU6\n"
     ]
    },
    {
     "name": "stderr",
     "output_type": "stream",
     "text": [
      "\u001b[32m[I 2021-10-28 21:44:23,822]\u001b[0m Trial 1 finished with value: 1681.278137311016 and parameters: {'n_layers': 3, 'n_units_l0': 157, 'n_units_l1': 107, 'n_units_l2': 143, 'optimizer': 'AdamW', 'lr': 0.0012675904116255876}. Best is trial 0 with value: 1466.401687592796.\u001b[0m\n",
      "/Users/andreyborevskiy/opt/anaconda3/lib/python3.7/site-packages/torch/nn/modules/loss.py:528: UserWarning: Using a target size (torch.Size([128])) that is different to the input size (torch.Size([128, 1])). This will likely lead to incorrect results due to broadcasting. Please ensure they have the same size.\n",
      "  return F.mse_loss(input, target, reduction=self.reduction)\n"
     ]
    },
    {
     "name": "stdout",
     "output_type": "stream",
     "text": [
      "Sigmoid\n",
      "Sigmoid\n",
      "ReLU6\n"
     ]
    },
    {
     "name": "stderr",
     "output_type": "stream",
     "text": [
      "\u001b[32m[I 2021-10-28 21:44:29,561]\u001b[0m Trial 2 finished with value: 1765.5514152807898 and parameters: {'n_layers': 3, 'n_units_l0': 91, 'n_units_l1': 77, 'n_units_l2': 142, 'optimizer': 'AdamW', 'lr': 0.0010198874559463325}. Best is trial 0 with value: 1466.401687592796.\u001b[0m\n",
      "/Users/andreyborevskiy/opt/anaconda3/lib/python3.7/site-packages/torch/nn/modules/loss.py:528: UserWarning: Using a target size (torch.Size([128])) that is different to the input size (torch.Size([128, 1])). This will likely lead to incorrect results due to broadcasting. Please ensure they have the same size.\n",
      "  return F.mse_loss(input, target, reduction=self.reduction)\n"
     ]
    },
    {
     "name": "stdout",
     "output_type": "stream",
     "text": [
      "ReLU6\n",
      "ReLU6\n",
      "ReLU6\n"
     ]
    },
    {
     "name": "stderr",
     "output_type": "stream",
     "text": [
      "\u001b[32m[I 2021-10-28 21:44:35,737]\u001b[0m Trial 3 finished with value: 917.4881632410851 and parameters: {'n_layers': 3, 'n_units_l0': 113, 'n_units_l1': 99, 'n_units_l2': 96, 'optimizer': 'AdamW', 'lr': 0.003140707118288978}. Best is trial 3 with value: 917.4881632410851.\u001b[0m\n",
      "/Users/andreyborevskiy/opt/anaconda3/lib/python3.7/site-packages/torch/nn/modules/loss.py:528: UserWarning: Using a target size (torch.Size([128])) that is different to the input size (torch.Size([128, 1])). This will likely lead to incorrect results due to broadcasting. Please ensure they have the same size.\n",
      "  return F.mse_loss(input, target, reduction=self.reduction)\n"
     ]
    },
    {
     "name": "stdout",
     "output_type": "stream",
     "text": [
      "ReLU6\n",
      "ReLU6\n",
      "ReLU\n"
     ]
    },
    {
     "name": "stderr",
     "output_type": "stream",
     "text": [
      "\u001b[32m[I 2021-10-28 21:44:40,770]\u001b[0m Trial 4 finished with value: 998.8469305278962 and parameters: {'n_layers': 3, 'n_units_l0': 141, 'n_units_l1': 57, 'n_units_l2': 125, 'optimizer': 'AdamW', 'lr': 0.0026633889874699826}. Best is trial 3 with value: 917.4881632410851.\u001b[0m\n",
      "/Users/andreyborevskiy/opt/anaconda3/lib/python3.7/site-packages/torch/nn/modules/loss.py:528: UserWarning: Using a target size (torch.Size([128])) that is different to the input size (torch.Size([128, 1])). This will likely lead to incorrect results due to broadcasting. Please ensure they have the same size.\n",
      "  return F.mse_loss(input, target, reduction=self.reduction)\n"
     ]
    },
    {
     "name": "stdout",
     "output_type": "stream",
     "text": [
      "Sigmoid\n",
      "ReLU6\n",
      "ReLU6\n"
     ]
    },
    {
     "name": "stderr",
     "output_type": "stream",
     "text": [
      "\u001b[32m[I 2021-10-28 21:44:46,514]\u001b[0m Trial 5 finished with value: 1069.0998944789958 and parameters: {'n_layers': 3, 'n_units_l0': 167, 'n_units_l1': 126, 'n_units_l2': 138, 'optimizer': 'AdamW', 'lr': 0.00240163921063412}. Best is trial 3 with value: 917.4881632410851.\u001b[0m\n",
      "/Users/andreyborevskiy/opt/anaconda3/lib/python3.7/site-packages/torch/nn/modules/loss.py:528: UserWarning: Using a target size (torch.Size([128])) that is different to the input size (torch.Size([128, 1])). This will likely lead to incorrect results due to broadcasting. Please ensure they have the same size.\n",
      "  return F.mse_loss(input, target, reduction=self.reduction)\n"
     ]
    },
    {
     "name": "stdout",
     "output_type": "stream",
     "text": [
      "ReLU\n",
      "ReLU6\n",
      "ReLU6\n"
     ]
    },
    {
     "name": "stderr",
     "output_type": "stream",
     "text": [
      "\u001b[32m[I 2021-10-28 21:44:51,462]\u001b[0m Trial 6 finished with value: 893.7435463053706 and parameters: {'n_layers': 3, 'n_units_l0': 96, 'n_units_l1': 98, 'n_units_l2': 67, 'optimizer': 'AdamW', 'lr': 0.003952561754700688}. Best is trial 6 with value: 893.7435463053706.\u001b[0m\n",
      "/Users/andreyborevskiy/opt/anaconda3/lib/python3.7/site-packages/torch/nn/modules/loss.py:528: UserWarning: Using a target size (torch.Size([128])) that is different to the input size (torch.Size([128, 1])). This will likely lead to incorrect results due to broadcasting. Please ensure they have the same size.\n",
      "  return F.mse_loss(input, target, reduction=self.reduction)\n"
     ]
    },
    {
     "name": "stdout",
     "output_type": "stream",
     "text": [
      "Sigmoid\n",
      "ReLU\n",
      "Sigmoid\n"
     ]
    },
    {
     "name": "stderr",
     "output_type": "stream",
     "text": [
      "\u001b[32m[I 2021-10-28 21:44:57,201]\u001b[0m Trial 7 finished with value: 1821.6975891321808 and parameters: {'n_layers': 3, 'n_units_l0': 101, 'n_units_l1': 145, 'n_units_l2': 72, 'optimizer': 'AdamW', 'lr': 0.0032883734717072234}. Best is trial 6 with value: 893.7435463053706.\u001b[0m\n",
      "/Users/andreyborevskiy/opt/anaconda3/lib/python3.7/site-packages/torch/nn/modules/loss.py:528: UserWarning: Using a target size (torch.Size([128])) that is different to the input size (torch.Size([128, 1])). This will likely lead to incorrect results due to broadcasting. Please ensure they have the same size.\n",
      "  return F.mse_loss(input, target, reduction=self.reduction)\n"
     ]
    },
    {
     "name": "stdout",
     "output_type": "stream",
     "text": [
      "ReLU\n",
      "ReLU\n",
      "ReLU6\n"
     ]
    },
    {
     "name": "stderr",
     "output_type": "stream",
     "text": [
      "\u001b[32m[I 2021-10-28 21:45:03,998]\u001b[0m Trial 8 finished with value: 458.9668718471138 and parameters: {'n_layers': 3, 'n_units_l0': 165, 'n_units_l1': 144, 'n_units_l2': 144, 'optimizer': 'AdamW', 'lr': 0.0037070710273664764}. Best is trial 8 with value: 458.9668718471138.\u001b[0m\n",
      "/Users/andreyborevskiy/opt/anaconda3/lib/python3.7/site-packages/torch/nn/modules/loss.py:528: UserWarning: Using a target size (torch.Size([128])) that is different to the input size (torch.Size([128, 1])). This will likely lead to incorrect results due to broadcasting. Please ensure they have the same size.\n",
      "  return F.mse_loss(input, target, reduction=self.reduction)\n"
     ]
    },
    {
     "name": "stdout",
     "output_type": "stream",
     "text": [
      "ReLU6\n",
      "ReLU\n",
      "ReLU6\n"
     ]
    },
    {
     "name": "stderr",
     "output_type": "stream",
     "text": [
      "\u001b[32m[I 2021-10-28 21:45:09,178]\u001b[0m Trial 9 finished with value: 1296.7804893273187 and parameters: {'n_layers': 3, 'n_units_l0': 96, 'n_units_l1': 135, 'n_units_l2': 52, 'optimizer': 'AdamW', 'lr': 0.0031457552556040467}. Best is trial 8 with value: 458.9668718471138.\u001b[0m\n",
      "/Users/andreyborevskiy/opt/anaconda3/lib/python3.7/site-packages/torch/nn/modules/loss.py:528: UserWarning: Using a target size (torch.Size([128])) that is different to the input size (torch.Size([128, 1])). This will likely lead to incorrect results due to broadcasting. Please ensure they have the same size.\n",
      "  return F.mse_loss(input, target, reduction=self.reduction)\n"
     ]
    },
    {
     "name": "stdout",
     "output_type": "stream",
     "text": [
      "ReLU\n",
      "ReLU\n",
      "Sigmoid\n"
     ]
    },
    {
     "name": "stderr",
     "output_type": "stream",
     "text": [
      "\u001b[32m[I 2021-10-28 21:45:15,293]\u001b[0m Trial 10 finished with value: 1783.2049605275329 and parameters: {'n_layers': 3, 'n_units_l0': 60, 'n_units_l1': 173, 'n_units_l2': 180, 'optimizer': 'AdamW', 'lr': 0.0017979609001284775}. Best is trial 8 with value: 458.9668718471138.\u001b[0m\n",
      "/Users/andreyborevskiy/opt/anaconda3/lib/python3.7/site-packages/torch/nn/modules/loss.py:528: UserWarning: Using a target size (torch.Size([128])) that is different to the input size (torch.Size([128, 1])). This will likely lead to incorrect results due to broadcasting. Please ensure they have the same size.\n",
      "  return F.mse_loss(input, target, reduction=self.reduction)\n"
     ]
    },
    {
     "name": "stdout",
     "output_type": "stream",
     "text": [
      "Sigmoid\n",
      "Sigmoid\n",
      "ReLU\n"
     ]
    },
    {
     "name": "stderr",
     "output_type": "stream",
     "text": [
      "\u001b[32m[I 2021-10-28 21:45:21,495]\u001b[0m Trial 11 finished with value: 546.3638067945204 and parameters: {'n_layers': 3, 'n_units_l0': 139, 'n_units_l1': 163, 'n_units_l2': 96, 'optimizer': 'AdamW', 'lr': 0.0038002945390266723}. Best is trial 8 with value: 458.9668718471138.\u001b[0m\n",
      "/Users/andreyborevskiy/opt/anaconda3/lib/python3.7/site-packages/torch/nn/modules/loss.py:528: UserWarning: Using a target size (torch.Size([128])) that is different to the input size (torch.Size([128, 1])). This will likely lead to incorrect results due to broadcasting. Please ensure they have the same size.\n",
      "  return F.mse_loss(input, target, reduction=self.reduction)\n"
     ]
    },
    {
     "name": "stdout",
     "output_type": "stream",
     "text": [
      "ReLU\n",
      "ReLU\n",
      "ReLU\n"
     ]
    },
    {
     "name": "stderr",
     "output_type": "stream",
     "text": [
      "\u001b[32m[I 2021-10-28 21:45:27,602]\u001b[0m Trial 12 finished with value: 365.2608103401082 and parameters: {'n_layers': 3, 'n_units_l0': 140, 'n_units_l1': 166, 'n_units_l2': 97, 'optimizer': 'AdamW', 'lr': 0.00399546442908142}. Best is trial 12 with value: 365.2608103401082.\u001b[0m\n",
      "/Users/andreyborevskiy/opt/anaconda3/lib/python3.7/site-packages/torch/nn/modules/loss.py:528: UserWarning: Using a target size (torch.Size([128])) that is different to the input size (torch.Size([128, 1])). This will likely lead to incorrect results due to broadcasting. Please ensure they have the same size.\n",
      "  return F.mse_loss(input, target, reduction=self.reduction)\n"
     ]
    },
    {
     "name": "stdout",
     "output_type": "stream",
     "text": [
      "Sigmoid\n",
      "ReLU\n",
      "ReLU6\n"
     ]
    },
    {
     "name": "stderr",
     "output_type": "stream",
     "text": [
      "\u001b[32m[I 2021-10-28 21:45:34,311]\u001b[0m Trial 13 finished with value: 1212.6963861577224 and parameters: {'n_layers': 3, 'n_units_l0': 180, 'n_units_l1': 154, 'n_units_l2': 170, 'optimizer': 'AdamW', 'lr': 0.0019127383562784284}. Best is trial 12 with value: 365.2608103401082.\u001b[0m\n",
      "/Users/andreyborevskiy/opt/anaconda3/lib/python3.7/site-packages/torch/nn/modules/loss.py:528: UserWarning: Using a target size (torch.Size([128])) that is different to the input size (torch.Size([128, 1])). This will likely lead to incorrect results due to broadcasting. Please ensure they have the same size.\n",
      "  return F.mse_loss(input, target, reduction=self.reduction)\n"
     ]
    },
    {
     "name": "stdout",
     "output_type": "stream",
     "text": [
      "ReLU\n",
      "Sigmoid\n",
      "ReLU6\n"
     ]
    },
    {
     "name": "stderr",
     "output_type": "stream",
     "text": [
      "\u001b[32m[I 2021-10-28 21:45:42,057]\u001b[0m Trial 14 finished with value: 1659.5211884757605 and parameters: {'n_layers': 3, 'n_units_l0': 134, 'n_units_l1': 176, 'n_units_l2': 104, 'optimizer': 'AdamW', 'lr': 0.0015352679775700972}. Best is trial 12 with value: 365.2608103401082.\u001b[0m\n",
      "/Users/andreyborevskiy/opt/anaconda3/lib/python3.7/site-packages/torch/nn/modules/loss.py:528: UserWarning: Using a target size (torch.Size([128])) that is different to the input size (torch.Size([128, 1])). This will likely lead to incorrect results due to broadcasting. Please ensure they have the same size.\n",
      "  return F.mse_loss(input, target, reduction=self.reduction)\n"
     ]
    },
    {
     "name": "stdout",
     "output_type": "stream",
     "text": [
      "Sigmoid\n",
      "Sigmoid\n",
      "ReLU\n"
     ]
    },
    {
     "name": "stderr",
     "output_type": "stream",
     "text": [
      "\u001b[32m[I 2021-10-28 21:45:49,229]\u001b[0m Trial 15 finished with value: 994.1585182328822 and parameters: {'n_layers': 3, 'n_units_l0': 152, 'n_units_l1': 124, 'n_units_l2': 158, 'optimizer': 'AdamW', 'lr': 0.002283507751961471}. Best is trial 12 with value: 365.2608103401082.\u001b[0m\n",
      "/Users/andreyborevskiy/opt/anaconda3/lib/python3.7/site-packages/torch/nn/modules/loss.py:528: UserWarning: Using a target size (torch.Size([128])) that is different to the input size (torch.Size([128, 1])). This will likely lead to incorrect results due to broadcasting. Please ensure they have the same size.\n",
      "  return F.mse_loss(input, target, reduction=self.reduction)\n"
     ]
    },
    {
     "name": "stdout",
     "output_type": "stream",
     "text": [
      "ReLU\n",
      "ReLU\n",
      "ReLU\n"
     ]
    },
    {
     "name": "stderr",
     "output_type": "stream",
     "text": [
      "\u001b[32m[I 2021-10-28 21:45:55,721]\u001b[0m Trial 16 finished with value: 617.0784251717929 and parameters: {'n_layers': 3, 'n_units_l0': 125, 'n_units_l1': 147, 'n_units_l2': 114, 'optimizer': 'AdamW', 'lr': 0.0034448081729130642}. Best is trial 12 with value: 365.2608103401082.\u001b[0m\n",
      "/Users/andreyborevskiy/opt/anaconda3/lib/python3.7/site-packages/torch/nn/modules/loss.py:528: UserWarning: Using a target size (torch.Size([128])) that is different to the input size (torch.Size([128, 1])). This will likely lead to incorrect results due to broadcasting. Please ensure they have the same size.\n",
      "  return F.mse_loss(input, target, reduction=self.reduction)\n"
     ]
    },
    {
     "name": "stdout",
     "output_type": "stream",
     "text": [
      "ReLU\n",
      "ReLU6\n",
      "ReLU6\n"
     ]
    },
    {
     "name": "stderr",
     "output_type": "stream",
     "text": [
      "\u001b[32m[I 2021-10-28 21:46:02,129]\u001b[0m Trial 17 finished with value: 1150.0181425199344 and parameters: {'n_layers': 3, 'n_units_l0': 177, 'n_units_l1': 162, 'n_units_l2': 83, 'optimizer': 'AdamW', 'lr': 0.002833410524192941}. Best is trial 12 with value: 365.2608103401082.\u001b[0m\n",
      "/Users/andreyborevskiy/opt/anaconda3/lib/python3.7/site-packages/torch/nn/modules/loss.py:528: UserWarning: Using a target size (torch.Size([128])) that is different to the input size (torch.Size([128, 1])). This will likely lead to incorrect results due to broadcasting. Please ensure they have the same size.\n",
      "  return F.mse_loss(input, target, reduction=self.reduction)\n"
     ]
    },
    {
     "name": "stdout",
     "output_type": "stream",
     "text": [
      "ReLU\n",
      "ReLU\n",
      "ReLU\n"
     ]
    },
    {
     "name": "stderr",
     "output_type": "stream",
     "text": [
      "\u001b[32m[I 2021-10-28 21:46:08,425]\u001b[0m Trial 18 finished with value: 405.4642646669063 and parameters: {'n_layers': 3, 'n_units_l0': 154, 'n_units_l1': 136, 'n_units_l2': 124, 'optimizer': 'AdamW', 'lr': 0.0038356872170271237}. Best is trial 12 with value: 365.2608103401082.\u001b[0m\n",
      "/Users/andreyborevskiy/opt/anaconda3/lib/python3.7/site-packages/torch/nn/modules/loss.py:528: UserWarning: Using a target size (torch.Size([128])) that is different to the input size (torch.Size([128, 1])). This will likely lead to incorrect results due to broadcasting. Please ensure they have the same size.\n",
      "  return F.mse_loss(input, target, reduction=self.reduction)\n"
     ]
    },
    {
     "name": "stdout",
     "output_type": "stream",
     "text": [
      "ReLU\n",
      "ReLU\n",
      "ReLU6\n"
     ]
    },
    {
     "name": "stderr",
     "output_type": "stream",
     "text": [
      "\u001b[32m[I 2021-10-28 21:46:14,306]\u001b[0m Trial 19 finished with value: 1234.4625411996105 and parameters: {'n_layers': 3, 'n_units_l0': 119, 'n_units_l1': 123, 'n_units_l2': 123, 'optimizer': 'AdamW', 'lr': 0.0022345705098459926}. Best is trial 12 with value: 365.2608103401082.\u001b[0m\n",
      "/Users/andreyborevskiy/opt/anaconda3/lib/python3.7/site-packages/torch/nn/modules/loss.py:528: UserWarning: Using a target size (torch.Size([128])) that is different to the input size (torch.Size([128, 1])). This will likely lead to incorrect results due to broadcasting. Please ensure they have the same size.\n",
      "  return F.mse_loss(input, target, reduction=self.reduction)\n"
     ]
    },
    {
     "name": "stdout",
     "output_type": "stream",
     "text": [
      "Sigmoid\n",
      "Sigmoid\n",
      "Sigmoid\n"
     ]
    },
    {
     "name": "stderr",
     "output_type": "stream",
     "text": [
      "\u001b[32m[I 2021-10-28 21:46:20,602]\u001b[0m Trial 20 finished with value: 1905.1221630777382 and parameters: {'n_layers': 3, 'n_units_l0': 149, 'n_units_l1': 178, 'n_units_l2': 85, 'optimizer': 'AdamW', 'lr': 0.0016921767295257938}. Best is trial 12 with value: 365.2608103401082.\u001b[0m\n",
      "/Users/andreyborevskiy/opt/anaconda3/lib/python3.7/site-packages/torch/nn/modules/loss.py:528: UserWarning: Using a target size (torch.Size([128])) that is different to the input size (torch.Size([128, 1])). This will likely lead to incorrect results due to broadcasting. Please ensure they have the same size.\n",
      "  return F.mse_loss(input, target, reduction=self.reduction)\n"
     ]
    },
    {
     "name": "stdout",
     "output_type": "stream",
     "text": [
      "ReLU6\n",
      "ReLU\n",
      "ReLU6\n"
     ]
    },
    {
     "name": "stderr",
     "output_type": "stream",
     "text": [
      "\u001b[32m[I 2021-10-28 21:46:27,223]\u001b[0m Trial 21 finished with value: 464.5625792496233 and parameters: {'n_layers': 3, 'n_units_l0': 162, 'n_units_l1': 136, 'n_units_l2': 132, 'optimizer': 'AdamW', 'lr': 0.003998381608041344}. Best is trial 12 with value: 365.2608103401082.\u001b[0m\n",
      "/Users/andreyborevskiy/opt/anaconda3/lib/python3.7/site-packages/torch/nn/modules/loss.py:528: UserWarning: Using a target size (torch.Size([128])) that is different to the input size (torch.Size([128, 1])). This will likely lead to incorrect results due to broadcasting. Please ensure they have the same size.\n",
      "  return F.mse_loss(input, target, reduction=self.reduction)\n"
     ]
    },
    {
     "name": "stdout",
     "output_type": "stream",
     "text": [
      "ReLU6\n",
      "ReLU\n",
      "Sigmoid\n"
     ]
    },
    {
     "name": "stderr",
     "output_type": "stream",
     "text": [
      "\u001b[32m[I 2021-10-28 21:46:34,220]\u001b[0m Trial 22 finished with value: 1609.0028453206662 and parameters: {'n_layers': 3, 'n_units_l0': 168, 'n_units_l1': 159, 'n_units_l2': 154, 'optimizer': 'AdamW', 'lr': 0.003485328253361202}. Best is trial 12 with value: 365.2608103401082.\u001b[0m\n",
      "/Users/andreyborevskiy/opt/anaconda3/lib/python3.7/site-packages/torch/nn/modules/loss.py:528: UserWarning: Using a target size (torch.Size([128])) that is different to the input size (torch.Size([128, 1])). This will likely lead to incorrect results due to broadcasting. Please ensure they have the same size.\n",
      "  return F.mse_loss(input, target, reduction=self.reduction)\n"
     ]
    },
    {
     "name": "stdout",
     "output_type": "stream",
     "text": [
      "Sigmoid\n",
      "ReLU6\n",
      "Sigmoid\n"
     ]
    },
    {
     "name": "stderr",
     "output_type": "stream",
     "text": [
      "\u001b[32m[I 2021-10-28 21:46:40,542]\u001b[0m Trial 23 finished with value: 1755.6813812591395 and parameters: {'n_layers': 3, 'n_units_l0': 147, 'n_units_l1': 140, 'n_units_l2': 112, 'optimizer': 'AdamW', 'lr': 0.0029680470485629056}. Best is trial 12 with value: 365.2608103401082.\u001b[0m\n",
      "/Users/andreyborevskiy/opt/anaconda3/lib/python3.7/site-packages/torch/nn/modules/loss.py:528: UserWarning: Using a target size (torch.Size([128])) that is different to the input size (torch.Size([128, 1])). This will likely lead to incorrect results due to broadcasting. Please ensure they have the same size.\n",
      "  return F.mse_loss(input, target, reduction=self.reduction)\n"
     ]
    },
    {
     "name": "stdout",
     "output_type": "stream",
     "text": [
      "Sigmoid\n",
      "Sigmoid\n",
      "Sigmoid\n"
     ]
    },
    {
     "name": "stderr",
     "output_type": "stream",
     "text": [
      "\u001b[32m[I 2021-10-28 21:46:46,929]\u001b[0m Trial 24 finished with value: 1593.2835042766244 and parameters: {'n_layers': 3, 'n_units_l0': 129, 'n_units_l1': 151, 'n_units_l2': 158, 'optimizer': 'AdamW', 'lr': 0.003607731168996446}. Best is trial 12 with value: 365.2608103401082.\u001b[0m\n",
      "/Users/andreyborevskiy/opt/anaconda3/lib/python3.7/site-packages/torch/nn/modules/loss.py:528: UserWarning: Using a target size (torch.Size([128])) that is different to the input size (torch.Size([128, 1])). This will likely lead to incorrect results due to broadcasting. Please ensure they have the same size.\n",
      "  return F.mse_loss(input, target, reduction=self.reduction)\n"
     ]
    },
    {
     "name": "stdout",
     "output_type": "stream",
     "text": [
      "Sigmoid\n",
      "ReLU6\n",
      "ReLU6\n"
     ]
    },
    {
     "name": "stderr",
     "output_type": "stream",
     "text": [
      "\u001b[32m[I 2021-10-28 21:46:54,798]\u001b[0m Trial 25 finished with value: 614.952774164915 and parameters: {'n_layers': 3, 'n_units_l0': 170, 'n_units_l1': 116, 'n_units_l2': 125, 'optimizer': 'AdamW', 'lr': 0.00357073802847751}. Best is trial 12 with value: 365.2608103401082.\u001b[0m\n",
      "/Users/andreyborevskiy/opt/anaconda3/lib/python3.7/site-packages/torch/nn/modules/loss.py:528: UserWarning: Using a target size (torch.Size([128])) that is different to the input size (torch.Size([128, 1])). This will likely lead to incorrect results due to broadcasting. Please ensure they have the same size.\n",
      "  return F.mse_loss(input, target, reduction=self.reduction)\n"
     ]
    },
    {
     "name": "stdout",
     "output_type": "stream",
     "text": [
      "Sigmoid\n",
      "ReLU6\n",
      "Sigmoid\n"
     ]
    },
    {
     "name": "stderr",
     "output_type": "stream",
     "text": [
      "\u001b[32m[I 2021-10-28 21:47:01,310]\u001b[0m Trial 26 finished with value: 1777.4715697445065 and parameters: {'n_layers': 3, 'n_units_l0': 158, 'n_units_l1': 168, 'n_units_l2': 105, 'optimizer': 'AdamW', 'lr': 0.002887204676233463}. Best is trial 12 with value: 365.2608103401082.\u001b[0m\n",
      "/Users/andreyborevskiy/opt/anaconda3/lib/python3.7/site-packages/torch/nn/modules/loss.py:528: UserWarning: Using a target size (torch.Size([128])) that is different to the input size (torch.Size([128, 1])). This will likely lead to incorrect results due to broadcasting. Please ensure they have the same size.\n",
      "  return F.mse_loss(input, target, reduction=self.reduction)\n"
     ]
    },
    {
     "name": "stdout",
     "output_type": "stream",
     "text": [
      "Sigmoid\n",
      "ReLU\n",
      "Sigmoid\n"
     ]
    },
    {
     "name": "stderr",
     "output_type": "stream",
     "text": [
      "\u001b[32m[I 2021-10-28 21:47:07,918]\u001b[0m Trial 27 finished with value: 1565.0506960638686 and parameters: {'n_layers': 3, 'n_units_l0': 143, 'n_units_l1': 133, 'n_units_l2': 149, 'optimizer': 'AdamW', 'lr': 0.003966138445399076}. Best is trial 12 with value: 365.2608103401082.\u001b[0m\n",
      "/Users/andreyborevskiy/opt/anaconda3/lib/python3.7/site-packages/torch/nn/modules/loss.py:528: UserWarning: Using a target size (torch.Size([128])) that is different to the input size (torch.Size([128, 1])). This will likely lead to incorrect results due to broadcasting. Please ensure they have the same size.\n",
      "  return F.mse_loss(input, target, reduction=self.reduction)\n"
     ]
    },
    {
     "name": "stdout",
     "output_type": "stream",
     "text": [
      "ReLU6\n",
      "ReLU6\n",
      "ReLU\n"
     ]
    },
    {
     "name": "stderr",
     "output_type": "stream",
     "text": [
      "\u001b[32m[I 2021-10-28 21:47:14,177]\u001b[0m Trial 28 finished with value: 644.752401604678 and parameters: {'n_layers': 3, 'n_units_l0': 110, 'n_units_l1': 154, 'n_units_l2': 131, 'optimizer': 'AdamW', 'lr': 0.003244560590972772}. Best is trial 12 with value: 365.2608103401082.\u001b[0m\n",
      "/Users/andreyborevskiy/opt/anaconda3/lib/python3.7/site-packages/torch/nn/modules/loss.py:528: UserWarning: Using a target size (torch.Size([128])) that is different to the input size (torch.Size([128, 1])). This will likely lead to incorrect results due to broadcasting. Please ensure they have the same size.\n",
      "  return F.mse_loss(input, target, reduction=self.reduction)\n"
     ]
    },
    {
     "name": "stdout",
     "output_type": "stream",
     "text": [
      "ReLU6\n",
      "Sigmoid\n",
      "ReLU\n"
     ]
    },
    {
     "name": "stderr",
     "output_type": "stream",
     "text": [
      "\u001b[32m[I 2021-10-28 21:47:19,398]\u001b[0m Trial 29 finished with value: 1338.0970034436966 and parameters: {'n_layers': 3, 'n_units_l0': 75, 'n_units_l1': 80, 'n_units_l2': 87, 'optimizer': 'AdamW', 'lr': 0.002527234351274174}. Best is trial 12 with value: 365.2608103401082.\u001b[0m\n",
      "/Users/andreyborevskiy/opt/anaconda3/lib/python3.7/site-packages/torch/nn/modules/loss.py:528: UserWarning: Using a target size (torch.Size([128])) that is different to the input size (torch.Size([128, 1])). This will likely lead to incorrect results due to broadcasting. Please ensure they have the same size.\n",
      "  return F.mse_loss(input, target, reduction=self.reduction)\n"
     ]
    },
    {
     "name": "stdout",
     "output_type": "stream",
     "text": [
      "ReLU\n",
      "ReLU\n",
      "Sigmoid\n"
     ]
    },
    {
     "name": "stderr",
     "output_type": "stream",
     "text": [
      "\u001b[32m[I 2021-10-28 21:47:25,400]\u001b[0m Trial 30 finished with value: 1771.2678562967262 and parameters: {'n_layers': 3, 'n_units_l0': 131, 'n_units_l1': 112, 'n_units_l2': 118, 'optimizer': 'AdamW', 'lr': 0.0026974251343049593}. Best is trial 12 with value: 365.2608103401082.\u001b[0m\n",
      "/Users/andreyborevskiy/opt/anaconda3/lib/python3.7/site-packages/torch/nn/modules/loss.py:528: UserWarning: Using a target size (torch.Size([128])) that is different to the input size (torch.Size([128, 1])). This will likely lead to incorrect results due to broadcasting. Please ensure they have the same size.\n",
      "  return F.mse_loss(input, target, reduction=self.reduction)\n"
     ]
    },
    {
     "name": "stdout",
     "output_type": "stream",
     "text": [
      "Sigmoid\n",
      "Sigmoid\n",
      "ReLU6\n"
     ]
    },
    {
     "name": "stderr",
     "output_type": "stream",
     "text": [
      "\u001b[32m[I 2021-10-28 21:47:32,452]\u001b[0m Trial 31 finished with value: 441.7007521978964 and parameters: {'n_layers': 3, 'n_units_l0': 161, 'n_units_l1': 136, 'n_units_l2': 134, 'optimizer': 'AdamW', 'lr': 0.00397644990481967}. Best is trial 12 with value: 365.2608103401082.\u001b[0m\n",
      "/Users/andreyborevskiy/opt/anaconda3/lib/python3.7/site-packages/torch/nn/modules/loss.py:528: UserWarning: Using a target size (torch.Size([128])) that is different to the input size (torch.Size([128, 1])). This will likely lead to incorrect results due to broadcasting. Please ensure they have the same size.\n",
      "  return F.mse_loss(input, target, reduction=self.reduction)\n"
     ]
    },
    {
     "name": "stdout",
     "output_type": "stream",
     "text": [
      "ReLU\n",
      "ReLU6\n",
      "ReLU6\n"
     ]
    },
    {
     "name": "stderr",
     "output_type": "stream",
     "text": [
      "\u001b[32m[I 2021-10-28 21:47:39,820]\u001b[0m Trial 32 finished with value: 474.4320527285756 and parameters: {'n_layers': 3, 'n_units_l0': 155, 'n_units_l1': 143, 'n_units_l2': 135, 'optimizer': 'AdamW', 'lr': 0.003643362232088699}. Best is trial 12 with value: 365.2608103401082.\u001b[0m\n",
      "/Users/andreyborevskiy/opt/anaconda3/lib/python3.7/site-packages/torch/nn/modules/loss.py:528: UserWarning: Using a target size (torch.Size([128])) that is different to the input size (torch.Size([128, 1])). This will likely lead to incorrect results due to broadcasting. Please ensure they have the same size.\n",
      "  return F.mse_loss(input, target, reduction=self.reduction)\n"
     ]
    },
    {
     "name": "stdout",
     "output_type": "stream",
     "text": [
      "ReLU\n",
      "ReLU\n",
      "ReLU\n"
     ]
    },
    {
     "name": "stderr",
     "output_type": "stream",
     "text": [
      "\u001b[32m[I 2021-10-28 21:47:46,320]\u001b[0m Trial 33 finished with value: 1654.7253019761317 and parameters: {'n_layers': 3, 'n_units_l0': 162, 'n_units_l1': 129, 'n_units_l2': 148, 'optimizer': 'AdamW', 'lr': 0.001284226660143237}. Best is trial 12 with value: 365.2608103401082.\u001b[0m\n",
      "/Users/andreyborevskiy/opt/anaconda3/lib/python3.7/site-packages/torch/nn/modules/loss.py:528: UserWarning: Using a target size (torch.Size([128])) that is different to the input size (torch.Size([128, 1])). This will likely lead to incorrect results due to broadcasting. Please ensure they have the same size.\n",
      "  return F.mse_loss(input, target, reduction=self.reduction)\n"
     ]
    },
    {
     "name": "stdout",
     "output_type": "stream",
     "text": [
      "Sigmoid\n",
      "ReLU\n",
      "ReLU\n"
     ]
    },
    {
     "name": "stderr",
     "output_type": "stream",
     "text": [
      "\u001b[32m[I 2021-10-28 21:47:53,064]\u001b[0m Trial 34 finished with value: 311.1241958356421 and parameters: {'n_layers': 3, 'n_units_l0': 173, 'n_units_l1': 116, 'n_units_l2': 167, 'optimizer': 'AdamW', 'lr': 0.0033713657407433836}. Best is trial 34 with value: 311.1241958356421.\u001b[0m\n",
      "/Users/andreyborevskiy/opt/anaconda3/lib/python3.7/site-packages/torch/nn/modules/loss.py:528: UserWarning: Using a target size (torch.Size([128])) that is different to the input size (torch.Size([128, 1])). This will likely lead to incorrect results due to broadcasting. Please ensure they have the same size.\n",
      "  return F.mse_loss(input, target, reduction=self.reduction)\n"
     ]
    },
    {
     "name": "stdout",
     "output_type": "stream",
     "text": [
      "Sigmoid\n",
      "Sigmoid\n",
      "ReLU\n"
     ]
    },
    {
     "name": "stderr",
     "output_type": "stream",
     "text": [
      "\u001b[32m[I 2021-10-28 21:48:00,347]\u001b[0m Trial 35 finished with value: 319.3177972867508 and parameters: {'n_layers': 3, 'n_units_l0': 175, 'n_units_l1': 106, 'n_units_l2': 165, 'optimizer': 'AdamW', 'lr': 0.0033180072463703377}. Best is trial 34 with value: 311.1241958356421.\u001b[0m\n",
      "/Users/andreyborevskiy/opt/anaconda3/lib/python3.7/site-packages/torch/nn/modules/loss.py:528: UserWarning: Using a target size (torch.Size([128])) that is different to the input size (torch.Size([128, 1])). This will likely lead to incorrect results due to broadcasting. Please ensure they have the same size.\n",
      "  return F.mse_loss(input, target, reduction=self.reduction)\n"
     ]
    },
    {
     "name": "stdout",
     "output_type": "stream",
     "text": [
      "Sigmoid\n",
      "ReLU6\n",
      "ReLU6\n"
     ]
    },
    {
     "name": "stderr",
     "output_type": "stream",
     "text": [
      "\u001b[32m[I 2021-10-28 21:48:07,138]\u001b[0m Trial 36 finished with value: 595.3169642221067 and parameters: {'n_layers': 3, 'n_units_l0': 176, 'n_units_l1': 104, 'n_units_l2': 168, 'optimizer': 'AdamW', 'lr': 0.003028353830319267}. Best is trial 34 with value: 311.1241958356421.\u001b[0m\n",
      "/Users/andreyborevskiy/opt/anaconda3/lib/python3.7/site-packages/torch/nn/modules/loss.py:528: UserWarning: Using a target size (torch.Size([128])) that is different to the input size (torch.Size([128, 1])). This will likely lead to incorrect results due to broadcasting. Please ensure they have the same size.\n",
      "  return F.mse_loss(input, target, reduction=self.reduction)\n"
     ]
    },
    {
     "name": "stdout",
     "output_type": "stream",
     "text": [
      "ReLU6\n",
      "ReLU6\n",
      "Sigmoid\n"
     ]
    },
    {
     "name": "stderr",
     "output_type": "stream",
     "text": [
      "\u001b[32m[I 2021-10-28 21:48:13,890]\u001b[0m Trial 37 finished with value: 1577.1056361258748 and parameters: {'n_layers': 3, 'n_units_l0': 172, 'n_units_l1': 89, 'n_units_l2': 179, 'optimizer': 'AdamW', 'lr': 0.0032637883485674164}. Best is trial 34 with value: 311.1241958356421.\u001b[0m\n",
      "/Users/andreyborevskiy/opt/anaconda3/lib/python3.7/site-packages/torch/nn/modules/loss.py:528: UserWarning: Using a target size (torch.Size([128])) that is different to the input size (torch.Size([128, 1])). This will likely lead to incorrect results due to broadcasting. Please ensure they have the same size.\n",
      "  return F.mse_loss(input, target, reduction=self.reduction)\n"
     ]
    },
    {
     "name": "stdout",
     "output_type": "stream",
     "text": [
      "ReLU6\n",
      "ReLU6\n",
      "ReLU6\n"
     ]
    },
    {
     "name": "stderr",
     "output_type": "stream",
     "text": [
      "\u001b[32m[I 2021-10-28 21:48:20,428]\u001b[0m Trial 38 finished with value: 1831.949775853585 and parameters: {'n_layers': 3, 'n_units_l0': 153, 'n_units_l1': 50, 'n_units_l2': 93, 'optimizer': 'AdamW', 'lr': 0.0010770231396668654}. Best is trial 34 with value: 311.1241958356421.\u001b[0m\n",
      "/Users/andreyborevskiy/opt/anaconda3/lib/python3.7/site-packages/torch/nn/modules/loss.py:528: UserWarning: Using a target size (torch.Size([128])) that is different to the input size (torch.Size([128, 1])). This will likely lead to incorrect results due to broadcasting. Please ensure they have the same size.\n",
      "  return F.mse_loss(input, target, reduction=self.reduction)\n"
     ]
    },
    {
     "name": "stdout",
     "output_type": "stream",
     "text": [
      "Sigmoid\n",
      "ReLU6\n",
      "Sigmoid\n"
     ]
    },
    {
     "name": "stderr",
     "output_type": "stream",
     "text": [
      "\u001b[32m[I 2021-10-28 21:48:26,666]\u001b[0m Trial 39 finished with value: 1588.5905781541069 and parameters: {'n_layers': 3, 'n_units_l0': 138, 'n_units_l1': 93, 'n_units_l2': 167, 'optimizer': 'AdamW', 'lr': 0.003408350979412864}. Best is trial 34 with value: 311.1241958356421.\u001b[0m\n",
      "/Users/andreyborevskiy/opt/anaconda3/lib/python3.7/site-packages/torch/nn/modules/loss.py:528: UserWarning: Using a target size (torch.Size([128])) that is different to the input size (torch.Size([128, 1])). This will likely lead to incorrect results due to broadcasting. Please ensure they have the same size.\n",
      "  return F.mse_loss(input, target, reduction=self.reduction)\n"
     ]
    },
    {
     "name": "stdout",
     "output_type": "stream",
     "text": [
      "ReLU\n",
      "ReLU\n",
      "ReLU\n"
     ]
    },
    {
     "name": "stderr",
     "output_type": "stream",
     "text": [
      "\u001b[32m[I 2021-10-28 21:48:32,585]\u001b[0m Trial 40 finished with value: 1391.625695005665 and parameters: {'n_layers': 3, 'n_units_l0': 173, 'n_units_l1': 113, 'n_units_l2': 76, 'optimizer': 'AdamW', 'lr': 0.002451422969723742}. Best is trial 34 with value: 311.1241958356421.\u001b[0m\n",
      "/Users/andreyborevskiy/opt/anaconda3/lib/python3.7/site-packages/torch/nn/modules/loss.py:528: UserWarning: Using a target size (torch.Size([128])) that is different to the input size (torch.Size([128, 1])). This will likely lead to incorrect results due to broadcasting. Please ensure they have the same size.\n",
      "  return F.mse_loss(input, target, reduction=self.reduction)\n"
     ]
    },
    {
     "name": "stdout",
     "output_type": "stream",
     "text": [
      "Sigmoid\n",
      "ReLU\n",
      "ReLU6\n"
     ]
    },
    {
     "name": "stderr",
     "output_type": "stream",
     "text": [
      "\u001b[32m[I 2021-10-28 21:48:39,014]\u001b[0m Trial 41 finished with value: 375.42108181597234 and parameters: {'n_layers': 3, 'n_units_l0': 160, 'n_units_l1': 118, 'n_units_l2': 163, 'optimizer': 'AdamW', 'lr': 0.0037746185175738913}. Best is trial 34 with value: 311.1241958356421.\u001b[0m\n",
      "/Users/andreyborevskiy/opt/anaconda3/lib/python3.7/site-packages/torch/nn/modules/loss.py:528: UserWarning: Using a target size (torch.Size([128])) that is different to the input size (torch.Size([128, 1])). This will likely lead to incorrect results due to broadcasting. Please ensure they have the same size.\n",
      "  return F.mse_loss(input, target, reduction=self.reduction)\n"
     ]
    },
    {
     "name": "stdout",
     "output_type": "stream",
     "text": [
      "ReLU6\n",
      "ReLU6\n",
      "ReLU\n"
     ]
    },
    {
     "name": "stderr",
     "output_type": "stream",
     "text": [
      "\u001b[32m[I 2021-10-28 21:48:45,303]\u001b[0m Trial 42 finished with value: 240.65099697227518 and parameters: {'n_layers': 3, 'n_units_l0': 146, 'n_units_l1': 120, 'n_units_l2': 162, 'optimizer': 'AdamW', 'lr': 0.0037334370233945845}. Best is trial 42 with value: 240.65099697227518.\u001b[0m\n",
      "/Users/andreyborevskiy/opt/anaconda3/lib/python3.7/site-packages/torch/nn/modules/loss.py:528: UserWarning: Using a target size (torch.Size([128])) that is different to the input size (torch.Size([128, 1])). This will likely lead to incorrect results due to broadcasting. Please ensure they have the same size.\n",
      "  return F.mse_loss(input, target, reduction=self.reduction)\n"
     ]
    },
    {
     "name": "stdout",
     "output_type": "stream",
     "text": [
      "ReLU6\n",
      "ReLU\n",
      "ReLU\n"
     ]
    },
    {
     "name": "stderr",
     "output_type": "stream",
     "text": [
      "\u001b[32m[I 2021-10-28 21:48:51,998]\u001b[0m Trial 43 finished with value: 440.6118357962596 and parameters: {'n_layers': 3, 'n_units_l0': 146, 'n_units_l1': 104, 'n_units_l2': 173, 'optimizer': 'AdamW', 'lr': 0.0031185986476828225}. Best is trial 42 with value: 240.65099697227518.\u001b[0m\n",
      "/Users/andreyborevskiy/opt/anaconda3/lib/python3.7/site-packages/torch/nn/modules/loss.py:528: UserWarning: Using a target size (torch.Size([128])) that is different to the input size (torch.Size([128, 1])). This will likely lead to incorrect results due to broadcasting. Please ensure they have the same size.\n",
      "  return F.mse_loss(input, target, reduction=self.reduction)\n"
     ]
    },
    {
     "name": "stdout",
     "output_type": "stream",
     "text": [
      "ReLU6\n",
      "ReLU6\n",
      "Sigmoid\n"
     ]
    },
    {
     "name": "stderr",
     "output_type": "stream",
     "text": [
      "\u001b[32m[I 2021-10-28 21:48:58,580]\u001b[0m Trial 44 finished with value: 1603.2842133414774 and parameters: {'n_layers': 3, 'n_units_l0': 168, 'n_units_l1': 119, 'n_units_l2': 162, 'optimizer': 'AdamW', 'lr': 0.0033509518355201904}. Best is trial 42 with value: 240.65099697227518.\u001b[0m\n",
      "/Users/andreyborevskiy/opt/anaconda3/lib/python3.7/site-packages/torch/nn/modules/loss.py:528: UserWarning: Using a target size (torch.Size([128])) that is different to the input size (torch.Size([128, 1])). This will likely lead to incorrect results due to broadcasting. Please ensure they have the same size.\n",
      "  return F.mse_loss(input, target, reduction=self.reduction)\n"
     ]
    },
    {
     "name": "stdout",
     "output_type": "stream",
     "text": [
      "ReLU6\n",
      "ReLU\n",
      "ReLU\n"
     ]
    },
    {
     "name": "stderr",
     "output_type": "stream",
     "text": [
      "\u001b[32m[I 2021-10-28 21:49:04,393]\u001b[0m Trial 45 finished with value: 695.4068885372074 and parameters: {'n_layers': 3, 'n_units_l0': 121, 'n_units_l1': 65, 'n_units_l2': 173, 'optimizer': 'AdamW', 'lr': 0.002757189421314694}. Best is trial 42 with value: 240.65099697227518.\u001b[0m\n",
      "/Users/andreyborevskiy/opt/anaconda3/lib/python3.7/site-packages/torch/nn/modules/loss.py:528: UserWarning: Using a target size (torch.Size([128])) that is different to the input size (torch.Size([128, 1])). This will likely lead to incorrect results due to broadcasting. Please ensure they have the same size.\n",
      "  return F.mse_loss(input, target, reduction=self.reduction)\n"
     ]
    },
    {
     "name": "stdout",
     "output_type": "stream",
     "text": [
      "Sigmoid\n",
      "Sigmoid\n",
      "ReLU\n"
     ]
    },
    {
     "name": "stderr",
     "output_type": "stream",
     "text": [
      "\u001b[32m[I 2021-10-28 21:49:10,842]\u001b[0m Trial 46 finished with value: 200.68425052356034 and parameters: {'n_layers': 3, 'n_units_l0': 180, 'n_units_l1': 98, 'n_units_l2': 164, 'optimizer': 'AdamW', 'lr': 0.003665204310025251}. Best is trial 46 with value: 200.68425052356034.\u001b[0m\n",
      "/Users/andreyborevskiy/opt/anaconda3/lib/python3.7/site-packages/torch/nn/modules/loss.py:528: UserWarning: Using a target size (torch.Size([128])) that is different to the input size (torch.Size([128, 1])). This will likely lead to incorrect results due to broadcasting. Please ensure they have the same size.\n",
      "  return F.mse_loss(input, target, reduction=self.reduction)\n"
     ]
    },
    {
     "name": "stdout",
     "output_type": "stream",
     "text": [
      "Sigmoid\n",
      "ReLU6\n",
      "ReLU\n"
     ]
    },
    {
     "name": "stderr",
     "output_type": "stream",
     "text": [
      "\u001b[32m[I 2021-10-28 21:49:17,020]\u001b[0m Trial 47 finished with value: 608.8375822520321 and parameters: {'n_layers': 3, 'n_units_l0': 180, 'n_units_l1': 81, 'n_units_l2': 143, 'optimizer': 'AdamW', 'lr': 0.0030967934299459925}. Best is trial 46 with value: 200.68425052356034.\u001b[0m\n",
      "/Users/andreyborevskiy/opt/anaconda3/lib/python3.7/site-packages/torch/nn/modules/loss.py:528: UserWarning: Using a target size (torch.Size([128])) that is different to the input size (torch.Size([128, 1])). This will likely lead to incorrect results due to broadcasting. Please ensure they have the same size.\n",
      "  return F.mse_loss(input, target, reduction=self.reduction)\n"
     ]
    },
    {
     "name": "stdout",
     "output_type": "stream",
     "text": [
      "ReLU\n",
      "Sigmoid\n",
      "ReLU6\n"
     ]
    },
    {
     "name": "stderr",
     "output_type": "stream",
     "text": [
      "\u001b[32m[I 2021-10-28 21:49:23,180]\u001b[0m Trial 48 finished with value: 402.82980107337204 and parameters: {'n_layers': 3, 'n_units_l0': 108, 'n_units_l1': 94, 'n_units_l2': 154, 'optimizer': 'AdamW', 'lr': 0.0036909261391566946}. Best is trial 46 with value: 200.68425052356034.\u001b[0m\n",
      "/Users/andreyborevskiy/opt/anaconda3/lib/python3.7/site-packages/torch/nn/modules/loss.py:528: UserWarning: Using a target size (torch.Size([128])) that is different to the input size (torch.Size([128, 1])). This will likely lead to incorrect results due to broadcasting. Please ensure they have the same size.\n",
      "  return F.mse_loss(input, target, reduction=self.reduction)\n"
     ]
    },
    {
     "name": "stdout",
     "output_type": "stream",
     "text": [
      "Sigmoid\n",
      "ReLU\n",
      "Sigmoid\n"
     ]
    },
    {
     "name": "stderr",
     "output_type": "stream",
     "text": [
      "\u001b[32m[I 2021-10-28 21:49:29,557]\u001b[0m Trial 49 finished with value: 1746.23357007303 and parameters: {'n_layers': 3, 'n_units_l0': 83, 'n_units_l1': 71, 'n_units_l2': 178, 'optimizer': 'AdamW', 'lr': 0.0020787651967225733}. Best is trial 46 with value: 200.68425052356034.\u001b[0m\n",
      "/Users/andreyborevskiy/opt/anaconda3/lib/python3.7/site-packages/torch/nn/modules/loss.py:528: UserWarning: Using a target size (torch.Size([128])) that is different to the input size (torch.Size([128, 1])). This will likely lead to incorrect results due to broadcasting. Please ensure they have the same size.\n",
      "  return F.mse_loss(input, target, reduction=self.reduction)\n"
     ]
    },
    {
     "name": "stdout",
     "output_type": "stream",
     "text": [
      "Sigmoid\n",
      "Sigmoid\n",
      "ReLU6\n"
     ]
    },
    {
     "name": "stderr",
     "output_type": "stream",
     "text": [
      "\u001b[32m[I 2021-10-28 21:49:38,086]\u001b[0m Trial 50 finished with value: 498.7990315027937 and parameters: {'n_layers': 3, 'n_units_l0': 175, 'n_units_l1': 108, 'n_units_l2': 149, 'optimizer': 'AdamW', 'lr': 0.003407332449813394}. Best is trial 46 with value: 200.68425052356034.\u001b[0m\n",
      "/Users/andreyborevskiy/opt/anaconda3/lib/python3.7/site-packages/torch/nn/modules/loss.py:528: UserWarning: Using a target size (torch.Size([128])) that is different to the input size (torch.Size([128, 1])). This will likely lead to incorrect results due to broadcasting. Please ensure they have the same size.\n",
      "  return F.mse_loss(input, target, reduction=self.reduction)\n"
     ]
    },
    {
     "name": "stdout",
     "output_type": "stream",
     "text": [
      "ReLU\n",
      "ReLU\n",
      "Sigmoid\n"
     ]
    },
    {
     "name": "stderr",
     "output_type": "stream",
     "text": [
      "\u001b[32m[I 2021-10-28 21:49:44,909]\u001b[0m Trial 51 finished with value: 1547.0986636281475 and parameters: {'n_layers': 3, 'n_units_l0': 164, 'n_units_l1': 87, 'n_units_l2': 164, 'optimizer': 'AdamW', 'lr': 0.0037768255095854304}. Best is trial 46 with value: 200.68425052356034.\u001b[0m\n",
      "/Users/andreyborevskiy/opt/anaconda3/lib/python3.7/site-packages/torch/nn/modules/loss.py:528: UserWarning: Using a target size (torch.Size([128])) that is different to the input size (torch.Size([128, 1])). This will likely lead to incorrect results due to broadcasting. Please ensure they have the same size.\n",
      "  return F.mse_loss(input, target, reduction=self.reduction)\n"
     ]
    },
    {
     "name": "stdout",
     "output_type": "stream",
     "text": [
      "ReLU6\n",
      "Sigmoid\n",
      "Sigmoid\n"
     ]
    },
    {
     "name": "stderr",
     "output_type": "stream",
     "text": [
      "\u001b[32m[I 2021-10-28 21:49:51,455]\u001b[0m Trial 52 finished with value: 1562.4157497286053 and parameters: {'n_layers': 3, 'n_units_l0': 180, 'n_units_l1': 104, 'n_units_l2': 160, 'optimizer': 'AdamW', 'lr': 0.0037411574881606115}. Best is trial 46 with value: 200.68425052356034.\u001b[0m\n",
      "/Users/andreyborevskiy/opt/anaconda3/lib/python3.7/site-packages/torch/nn/modules/loss.py:528: UserWarning: Using a target size (torch.Size([128])) that is different to the input size (torch.Size([128, 1])). This will likely lead to incorrect results due to broadcasting. Please ensure they have the same size.\n",
      "  return F.mse_loss(input, target, reduction=self.reduction)\n"
     ]
    },
    {
     "name": "stdout",
     "output_type": "stream",
     "text": [
      "ReLU\n",
      "ReLU\n",
      "ReLU\n"
     ]
    },
    {
     "name": "stderr",
     "output_type": "stream",
     "text": [
      "\u001b[32m[I 2021-10-28 21:49:58,012]\u001b[0m Trial 53 finished with value: 309.6478837551817 and parameters: {'n_layers': 3, 'n_units_l0': 158, 'n_units_l1': 98, 'n_units_l2': 172, 'optimizer': 'AdamW', 'lr': 0.003529518788245643}. Best is trial 46 with value: 200.68425052356034.\u001b[0m\n",
      "/Users/andreyborevskiy/opt/anaconda3/lib/python3.7/site-packages/torch/nn/modules/loss.py:528: UserWarning: Using a target size (torch.Size([128])) that is different to the input size (torch.Size([128, 1])). This will likely lead to incorrect results due to broadcasting. Please ensure they have the same size.\n",
      "  return F.mse_loss(input, target, reduction=self.reduction)\n"
     ]
    },
    {
     "name": "stdout",
     "output_type": "stream",
     "text": [
      "ReLU6\n",
      "Sigmoid\n",
      "Sigmoid\n"
     ]
    },
    {
     "name": "stderr",
     "output_type": "stream",
     "text": [
      "\u001b[32m[I 2021-10-28 21:50:04,362]\u001b[0m Trial 54 finished with value: 1596.299795621111 and parameters: {'n_layers': 3, 'n_units_l0': 168, 'n_units_l1': 97, 'n_units_l2': 172, 'optimizer': 'AdamW', 'lr': 0.0032217876967140908}. Best is trial 46 with value: 200.68425052356034.\u001b[0m\n",
      "/Users/andreyborevskiy/opt/anaconda3/lib/python3.7/site-packages/torch/nn/modules/loss.py:528: UserWarning: Using a target size (torch.Size([128])) that is different to the input size (torch.Size([128, 1])). This will likely lead to incorrect results due to broadcasting. Please ensure they have the same size.\n",
      "  return F.mse_loss(input, target, reduction=self.reduction)\n"
     ]
    },
    {
     "name": "stdout",
     "output_type": "stream",
     "text": [
      "Sigmoid\n",
      "ReLU6\n",
      "ReLU6\n"
     ]
    },
    {
     "name": "stderr",
     "output_type": "stream",
     "text": [
      "\u001b[32m[I 2021-10-28 21:50:10,758]\u001b[0m Trial 55 finished with value: 332.12071794614457 and parameters: {'n_layers': 3, 'n_units_l0': 137, 'n_units_l1': 109, 'n_units_l2': 174, 'optimizer': 'AdamW', 'lr': 0.0035202234377227993}. Best is trial 46 with value: 200.68425052356034.\u001b[0m\n",
      "/Users/andreyborevskiy/opt/anaconda3/lib/python3.7/site-packages/torch/nn/modules/loss.py:528: UserWarning: Using a target size (torch.Size([128])) that is different to the input size (torch.Size([128, 1])). This will likely lead to incorrect results due to broadcasting. Please ensure they have the same size.\n",
      "  return F.mse_loss(input, target, reduction=self.reduction)\n"
     ]
    },
    {
     "name": "stdout",
     "output_type": "stream",
     "text": [
      "ReLU6\n",
      "ReLU\n",
      "Sigmoid\n"
     ]
    },
    {
     "name": "stderr",
     "output_type": "stream",
     "text": [
      "\u001b[32m[I 2021-10-28 21:50:17,247]\u001b[0m Trial 56 finished with value: 1628.5821594257995 and parameters: {'n_layers': 3, 'n_units_l0': 157, 'n_units_l1': 108, 'n_units_l2': 176, 'optimizer': 'AdamW', 'lr': 0.0029495877326861817}. Best is trial 46 with value: 200.68425052356034.\u001b[0m\n",
      "/Users/andreyborevskiy/opt/anaconda3/lib/python3.7/site-packages/torch/nn/modules/loss.py:528: UserWarning: Using a target size (torch.Size([128])) that is different to the input size (torch.Size([128, 1])). This will likely lead to incorrect results due to broadcasting. Please ensure they have the same size.\n",
      "  return F.mse_loss(input, target, reduction=self.reduction)\n"
     ]
    },
    {
     "name": "stdout",
     "output_type": "stream",
     "text": [
      "ReLU\n",
      "Sigmoid\n",
      "ReLU\n"
     ]
    },
    {
     "name": "stderr",
     "output_type": "stream",
     "text": [
      "\u001b[32m[I 2021-10-28 21:50:23,457]\u001b[0m Trial 57 finished with value: 331.775303704838 and parameters: {'n_layers': 3, 'n_units_l0': 150, 'n_units_l1': 100, 'n_units_l2': 156, 'optimizer': 'AdamW', 'lr': 0.0033334808196493386}. Best is trial 46 with value: 200.68425052356034.\u001b[0m\n",
      "/Users/andreyborevskiy/opt/anaconda3/lib/python3.7/site-packages/torch/nn/modules/loss.py:528: UserWarning: Using a target size (torch.Size([128])) that is different to the input size (torch.Size([128, 1])). This will likely lead to incorrect results due to broadcasting. Please ensure they have the same size.\n",
      "  return F.mse_loss(input, target, reduction=self.reduction)\n"
     ]
    },
    {
     "name": "stdout",
     "output_type": "stream",
     "text": [
      "ReLU6\n",
      "Sigmoid\n",
      "Sigmoid\n"
     ]
    },
    {
     "name": "stderr",
     "output_type": "stream",
     "text": [
      "\u001b[32m[I 2021-10-28 21:50:29,892]\u001b[0m Trial 58 finished with value: 1706.562242492198 and parameters: {'n_layers': 3, 'n_units_l0': 173, 'n_units_l1': 101, 'n_units_l2': 155, 'optimizer': 'AdamW', 'lr': 0.0026339906346663595}. Best is trial 46 with value: 200.68425052356034.\u001b[0m\n",
      "/Users/andreyborevskiy/opt/anaconda3/lib/python3.7/site-packages/torch/nn/modules/loss.py:528: UserWarning: Using a target size (torch.Size([128])) that is different to the input size (torch.Size([128, 1])). This will likely lead to incorrect results due to broadcasting. Please ensure they have the same size.\n",
      "  return F.mse_loss(input, target, reduction=self.reduction)\n"
     ]
    },
    {
     "name": "stdout",
     "output_type": "stream",
     "text": [
      "Sigmoid\n",
      "Sigmoid\n",
      "ReLU6\n"
     ]
    },
    {
     "name": "stderr",
     "output_type": "stream",
     "text": [
      "\u001b[32m[I 2021-10-28 21:50:35,976]\u001b[0m Trial 59 finished with value: 464.01738374965544 and parameters: {'n_layers': 3, 'n_units_l0': 150, 'n_units_l1': 86, 'n_units_l2': 168, 'optimizer': 'AdamW', 'lr': 0.0033141125031174905}. Best is trial 46 with value: 200.68425052356034.\u001b[0m\n",
      "/Users/andreyborevskiy/opt/anaconda3/lib/python3.7/site-packages/torch/nn/modules/loss.py:528: UserWarning: Using a target size (torch.Size([128])) that is different to the input size (torch.Size([128, 1])). This will likely lead to incorrect results due to broadcasting. Please ensure they have the same size.\n",
      "  return F.mse_loss(input, target, reduction=self.reduction)\n"
     ]
    },
    {
     "name": "stdout",
     "output_type": "stream",
     "text": [
      "ReLU6\n",
      "Sigmoid\n",
      "ReLU6\n"
     ]
    },
    {
     "name": "stderr",
     "output_type": "stream",
     "text": [
      "\u001b[32m[I 2021-10-28 21:50:41,270]\u001b[0m Trial 60 finished with value: 605.2994190636151 and parameters: {'n_layers': 3, 'n_units_l0': 55, 'n_units_l1': 97, 'n_units_l2': 139, 'optimizer': 'AdamW', 'lr': 0.0030808534237799935}. Best is trial 46 with value: 200.68425052356034.\u001b[0m\n",
      "/Users/andreyborevskiy/opt/anaconda3/lib/python3.7/site-packages/torch/nn/modules/loss.py:528: UserWarning: Using a target size (torch.Size([128])) that is different to the input size (torch.Size([128, 1])). This will likely lead to incorrect results due to broadcasting. Please ensure they have the same size.\n",
      "  return F.mse_loss(input, target, reduction=self.reduction)\n"
     ]
    },
    {
     "name": "stdout",
     "output_type": "stream",
     "text": [
      "ReLU6\n",
      "ReLU\n",
      "Sigmoid\n"
     ]
    },
    {
     "name": "stderr",
     "output_type": "stream",
     "text": [
      "\u001b[32m[I 2021-10-28 21:50:49,446]\u001b[0m Trial 61 finished with value: 1574.5263732310107 and parameters: {'n_layers': 3, 'n_units_l0': 140, 'n_units_l1': 109, 'n_units_l2': 166, 'optimizer': 'AdamW', 'lr': 0.003518857136739323}. Best is trial 46 with value: 200.68425052356034.\u001b[0m\n",
      "/Users/andreyborevskiy/opt/anaconda3/lib/python3.7/site-packages/torch/nn/modules/loss.py:528: UserWarning: Using a target size (torch.Size([128])) that is different to the input size (torch.Size([128, 1])). This will likely lead to incorrect results due to broadcasting. Please ensure they have the same size.\n",
      "  return F.mse_loss(input, target, reduction=self.reduction)\n"
     ]
    },
    {
     "name": "stdout",
     "output_type": "stream",
     "text": [
      "ReLU6\n",
      "ReLU6\n",
      "ReLU\n"
     ]
    },
    {
     "name": "stderr",
     "output_type": "stream",
     "text": [
      "\u001b[32m[I 2021-10-28 21:50:56,433]\u001b[0m Trial 62 finished with value: 237.1347514221213 and parameters: {'n_layers': 3, 'n_units_l0': 144, 'n_units_l1': 122, 'n_units_l2': 175, 'optimizer': 'AdamW', 'lr': 0.0035618953183359503}. Best is trial 46 with value: 200.68425052356034.\u001b[0m\n",
      "/Users/andreyborevskiy/opt/anaconda3/lib/python3.7/site-packages/torch/nn/modules/loss.py:528: UserWarning: Using a target size (torch.Size([128])) that is different to the input size (torch.Size([128, 1])). This will likely lead to incorrect results due to broadcasting. Please ensure they have the same size.\n",
      "  return F.mse_loss(input, target, reduction=self.reduction)\n"
     ]
    },
    {
     "name": "stdout",
     "output_type": "stream",
     "text": [
      "ReLU6\n",
      "ReLU6\n",
      "ReLU6\n"
     ]
    },
    {
     "name": "stderr",
     "output_type": "stream",
     "text": [
      "\u001b[32m[I 2021-10-28 21:51:02,921]\u001b[0m Trial 63 finished with value: 396.34871589276503 and parameters: {'n_layers': 3, 'n_units_l0': 164, 'n_units_l1': 122, 'n_units_l2': 155, 'optimizer': 'AdamW', 'lr': 0.0035612868743189665}. Best is trial 46 with value: 200.68425052356034.\u001b[0m\n",
      "/Users/andreyborevskiy/opt/anaconda3/lib/python3.7/site-packages/torch/nn/modules/loss.py:528: UserWarning: Using a target size (torch.Size([128])) that is different to the input size (torch.Size([128, 1])). This will likely lead to incorrect results due to broadcasting. Please ensure they have the same size.\n",
      "  return F.mse_loss(input, target, reduction=self.reduction)\n"
     ]
    },
    {
     "name": "stdout",
     "output_type": "stream",
     "text": [
      "ReLU\n",
      "Sigmoid\n",
      "ReLU\n"
     ]
    },
    {
     "name": "stderr",
     "output_type": "stream",
     "text": [
      "\u001b[32m[I 2021-10-28 21:51:11,602]\u001b[0m Trial 64 finished with value: 396.5703047892328 and parameters: {'n_layers': 3, 'n_units_l0': 146, 'n_units_l1': 127, 'n_units_l2': 158, 'optimizer': 'AdamW', 'lr': 0.0032407433921409867}. Best is trial 46 with value: 200.68425052356034.\u001b[0m\n",
      "/Users/andreyborevskiy/opt/anaconda3/lib/python3.7/site-packages/torch/nn/modules/loss.py:528: UserWarning: Using a target size (torch.Size([128])) that is different to the input size (torch.Size([128, 1])). This will likely lead to incorrect results due to broadcasting. Please ensure they have the same size.\n",
      "  return F.mse_loss(input, target, reduction=self.reduction)\n"
     ]
    },
    {
     "name": "stdout",
     "output_type": "stream",
     "text": [
      "Sigmoid\n",
      "ReLU6\n",
      "ReLU6\n"
     ]
    },
    {
     "name": "stderr",
     "output_type": "stream",
     "text": [
      "\u001b[32m[I 2021-10-28 21:51:18,482]\u001b[0m Trial 65 finished with value: 596.1614576553486 and parameters: {'n_layers': 3, 'n_units_l0': 166, 'n_units_l1': 114, 'n_units_l2': 170, 'optimizer': 'AdamW', 'lr': 0.0028194020078226257}. Best is trial 46 with value: 200.68425052356034.\u001b[0m\n",
      "/Users/andreyborevskiy/opt/anaconda3/lib/python3.7/site-packages/torch/nn/modules/loss.py:528: UserWarning: Using a target size (torch.Size([128])) that is different to the input size (torch.Size([128, 1])). This will likely lead to incorrect results due to broadcasting. Please ensure they have the same size.\n",
      "  return F.mse_loss(input, target, reduction=self.reduction)\n"
     ]
    },
    {
     "name": "stdout",
     "output_type": "stream",
     "text": [
      "Sigmoid\n",
      "Sigmoid\n",
      "Sigmoid\n"
     ]
    },
    {
     "name": "stderr",
     "output_type": "stream",
     "text": [
      "\u001b[32m[I 2021-10-28 21:51:28,878]\u001b[0m Trial 66 finished with value: 1543.6821199651176 and parameters: {'n_layers': 3, 'n_units_l0': 157, 'n_units_l1': 120, 'n_units_l2': 163, 'optimizer': 'AdamW', 'lr': 0.003798039787668889}. Best is trial 46 with value: 200.68425052356034.\u001b[0m\n",
      "/Users/andreyborevskiy/opt/anaconda3/lib/python3.7/site-packages/torch/nn/modules/loss.py:528: UserWarning: Using a target size (torch.Size([128])) that is different to the input size (torch.Size([128, 1])). This will likely lead to incorrect results due to broadcasting. Please ensure they have the same size.\n",
      "  return F.mse_loss(input, target, reduction=self.reduction)\n"
     ]
    },
    {
     "name": "stdout",
     "output_type": "stream",
     "text": [
      "ReLU\n",
      "Sigmoid\n",
      "ReLU\n"
     ]
    },
    {
     "name": "stderr",
     "output_type": "stream",
     "text": [
      "\u001b[32m[I 2021-10-28 21:51:36,305]\u001b[0m Trial 67 finished with value: 1403.8193014950323 and parameters: {'n_layers': 3, 'n_units_l0': 133, 'n_units_l1': 101, 'n_units_l2': 179, 'optimizer': 'AdamW', 'lr': 0.0015613416454713913}. Best is trial 46 with value: 200.68425052356034.\u001b[0m\n",
      "/Users/andreyborevskiy/opt/anaconda3/lib/python3.7/site-packages/torch/nn/modules/loss.py:528: UserWarning: Using a target size (torch.Size([128])) that is different to the input size (torch.Size([128, 1])). This will likely lead to incorrect results due to broadcasting. Please ensure they have the same size.\n",
      "  return F.mse_loss(input, target, reduction=self.reduction)\n"
     ]
    },
    {
     "name": "stdout",
     "output_type": "stream",
     "text": [
      "ReLU\n",
      "ReLU\n",
      "ReLU6\n"
     ]
    },
    {
     "name": "stderr",
     "output_type": "stream",
     "text": [
      "\u001b[32m[I 2021-10-28 21:51:43,399]\u001b[0m Trial 68 finished with value: 450.65036206367904 and parameters: {'n_layers': 3, 'n_units_l0': 153, 'n_units_l1': 128, 'n_units_l2': 150, 'optimizer': 'AdamW', 'lr': 0.003651039561727732}. Best is trial 46 with value: 200.68425052356034.\u001b[0m\n",
      "/Users/andreyborevskiy/opt/anaconda3/lib/python3.7/site-packages/torch/nn/modules/loss.py:528: UserWarning: Using a target size (torch.Size([128])) that is different to the input size (torch.Size([128, 1])). This will likely lead to incorrect results due to broadcasting. Please ensure they have the same size.\n",
      "  return F.mse_loss(input, target, reduction=self.reduction)\n"
     ]
    },
    {
     "name": "stdout",
     "output_type": "stream",
     "text": [
      "ReLU\n",
      "ReLU\n",
      "ReLU\n"
     ]
    },
    {
     "name": "stderr",
     "output_type": "stream",
     "text": [
      "\u001b[32m[I 2021-10-28 21:51:50,170]\u001b[0m Trial 69 finished with value: 277.2905730710341 and parameters: {'n_layers': 3, 'n_units_l0': 143, 'n_units_l1': 84, 'n_units_l2': 160, 'optimizer': 'AdamW', 'lr': 0.003414207491075905}. Best is trial 46 with value: 200.68425052356034.\u001b[0m\n",
      "/Users/andreyborevskiy/opt/anaconda3/lib/python3.7/site-packages/torch/nn/modules/loss.py:528: UserWarning: Using a target size (torch.Size([128])) that is different to the input size (torch.Size([128, 1])). This will likely lead to incorrect results due to broadcasting. Please ensure they have the same size.\n",
      "  return F.mse_loss(input, target, reduction=self.reduction)\n"
     ]
    },
    {
     "name": "stdout",
     "output_type": "stream",
     "text": [
      "Sigmoid\n",
      "ReLU6\n",
      "Sigmoid\n"
     ]
    },
    {
     "name": "stderr",
     "output_type": "stream",
     "text": [
      "\u001b[32m[I 2021-10-28 21:51:56,394]\u001b[0m Trial 70 finished with value: 1813.1540802562808 and parameters: {'n_layers': 3, 'n_units_l0': 142, 'n_units_l1': 84, 'n_units_l2': 63, 'optimizer': 'AdamW', 'lr': 0.0038873084720007535}. Best is trial 46 with value: 200.68425052356034.\u001b[0m\n",
      "/Users/andreyborevskiy/opt/anaconda3/lib/python3.7/site-packages/torch/nn/modules/loss.py:528: UserWarning: Using a target size (torch.Size([128])) that is different to the input size (torch.Size([128, 1])). This will likely lead to incorrect results due to broadcasting. Please ensure they have the same size.\n",
      "  return F.mse_loss(input, target, reduction=self.reduction)\n"
     ]
    },
    {
     "name": "stdout",
     "output_type": "stream",
     "text": [
      "ReLU6\n",
      "Sigmoid\n",
      "ReLU6\n"
     ]
    },
    {
     "name": "stderr",
     "output_type": "stream",
     "text": [
      "\u001b[32m[I 2021-10-28 21:52:02,835]\u001b[0m Trial 71 finished with value: 388.3942682599571 and parameters: {'n_layers': 3, 'n_units_l0': 126, 'n_units_l1': 74, 'n_units_l2': 160, 'optimizer': 'AdamW', 'lr': 0.003404371823902899}. Best is trial 46 with value: 200.68425052356034.\u001b[0m\n",
      "/Users/andreyborevskiy/opt/anaconda3/lib/python3.7/site-packages/torch/nn/modules/loss.py:528: UserWarning: Using a target size (torch.Size([128])) that is different to the input size (torch.Size([128, 1])). This will likely lead to incorrect results due to broadcasting. Please ensure they have the same size.\n",
      "  return F.mse_loss(input, target, reduction=self.reduction)\n"
     ]
    },
    {
     "name": "stdout",
     "output_type": "stream",
     "text": [
      "ReLU\n",
      "Sigmoid\n",
      "ReLU\n"
     ]
    },
    {
     "name": "stderr",
     "output_type": "stream",
     "text": [
      "\u001b[32m[I 2021-10-28 21:52:10,111]\u001b[0m Trial 72 finished with value: 528.1889987110437 and parameters: {'n_layers': 3, 'n_units_l0': 145, 'n_units_l1': 94, 'n_units_l2': 170, 'optimizer': 'AdamW', 'lr': 0.0029356075438601815}. Best is trial 46 with value: 200.68425052356034.\u001b[0m\n",
      "/Users/andreyborevskiy/opt/anaconda3/lib/python3.7/site-packages/torch/nn/modules/loss.py:528: UserWarning: Using a target size (torch.Size([128])) that is different to the input size (torch.Size([128, 1])). This will likely lead to incorrect results due to broadcasting. Please ensure they have the same size.\n",
      "  return F.mse_loss(input, target, reduction=self.reduction)\n"
     ]
    },
    {
     "name": "stdout",
     "output_type": "stream",
     "text": [
      "ReLU6\n",
      "Sigmoid\n",
      "Sigmoid\n"
     ]
    },
    {
     "name": "stderr",
     "output_type": "stream",
     "text": [
      "\u001b[32m[I 2021-10-28 21:52:16,471]\u001b[0m Trial 73 finished with value: 1635.5186104107772 and parameters: {'n_layers': 3, 'n_units_l0': 151, 'n_units_l1': 91, 'n_units_l2': 152, 'optimizer': 'AdamW', 'lr': 0.0032375064462831526}. Best is trial 46 with value: 200.68425052356034.\u001b[0m\n",
      "/Users/andreyborevskiy/opt/anaconda3/lib/python3.7/site-packages/torch/nn/modules/loss.py:528: UserWarning: Using a target size (torch.Size([128])) that is different to the input size (torch.Size([128, 1])). This will likely lead to incorrect results due to broadcasting. Please ensure they have the same size.\n",
      "  return F.mse_loss(input, target, reduction=self.reduction)\n"
     ]
    },
    {
     "name": "stdout",
     "output_type": "stream",
     "text": [
      "ReLU6\n",
      "ReLU6\n",
      "ReLU\n"
     ]
    },
    {
     "name": "stderr",
     "output_type": "stream",
     "text": [
      "\u001b[32m[I 2021-10-28 21:52:23,863]\u001b[0m Trial 74 finished with value: 472.56639042506504 and parameters: {'n_layers': 3, 'n_units_l0': 171, 'n_units_l1': 132, 'n_units_l2': 146, 'optimizer': 'AdamW', 'lr': 0.003445978521116236}. Best is trial 46 with value: 200.68425052356034.\u001b[0m\n",
      "/Users/andreyborevskiy/opt/anaconda3/lib/python3.7/site-packages/torch/nn/modules/loss.py:528: UserWarning: Using a target size (torch.Size([128])) that is different to the input size (torch.Size([128, 1])). This will likely lead to incorrect results due to broadcasting. Please ensure they have the same size.\n",
      "  return F.mse_loss(input, target, reduction=self.reduction)\n"
     ]
    },
    {
     "name": "stdout",
     "output_type": "stream",
     "text": [
      "ReLU6\n",
      "ReLU6\n",
      "ReLU\n"
     ]
    },
    {
     "name": "stderr",
     "output_type": "stream",
     "text": [
      "\u001b[32m[I 2021-10-28 21:52:30,689]\u001b[0m Trial 75 finished with value: 193.26784816107542 and parameters: {'n_layers': 3, 'n_units_l0': 177, 'n_units_l1': 112, 'n_units_l2': 175, 'optimizer': 'AdamW', 'lr': 0.003597968815376928}. Best is trial 75 with value: 193.26784816107542.\u001b[0m\n",
      "/Users/andreyborevskiy/opt/anaconda3/lib/python3.7/site-packages/torch/nn/modules/loss.py:528: UserWarning: Using a target size (torch.Size([128])) that is different to the input size (torch.Size([128, 1])). This will likely lead to incorrect results due to broadcasting. Please ensure they have the same size.\n",
      "  return F.mse_loss(input, target, reduction=self.reduction)\n"
     ]
    },
    {
     "name": "stdout",
     "output_type": "stream",
     "text": [
      "ReLU\n",
      "ReLU\n",
      "ReLU\n"
     ]
    },
    {
     "name": "stderr",
     "output_type": "stream",
     "text": [
      "\u001b[32m[I 2021-10-28 21:52:38,073]\u001b[0m Trial 76 finished with value: 220.51344348988255 and parameters: {'n_layers': 3, 'n_units_l0': 176, 'n_units_l1': 111, 'n_units_l2': 175, 'optimizer': 'AdamW', 'lr': 0.0035755099230866563}. Best is trial 75 with value: 193.26784816107542.\u001b[0m\n",
      "/Users/andreyborevskiy/opt/anaconda3/lib/python3.7/site-packages/torch/nn/modules/loss.py:528: UserWarning: Using a target size (torch.Size([128])) that is different to the input size (torch.Size([128, 1])). This will likely lead to incorrect results due to broadcasting. Please ensure they have the same size.\n",
      "  return F.mse_loss(input, target, reduction=self.reduction)\n"
     ]
    },
    {
     "name": "stdout",
     "output_type": "stream",
     "text": [
      "ReLU\n",
      "ReLU\n",
      "Sigmoid\n"
     ]
    },
    {
     "name": "stderr",
     "output_type": "stream",
     "text": [
      "\u001b[32m[I 2021-10-28 21:52:44,892]\u001b[0m Trial 77 finished with value: 1546.195443661635 and parameters: {'n_layers': 3, 'n_units_l0': 177, 'n_units_l1': 117, 'n_units_l2': 175, 'optimizer': 'AdamW', 'lr': 0.0036137326265939466}. Best is trial 75 with value: 193.26784816107542.\u001b[0m\n",
      "/Users/andreyborevskiy/opt/anaconda3/lib/python3.7/site-packages/torch/nn/modules/loss.py:528: UserWarning: Using a target size (torch.Size([128])) that is different to the input size (torch.Size([128, 1])). This will likely lead to incorrect results due to broadcasting. Please ensure they have the same size.\n",
      "  return F.mse_loss(input, target, reduction=self.reduction)\n"
     ]
    },
    {
     "name": "stdout",
     "output_type": "stream",
     "text": [
      "Sigmoid\n",
      "Sigmoid\n",
      "ReLU\n"
     ]
    },
    {
     "name": "stderr",
     "output_type": "stream",
     "text": [
      "\u001b[32m[I 2021-10-28 21:52:53,011]\u001b[0m Trial 78 finished with value: 166.20664069798588 and parameters: {'n_layers': 3, 'n_units_l0': 180, 'n_units_l1': 123, 'n_units_l2': 169, 'optimizer': 'AdamW', 'lr': 0.0038784656970762116}. Best is trial 78 with value: 166.20664069798588.\u001b[0m\n",
      "/Users/andreyborevskiy/opt/anaconda3/lib/python3.7/site-packages/torch/nn/modules/loss.py:528: UserWarning: Using a target size (torch.Size([128])) that is different to the input size (torch.Size([128, 1])). This will likely lead to incorrect results due to broadcasting. Please ensure they have the same size.\n",
      "  return F.mse_loss(input, target, reduction=self.reduction)\n"
     ]
    },
    {
     "name": "stdout",
     "output_type": "stream",
     "text": [
      "ReLU6\n",
      "ReLU6\n",
      "ReLU\n"
     ]
    },
    {
     "name": "stderr",
     "output_type": "stream",
     "text": [
      "\u001b[32m[I 2021-10-28 21:52:59,935]\u001b[0m Trial 79 finished with value: 121.53132226911904 and parameters: {'n_layers': 3, 'n_units_l0': 180, 'n_units_l1': 123, 'n_units_l2': 180, 'optimizer': 'AdamW', 'lr': 0.003866965336004603}. Best is trial 79 with value: 121.53132226911904.\u001b[0m\n",
      "/Users/andreyborevskiy/opt/anaconda3/lib/python3.7/site-packages/torch/nn/modules/loss.py:528: UserWarning: Using a target size (torch.Size([128])) that is different to the input size (torch.Size([128, 1])). This will likely lead to incorrect results due to broadcasting. Please ensure they have the same size.\n",
      "  return F.mse_loss(input, target, reduction=self.reduction)\n"
     ]
    },
    {
     "name": "stdout",
     "output_type": "stream",
     "text": [
      "ReLU6\n",
      "ReLU\n",
      "ReLU\n"
     ]
    },
    {
     "name": "stderr",
     "output_type": "stream",
     "text": [
      "\u001b[32m[I 2021-10-28 21:53:07,699]\u001b[0m Trial 80 finished with value: 191.38999663134663 and parameters: {'n_layers': 3, 'n_units_l0': 180, 'n_units_l1': 123, 'n_units_l2': 177, 'optimizer': 'AdamW', 'lr': 0.0039063159027413795}. Best is trial 79 with value: 121.53132226911904.\u001b[0m\n",
      "/Users/andreyborevskiy/opt/anaconda3/lib/python3.7/site-packages/torch/nn/modules/loss.py:528: UserWarning: Using a target size (torch.Size([128])) that is different to the input size (torch.Size([128, 1])). This will likely lead to incorrect results due to broadcasting. Please ensure they have the same size.\n",
      "  return F.mse_loss(input, target, reduction=self.reduction)\n"
     ]
    },
    {
     "name": "stdout",
     "output_type": "stream",
     "text": [
      "ReLU6\n",
      "ReLU\n",
      "ReLU\n"
     ]
    },
    {
     "name": "stderr",
     "output_type": "stream",
     "text": [
      "\u001b[32m[I 2021-10-28 21:53:15,371]\u001b[0m Trial 81 finished with value: 106.85467568763003 and parameters: {'n_layers': 3, 'n_units_l0': 179, 'n_units_l1': 125, 'n_units_l2': 180, 'optimizer': 'AdamW', 'lr': 0.003919461550582839}. Best is trial 81 with value: 106.85467568763003.\u001b[0m\n",
      "/Users/andreyborevskiy/opt/anaconda3/lib/python3.7/site-packages/torch/nn/modules/loss.py:528: UserWarning: Using a target size (torch.Size([128])) that is different to the input size (torch.Size([128, 1])). This will likely lead to incorrect results due to broadcasting. Please ensure they have the same size.\n",
      "  return F.mse_loss(input, target, reduction=self.reduction)\n"
     ]
    },
    {
     "name": "stdout",
     "output_type": "stream",
     "text": [
      "Sigmoid\n",
      "Sigmoid\n",
      "Sigmoid\n"
     ]
    },
    {
     "name": "stderr",
     "output_type": "stream",
     "text": [
      "\u001b[32m[I 2021-10-28 21:53:22,303]\u001b[0m Trial 82 finished with value: 1489.3721537950144 and parameters: {'n_layers': 3, 'n_units_l0': 180, 'n_units_l1': 124, 'n_units_l2': 180, 'optimizer': 'AdamW', 'lr': 0.0038645499172570157}. Best is trial 81 with value: 106.85467568763003.\u001b[0m\n",
      "/Users/andreyborevskiy/opt/anaconda3/lib/python3.7/site-packages/torch/nn/modules/loss.py:528: UserWarning: Using a target size (torch.Size([128])) that is different to the input size (torch.Size([128, 1])). This will likely lead to incorrect results due to broadcasting. Please ensure they have the same size.\n",
      "  return F.mse_loss(input, target, reduction=self.reduction)\n"
     ]
    },
    {
     "name": "stdout",
     "output_type": "stream",
     "text": [
      "ReLU\n",
      "ReLU\n",
      "ReLU6\n"
     ]
    },
    {
     "name": "stderr",
     "output_type": "stream",
     "text": [
      "\u001b[32m[I 2021-10-28 21:53:31,788]\u001b[0m Trial 83 finished with value: 288.9551046696501 and parameters: {'n_layers': 3, 'n_units_l0': 177, 'n_units_l1': 131, 'n_units_l2': 177, 'optimizer': 'AdamW', 'lr': 0.003961304444491717}. Best is trial 81 with value: 106.85467568763003.\u001b[0m\n",
      "/Users/andreyborevskiy/opt/anaconda3/lib/python3.7/site-packages/torch/nn/modules/loss.py:528: UserWarning: Using a target size (torch.Size([128])) that is different to the input size (torch.Size([128, 1])). This will likely lead to incorrect results due to broadcasting. Please ensure they have the same size.\n",
      "  return F.mse_loss(input, target, reduction=self.reduction)\n"
     ]
    },
    {
     "name": "stdout",
     "output_type": "stream",
     "text": [
      "ReLU\n",
      "Sigmoid\n",
      "Sigmoid\n"
     ]
    },
    {
     "name": "stderr",
     "output_type": "stream",
     "text": [
      "\u001b[32m[I 2021-10-28 21:53:40,106]\u001b[0m Trial 84 finished with value: 1518.6397120449603 and parameters: {'n_layers': 3, 'n_units_l0': 170, 'n_units_l1': 122, 'n_units_l2': 180, 'optimizer': 'AdamW', 'lr': 0.0036989483177573496}. Best is trial 81 with value: 106.85467568763003.\u001b[0m\n",
      "/Users/andreyborevskiy/opt/anaconda3/lib/python3.7/site-packages/torch/nn/modules/loss.py:528: UserWarning: Using a target size (torch.Size([128])) that is different to the input size (torch.Size([128, 1])). This will likely lead to incorrect results due to broadcasting. Please ensure they have the same size.\n",
      "  return F.mse_loss(input, target, reduction=self.reduction)\n"
     ]
    },
    {
     "name": "stdout",
     "output_type": "stream",
     "text": [
      "ReLU\n",
      "Sigmoid\n",
      "Sigmoid\n"
     ]
    },
    {
     "name": "stderr",
     "output_type": "stream",
     "text": [
      "\u001b[32m[I 2021-10-28 21:53:47,194]\u001b[0m Trial 85 finished with value: 1508.648035079753 and parameters: {'n_layers': 3, 'n_units_l0': 177, 'n_units_l1': 141, 'n_units_l2': 176, 'optimizer': 'AdamW', 'lr': 0.0038752804230476}. Best is trial 81 with value: 106.85467568763003.\u001b[0m\n",
      "/Users/andreyborevskiy/opt/anaconda3/lib/python3.7/site-packages/torch/nn/modules/loss.py:528: UserWarning: Using a target size (torch.Size([128])) that is different to the input size (torch.Size([128, 1])). This will likely lead to incorrect results due to broadcasting. Please ensure they have the same size.\n",
      "  return F.mse_loss(input, target, reduction=self.reduction)\n"
     ]
    },
    {
     "name": "stdout",
     "output_type": "stream",
     "text": [
      "ReLU\n",
      "Sigmoid\n",
      "Sigmoid\n"
     ]
    },
    {
     "name": "stderr",
     "output_type": "stream",
     "text": [
      "\u001b[32m[I 2021-10-28 21:53:54,422]\u001b[0m Trial 86 finished with value: 1545.4459186590775 and parameters: {'n_layers': 3, 'n_units_l0': 174, 'n_units_l1': 125, 'n_units_l2': 169, 'optimizer': 'AdamW', 'lr': 0.003700181083005292}. Best is trial 81 with value: 106.85467568763003.\u001b[0m\n",
      "/Users/andreyborevskiy/opt/anaconda3/lib/python3.7/site-packages/torch/nn/modules/loss.py:528: UserWarning: Using a target size (torch.Size([128])) that is different to the input size (torch.Size([128, 1])). This will likely lead to incorrect results due to broadcasting. Please ensure they have the same size.\n",
      "  return F.mse_loss(input, target, reduction=self.reduction)\n"
     ]
    },
    {
     "name": "stdout",
     "output_type": "stream",
     "text": [
      "ReLU6\n",
      "ReLU6\n",
      "ReLU6\n"
     ]
    },
    {
     "name": "stderr",
     "output_type": "stream",
     "text": [
      "\u001b[32m[I 2021-10-28 21:54:01,119]\u001b[0m Trial 87 finished with value: 297.1718779575687 and parameters: {'n_layers': 3, 'n_units_l0': 169, 'n_units_l1': 112, 'n_units_l2': 172, 'optimizer': 'AdamW', 'lr': 0.003966846822149767}. Best is trial 81 with value: 106.85467568763003.\u001b[0m\n",
      "/Users/andreyborevskiy/opt/anaconda3/lib/python3.7/site-packages/torch/nn/modules/loss.py:528: UserWarning: Using a target size (torch.Size([128])) that is different to the input size (torch.Size([128, 1])). This will likely lead to incorrect results due to broadcasting. Please ensure they have the same size.\n",
      "  return F.mse_loss(input, target, reduction=self.reduction)\n"
     ]
    },
    {
     "name": "stdout",
     "output_type": "stream",
     "text": [
      "ReLU6\n",
      "ReLU6\n",
      "Sigmoid\n"
     ]
    },
    {
     "name": "stderr",
     "output_type": "stream",
     "text": [
      "\u001b[32m[I 2021-10-28 21:54:08,699]\u001b[0m Trial 88 finished with value: 1510.8931381801958 and parameters: {'n_layers': 3, 'n_units_l0': 179, 'n_units_l1': 136, 'n_units_l2': 176, 'optimizer': 'AdamW', 'lr': 0.0038233716638137595}. Best is trial 81 with value: 106.85467568763003.\u001b[0m\n",
      "/Users/andreyborevskiy/opt/anaconda3/lib/python3.7/site-packages/torch/nn/modules/loss.py:528: UserWarning: Using a target size (torch.Size([128])) that is different to the input size (torch.Size([128, 1])). This will likely lead to incorrect results due to broadcasting. Please ensure they have the same size.\n",
      "  return F.mse_loss(input, target, reduction=self.reduction)\n"
     ]
    },
    {
     "name": "stdout",
     "output_type": "stream",
     "text": [
      "ReLU6\n",
      "ReLU6\n",
      "ReLU\n"
     ]
    },
    {
     "name": "stderr",
     "output_type": "stream",
     "text": [
      "\u001b[32m[I 2021-10-28 21:54:16,553]\u001b[0m Trial 89 finished with value: 199.59766697561716 and parameters: {'n_layers': 3, 'n_units_l0': 165, 'n_units_l1': 121, 'n_units_l2': 170, 'optimizer': 'AdamW', 'lr': 0.003995131163553806}. Best is trial 81 with value: 106.85467568763003.\u001b[0m\n",
      "/Users/andreyborevskiy/opt/anaconda3/lib/python3.7/site-packages/torch/nn/modules/loss.py:528: UserWarning: Using a target size (torch.Size([128])) that is different to the input size (torch.Size([128, 1])). This will likely lead to incorrect results due to broadcasting. Please ensure they have the same size.\n",
      "  return F.mse_loss(input, target, reduction=self.reduction)\n"
     ]
    },
    {
     "name": "stdout",
     "output_type": "stream",
     "text": [
      "ReLU\n",
      "ReLU6\n",
      "Sigmoid\n"
     ]
    },
    {
     "name": "stderr",
     "output_type": "stream",
     "text": [
      "\u001b[32m[I 2021-10-28 21:54:23,260]\u001b[0m Trial 90 finished with value: 1564.3127904130938 and parameters: {'n_layers': 3, 'n_units_l0': 171, 'n_units_l1': 128, 'n_units_l2': 166, 'optimizer': 'AdamW', 'lr': 0.0035879556083877233}. Best is trial 81 with value: 106.85467568763003.\u001b[0m\n",
      "/Users/andreyborevskiy/opt/anaconda3/lib/python3.7/site-packages/torch/nn/modules/loss.py:528: UserWarning: Using a target size (torch.Size([128])) that is different to the input size (torch.Size([128, 1])). This will likely lead to incorrect results due to broadcasting. Please ensure they have the same size.\n",
      "  return F.mse_loss(input, target, reduction=self.reduction)\n"
     ]
    },
    {
     "name": "stdout",
     "output_type": "stream",
     "text": [
      "Sigmoid\n",
      "Sigmoid\n",
      "Sigmoid\n"
     ]
    },
    {
     "name": "stderr",
     "output_type": "stream",
     "text": [
      "\u001b[32m[I 2021-10-28 21:54:30,109]\u001b[0m Trial 91 finished with value: 1496.5916965725821 and parameters: {'n_layers': 3, 'n_units_l0': 166, 'n_units_l1': 120, 'n_units_l2': 171, 'optimizer': 'AdamW', 'lr': 0.003994935596872551}. Best is trial 81 with value: 106.85467568763003.\u001b[0m\n",
      "/Users/andreyborevskiy/opt/anaconda3/lib/python3.7/site-packages/torch/nn/modules/loss.py:528: UserWarning: Using a target size (torch.Size([128])) that is different to the input size (torch.Size([128, 1])). This will likely lead to incorrect results due to broadcasting. Please ensure they have the same size.\n",
      "  return F.mse_loss(input, target, reduction=self.reduction)\n"
     ]
    },
    {
     "name": "stdout",
     "output_type": "stream",
     "text": [
      "ReLU\n",
      "ReLU\n",
      "Sigmoid\n"
     ]
    },
    {
     "name": "stderr",
     "output_type": "stream",
     "text": [
      "\u001b[32m[I 2021-10-28 21:54:37,100]\u001b[0m Trial 92 finished with value: 1529.4279424837248 and parameters: {'n_layers': 3, 'n_units_l0': 176, 'n_units_l1': 114, 'n_units_l2': 175, 'optimizer': 'AdamW', 'lr': 0.0037206888098574578}. Best is trial 81 with value: 106.85467568763003.\u001b[0m\n",
      "/Users/andreyborevskiy/opt/anaconda3/lib/python3.7/site-packages/torch/nn/modules/loss.py:528: UserWarning: Using a target size (torch.Size([128])) that is different to the input size (torch.Size([128, 1])). This will likely lead to incorrect results due to broadcasting. Please ensure they have the same size.\n",
      "  return F.mse_loss(input, target, reduction=self.reduction)\n"
     ]
    },
    {
     "name": "stdout",
     "output_type": "stream",
     "text": [
      "Sigmoid\n",
      "ReLU6\n",
      "ReLU\n"
     ]
    },
    {
     "name": "stderr",
     "output_type": "stream",
     "text": [
      "\u001b[32m[I 2021-10-28 21:54:43,909]\u001b[0m Trial 93 finished with value: 186.88156003327015 and parameters: {'n_layers': 3, 'n_units_l0': 174, 'n_units_l1': 125, 'n_units_l2': 180, 'optimizer': 'AdamW', 'lr': 0.003824124429060433}. Best is trial 81 with value: 106.85467568763003.\u001b[0m\n",
      "/Users/andreyborevskiy/opt/anaconda3/lib/python3.7/site-packages/torch/nn/modules/loss.py:528: UserWarning: Using a target size (torch.Size([128])) that is different to the input size (torch.Size([128, 1])). This will likely lead to incorrect results due to broadcasting. Please ensure they have the same size.\n",
      "  return F.mse_loss(input, target, reduction=self.reduction)\n"
     ]
    },
    {
     "name": "stdout",
     "output_type": "stream",
     "text": [
      "ReLU\n",
      "ReLU6\n",
      "ReLU\n"
     ]
    },
    {
     "name": "stderr",
     "output_type": "stream",
     "text": [
      "\u001b[32m[I 2021-10-28 21:54:51,561]\u001b[0m Trial 94 finished with value: 214.64813708463964 and parameters: {'n_layers': 3, 'n_units_l0': 180, 'n_units_l1': 133, 'n_units_l2': 180, 'optimizer': 'AdamW', 'lr': 0.0038618954120199457}. Best is trial 81 with value: 106.85467568763003.\u001b[0m\n",
      "/Users/andreyborevskiy/opt/anaconda3/lib/python3.7/site-packages/torch/nn/modules/loss.py:528: UserWarning: Using a target size (torch.Size([128])) that is different to the input size (torch.Size([128, 1])). This will likely lead to incorrect results due to broadcasting. Please ensure they have the same size.\n",
      "  return F.mse_loss(input, target, reduction=self.reduction)\n"
     ]
    },
    {
     "name": "stdout",
     "output_type": "stream",
     "text": [
      "ReLU6\n",
      "ReLU6\n",
      "ReLU\n"
     ]
    },
    {
     "name": "stderr",
     "output_type": "stream",
     "text": [
      "\u001b[32m[I 2021-10-28 21:54:59,578]\u001b[0m Trial 95 finished with value: 152.64795621021676 and parameters: {'n_layers': 3, 'n_units_l0': 180, 'n_units_l1': 138, 'n_units_l2': 178, 'optimizer': 'AdamW', 'lr': 0.0038746098402149183}. Best is trial 81 with value: 106.85467568763003.\u001b[0m\n",
      "/Users/andreyborevskiy/opt/anaconda3/lib/python3.7/site-packages/torch/nn/modules/loss.py:528: UserWarning: Using a target size (torch.Size([128])) that is different to the input size (torch.Size([128, 1])). This will likely lead to incorrect results due to broadcasting. Please ensure they have the same size.\n",
      "  return F.mse_loss(input, target, reduction=self.reduction)\n"
     ]
    },
    {
     "name": "stdout",
     "output_type": "stream",
     "text": [
      "Sigmoid\n",
      "ReLU\n",
      "Sigmoid\n"
     ]
    },
    {
     "name": "stderr",
     "output_type": "stream",
     "text": [
      "\u001b[32m[I 2021-10-28 21:55:07,129]\u001b[0m Trial 96 finished with value: 1497.2770201268702 and parameters: {'n_layers': 3, 'n_units_l0': 180, 'n_units_l1': 150, 'n_units_l2': 180, 'optimizer': 'AdamW', 'lr': 0.003868561126155796}. Best is trial 81 with value: 106.85467568763003.\u001b[0m\n",
      "/Users/andreyborevskiy/opt/anaconda3/lib/python3.7/site-packages/torch/nn/modules/loss.py:528: UserWarning: Using a target size (torch.Size([128])) that is different to the input size (torch.Size([128, 1])). This will likely lead to incorrect results due to broadcasting. Please ensure they have the same size.\n",
      "  return F.mse_loss(input, target, reduction=self.reduction)\n"
     ]
    },
    {
     "name": "stdout",
     "output_type": "stream",
     "text": [
      "Sigmoid\n",
      "ReLU6\n",
      "ReLU6\n"
     ]
    },
    {
     "name": "stderr",
     "output_type": "stream",
     "text": [
      "\u001b[32m[I 2021-10-28 21:55:14,513]\u001b[0m Trial 97 finished with value: 354.70771665952304 and parameters: {'n_layers': 3, 'n_units_l0': 173, 'n_units_l1': 139, 'n_units_l2': 178, 'optimizer': 'AdamW', 'lr': 0.0038422744106827392}. Best is trial 81 with value: 106.85467568763003.\u001b[0m\n",
      "/Users/andreyborevskiy/opt/anaconda3/lib/python3.7/site-packages/torch/nn/modules/loss.py:528: UserWarning: Using a target size (torch.Size([128])) that is different to the input size (torch.Size([128, 1])). This will likely lead to incorrect results due to broadcasting. Please ensure they have the same size.\n",
      "  return F.mse_loss(input, target, reduction=self.reduction)\n"
     ]
    },
    {
     "name": "stdout",
     "output_type": "stream",
     "text": [
      "Sigmoid\n",
      "Sigmoid\n",
      "ReLU6\n"
     ]
    },
    {
     "name": "stderr",
     "output_type": "stream",
     "text": [
      "\u001b[32m[I 2021-10-28 21:55:21,960]\u001b[0m Trial 98 finished with value: 289.1405183565056 and parameters: {'n_layers': 3, 'n_units_l0': 178, 'n_units_l1': 131, 'n_units_l2': 169, 'optimizer': 'AdamW', 'lr': 0.003985621317567571}. Best is trial 81 with value: 106.85467568763003.\u001b[0m\n",
      "/Users/andreyborevskiy/opt/anaconda3/lib/python3.7/site-packages/torch/nn/modules/loss.py:528: UserWarning: Using a target size (torch.Size([128])) that is different to the input size (torch.Size([128, 1])). This will likely lead to incorrect results due to broadcasting. Please ensure they have the same size.\n",
      "  return F.mse_loss(input, target, reduction=self.reduction)\n"
     ]
    },
    {
     "name": "stdout",
     "output_type": "stream",
     "text": [
      "Sigmoid\n",
      "Sigmoid\n",
      "ReLU\n"
     ]
    },
    {
     "name": "stderr",
     "output_type": "stream",
     "text": [
      "\u001b[32m[I 2021-10-28 21:55:29,705]\u001b[0m Trial 99 finished with value: 201.71870049863838 and parameters: {'n_layers': 3, 'n_units_l0': 174, 'n_units_l1': 145, 'n_units_l2': 172, 'optimizer': 'AdamW', 'lr': 0.0037492185061897797}. Best is trial 81 with value: 106.85467568763003.\u001b[0m\n"
     ]
    },
    {
     "name": "stdout",
     "output_type": "stream",
     "text": [
      "Study statistics: \n",
      "  Number of finished trials:  100\n",
      "  Number of pruned trials:  0\n",
      "  Number of complete trials:  100\n",
      "Best trial:\n",
      "  Value:  106.85467568763003\n",
      "  Params: \n",
      "    n_layers: 3\n",
      "    n_units_l0: 179\n",
      "    n_units_l1: 125\n",
      "    n_units_l2: 180\n",
      "    optimizer: AdamW\n",
      "    lr: 0.003919461550582839\n"
     ]
    }
   ],
   "source": [
    "if __name__ == \"__main__\":\n",
    "    study = optuna.create_study(direction=\"minimize\")\n",
    "    study.optimize(objective, n_trials=100, timeout=1000)\n",
    "\n",
    "    pruned_trials = study.get_trials(deepcopy=False, states=[TrialState.PRUNED])\n",
    "    complete_trials = study.get_trials(deepcopy=False, states=[TrialState.COMPLETE])\n",
    "\n",
    "    print(\"Study statistics: \")\n",
    "    print(\"  Number of finished trials: \", len(study.trials))\n",
    "    print(\"  Number of pruned trials: \", len(pruned_trials))\n",
    "    print(\"  Number of complete trials: \", len(complete_trials))\n",
    "\n",
    "    print(\"Best trial:\")\n",
    "    trial = study.best_trial\n",
    "\n",
    "    print(\"  Value: \", trial.value)\n",
    "\n",
    "    print(\"  Params: \")\n",
    "    for key, value in trial.params.items():\n",
    "        print(\"    {}: {}\".format(key, value))\n"
   ]
  },
  {
   "cell_type": "markdown",
   "metadata": {},
   "source": [
    "### Часть вторая. Обучение лучшей модели\n",
    "\n",
    "**1. Обновление списка констант**"
   ]
  },
  {
   "cell_type": "code",
   "execution_count": 24,
   "metadata": {},
   "outputs": [],
   "source": [
    "SEED = 3407\n",
    "LR = 0.003919461550582839\n",
    "WEIGHT_DECAY = 1e-3 \n",
    "NUM_EPOCHS = 10\n",
    "GAMMA = 0.9995 \n",
    "BATCH_SIZE = 128\n",
    "EVAL_BATCH_SIZE = 300\n",
    "DEVICE = 'cpu' "
   ]
  },
  {
   "cell_type": "markdown",
   "metadata": {},
   "source": [
    "**2. Модель нейронной сети**"
   ]
  },
  {
   "cell_type": "code",
   "execution_count": 25,
   "metadata": {},
   "outputs": [],
   "source": [
    "class Model(nn.Module):\n",
    "    def __init__(self, in_features = 90, out_features = 1):\n",
    "        super().__init__()\n",
    "        self.in_features = in_features\n",
    "        self.out_features = out_features\n",
    "        \n",
    "        self.sequential = nn.Sequential(\n",
    "        nn.Linear(in_features, 179),\n",
    "        nn.BatchNorm1d(num_features=179),\n",
    "        nn.ReLU6(),\n",
    "        nn.Linear(179, 125),\n",
    "        nn.BatchNorm1d(num_features=125),\n",
    "        nn.ReLU(),\n",
    "        nn.Linear(125, 180),\n",
    "        nn.BatchNorm1d(num_features=180),\n",
    "        nn.ReLU(),\n",
    "        nn.Linear(180, self.out_features),\n",
    "    )\n",
    "    \n",
    "    def forward(self, x):\n",
    "        x = self.sequential(x)\n",
    "        return x"
   ]
  },
  {
   "cell_type": "markdown",
   "metadata": {},
   "source": [
    "**3. Настройка вспомогательных инструментов**"
   ]
  },
  {
   "cell_type": "code",
   "execution_count": 26,
   "metadata": {},
   "outputs": [],
   "source": [
    "set_random_seed(SEED) \n",
    "model = Model()\n",
    "optimizer = torch.optim.AdamW(model.parameters(), lr=LR, weight_decay=WEIGHT_DECAY)"
   ]
  },
  {
   "cell_type": "markdown",
   "metadata": {},
   "source": [
    "**4. Нормировка данных**"
   ]
  },
  {
   "cell_type": "code",
   "execution_count": 27,
   "metadata": {},
   "outputs": [],
   "source": [
    "x_scal = StandardScaler()\n",
    "y_scal = StandardScaler()\n",
    "\n",
    "x_scal.fit(X_train)\n",
    "X_train = x_scal.transform(X_train)\n",
    "X_test = x_scal.transform(X_test)\n",
    "\n",
    "\n",
    "tmp = y_train.reshape(-1, 1)\n",
    "y_scal.fit(tmp)\n",
    "y_train = y_scal.transform(tmp)\n",
    "y_test = y_scal.transform(y_test.reshape(-1, 1))"
   ]
  },
  {
   "cell_type": "code",
   "execution_count": 28,
   "metadata": {},
   "outputs": [],
   "source": [
    "train_dl = DataLoader(\n",
    "    MyDataset(X_train, y_train.reshape(-1)),\n",
    "    batch_size = BATCH_SIZE,\n",
    "    shuffle = True\n",
    "    )\n",
    "\n",
    "test_dl = DataLoader(\n",
    "    MyDataset(X_test, y_test.reshape(-1)),\n",
    "    batch_size = EVAL_BATCH_SIZE,\n",
    "    shuffle = False\n",
    "    )\n",
    "dls = {'train': train_dl, 'test': test_dl}"
   ]
  },
  {
   "cell_type": "markdown",
   "metadata": {},
   "source": [
    "**5. Обучающий цикл**"
   ]
  },
  {
   "cell_type": "code",
   "execution_count": 29,
   "metadata": {},
   "outputs": [
    {
     "data": {
      "text/html": [
       "<div>\n",
       "<style scoped>\n",
       "    .dataframe tbody tr th:only-of-type {\n",
       "        vertical-align: middle;\n",
       "    }\n",
       "\n",
       "    .dataframe tbody tr th {\n",
       "        vertical-align: top;\n",
       "    }\n",
       "\n",
       "    .dataframe thead th {\n",
       "        text-align: right;\n",
       "    }\n",
       "</style>\n",
       "<table border=\"1\" class=\"dataframe\">\n",
       "  <thead>\n",
       "    <tr style=\"text-align: right;\">\n",
       "      <th></th>\n",
       "      <th>Epoch</th>\n",
       "      <th>Train RMSE</th>\n",
       "      <th>Test RMSE</th>\n",
       "    </tr>\n",
       "  </thead>\n",
       "  <tbody>\n",
       "    <tr>\n",
       "      <th>0</th>\n",
       "      <td>0</td>\n",
       "      <td>8.926556</td>\n",
       "      <td>8.846776</td>\n",
       "    </tr>\n",
       "    <tr>\n",
       "      <th>1</th>\n",
       "      <td>1</td>\n",
       "      <td>8.722074</td>\n",
       "      <td>8.808398</td>\n",
       "    </tr>\n",
       "    <tr>\n",
       "      <th>2</th>\n",
       "      <td>2</td>\n",
       "      <td>8.623025</td>\n",
       "      <td>8.813102</td>\n",
       "    </tr>\n",
       "    <tr>\n",
       "      <th>3</th>\n",
       "      <td>3</td>\n",
       "      <td>8.557593</td>\n",
       "      <td>8.752750</td>\n",
       "    </tr>\n",
       "    <tr>\n",
       "      <th>4</th>\n",
       "      <td>4</td>\n",
       "      <td>8.496062</td>\n",
       "      <td>8.781949</td>\n",
       "    </tr>\n",
       "    <tr>\n",
       "      <th>5</th>\n",
       "      <td>5</td>\n",
       "      <td>8.441390</td>\n",
       "      <td>8.812469</td>\n",
       "    </tr>\n",
       "    <tr>\n",
       "      <th>6</th>\n",
       "      <td>6</td>\n",
       "      <td>8.405052</td>\n",
       "      <td>8.761604</td>\n",
       "    </tr>\n",
       "    <tr>\n",
       "      <th>7</th>\n",
       "      <td>7</td>\n",
       "      <td>8.359796</td>\n",
       "      <td>8.764504</td>\n",
       "    </tr>\n",
       "    <tr>\n",
       "      <th>8</th>\n",
       "      <td>8</td>\n",
       "      <td>8.318054</td>\n",
       "      <td>8.810914</td>\n",
       "    </tr>\n",
       "    <tr>\n",
       "      <th>9</th>\n",
       "      <td>9</td>\n",
       "      <td>8.279081</td>\n",
       "      <td>8.843311</td>\n",
       "    </tr>\n",
       "  </tbody>\n",
       "</table>\n",
       "</div>"
      ],
      "text/plain": [
       "   Epoch  Train RMSE  Test RMSE\n",
       "0      0    8.926556   8.846776\n",
       "1      1    8.722074   8.808398\n",
       "2      2    8.623025   8.813102\n",
       "3      3    8.557593   8.752750\n",
       "4      4    8.496062   8.781949\n",
       "5      5    8.441390   8.812469\n",
       "6      6    8.405052   8.761604\n",
       "7      7    8.359796   8.764504\n",
       "8      8    8.318054   8.810914\n",
       "9      9    8.279081   8.843311"
      ]
     },
     "metadata": {},
     "output_type": "display_data"
    },
    {
     "name": "stdout",
     "output_type": "stream",
     "text": [
      "\n"
     ]
    }
   ],
   "source": [
    "metrics_dict = {\n",
    "    \"Epoch\": [],\n",
    "    \"Train RMSE\": [],\n",
    "    \"Test RMSE\": [],\n",
    "}\n",
    "\n",
    "\n",
    "for epoch in tqdm(range(NUM_EPOCHS)):\n",
    "    metrics_dict[\"Epoch\"].append(epoch)\n",
    "    for stage in ['train', 'test']:\n",
    "        with torch.set_grad_enabled(stage == 'train'): \n",
    "            if stage == 'train':\n",
    "                model.train() \n",
    "            else:\n",
    "                model.eval() \n",
    "\n",
    "            loss_at_stage = 0 \n",
    "            for batch in dls[stage]:\n",
    "                x_batch, y_batch = batch\n",
    "                x_batch, y_batch = x_batch.to(DEVICE), y_batch.to(DEVICE)\n",
    "\n",
    "                y_pred = model(x_batch.float()).view(-1) \n",
    "                loss = loss_fn(y_pred.float(), y_batch.float()) * 1.3\n",
    "                if stage == \"train\":\n",
    "                    loss.backward() \n",
    "                    optimizer.step() \n",
    "                    optimizer.zero_grad()\n",
    "                with torch.no_grad():\n",
    "                    y_pred = y_scal.inverse_transform(y_pred.reshape(-1, 1))\n",
    "                    y_batch = y_scal.inverse_transform(y_batch.reshape(-1, 1))\n",
    "                    loss_at_stage += (np.square((y_pred - y_batch)).sum()).item()\n",
    "            rmse_at_stage = (loss_at_stage / len(dls[stage].dataset)) ** (1/2)\n",
    "            metrics_dict[f\"{stage.title()} RMSE\"].append(rmse_at_stage)\n",
    "            \n",
    "    clear_output(wait=True)\n",
    "    display(pd.DataFrame(metrics_dict))"
   ]
  },
  {
   "cell_type": "markdown",
   "metadata": {},
   "source": [
    "**6. График лучшей попытки**"
   ]
  },
  {
   "cell_type": "code",
   "execution_count": 44,
   "metadata": {},
   "outputs": [
    {
     "data": {
      "image/png": "[encoded data removed]",
      "text/plain": [
       "<Figure size 864x576 with 1 Axes>"
      ]
     },
     "metadata": {
      "needs_background": "light"
     },
     "output_type": "display_data"
    }
   ],
   "source": [
    "plt.figure(figsize=(12, 8))\n",
    "plt.plot(metrics_dict['Train RMSE'], color='green', label='Train')\n",
    "plt.plot(metrics_dict['Test RMSE'], color='purple', label='Test')\n",
    "plt.xlabel('Число пройденных эпох')\n",
    "plt.legend()\n",
    "plt.grid()\n",
    "plt.ylabel('Значение RMSE')\n",
    "plt.rcParams['font.size'] = 20\n",
    "plt.show()"
   ]
  },
  {
   "cell_type": "markdown",
   "metadata": {
    "id": "bine9EES6TIn"
   },
   "source": [
    "## Задание 2. (0 баллов, но при невыполнении максимум за все задание &mdash; 0 баллов)\n",
    "\n",
    "Напишите небольшой отчет о том, как вы добились полученного качества: какие средства использовали и какие эксперименты проводили. Подробно расскажите об архитектурах и значениях гиперпараметров, а также какие метрики на тесте они показывали. Чтобы отчет был зачтен, необходимо привести хотя бы 3 эксперимента."
   ]
  },
  {
   "cell_type": "markdown",
   "metadata": {
    "id": "bk5pEwa66UZn"
   },
   "source": [
    "Перебор всех гиперпараметров осуществлялся с помощью библиотеки optuna. После многократных экспериментов выделялись наиболее оптимальные значения: \n",
    "1. функции активации -- ReLU6, ReLU, Sigmoid \n",
    "2. learning rate -- 0.01 до 0.03\n",
    "3. число слоев -- 3\n",
    "4. число нейронов в каждом слое -- 80 до 130\n",
    "5. dropout и его вероятность -- не требуется\n",
    "6. методы градиентного спуска - AdamW\n",
    "\n",
    "Конечно, ввиду небольшого объема данных, на которых происходило обучение и тестирование в optuna, результаты для каждой комбинации гиперпараметров могли сильно разниться. Более того, наименьшая ошибка была намного больше (от 30 и вплоть 200) аналогичных испытаний на полноценном обучении ввиду маленького объема обучаемых и тестируемых данных. Следовательно, общим число экспериментов компенсировало этот недостаток. После осуществлялось тестирование уже на полных выборках в рамках второй части кода - данные нормировались, строилась константная структура на основе лучших данных из первой части, обновлялись значения гиперпараметров и запускалось обучение. \n",
    "\n",
    "Стоит отметить, что ограниченные вычислительные возможности техники не позволяли провести вычисления в optuna на большом количестве батчей или для значительного числа комбинаций гиперпараметров. Вследствие этого полученные данные постоянно модифицировались на незначительные проценты с целью достижения более оптимального эффекта. \n",
    "Если говорить о всех проведенных экспериментах, то так как они не проводились руками благодаря optuna, можно отметить невошедшие в итоговый вид программы значения гиперпараметров:\n",
    "1. Tanh, SortPlus, отсутсвие функции активации\n",
    "2. [0.0001, 0.1]\n",
    "3. [1, 6]\n",
    "4. [4, 200]\n",
    "5. dropout(p) для каждого слоя / одного слоя / двух слоев $p \\in [0.001, 0.3]$\n",
    "6. Adam, Adagrad, SGD, RMSprop\n",
    "\n",
    "Так как не имеется классических примеров экспериментов, можем отметить наиболее яркие тренды:\n",
    "\n",
    "1. Adagrad поднимал значительно изначальные значения ошибки на обучении.\n",
    "2. Dropout давал одни из лучших результатов на тесте в определенный момент. При этом встречались неожиданные выбросы, когда много нейронов одновременно выпадало.\n",
    "3. Нейронной сети не было особой разницы на количество слоев при их количестве большем или равном трем.\n",
    "4. Чрезмерно большой lr уводил градиентный спуск от возможных минимумов, перепрыгивая все и вся.\n",
    "5. Без нормировки таргета значение ошибки на тесте не опускалось ниже 8.8 ни разу.\n",
    "\n",
    "\n",
    "Пример архитектуры модели для эксперимента на 6 баллов с lr = 0.01 и без нормировки таргета:\n",
    "\n",
    "Обучающая ошибка была в районе 8.76, тестовая - 8.87"
   ]
  },
  {
   "cell_type": "code",
   "execution_count": 96,
   "metadata": {
    "collapsed": true
   },
   "outputs": [
    {
     "data": {
      "text/plain": [
       "'\\nself.sequential = nn.Sequential(\\n        nn.Linear(in_features, 93),\\n        nn.BatchNorm1d(num_features=93),\\n        nn.ReLU6(),\\n        nn.Linear(93, 96),\\n        nn.BatchNorm1d(num_features=96),\\n        nn.ReLU(),\\n        nn.Linear(96, 94),\\n        nn.BatchNorm1d(num_features=94),\\n        nn.Sigmoid(),\\n        nn.Linear(94, 67),\\n        nn.BatchNorm1d(num_features=67),\\n        nn.Sigmoid(),\\n        nn.Linear(67, 113),\\n        nn.BatchNorm1d(num_features=113),\\n        nn.Sigmoid(),\\n        nn.Linear(113, self.out_features),\\n    )\\n'"
      ]
     },
     "execution_count": 96,
     "metadata": {},
     "output_type": "execute_result"
    }
   ],
   "source": [
    "'''\n",
    "self.sequential = nn.Sequential(\n",
    "        nn.Linear(in_features, 93),\n",
    "        nn.BatchNorm1d(num_features=93),\n",
    "        nn.ReLU6(),\n",
    "        nn.Linear(93, 96),\n",
    "        nn.BatchNorm1d(num_features=96),\n",
    "        nn.ReLU(),\n",
    "        nn.Linear(96, 94),\n",
    "        nn.BatchNorm1d(num_features=94),\n",
    "        nn.Sigmoid(),\n",
    "        nn.Linear(94, 67),\n",
    "        nn.BatchNorm1d(num_features=67),\n",
    "        nn.Sigmoid(),\n",
    "        nn.Linear(67, 113),\n",
    "        nn.BatchNorm1d(num_features=113),\n",
    "        nn.Sigmoid(),\n",
    "        nn.Linear(113, self.out_features),\n",
    "    )\n",
    "'''"
   ]
  },
  {
   "cell_type": "code",
   "execution_count": 109,
   "metadata": {},
   "outputs": [
    {
     "data": {
      "image/png": "[encoded data removed]",
      "text/plain": [
       "<Figure size 1080x720 with 1 Axes>"
      ]
     },
     "metadata": {
      "needs_background": "light"
     },
     "output_type": "display_data"
    }
   ],
   "source": [
    "correlations = df.loc[:, 1:].corrwith(df.loc[:, 0]).sort_values(ascending=False)\n",
    "plot = sns.barplot(x=correlations.index, y=correlations)\n",
    "plot.figure.set_size_inches(15, 10)\n",
    "plt.xticks(range(1, len(set(correlations.index)), 5), list(set(correlations.index))[::5])\n",
    "plt.show()"
   ]
  },
  {
   "cell_type": "code",
   "execution_count": null,
   "metadata": {},
   "outputs": [],
   "source": []
  }
 ],
 "metadata": {
  "colab": {
   "collapsed_sections": [],
   "name": "intro-hw01.ipynb",
   "provenance": []
  },
  "kernelspec": {
   "display_name": "Python 3",
   "language": "python",
   "name": "python3"
  },
  "language_info": {
   "codemirror_mode": {
    "name": "ipython",
    "version": 3
   },
   "file_extension": ".py",
   "mimetype": "text/x-python",
   "name": "python",
   "nbconvert_exporter": "python",
   "pygments_lexer": "ipython3",
   "version": "3.7.4"
  }
 },
 "nbformat": 4,
 "nbformat_minor": 1
}
